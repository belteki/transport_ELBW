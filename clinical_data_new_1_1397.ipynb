{
 "cells": [
  {
   "cell_type": "markdown",
   "metadata": {},
   "source": [
    "![alt text](./Cerny_logo_1.jpg)"
   ]
  },
  {
   "cell_type": "markdown",
   "metadata": {
    "collapsed": true,
    "jupyter": {
     "outputs_hidden": true
    }
   },
   "source": [
    "# Analysis of Cerny ventilation recordings\n",
    "\n",
    "#### Processing clinical details\n",
    "\n",
    "This notebook imports and processes clinical data and exports it into a pickle archive.\n",
    "\n",
    "The data processed and analysed in this Notebook were collected by the **Neonatal Emergency and Transport Service of the Peter Cerny Foundation**, Budapest, Hungary\n",
    "\n",
    "**Author: Dr Gusztav Belteki**"
   ]
  },
  {
   "cell_type": "markdown",
   "metadata": {},
   "source": [
    "### 1. Import the required libraries and set options"
   ]
  },
  {
   "cell_type": "code",
   "execution_count": 1,
   "metadata": {},
   "outputs": [],
   "source": [
    "import IPython\n",
    "import pandas as pd\n",
    "import numpy as np\n",
    "import scipy as sp\n",
    "import matplotlib\n",
    "import matplotlib.pyplot as plt\n",
    "\n",
    "import os\n",
    "import sys\n",
    "import re\n",
    "import pickle\n",
    "\n",
    "from scipy import stats\n",
    "from pandas import Series, DataFrame\n",
    "from datetime import datetime, timedelta\n",
    "\n",
    "%matplotlib inline\n",
    "matplotlib.style.use('classic')\n",
    "matplotlib.rcParams['figure.facecolor'] = 'w'\n",
    "\n",
    "pd.set_option('display.max_rows', 250)\n",
    "pd.set_option('display.max_columns', 250)\n",
    "pd.set_option('mode.chained_assignment', None) \n",
    "\n",
    "# This is to turn off a warning message which is given when read_Excel() imports '.xlsx' files\n",
    "import warnings\n",
    "warnings.simplefilter(\"ignore\")"
   ]
  },
  {
   "cell_type": "code",
   "execution_count": 2,
   "metadata": {},
   "outputs": [
    {
     "name": "stdout",
     "output_type": "stream",
     "text": [
      "Python version: 3.11.7 (main, Dec 15 2023, 12:09:04) [Clang 14.0.6 ]\n",
      "pandas version: 2.1.4\n",
      "matplotlib version: 3.8.0\n",
      "NumPy version: 1.26.3\n",
      "SciPy version: 1.11.4\n",
      "IPython version: 8.20.0\n"
     ]
    }
   ],
   "source": [
    "print(\"Python version: {}\".format(sys.version))\n",
    "print(\"pandas version: {}\".format(pd.__version__))\n",
    "print(\"matplotlib version: {}\".format(matplotlib.__version__))\n",
    "print(\"NumPy version: {}\".format(np.__version__))\n",
    "print(\"SciPy version: {}\".format(sp.__version__))\n",
    "print(\"IPython version: {}\".format(IPython.__version__))"
   ]
  },
  {
   "cell_type": "markdown",
   "metadata": {},
   "source": [
    "### 2. List and set the working directory and the directory to write out data"
   ]
  },
  {
   "cell_type": "code",
   "execution_count": 3,
   "metadata": {},
   "outputs": [],
   "source": [
    "# Name of the external hard drive\n",
    "DRIVE = 'GUSZTI'\n",
    "\n",
    "# Directory on external drive to read the clinical from\n",
    "DIR_READ = os.path.join(os.sep, 'Volumes', DRIVE, 'Fabian_new', 'fabian_patient_data_all_new')\n",
    "\n",
    "# Path to project folder containing ventilation research results\n",
    "PATH = os.path.join(os.sep, 'Users', 'guszti', 'Library', 'Mobile Documents', 'com~apple~CloudDocs', \n",
    "                            'Documents', 'Research', 'Ventilation')\n",
    "\n",
    "# Folder to export the result of analysis\n",
    "DIR_WRITE = os.path.join(PATH, 'ventilation_fabian_new', 'Analyses')\n",
    "os.makedirs(DIR_WRITE, exist_ok = True)\n",
    "\n",
    "# Folder on a USB stick to export data to and to import processed data exported by other Notebooks\n",
    "DATA_DUMP = os.path.join(os.sep, '/Volumes', DRIVE, 'data_dump', 'fabian_new',)\n",
    "os.makedirs(DATA_DUMP, exist_ok = True)"
   ]
  },
  {
   "cell_type": "code",
   "execution_count": 4,
   "metadata": {},
   "outputs": [
    {
     "data": {
      "text/plain": [
       "('/Volumes/GUSZTI/Fabian_new/fabian_patient_data_all_new',\n",
       " '/Users/guszti/Library/Mobile Documents/com~apple~CloudDocs/Documents/Research/Ventilation/ventilation_fabian_new/Analyses',\n",
       " '/Volumes/GUSZTI/data_dump/fabian_new')"
      ]
     },
     "execution_count": 4,
     "metadata": {},
     "output_type": "execute_result"
    }
   ],
   "source": [
    "DIR_READ, DIR_WRITE, DATA_DUMP"
   ]
  },
  {
   "cell_type": "markdown",
   "metadata": {},
   "source": [
    "### 3. Import ventilation data\n",
    "\n",
    "This is needed to know the beginning and the end of the recordings"
   ]
  },
  {
   "cell_type": "code",
   "execution_count": 5,
   "metadata": {},
   "outputs": [
    {
     "name": "stdout",
     "output_type": "stream",
     "text": [
      "CPU times: user 7.89 s, sys: 1.85 s, total: 9.74 s\n",
      "Wall time: 11.6 s\n"
     ]
    }
   ],
   "source": [
    "%%time\n",
    "\n",
    "with open(os.path.join(DATA_DUMP, 'data_pars_1_150.pickle'), 'rb') as handle:\n",
    "    data_pars_1_150 = pickle.load(handle)\n",
    "\n",
    "with open(os.path.join(DATA_DUMP, 'data_pars_151_300.pickle'), 'rb') as handle:\n",
    "    data_pars_151_300 = pickle.load(handle)\n",
    "\n",
    "with open(os.path.join(DATA_DUMP, 'data_pars_301_450.pickle'), 'rb') as handle:\n",
    "    data_pars_301_450 = pickle.load(handle)\n",
    "    \n",
    "with open(os.path.join(DATA_DUMP, 'data_pars_451_600.pickle'), 'rb') as handle:\n",
    "    data_pars_451_600 = pickle.load(handle)\n",
    "    \n",
    "with open(os.path.join(DATA_DUMP, 'data_pars_601_750.pickle'), 'rb') as handle:\n",
    "    data_pars_601_750 = pickle.load(handle)\n",
    "    \n",
    "with open(os.path.join(DATA_DUMP, 'data_pars_751_900.pickle'), 'rb') as handle:\n",
    "    data_pars_751_900 = pickle.load(handle)\n",
    "    \n",
    "with open(os.path.join(DATA_DUMP, 'data_pars_901_1050.pickle'), 'rb') as handle:\n",
    "    data_pars_901_1050 = pickle.load(handle)\n",
    "    \n",
    "with open(os.path.join(DATA_DUMP, 'data_pars_1051_1200.pickle'), 'rb') as handle:\n",
    "    data_pars_1051_1200 = pickle.load(handle)\n",
    "    \n",
    "with open(os.path.join(DATA_DUMP, 'data_pars_1201_1350.pickle'), 'rb') as handle:\n",
    "    data_pars_1201_1350 = pickle.load(handle)\n",
    "\n",
    "with open(os.path.join(DATA_DUMP, 'data_pars_1351_1500.pickle'), 'rb') as handle:\n",
    "    data_pars_1351_1500 = pickle.load(handle)\n",
    "    \n",
    "data_pars = {**data_pars_1_150, **data_pars_151_300, **data_pars_301_450, **data_pars_451_600,\n",
    "             **data_pars_601_750, **data_pars_751_900, **data_pars_901_1050, **data_pars_1051_1200,\n",
    "             **data_pars_1201_1350, **data_pars_1351_1500}"
   ]
  },
  {
   "cell_type": "markdown",
   "metadata": {},
   "source": [
    "Shift the time stamp of ventilator recordings recorded with incorrect time stamps\n",
    "\n",
    "Az eltérés valóban az AT000110-estől kezdődik és az AT000216-ig tart. Sajnos volt közben egy téli/nyári váltás is. \n",
    "Március 28 után a plusz 9 órával kell korrigálni, előtte 10 órával. "
   ]
  },
  {
   "cell_type": "code",
   "execution_count": 6,
   "metadata": {},
   "outputs": [],
   "source": [
    "for case in data_pars:\n",
    "    if 110 <= int(case[2:].lstrip('0')) < 195:\n",
    "        data_pars[case].index = data_pars[case].index.shift(10, freq='H')\n",
    "        \n",
    "    elif 195 <= int(case[2:].lstrip('0')) <= 216:\n",
    "        data_pars[case].index = data_pars[case].index.shift(9, freq='H')"
   ]
  },
  {
   "cell_type": "code",
   "execution_count": 7,
   "metadata": {},
   "outputs": [
    {
     "data": {
      "text/plain": [
       "1154"
      ]
     },
     "execution_count": 7,
     "metadata": {},
     "output_type": "execute_result"
    }
   ],
   "source": [
    "len(data_pars)"
   ]
  },
  {
   "cell_type": "markdown",
   "metadata": {},
   "source": [
    "### 4. Import clinical data"
   ]
  },
  {
   "cell_type": "code",
   "execution_count": 8,
   "metadata": {},
   "outputs": [],
   "source": [
    "# import text files in a dictionary\n",
    "clin_dict = {}\n",
    "for fname in os.listdir(DIR_READ):\n",
    "    if not fname.startswith('.'): # disregard hidden files\n",
    "        fhandle = open(os.path.join(DIR_READ, fname), 'r', encoding = 'cp1252', errors='replace')\n",
    "        clin_dict[fname[:-4]] = fhandle.read() # use the filenames without the .txt extension as keys\n",
    "        fhandle.close()"
   ]
  },
  {
   "cell_type": "code",
   "execution_count": 9,
   "metadata": {},
   "outputs": [],
   "source": [
    "# split the clinical data into a list\n",
    "for key in sorted(clin_dict.keys()):\n",
    "    clin_dict[key] = clin_dict[key].split('\\n')[:-1]"
   ]
  },
  {
   "cell_type": "code",
   "execution_count": 10,
   "metadata": {},
   "outputs": [],
   "source": [
    "# Create an inner dictionary for the different clinical data\n",
    "for key, value in sorted(clin_dict.items()):\n",
    "    temp_dict = {}\n",
    "    for item in value:\n",
    "        td_key, *td_value = item.split(':')\n",
    "        td_key = td_key.strip()\n",
    "        temp_dict[td_key] = ''.join(td_value)[1:]\n",
    "    clin_dict[key] = temp_dict"
   ]
  },
  {
   "cell_type": "code",
   "execution_count": 11,
   "metadata": {},
   "outputs": [],
   "source": [
    "# Create a DataFrame from the dictionary of dictionaries\n",
    "clin_df = DataFrame(clin_dict).T\n",
    "clin_df.index.name = 'Recording_ID'\n",
    "clin_df.sort_index(inplace = True)\n",
    "# Drop column containing confidential data (name)\n",
    "clin_df = clin_df.drop('Name', axis=1)"
   ]
  },
  {
   "cell_type": "code",
   "execution_count": 12,
   "metadata": {},
   "outputs": [
    {
     "data": {
      "text/plain": [
       "1199"
      ]
     },
     "execution_count": 12,
     "metadata": {},
     "output_type": "execute_result"
    }
   ],
   "source": [
    "len(clin_df)"
   ]
  },
  {
   "cell_type": "markdown",
   "metadata": {},
   "source": [
    "### 5. Drop cases which have no clinical data"
   ]
  },
  {
   "cell_type": "code",
   "execution_count": 13,
   "metadata": {},
   "outputs": [],
   "source": [
    "clin_df.dropna(axis = 0, how = 'all', inplace = True)"
   ]
  },
  {
   "cell_type": "code",
   "execution_count": 14,
   "metadata": {},
   "outputs": [
    {
     "data": {
      "text/plain": [
       "1150"
      ]
     },
     "execution_count": 14,
     "metadata": {},
     "output_type": "execute_result"
    }
   ],
   "source": [
    "len(clin_df)"
   ]
  },
  {
   "cell_type": "markdown",
   "metadata": {},
   "source": [
    "### 6. Drop cases for which there is no ventilation data\n",
    "\n",
    "Ventilation recordings may have been excluded because they were too short (<15 mintes total) or aberrant"
   ]
  },
  {
   "cell_type": "code",
   "execution_count": 15,
   "metadata": {},
   "outputs": [],
   "source": [
    "combined = sorted(set(list(clin_df.index)) & set(data_pars.keys()))"
   ]
  },
  {
   "cell_type": "code",
   "execution_count": 16,
   "metadata": {},
   "outputs": [
    {
     "data": {
      "text/plain": [
       "1079"
      ]
     },
     "execution_count": 16,
     "metadata": {},
     "output_type": "execute_result"
    }
   ],
   "source": [
    "clin_df = clin_df.loc[combined]\n",
    "len(clin_df)"
   ]
  },
  {
   "cell_type": "markdown",
   "metadata": {},
   "source": [
    "### 7. Clean up clinical dataframe"
   ]
  },
  {
   "cell_type": "code",
   "execution_count": 17,
   "metadata": {},
   "outputs": [
    {
     "name": "stdout",
     "output_type": "stream",
     "text": [
      "<class 'pandas.core.frame.DataFrame'>\n",
      "Index: 1079 entries, AT000005 to AT001397\n",
      "Data columns (total 40 columns):\n",
      " #   Column         Non-Null Count  Dtype \n",
      "---  ------         --------------  ----- \n",
      " 0   Esetlap id     1079 non-null   object\n",
      " 1   Date of Birth  1079 non-null   object\n",
      " 2   Gestation Age  1079 non-null   object\n",
      " 3   Birth Weight   1079 non-null   object\n",
      " 4   Actual Weight  1079 non-null   object\n",
      " 5   Start          1079 non-null   object\n",
      " 6   End            1079 non-null   object\n",
      " 7   Pathology      1079 non-null   object\n",
      " 8   Astrup 1       987 non-null    object\n",
      " 9   Time           1076 non-null   object\n",
      " 10  pH             1075 non-null   object\n",
      " 11  pCO2           1075 non-null   object\n",
      " 12  pO2            1075 non-null   object\n",
      " 13  HCO3           1075 non-null   object\n",
      " 14  ABE            987 non-null    object\n",
      " 15  Saturatio      987 non-null    object\n",
      " 16  FiO2           987 non-null    object\n",
      " 17  Type           987 non-null    object\n",
      " 18  Astrup 2       987 non-null    object\n",
      " 19  Astrup 3       987 non-null    object\n",
      " 20  Labor 1        89 non-null     object\n",
      " 21  Sample site    89 non-null     object\n",
      " 22  Hypothermia    89 non-null     object\n",
      " 23  VÃ©rcukor      89 non-null     object\n",
      " 24  BE(ecf)        87 non-null     object\n",
      " 25  Lactat         88 non-null     object\n",
      " 26  Labor 2        73 non-null     object\n",
      " 27  cSO2           86 non-null     object\n",
      " 28  Labor 3        16 non-null     object\n",
      " 29  Na             42 non-null     object\n",
      " 30  K+             42 non-null     object\n",
      " 31  Ca++           29 non-null     object\n",
      " 32  Cl-            22 non-null     object\n",
      " 33  Hct            45 non-null     object\n",
      " 34  cHgb           35 non-null     object\n",
      " 35  Labor 4        5 non-null      object\n",
      " 36  Labor 5        1 non-null      object\n",
      " 37  Crea+          11 non-null     object\n",
      " 38  Anion Gap      6 non-null      object\n",
      " 39  CRP            1 non-null      object\n",
      "dtypes: object(40)\n",
      "memory usage: 345.6+ KB\n"
     ]
    }
   ],
   "source": [
    "clin_df.info()"
   ]
  },
  {
   "cell_type": "code",
   "execution_count": 18,
   "metadata": {},
   "outputs": [],
   "source": [
    "# Change order of columns and create English names\n",
    "\n",
    "clin_df = clin_df[['Esetlap id', 'Date of Birth', 'Gestation Age', 'Birth Weight', \n",
    "                   'Actual Weight', 'Pathology', 'Start', 'End']]\n",
    "clin_df.columns = ['Case ID', 'Date of Birth', 'Gestational Age',\n",
    "                   'Birth Weight', 'Actual Weight', 'Pathology', 'Start', 'End']"
   ]
  },
  {
   "cell_type": "code",
   "execution_count": 19,
   "metadata": {},
   "outputs": [],
   "source": [
    "clin_df.loc[:, 'Gestational Age'] = clin_df['Gestational Age'].map(lambda x: int(x[:2]))\n",
    "clin_df.loc[:, 'Birth Weight'] = clin_df['Birth Weight'].map(lambda x: int(x[:-6]))\n",
    "clin_df.loc[:, 'Actual Weight'] = clin_df['Actual Weight'].str.strip(' grams')"
   ]
  },
  {
   "cell_type": "markdown",
   "metadata": {},
   "source": [
    "#### Start and end of ventilation data\n",
    "This shows the time points when ventilator was turned on and off. At the beginning and the end of the recoridngs the baby was usually not attached to the ventilator. The ventilator recordings have been manually inspected and have been trimmed accordingly."
   ]
  },
  {
   "cell_type": "code",
   "execution_count": 20,
   "metadata": {},
   "outputs": [],
   "source": [
    "starts = {}; ends = {}\n",
    "for rec in sorted(clin_df.index):\n",
    "    try:\n",
    "        starts[rec] = data_pars[rec].index[0]\n",
    "    except KeyError:\n",
    "        continue\n",
    "        \n",
    "    try:\n",
    "        ends[rec] = data_pars[rec].index[-1]\n",
    "    except KeyError:\n",
    "        continue\n",
    "        \n",
    "start_end = DataFrame([starts, ends]).T\n",
    "start_end.columns = ['Recording start', 'Recording end']"
   ]
  },
  {
   "cell_type": "code",
   "execution_count": 21,
   "metadata": {},
   "outputs": [],
   "source": [
    "clin_df = pd.concat([clin_df, start_end], axis = 1, join = 'outer')"
   ]
  },
  {
   "cell_type": "code",
   "execution_count": 22,
   "metadata": {},
   "outputs": [],
   "source": [
    "clin_df['Date of Birth'] = clin_df['Date of Birth'].map(lambda x: pd.to_datetime(x))\n",
    "clin_df['Pathology'] = clin_df['Pathology'].map(lambda x: x.split(';')[:-1])"
   ]
  },
  {
   "cell_type": "code",
   "execution_count": 23,
   "metadata": {},
   "outputs": [],
   "source": [
    "clin_df['Duration'] = clin_df['Recording end'] - clin_df['Recording start']"
   ]
  },
  {
   "cell_type": "code",
   "execution_count": 24,
   "metadata": {},
   "outputs": [],
   "source": [
    "clin_df['Postnatal Age']   = clin_df['Recording end'] - clin_df['Date of Birth']"
   ]
  },
  {
   "cell_type": "code",
   "execution_count": 25,
   "metadata": {},
   "outputs": [
    {
     "name": "stdout",
     "output_type": "stream",
     "text": [
      "<class 'pandas.core.frame.DataFrame'>\n",
      "Index: 1079 entries, AT000005 to AT001397\n",
      "Data columns (total 12 columns):\n",
      " #   Column           Non-Null Count  Dtype          \n",
      "---  ------           --------------  -----          \n",
      " 0   Case ID          1079 non-null   object         \n",
      " 1   Date of Birth    1079 non-null   datetime64[ns] \n",
      " 2   Gestational Age  1079 non-null   object         \n",
      " 3   Birth Weight     1079 non-null   object         \n",
      " 4   Actual Weight    1079 non-null   object         \n",
      " 5   Pathology        1079 non-null   object         \n",
      " 6   Start            1079 non-null   object         \n",
      " 7   End              1079 non-null   object         \n",
      " 8   Recording start  1079 non-null   datetime64[ns] \n",
      " 9   Recording end    1079 non-null   datetime64[ns] \n",
      " 10  Duration         1079 non-null   timedelta64[ns]\n",
      " 11  Postnatal Age    1079 non-null   timedelta64[ns]\n",
      "dtypes: datetime64[ns](3), object(7), timedelta64[ns](2)\n",
      "memory usage: 109.6+ KB\n"
     ]
    }
   ],
   "source": [
    "clin_df.info()"
   ]
  },
  {
   "cell_type": "code",
   "execution_count": 26,
   "metadata": {},
   "outputs": [],
   "source": [
    "clin_df['Gestational Age'] = pd.to_timedelta((clin_df['Gestational Age']), unit='W', errors='raise')"
   ]
  },
  {
   "cell_type": "code",
   "execution_count": 27,
   "metadata": {},
   "outputs": [],
   "source": [
    "clin_df['Corrected gestational Age'] = pd.to_timedelta((clin_df['Gestational Age']), unit='D', \n",
    "                                                       errors='raise') + clin_df['Postnatal Age']"
   ]
  },
  {
   "cell_type": "code",
   "execution_count": 29,
   "metadata": {},
   "outputs": [],
   "source": [
    "clin_df['Gestational Age (weeks)'] = clin_df['Gestational Age'].apply(lambda x: x.total_seconds() / (60 * 60 * 24 * 7))\n",
    "\n",
    "clin_df['Corrected gestational Age (weeks)'] = \\\n",
    "    clin_df['Corrected gestational Age'].apply(lambda x: round(x.total_seconds() / (60 * 60 * 24 * 7), 1))"
   ]
  },
  {
   "cell_type": "code",
   "execution_count": 30,
   "metadata": {},
   "outputs": [],
   "source": [
    "actual_weight = []\n",
    "for i in range(len(clin_df)):\n",
    "    if clin_df.iloc[i]['Actual Weight'] != '':\n",
    "        actual_weight.append(int(clin_df.iloc[i]['Actual Weight']))\n",
    "    #If actual weight is not available and postnatal age is <7 days, use birth weight, otherwise put np.nan\n",
    "    elif clin_df.iloc[i]['Postnatal Age'] <= pd.to_timedelta('7D'):\n",
    "        actual_weight.append(clin_df.iloc[i]['Birth Weight'])\n",
    "    else:\n",
    "        actual_weight.append(np.nan)\n",
    "\n",
    "clin_df['Weight'] = actual_weight"
   ]
  },
  {
   "cell_type": "code",
   "execution_count": 31,
   "metadata": {},
   "outputs": [
    {
     "data": {
      "text/html": [
       "<div>\n",
       "<style scoped>\n",
       "    .dataframe tbody tr th:only-of-type {\n",
       "        vertical-align: middle;\n",
       "    }\n",
       "\n",
       "    .dataframe tbody tr th {\n",
       "        vertical-align: top;\n",
       "    }\n",
       "\n",
       "    .dataframe thead th {\n",
       "        text-align: right;\n",
       "    }\n",
       "</style>\n",
       "<table border=\"1\" class=\"dataframe\">\n",
       "  <thead>\n",
       "    <tr style=\"text-align: right;\">\n",
       "      <th></th>\n",
       "      <th>Actual Weight</th>\n",
       "      <th>Birth Weight</th>\n",
       "      <th>Case ID</th>\n",
       "      <th>Corrected gestational Age</th>\n",
       "      <th>Corrected gestational Age (weeks)</th>\n",
       "      <th>Date of Birth</th>\n",
       "      <th>Duration</th>\n",
       "      <th>End</th>\n",
       "      <th>Gestational Age</th>\n",
       "      <th>Gestational Age (weeks)</th>\n",
       "      <th>Pathology</th>\n",
       "      <th>Postnatal Age</th>\n",
       "      <th>Recording end</th>\n",
       "      <th>Recording start</th>\n",
       "      <th>Start</th>\n",
       "      <th>Weight</th>\n",
       "    </tr>\n",
       "  </thead>\n",
       "  <tbody>\n",
       "    <tr>\n",
       "      <th>AT000005</th>\n",
       "      <td></td>\n",
       "      <td>1150</td>\n",
       "      <td>55871</td>\n",
       "      <td>203 days 03:53:22</td>\n",
       "      <td>29.0</td>\n",
       "      <td>2020-10-21 08:31:00</td>\n",
       "      <td>0 days 02:12:55</td>\n",
       "      <td>Wed, 21 Oct 2020 122422 +0200</td>\n",
       "      <td>203 days</td>\n",
       "      <td>29.0</td>\n",
       "      <td>[Neonat praemat gr s 29 (P07.3)  ,  RDS (P22) ...</td>\n",
       "      <td>0 days 03:53:22</td>\n",
       "      <td>2020-10-21 12:24:22</td>\n",
       "      <td>2020-10-21 10:11:27</td>\n",
       "      <td>Wed, 21 Oct 2020 101127 +0200</td>\n",
       "      <td>1150.0</td>\n",
       "    </tr>\n",
       "    <tr>\n",
       "      <th>AT000006</th>\n",
       "      <td>940</td>\n",
       "      <td>820</td>\n",
       "      <td>55875</td>\n",
       "      <td>212 days 23:53:36</td>\n",
       "      <td>30.4</td>\n",
       "      <td>2020-09-27 15:45:00</td>\n",
       "      <td>0 days 00:41:31</td>\n",
       "      <td>Wed, 21 Oct 2020 153836 +0200</td>\n",
       "      <td>189 days</td>\n",
       "      <td>27.0</td>\n",
       "      <td>[Neonat immat gr s 27 (P07.2)  ,  RDS (P22)  ,...</td>\n",
       "      <td>23 days 23:53:36</td>\n",
       "      <td>2020-10-21 15:38:36</td>\n",
       "      <td>2020-10-21 14:57:05</td>\n",
       "      <td>Wed, 21 Oct 2020 145705 +0200</td>\n",
       "      <td>940.0</td>\n",
       "    </tr>\n",
       "  </tbody>\n",
       "</table>\n",
       "</div>"
      ],
      "text/plain": [
       "         Actual Weight Birth Weight Case ID Corrected gestational Age  \\\n",
       "AT000005                       1150   55871         203 days 03:53:22   \n",
       "AT000006           940          820   55875         212 days 23:53:36   \n",
       "\n",
       "          Corrected gestational Age (weeks)       Date of Birth  \\\n",
       "AT000005                               29.0 2020-10-21 08:31:00   \n",
       "AT000006                               30.4 2020-09-27 15:45:00   \n",
       "\n",
       "                Duration                            End Gestational Age  \\\n",
       "AT000005 0 days 02:12:55  Wed, 21 Oct 2020 122422 +0200        203 days   \n",
       "AT000006 0 days 00:41:31  Wed, 21 Oct 2020 153836 +0200        189 days   \n",
       "\n",
       "          Gestational Age (weeks)  \\\n",
       "AT000005                     29.0   \n",
       "AT000006                     27.0   \n",
       "\n",
       "                                                  Pathology    Postnatal Age  \\\n",
       "AT000005  [Neonat praemat gr s 29 (P07.3)  ,  RDS (P22) ...  0 days 03:53:22   \n",
       "AT000006  [Neonat immat gr s 27 (P07.2)  ,  RDS (P22)  ,... 23 days 23:53:36   \n",
       "\n",
       "               Recording end     Recording start  \\\n",
       "AT000005 2020-10-21 12:24:22 2020-10-21 10:11:27   \n",
       "AT000006 2020-10-21 15:38:36 2020-10-21 14:57:05   \n",
       "\n",
       "                                  Start  Weight  \n",
       "AT000005  Wed, 21 Oct 2020 101127 +0200  1150.0  \n",
       "AT000006  Wed, 21 Oct 2020 145705 +0200   940.0  "
      ]
     },
     "execution_count": 31,
     "metadata": {},
     "output_type": "execute_result"
    }
   ],
   "source": [
    "clin_df.sort_index(axis = 1).head(2)"
   ]
  },
  {
   "cell_type": "markdown",
   "metadata": {},
   "source": [
    "### 8. Exploratory analysis on clinical details"
   ]
  },
  {
   "cell_type": "code",
   "execution_count": 32,
   "metadata": {},
   "outputs": [
    {
     "data": {
      "text/html": [
       "<div>\n",
       "<style scoped>\n",
       "    .dataframe tbody tr th:only-of-type {\n",
       "        vertical-align: middle;\n",
       "    }\n",
       "\n",
       "    .dataframe tbody tr th {\n",
       "        vertical-align: top;\n",
       "    }\n",
       "\n",
       "    .dataframe thead th {\n",
       "        text-align: right;\n",
       "    }\n",
       "</style>\n",
       "<table border=\"1\" class=\"dataframe\">\n",
       "  <thead>\n",
       "    <tr style=\"text-align: right;\">\n",
       "      <th></th>\n",
       "      <th>Date of Birth</th>\n",
       "      <th>Gestational Age</th>\n",
       "      <th>Recording start</th>\n",
       "      <th>Recording end</th>\n",
       "      <th>Duration</th>\n",
       "      <th>Postnatal Age</th>\n",
       "      <th>Corrected gestational Age</th>\n",
       "      <th>Gestational Age (weeks)</th>\n",
       "      <th>Corrected gestational Age (weeks)</th>\n",
       "      <th>Weight</th>\n",
       "    </tr>\n",
       "  </thead>\n",
       "  <tbody>\n",
       "    <tr>\n",
       "      <th>count</th>\n",
       "      <td>1079</td>\n",
       "      <td>1079</td>\n",
       "      <td>1079</td>\n",
       "      <td>1079</td>\n",
       "      <td>1079</td>\n",
       "      <td>1079</td>\n",
       "      <td>1079</td>\n",
       "      <td>1079.000000</td>\n",
       "      <td>1079.000000</td>\n",
       "      <td>1048.000000</td>\n",
       "    </tr>\n",
       "    <tr>\n",
       "      <th>mean</th>\n",
       "      <td>2022-05-13 06:45:52.159407104</td>\n",
       "      <td>248 days 06:47:02.613531048</td>\n",
       "      <td>2022-05-23 16:52:03.202965760</td>\n",
       "      <td>2022-05-23 18:05:40.691380736</td>\n",
       "      <td>0 days 01:13:37.488415199</td>\n",
       "      <td>10 days 11:19:48.531974050</td>\n",
       "      <td>258 days 18:06:51.145505096</td>\n",
       "      <td>35.468953</td>\n",
       "      <td>36.954124</td>\n",
       "      <td>2740.655534</td>\n",
       "    </tr>\n",
       "    <tr>\n",
       "      <th>min</th>\n",
       "      <td>2020-09-27 15:45:00</td>\n",
       "      <td>154 days 00:00:00</td>\n",
       "      <td>2020-10-21 10:11:27</td>\n",
       "      <td>2020-10-21 12:24:22</td>\n",
       "      <td>0 days 00:15:52</td>\n",
       "      <td>0 days 00:04:33</td>\n",
       "      <td>154 days 02:58:33</td>\n",
       "      <td>22.000000</td>\n",
       "      <td>22.000000</td>\n",
       "      <td>280.000000</td>\n",
       "    </tr>\n",
       "    <tr>\n",
       "      <th>25%</th>\n",
       "      <td>2021-07-12 02:23:30</td>\n",
       "      <td>231 days 00:00:00</td>\n",
       "      <td>2021-07-29 06:11:53</td>\n",
       "      <td>2021-07-29 06:54:30</td>\n",
       "      <td>0 days 00:44:24.500000</td>\n",
       "      <td>0 days 03:11:39.500000</td>\n",
       "      <td>238 days 04:56:13</td>\n",
       "      <td>33.000000</td>\n",
       "      <td>34.000000</td>\n",
       "      <td>2097.500000</td>\n",
       "    </tr>\n",
       "    <tr>\n",
       "      <th>50%</th>\n",
       "      <td>2022-03-11 00:00:00</td>\n",
       "      <td>259 days 00:00:00</td>\n",
       "      <td>2022-03-31 08:06:29</td>\n",
       "      <td>2022-03-31 09:38:13</td>\n",
       "      <td>0 days 01:06:31</td>\n",
       "      <td>0 days 06:12:49</td>\n",
       "      <td>262 days 23:09:40</td>\n",
       "      <td>37.000000</td>\n",
       "      <td>37.600000</td>\n",
       "      <td>2850.000000</td>\n",
       "    </tr>\n",
       "    <tr>\n",
       "      <th>75%</th>\n",
       "      <td>2023-02-27 15:37:30</td>\n",
       "      <td>273 days 00:00:00</td>\n",
       "      <td>2023-03-08 20:56:46.500000</td>\n",
       "      <td>2023-03-08 21:39:21</td>\n",
       "      <td>0 days 01:33:47</td>\n",
       "      <td>3 days 06:21:34</td>\n",
       "      <td>280 days 00:33:24.500000</td>\n",
       "      <td>39.000000</td>\n",
       "      <td>40.000000</td>\n",
       "      <td>3450.000000</td>\n",
       "    </tr>\n",
       "    <tr>\n",
       "      <th>max</th>\n",
       "      <td>2024-06-29 16:00:00</td>\n",
       "      <td>392 days 00:00:00</td>\n",
       "      <td>2024-06-29 22:14:21</td>\n",
       "      <td>2024-06-29 23:34:39</td>\n",
       "      <td>0 days 06:31:10</td>\n",
       "      <td>365 days 03:01:02</td>\n",
       "      <td>589 days 03:01:02</td>\n",
       "      <td>56.000000</td>\n",
       "      <td>84.200000</td>\n",
       "      <td>5700.000000</td>\n",
       "    </tr>\n",
       "    <tr>\n",
       "      <th>std</th>\n",
       "      <td>NaN</td>\n",
       "      <td>32 days 07:28:32.579460072</td>\n",
       "      <td>NaN</td>\n",
       "      <td>NaN</td>\n",
       "      <td>0 days 00:40:04.118948388</td>\n",
       "      <td>27 days 23:18:24.548710621</td>\n",
       "      <td>38 days 08:21:34.525736990</td>\n",
       "      <td>4.615927</td>\n",
       "      <td>5.480610</td>\n",
       "      <td>994.876894</td>\n",
       "    </tr>\n",
       "  </tbody>\n",
       "</table>\n",
       "</div>"
      ],
      "text/plain": [
       "                       Date of Birth              Gestational Age  \\\n",
       "count                           1079                         1079   \n",
       "mean   2022-05-13 06:45:52.159407104  248 days 06:47:02.613531048   \n",
       "min              2020-09-27 15:45:00            154 days 00:00:00   \n",
       "25%              2021-07-12 02:23:30            231 days 00:00:00   \n",
       "50%              2022-03-11 00:00:00            259 days 00:00:00   \n",
       "75%              2023-02-27 15:37:30            273 days 00:00:00   \n",
       "max              2024-06-29 16:00:00            392 days 00:00:00   \n",
       "std                              NaN   32 days 07:28:32.579460072   \n",
       "\n",
       "                     Recording start                  Recording end  \\\n",
       "count                           1079                           1079   \n",
       "mean   2022-05-23 16:52:03.202965760  2022-05-23 18:05:40.691380736   \n",
       "min              2020-10-21 10:11:27            2020-10-21 12:24:22   \n",
       "25%              2021-07-29 06:11:53            2021-07-29 06:54:30   \n",
       "50%              2022-03-31 08:06:29            2022-03-31 09:38:13   \n",
       "75%       2023-03-08 20:56:46.500000            2023-03-08 21:39:21   \n",
       "max              2024-06-29 22:14:21            2024-06-29 23:34:39   \n",
       "std                              NaN                            NaN   \n",
       "\n",
       "                        Duration               Postnatal Age  \\\n",
       "count                       1079                        1079   \n",
       "mean   0 days 01:13:37.488415199  10 days 11:19:48.531974050   \n",
       "min              0 days 00:15:52             0 days 00:04:33   \n",
       "25%       0 days 00:44:24.500000      0 days 03:11:39.500000   \n",
       "50%              0 days 01:06:31             0 days 06:12:49   \n",
       "75%              0 days 01:33:47             3 days 06:21:34   \n",
       "max              0 days 06:31:10           365 days 03:01:02   \n",
       "std    0 days 00:40:04.118948388  27 days 23:18:24.548710621   \n",
       "\n",
       "         Corrected gestational Age  Gestational Age (weeks)  \\\n",
       "count                         1079              1079.000000   \n",
       "mean   258 days 18:06:51.145505096                35.468953   \n",
       "min              154 days 02:58:33                22.000000   \n",
       "25%              238 days 04:56:13                33.000000   \n",
       "50%              262 days 23:09:40                37.000000   \n",
       "75%       280 days 00:33:24.500000                39.000000   \n",
       "max              589 days 03:01:02                56.000000   \n",
       "std     38 days 08:21:34.525736990                 4.615927   \n",
       "\n",
       "       Corrected gestational Age (weeks)       Weight  \n",
       "count                        1079.000000  1048.000000  \n",
       "mean                           36.954124  2740.655534  \n",
       "min                            22.000000   280.000000  \n",
       "25%                            34.000000  2097.500000  \n",
       "50%                            37.600000  2850.000000  \n",
       "75%                            40.000000  3450.000000  \n",
       "max                            84.200000  5700.000000  \n",
       "std                             5.480610   994.876894  "
      ]
     },
     "execution_count": 32,
     "metadata": {},
     "output_type": "execute_result"
    }
   ],
   "source": [
    "clin_df.describe()"
   ]
  },
  {
   "cell_type": "markdown",
   "metadata": {},
   "source": [
    "#### For some recordings the age at the time of transfer is \"negative\"  - these need to be corrected"
   ]
  },
  {
   "cell_type": "code",
   "execution_count": 33,
   "metadata": {},
   "outputs": [
    {
     "data": {
      "text/html": [
       "<div>\n",
       "<style scoped>\n",
       "    .dataframe tbody tr th:only-of-type {\n",
       "        vertical-align: middle;\n",
       "    }\n",
       "\n",
       "    .dataframe tbody tr th {\n",
       "        vertical-align: top;\n",
       "    }\n",
       "\n",
       "    .dataframe thead th {\n",
       "        text-align: right;\n",
       "    }\n",
       "</style>\n",
       "<table border=\"1\" class=\"dataframe\">\n",
       "  <thead>\n",
       "    <tr style=\"text-align: right;\">\n",
       "      <th></th>\n",
       "      <th>Case ID</th>\n",
       "      <th>Date of Birth</th>\n",
       "      <th>Gestational Age</th>\n",
       "      <th>Birth Weight</th>\n",
       "      <th>Actual Weight</th>\n",
       "      <th>Pathology</th>\n",
       "      <th>Start</th>\n",
       "      <th>End</th>\n",
       "      <th>Recording start</th>\n",
       "      <th>Recording end</th>\n",
       "      <th>Duration</th>\n",
       "      <th>Postnatal Age</th>\n",
       "      <th>Corrected gestational Age</th>\n",
       "      <th>Gestational Age (weeks)</th>\n",
       "      <th>Corrected gestational Age (weeks)</th>\n",
       "      <th>Weight</th>\n",
       "    </tr>\n",
       "  </thead>\n",
       "  <tbody>\n",
       "  </tbody>\n",
       "</table>\n",
       "</div>"
      ],
      "text/plain": [
       "Empty DataFrame\n",
       "Columns: [Case ID, Date of Birth, Gestational Age, Birth Weight, Actual Weight, Pathology, Start, End, Recording start, Recording end, Duration, Postnatal Age, Corrected gestational Age, Gestational Age (weeks), Corrected gestational Age (weeks), Weight]\n",
       "Index: []"
      ]
     },
     "execution_count": 33,
     "metadata": {},
     "output_type": "execute_result"
    }
   ],
   "source": [
    "clin_df[clin_df['Postnatal Age'] < pd.to_timedelta(0)].sort_values('Postnatal Age')"
   ]
  },
  {
   "cell_type": "markdown",
   "metadata": {},
   "source": [
    "#### For some recordings the duration of the recording is \"negative\"  - these need to be corrected"
   ]
  },
  {
   "cell_type": "code",
   "execution_count": 34,
   "metadata": {},
   "outputs": [
    {
     "data": {
      "text/html": [
       "<div>\n",
       "<style scoped>\n",
       "    .dataframe tbody tr th:only-of-type {\n",
       "        vertical-align: middle;\n",
       "    }\n",
       "\n",
       "    .dataframe tbody tr th {\n",
       "        vertical-align: top;\n",
       "    }\n",
       "\n",
       "    .dataframe thead th {\n",
       "        text-align: right;\n",
       "    }\n",
       "</style>\n",
       "<table border=\"1\" class=\"dataframe\">\n",
       "  <thead>\n",
       "    <tr style=\"text-align: right;\">\n",
       "      <th></th>\n",
       "      <th>Case ID</th>\n",
       "      <th>Date of Birth</th>\n",
       "      <th>Gestational Age</th>\n",
       "      <th>Birth Weight</th>\n",
       "      <th>Actual Weight</th>\n",
       "      <th>Pathology</th>\n",
       "      <th>Start</th>\n",
       "      <th>End</th>\n",
       "      <th>Recording start</th>\n",
       "      <th>Recording end</th>\n",
       "      <th>Duration</th>\n",
       "      <th>Postnatal Age</th>\n",
       "      <th>Corrected gestational Age</th>\n",
       "      <th>Gestational Age (weeks)</th>\n",
       "      <th>Corrected gestational Age (weeks)</th>\n",
       "      <th>Weight</th>\n",
       "    </tr>\n",
       "  </thead>\n",
       "  <tbody>\n",
       "  </tbody>\n",
       "</table>\n",
       "</div>"
      ],
      "text/plain": [
       "Empty DataFrame\n",
       "Columns: [Case ID, Date of Birth, Gestational Age, Birth Weight, Actual Weight, Pathology, Start, End, Recording start, Recording end, Duration, Postnatal Age, Corrected gestational Age, Gestational Age (weeks), Corrected gestational Age (weeks), Weight]\n",
       "Index: []"
      ]
     },
     "execution_count": 34,
     "metadata": {},
     "output_type": "execute_result"
    }
   ],
   "source": [
    "clin_df[clin_df['Duration'] < pd.to_timedelta(0)]"
   ]
  },
  {
   "cell_type": "markdown",
   "metadata": {},
   "source": [
    "#### Duration longer than 6 hours - this would be unusual for neonatal transport"
   ]
  },
  {
   "cell_type": "code",
   "execution_count": 35,
   "metadata": {},
   "outputs": [
    {
     "data": {
      "text/html": [
       "<div>\n",
       "<style scoped>\n",
       "    .dataframe tbody tr th:only-of-type {\n",
       "        vertical-align: middle;\n",
       "    }\n",
       "\n",
       "    .dataframe tbody tr th {\n",
       "        vertical-align: top;\n",
       "    }\n",
       "\n",
       "    .dataframe thead th {\n",
       "        text-align: right;\n",
       "    }\n",
       "</style>\n",
       "<table border=\"1\" class=\"dataframe\">\n",
       "  <thead>\n",
       "    <tr style=\"text-align: right;\">\n",
       "      <th></th>\n",
       "      <th>Case ID</th>\n",
       "      <th>Date of Birth</th>\n",
       "      <th>Gestational Age</th>\n",
       "      <th>Birth Weight</th>\n",
       "      <th>Actual Weight</th>\n",
       "      <th>Pathology</th>\n",
       "      <th>Start</th>\n",
       "      <th>End</th>\n",
       "      <th>Recording start</th>\n",
       "      <th>Recording end</th>\n",
       "      <th>Duration</th>\n",
       "      <th>Postnatal Age</th>\n",
       "      <th>Corrected gestational Age</th>\n",
       "      <th>Gestational Age (weeks)</th>\n",
       "      <th>Corrected gestational Age (weeks)</th>\n",
       "      <th>Weight</th>\n",
       "    </tr>\n",
       "  </thead>\n",
       "  <tbody>\n",
       "    <tr>\n",
       "      <th>AT000842</th>\n",
       "      <td>61060</td>\n",
       "      <td>2022-08-28 01:55:00</td>\n",
       "      <td>238 days</td>\n",
       "      <td>2350</td>\n",
       "      <td></td>\n",
       "      <td>[Neonat praemat gr s 34 (P07.3)  ,  RDS (P22) ...</td>\n",
       "      <td>Sun, 28 Aug 2022 084958 +0200</td>\n",
       "      <td>Sun, 28 Aug 2022 152108 +0200</td>\n",
       "      <td>2022-08-28 08:49:58</td>\n",
       "      <td>2022-08-28 15:21:08</td>\n",
       "      <td>0 days 06:31:10</td>\n",
       "      <td>0 days 13:26:08</td>\n",
       "      <td>238 days 13:26:08</td>\n",
       "      <td>34.0</td>\n",
       "      <td>34.1</td>\n",
       "      <td>2350.0</td>\n",
       "    </tr>\n",
       "    <tr>\n",
       "      <th>AT001272</th>\n",
       "      <td>65673</td>\n",
       "      <td>2024-04-10 00:00:00</td>\n",
       "      <td>287 days</td>\n",
       "      <td>3620</td>\n",
       "      <td>3500</td>\n",
       "      <td>[]</td>\n",
       "      <td>Sat, 13 Apr 2024 210219 +0200</td>\n",
       "      <td>Sat, 13 Apr 2024 221249 +0200</td>\n",
       "      <td>2024-04-13 21:02:19</td>\n",
       "      <td>2024-04-14 03:20:38</td>\n",
       "      <td>0 days 06:18:19</td>\n",
       "      <td>4 days 03:20:38</td>\n",
       "      <td>291 days 03:20:38</td>\n",
       "      <td>41.0</td>\n",
       "      <td>41.6</td>\n",
       "      <td>3500.0</td>\n",
       "    </tr>\n",
       "  </tbody>\n",
       "</table>\n",
       "</div>"
      ],
      "text/plain": [
       "         Case ID       Date of Birth Gestational Age Birth Weight  \\\n",
       "AT000842   61060 2022-08-28 01:55:00        238 days         2350   \n",
       "AT001272   65673 2024-04-10 00:00:00        287 days         3620   \n",
       "\n",
       "         Actual Weight                                          Pathology  \\\n",
       "AT000842                [Neonat praemat gr s 34 (P07.3)  ,  RDS (P22) ...   \n",
       "AT001272          3500                                                 []   \n",
       "\n",
       "                                  Start                            End  \\\n",
       "AT000842  Sun, 28 Aug 2022 084958 +0200  Sun, 28 Aug 2022 152108 +0200   \n",
       "AT001272  Sat, 13 Apr 2024 210219 +0200  Sat, 13 Apr 2024 221249 +0200   \n",
       "\n",
       "             Recording start       Recording end        Duration  \\\n",
       "AT000842 2022-08-28 08:49:58 2022-08-28 15:21:08 0 days 06:31:10   \n",
       "AT001272 2024-04-13 21:02:19 2024-04-14 03:20:38 0 days 06:18:19   \n",
       "\n",
       "           Postnatal Age Corrected gestational Age  Gestational Age (weeks)  \\\n",
       "AT000842 0 days 13:26:08         238 days 13:26:08                     34.0   \n",
       "AT001272 4 days 03:20:38         291 days 03:20:38                     41.0   \n",
       "\n",
       "          Corrected gestational Age (weeks)  Weight  \n",
       "AT000842                               34.1  2350.0  \n",
       "AT001272                               41.6  3500.0  "
      ]
     },
     "execution_count": 35,
     "metadata": {},
     "output_type": "execute_result"
    }
   ],
   "source": [
    "clin_df[clin_df['Duration'] > pd.to_timedelta('6H')]"
   ]
  },
  {
   "cell_type": "markdown",
   "metadata": {},
   "source": [
    "#### Babies was at less than 23 weeks gestation"
   ]
  },
  {
   "cell_type": "code",
   "execution_count": 36,
   "metadata": {},
   "outputs": [
    {
     "data": {
      "text/html": [
       "<div>\n",
       "<style scoped>\n",
       "    .dataframe tbody tr th:only-of-type {\n",
       "        vertical-align: middle;\n",
       "    }\n",
       "\n",
       "    .dataframe tbody tr th {\n",
       "        vertical-align: top;\n",
       "    }\n",
       "\n",
       "    .dataframe thead th {\n",
       "        text-align: right;\n",
       "    }\n",
       "</style>\n",
       "<table border=\"1\" class=\"dataframe\">\n",
       "  <thead>\n",
       "    <tr style=\"text-align: right;\">\n",
       "      <th></th>\n",
       "      <th>Case ID</th>\n",
       "      <th>Date of Birth</th>\n",
       "      <th>Gestational Age</th>\n",
       "      <th>Birth Weight</th>\n",
       "      <th>Actual Weight</th>\n",
       "      <th>Pathology</th>\n",
       "      <th>Start</th>\n",
       "      <th>End</th>\n",
       "      <th>Recording start</th>\n",
       "      <th>Recording end</th>\n",
       "      <th>Duration</th>\n",
       "      <th>Postnatal Age</th>\n",
       "      <th>Corrected gestational Age</th>\n",
       "      <th>Gestational Age (weeks)</th>\n",
       "      <th>Corrected gestational Age (weeks)</th>\n",
       "      <th>Weight</th>\n",
       "    </tr>\n",
       "  </thead>\n",
       "  <tbody>\n",
       "    <tr>\n",
       "      <th>AT000017</th>\n",
       "      <td>56003</td>\n",
       "      <td>2020-11-10 16:00:00</td>\n",
       "      <td>154 days</td>\n",
       "      <td>520</td>\n",
       "      <td></td>\n",
       "      <td>[Neonat immat gr s 22 (P07.2)  ,  Hypothermia ...</td>\n",
       "      <td>Tue, 10 Nov 2020 175907 +0100</td>\n",
       "      <td>Tue, 10 Nov 2020 193447 +0100</td>\n",
       "      <td>2020-11-10 17:59:07</td>\n",
       "      <td>2020-11-10 19:34:47</td>\n",
       "      <td>0 days 01:35:40</td>\n",
       "      <td>0 days 03:34:47</td>\n",
       "      <td>154 days 03:34:47</td>\n",
       "      <td>22.0</td>\n",
       "      <td>22.0</td>\n",
       "      <td>520.0</td>\n",
       "    </tr>\n",
       "    <tr>\n",
       "      <th>AT001235</th>\n",
       "      <td>63907</td>\n",
       "      <td>2023-08-30 12:41:00</td>\n",
       "      <td>154 days</td>\n",
       "      <td>280</td>\n",
       "      <td></td>\n",
       "      <td>[Neonat immat gr s 22 (P07.2)  ,  RDS (P22)  ,...</td>\n",
       "      <td>Wed, 30 Aug 2023 141835 +0200</td>\n",
       "      <td>Wed, 30 Aug 2023 153933 +0200</td>\n",
       "      <td>2023-08-30 14:18:35</td>\n",
       "      <td>2023-08-30 15:39:33</td>\n",
       "      <td>0 days 01:20:58</td>\n",
       "      <td>0 days 02:58:33</td>\n",
       "      <td>154 days 02:58:33</td>\n",
       "      <td>22.0</td>\n",
       "      <td>22.0</td>\n",
       "      <td>280.0</td>\n",
       "    </tr>\n",
       "  </tbody>\n",
       "</table>\n",
       "</div>"
      ],
      "text/plain": [
       "         Case ID       Date of Birth Gestational Age Birth Weight  \\\n",
       "AT000017   56003 2020-11-10 16:00:00        154 days          520   \n",
       "AT001235   63907 2023-08-30 12:41:00        154 days          280   \n",
       "\n",
       "         Actual Weight                                          Pathology  \\\n",
       "AT000017                [Neonat immat gr s 22 (P07.2)  ,  Hypothermia ...   \n",
       "AT001235                [Neonat immat gr s 22 (P07.2)  ,  RDS (P22)  ,...   \n",
       "\n",
       "                                  Start                            End  \\\n",
       "AT000017  Tue, 10 Nov 2020 175907 +0100  Tue, 10 Nov 2020 193447 +0100   \n",
       "AT001235  Wed, 30 Aug 2023 141835 +0200  Wed, 30 Aug 2023 153933 +0200   \n",
       "\n",
       "             Recording start       Recording end        Duration  \\\n",
       "AT000017 2020-11-10 17:59:07 2020-11-10 19:34:47 0 days 01:35:40   \n",
       "AT001235 2023-08-30 14:18:35 2023-08-30 15:39:33 0 days 01:20:58   \n",
       "\n",
       "           Postnatal Age Corrected gestational Age  Gestational Age (weeks)  \\\n",
       "AT000017 0 days 03:34:47         154 days 03:34:47                     22.0   \n",
       "AT001235 0 days 02:58:33         154 days 02:58:33                     22.0   \n",
       "\n",
       "          Corrected gestational Age (weeks)  Weight  \n",
       "AT000017                               22.0   520.0  \n",
       "AT001235                               22.0   280.0  "
      ]
     },
     "execution_count": 36,
     "metadata": {},
     "output_type": "execute_result"
    }
   ],
   "source": [
    "clin_df[clin_df['Gestational Age (weeks)'] < 23]"
   ]
  },
  {
   "cell_type": "markdown",
   "metadata": {},
   "source": [
    "#### Babies born with less than 500 g birth weight"
   ]
  },
  {
   "cell_type": "code",
   "execution_count": 37,
   "metadata": {},
   "outputs": [
    {
     "data": {
      "text/plain": [
       "110"
      ]
     },
     "execution_count": 37,
     "metadata": {},
     "output_type": "execute_result"
    }
   ],
   "source": [
    "len(clin_df[clin_df['Birth Weight'] < 1000])"
   ]
  },
  {
   "cell_type": "code",
   "execution_count": 38,
   "metadata": {},
   "outputs": [
    {
     "data": {
      "text/html": [
       "<div>\n",
       "<style scoped>\n",
       "    .dataframe tbody tr th:only-of-type {\n",
       "        vertical-align: middle;\n",
       "    }\n",
       "\n",
       "    .dataframe tbody tr th {\n",
       "        vertical-align: top;\n",
       "    }\n",
       "\n",
       "    .dataframe thead th {\n",
       "        text-align: right;\n",
       "    }\n",
       "</style>\n",
       "<table border=\"1\" class=\"dataframe\">\n",
       "  <thead>\n",
       "    <tr style=\"text-align: right;\">\n",
       "      <th></th>\n",
       "      <th>Case ID</th>\n",
       "      <th>Date of Birth</th>\n",
       "      <th>Gestational Age</th>\n",
       "      <th>Birth Weight</th>\n",
       "      <th>Actual Weight</th>\n",
       "      <th>Pathology</th>\n",
       "      <th>Start</th>\n",
       "      <th>End</th>\n",
       "      <th>Recording start</th>\n",
       "      <th>Recording end</th>\n",
       "      <th>Duration</th>\n",
       "      <th>Postnatal Age</th>\n",
       "      <th>Corrected gestational Age</th>\n",
       "      <th>Gestational Age (weeks)</th>\n",
       "      <th>Corrected gestational Age (weeks)</th>\n",
       "      <th>Weight</th>\n",
       "    </tr>\n",
       "  </thead>\n",
       "  <tbody>\n",
       "    <tr>\n",
       "      <th>AT000129</th>\n",
       "      <td>56646</td>\n",
       "      <td>2021-01-23 00:00:00</td>\n",
       "      <td>203 days</td>\n",
       "      <td>460</td>\n",
       "      <td>620</td>\n",
       "      <td>[Neonat praemat gr s 29 (P07.3)  ,  Dysmaturit...</td>\n",
       "      <td>Thu, 11 Feb 2021 114454 +0100</td>\n",
       "      <td>Thu, 11 Feb 2021 123425 +0100</td>\n",
       "      <td>2021-02-11 12:44:54</td>\n",
       "      <td>2021-02-11 13:34:25</td>\n",
       "      <td>0 days 00:49:31</td>\n",
       "      <td>19 days 13:34:25</td>\n",
       "      <td>222 days 13:34:25</td>\n",
       "      <td>29.0</td>\n",
       "      <td>31.8</td>\n",
       "      <td>620.0</td>\n",
       "    </tr>\n",
       "    <tr>\n",
       "      <th>AT000357</th>\n",
       "      <td>58015</td>\n",
       "      <td>2021-08-03 00:00:00</td>\n",
       "      <td>280 days</td>\n",
       "      <td>320</td>\n",
       "      <td></td>\n",
       "      <td>[Neonat mat gr s 40 (P96.4)  ,  Asphyxia perin...</td>\n",
       "      <td>Wed, 04 Aug 2021 001908 +0200</td>\n",
       "      <td>Wed, 04 Aug 2021 010710 +0200</td>\n",
       "      <td>2021-08-04 00:19:08</td>\n",
       "      <td>2021-08-04 01:07:10</td>\n",
       "      <td>0 days 00:48:02</td>\n",
       "      <td>1 days 01:07:10</td>\n",
       "      <td>281 days 01:07:10</td>\n",
       "      <td>40.0</td>\n",
       "      <td>40.1</td>\n",
       "      <td>320.0</td>\n",
       "    </tr>\n",
       "    <tr>\n",
       "      <th>AT000686</th>\n",
       "      <td>59909</td>\n",
       "      <td>2022-04-16 05:07:00</td>\n",
       "      <td>168 days</td>\n",
       "      <td>450</td>\n",
       "      <td></td>\n",
       "      <td>[Neonat immat gr s 24 (P07.2)  ,  RDS (P22)  ,...</td>\n",
       "      <td>Sat, 16 Apr 2022 062815 +0200</td>\n",
       "      <td>Sat, 16 Apr 2022 090723 +0200</td>\n",
       "      <td>2022-04-16 06:28:15</td>\n",
       "      <td>2022-04-16 09:07:23</td>\n",
       "      <td>0 days 02:39:08</td>\n",
       "      <td>0 days 04:00:23</td>\n",
       "      <td>168 days 04:00:23</td>\n",
       "      <td>24.0</td>\n",
       "      <td>24.0</td>\n",
       "      <td>450.0</td>\n",
       "    </tr>\n",
       "    <tr>\n",
       "      <th>AT000916</th>\n",
       "      <td>62119</td>\n",
       "      <td>2022-12-17 12:19:00</td>\n",
       "      <td>182 days</td>\n",
       "      <td>490</td>\n",
       "      <td>490</td>\n",
       "      <td>[Neonat immat gr s 26 (P07.2)  ,  RDS (P22)  ,...</td>\n",
       "      <td>Tue, 27 Dec 2022 155336 +0100</td>\n",
       "      <td>Tue, 27 Dec 2022 162456 +0100</td>\n",
       "      <td>2022-12-27 15:53:36</td>\n",
       "      <td>2022-12-27 16:24:56</td>\n",
       "      <td>0 days 00:31:20</td>\n",
       "      <td>10 days 04:05:56</td>\n",
       "      <td>192 days 04:05:56</td>\n",
       "      <td>26.0</td>\n",
       "      <td>27.5</td>\n",
       "      <td>490.0</td>\n",
       "    </tr>\n",
       "    <tr>\n",
       "      <th>AT001123</th>\n",
       "      <td>63199</td>\n",
       "      <td>2023-03-24 00:00:00</td>\n",
       "      <td>168 days</td>\n",
       "      <td>410</td>\n",
       "      <td>1340</td>\n",
       "      <td>[Neonat immat gr s 24 (P07.2)  ,  BPD (P27.1) ...</td>\n",
       "      <td>Wed, 31 May 2023 105159 +0200</td>\n",
       "      <td>Wed, 31 May 2023 113043 +0200</td>\n",
       "      <td>2023-05-31 10:51:59</td>\n",
       "      <td>2023-05-31 11:30:43</td>\n",
       "      <td>0 days 00:38:44</td>\n",
       "      <td>68 days 11:30:43</td>\n",
       "      <td>236 days 11:30:43</td>\n",
       "      <td>24.0</td>\n",
       "      <td>33.8</td>\n",
       "      <td>1340.0</td>\n",
       "    </tr>\n",
       "    <tr>\n",
       "      <th>AT001126</th>\n",
       "      <td>63217</td>\n",
       "      <td>2023-03-24 00:00:00</td>\n",
       "      <td>168 days</td>\n",
       "      <td>410</td>\n",
       "      <td>1380</td>\n",
       "      <td>[Sepsis (P36.9)  ,  Légzészavar (P22.8)  ,  Ne...</td>\n",
       "      <td>Fri, 02 Jun 2023 104943 +0200</td>\n",
       "      <td>Fri, 02 Jun 2023 113505 +0200</td>\n",
       "      <td>2023-06-02 10:49:43</td>\n",
       "      <td>2023-06-02 11:35:05</td>\n",
       "      <td>0 days 00:45:22</td>\n",
       "      <td>70 days 11:35:05</td>\n",
       "      <td>238 days 11:35:05</td>\n",
       "      <td>24.0</td>\n",
       "      <td>34.1</td>\n",
       "      <td>1380.0</td>\n",
       "    </tr>\n",
       "    <tr>\n",
       "      <th>AT001235</th>\n",
       "      <td>63907</td>\n",
       "      <td>2023-08-30 12:41:00</td>\n",
       "      <td>154 days</td>\n",
       "      <td>280</td>\n",
       "      <td></td>\n",
       "      <td>[Neonat immat gr s 22 (P07.2)  ,  RDS (P22)  ,...</td>\n",
       "      <td>Wed, 30 Aug 2023 141835 +0200</td>\n",
       "      <td>Wed, 30 Aug 2023 153933 +0200</td>\n",
       "      <td>2023-08-30 14:18:35</td>\n",
       "      <td>2023-08-30 15:39:33</td>\n",
       "      <td>0 days 01:20:58</td>\n",
       "      <td>0 days 02:58:33</td>\n",
       "      <td>154 days 02:58:33</td>\n",
       "      <td>22.0</td>\n",
       "      <td>22.0</td>\n",
       "      <td>280.0</td>\n",
       "    </tr>\n",
       "  </tbody>\n",
       "</table>\n",
       "</div>"
      ],
      "text/plain": [
       "         Case ID       Date of Birth Gestational Age Birth Weight  \\\n",
       "AT000129   56646 2021-01-23 00:00:00        203 days          460   \n",
       "AT000357   58015 2021-08-03 00:00:00        280 days          320   \n",
       "AT000686   59909 2022-04-16 05:07:00        168 days          450   \n",
       "AT000916   62119 2022-12-17 12:19:00        182 days          490   \n",
       "AT001123   63199 2023-03-24 00:00:00        168 days          410   \n",
       "AT001126   63217 2023-03-24 00:00:00        168 days          410   \n",
       "AT001235   63907 2023-08-30 12:41:00        154 days          280   \n",
       "\n",
       "         Actual Weight                                          Pathology  \\\n",
       "AT000129           620  [Neonat praemat gr s 29 (P07.3)  ,  Dysmaturit...   \n",
       "AT000357                [Neonat mat gr s 40 (P96.4)  ,  Asphyxia perin...   \n",
       "AT000686                [Neonat immat gr s 24 (P07.2)  ,  RDS (P22)  ,...   \n",
       "AT000916           490  [Neonat immat gr s 26 (P07.2)  ,  RDS (P22)  ,...   \n",
       "AT001123          1340  [Neonat immat gr s 24 (P07.2)  ,  BPD (P27.1) ...   \n",
       "AT001126          1380  [Sepsis (P36.9)  ,  Légzészavar (P22.8)  ,  Ne...   \n",
       "AT001235                [Neonat immat gr s 22 (P07.2)  ,  RDS (P22)  ,...   \n",
       "\n",
       "                                  Start                            End  \\\n",
       "AT000129  Thu, 11 Feb 2021 114454 +0100  Thu, 11 Feb 2021 123425 +0100   \n",
       "AT000357  Wed, 04 Aug 2021 001908 +0200  Wed, 04 Aug 2021 010710 +0200   \n",
       "AT000686  Sat, 16 Apr 2022 062815 +0200  Sat, 16 Apr 2022 090723 +0200   \n",
       "AT000916  Tue, 27 Dec 2022 155336 +0100  Tue, 27 Dec 2022 162456 +0100   \n",
       "AT001123  Wed, 31 May 2023 105159 +0200  Wed, 31 May 2023 113043 +0200   \n",
       "AT001126  Fri, 02 Jun 2023 104943 +0200  Fri, 02 Jun 2023 113505 +0200   \n",
       "AT001235  Wed, 30 Aug 2023 141835 +0200  Wed, 30 Aug 2023 153933 +0200   \n",
       "\n",
       "             Recording start       Recording end        Duration  \\\n",
       "AT000129 2021-02-11 12:44:54 2021-02-11 13:34:25 0 days 00:49:31   \n",
       "AT000357 2021-08-04 00:19:08 2021-08-04 01:07:10 0 days 00:48:02   \n",
       "AT000686 2022-04-16 06:28:15 2022-04-16 09:07:23 0 days 02:39:08   \n",
       "AT000916 2022-12-27 15:53:36 2022-12-27 16:24:56 0 days 00:31:20   \n",
       "AT001123 2023-05-31 10:51:59 2023-05-31 11:30:43 0 days 00:38:44   \n",
       "AT001126 2023-06-02 10:49:43 2023-06-02 11:35:05 0 days 00:45:22   \n",
       "AT001235 2023-08-30 14:18:35 2023-08-30 15:39:33 0 days 01:20:58   \n",
       "\n",
       "            Postnatal Age Corrected gestational Age  Gestational Age (weeks)  \\\n",
       "AT000129 19 days 13:34:25         222 days 13:34:25                     29.0   \n",
       "AT000357  1 days 01:07:10         281 days 01:07:10                     40.0   \n",
       "AT000686  0 days 04:00:23         168 days 04:00:23                     24.0   \n",
       "AT000916 10 days 04:05:56         192 days 04:05:56                     26.0   \n",
       "AT001123 68 days 11:30:43         236 days 11:30:43                     24.0   \n",
       "AT001126 70 days 11:35:05         238 days 11:35:05                     24.0   \n",
       "AT001235  0 days 02:58:33         154 days 02:58:33                     22.0   \n",
       "\n",
       "          Corrected gestational Age (weeks)  Weight  \n",
       "AT000129                               31.8   620.0  \n",
       "AT000357                               40.1   320.0  \n",
       "AT000686                               24.0   450.0  \n",
       "AT000916                               27.5   490.0  \n",
       "AT001123                               33.8  1340.0  \n",
       "AT001126                               34.1  1380.0  \n",
       "AT001235                               22.0   280.0  "
      ]
     },
     "execution_count": 38,
     "metadata": {},
     "output_type": "execute_result"
    }
   ],
   "source": [
    "clin_df[clin_df['Birth Weight'] < 500]"
   ]
  },
  {
   "cell_type": "markdown",
   "metadata": {},
   "source": [
    "\n",
    "#### Babies transferred with the postnatal age of > 46 weeks we need to discuss whether to include them in the data analysis"
   ]
  },
  {
   "cell_type": "code",
   "execution_count": 39,
   "metadata": {},
   "outputs": [],
   "source": [
    "a = clin_df[clin_df['Corrected gestational Age (weeks)'] > 46]\n",
    "a.sort_values('Corrected gestational Age (weeks)', ascending=False);"
   ]
  },
  {
   "cell_type": "code",
   "execution_count": 40,
   "metadata": {},
   "outputs": [
    {
     "data": {
      "text/plain": [
       "42"
      ]
     },
     "execution_count": 40,
     "metadata": {},
     "output_type": "execute_result"
    }
   ],
   "source": [
    "len(clin_df[clin_df['Corrected gestational Age (weeks)'] > 46])"
   ]
  },
  {
   "cell_type": "markdown",
   "metadata": {},
   "source": [
    "### 9. Identify ICD codes"
   ]
  },
  {
   "cell_type": "code",
   "execution_count": 41,
   "metadata": {},
   "outputs": [],
   "source": [
    "icd = re.compile(r'\\(\\S\\d+\\.?\\d*\\)')"
   ]
  },
  {
   "cell_type": "code",
   "execution_count": 42,
   "metadata": {},
   "outputs": [],
   "source": [
    "def icd_finder(lst):\n",
    "    icd_list = []\n",
    "    for item in lst:\n",
    "        if icd.findall(item):\n",
    "            icd_list.append(icd.findall(item)[0])\n",
    "    \n",
    "    return icd_list"
   ]
  },
  {
   "cell_type": "code",
   "execution_count": 43,
   "metadata": {},
   "outputs": [],
   "source": [
    "def icd_cleanup(lst):\n",
    "    icd_list = []\n",
    "    for item in lst:\n",
    "        if '.' in item:\n",
    "            new_item = item[0 : item.index('.')] + item[item.index('.') + 1 : ]\n",
    "        else:\n",
    "            new_item = item\n",
    "        icd_list.append(new_item[1:-1])\n",
    "    return icd_list"
   ]
  },
  {
   "cell_type": "code",
   "execution_count": 44,
   "metadata": {},
   "outputs": [],
   "source": [
    "clin_df['ICD'] = clin_df['Pathology'].apply(icd_finder)"
   ]
  },
  {
   "cell_type": "code",
   "execution_count": 45,
   "metadata": {},
   "outputs": [],
   "source": [
    "clin_df['ICD'] = clin_df['ICD'].apply(icd_cleanup)"
   ]
  },
  {
   "cell_type": "code",
   "execution_count": 46,
   "metadata": {},
   "outputs": [],
   "source": [
    "clin_df['ICD'];"
   ]
  },
  {
   "cell_type": "markdown",
   "metadata": {},
   "source": [
    "### 10. Identify all icd codes"
   ]
  },
  {
   "cell_type": "code",
   "execution_count": 47,
   "metadata": {},
   "outputs": [],
   "source": [
    "icd_all = []\n",
    "\n",
    "for _, item in clin_df.iterrows():\n",
    "    icd_all.extend(item['ICD'])\n",
    "    \n",
    "icd_all = sorted(set(icd_all))"
   ]
  },
  {
   "cell_type": "code",
   "execution_count": 48,
   "metadata": {},
   "outputs": [
    {
     "data": {
      "text/plain": [
       "193"
      ]
     },
     "execution_count": 48,
     "metadata": {},
     "output_type": "execute_result"
    }
   ],
   "source": [
    "len(icd_all)"
   ]
  },
  {
   "cell_type": "code",
   "execution_count": 49,
   "metadata": {},
   "outputs": [],
   "source": [
    "icd_all_frme = DataFrame(icd_all)\n",
    "icd_all_frme.columns = ['code']\n",
    "icd_all_frme.sort_values(by = 'code', inplace = True)"
   ]
  },
  {
   "cell_type": "code",
   "execution_count": 50,
   "metadata": {},
   "outputs": [
    {
     "data": {
      "text/html": [
       "<div>\n",
       "<style scoped>\n",
       "    .dataframe tbody tr th:only-of-type {\n",
       "        vertical-align: middle;\n",
       "    }\n",
       "\n",
       "    .dataframe tbody tr th {\n",
       "        vertical-align: top;\n",
       "    }\n",
       "\n",
       "    .dataframe thead th {\n",
       "        text-align: right;\n",
       "    }\n",
       "</style>\n",
       "<table border=\"1\" class=\"dataframe\">\n",
       "  <thead>\n",
       "    <tr style=\"text-align: right;\">\n",
       "      <th></th>\n",
       "      <th>code</th>\n",
       "    </tr>\n",
       "  </thead>\n",
       "  <tbody>\n",
       "    <tr>\n",
       "      <th>0</th>\n",
       "      <td>A419</td>\n",
       "    </tr>\n",
       "    <tr>\n",
       "      <th>1</th>\n",
       "      <td>A500</td>\n",
       "    </tr>\n",
       "    <tr>\n",
       "      <th>2</th>\n",
       "      <td>B3420</td>\n",
       "    </tr>\n",
       "    <tr>\n",
       "      <th>3</th>\n",
       "      <td>C383</td>\n",
       "    </tr>\n",
       "    <tr>\n",
       "      <th>4</th>\n",
       "      <td>D4890</td>\n",
       "    </tr>\n",
       "  </tbody>\n",
       "</table>\n",
       "</div>"
      ],
      "text/plain": [
       "    code\n",
       "0   A419\n",
       "1   A500\n",
       "2  B3420\n",
       "3   C383\n",
       "4  D4890"
      ]
     },
     "execution_count": 50,
     "metadata": {},
     "output_type": "execute_result"
    }
   ],
   "source": [
    "icd_all_frme.head()"
   ]
  },
  {
   "cell_type": "code",
   "execution_count": 51,
   "metadata": {},
   "outputs": [
    {
     "data": {
      "text/plain": [
       "193"
      ]
     },
     "execution_count": 51,
     "metadata": {},
     "output_type": "execute_result"
    }
   ],
   "source": [
    "len(icd_all_frme)"
   ]
  },
  {
   "cell_type": "code",
   "execution_count": 52,
   "metadata": {},
   "outputs": [],
   "source": [
    "writer = pd.ExcelWriter(os.path.join(DIR_WRITE, 'icd_codes.xlsx'))\n",
    "icd_all_frme.to_excel(writer, 'icd_codes')\n",
    "writer.close()"
   ]
  },
  {
   "cell_type": "markdown",
   "metadata": {},
   "source": [
    "### 11. Import the file that has been manually curated from the exported `icd_codes.xlsx` files to contain all relevant diagnosis previously identified"
   ]
  },
  {
   "cell_type": "code",
   "execution_count": 53,
   "metadata": {},
   "outputs": [],
   "source": [
    "icd_codes = pd.read_excel(os.path.join(PATH, 'ventilation_fabian_new', 'icd_codes_curated_new.xlsx'), \n",
    "    usecols = [0,1], index_col = 0)"
   ]
  },
  {
   "cell_type": "code",
   "execution_count": 54,
   "metadata": {},
   "outputs": [
    {
     "data": {
      "text/html": [
       "<div>\n",
       "<style scoped>\n",
       "    .dataframe tbody tr th:only-of-type {\n",
       "        vertical-align: middle;\n",
       "    }\n",
       "\n",
       "    .dataframe tbody tr th {\n",
       "        vertical-align: top;\n",
       "    }\n",
       "\n",
       "    .dataframe thead th {\n",
       "        text-align: right;\n",
       "    }\n",
       "</style>\n",
       "<table border=\"1\" class=\"dataframe\">\n",
       "  <thead>\n",
       "    <tr style=\"text-align: right;\">\n",
       "      <th></th>\n",
       "      <th>name</th>\n",
       "    </tr>\n",
       "    <tr>\n",
       "      <th>code</th>\n",
       "      <th></th>\n",
       "    </tr>\n",
       "  </thead>\n",
       "  <tbody>\n",
       "    <tr>\n",
       "      <th>A419</th>\n",
       "      <td>Sepsis, unspecified organism</td>\n",
       "    </tr>\n",
       "    <tr>\n",
       "      <th>B3420</th>\n",
       "      <td>Coronavirus infection, unspecified</td>\n",
       "    </tr>\n",
       "    <tr>\n",
       "      <th>A500</th>\n",
       "      <td>Congenital syphilis</td>\n",
       "    </tr>\n",
       "    <tr>\n",
       "      <th>C383</th>\n",
       "      <td>Malignant neoplasm of mediastinum, part unspec...</td>\n",
       "    </tr>\n",
       "    <tr>\n",
       "      <th>D180</th>\n",
       "      <td>Hemangioma unspecified site</td>\n",
       "    </tr>\n",
       "  </tbody>\n",
       "</table>\n",
       "</div>"
      ],
      "text/plain": [
       "                                                    name\n",
       "code                                                    \n",
       "A419                        Sepsis, unspecified organism\n",
       "B3420                Coronavirus infection, unspecified \n",
       "A500                                 Congenital syphilis\n",
       "C383   Malignant neoplasm of mediastinum, part unspec...\n",
       "D180                         Hemangioma unspecified site"
      ]
     },
     "execution_count": 54,
     "metadata": {},
     "output_type": "execute_result"
    }
   ],
   "source": [
    "icd_codes.head()"
   ]
  },
  {
   "cell_type": "code",
   "execution_count": 55,
   "metadata": {},
   "outputs": [
    {
     "data": {
      "text/html": [
       "<div>\n",
       "<style scoped>\n",
       "    .dataframe tbody tr th:only-of-type {\n",
       "        vertical-align: middle;\n",
       "    }\n",
       "\n",
       "    .dataframe tbody tr th {\n",
       "        vertical-align: top;\n",
       "    }\n",
       "\n",
       "    .dataframe thead th {\n",
       "        text-align: right;\n",
       "    }\n",
       "</style>\n",
       "<table border=\"1\" class=\"dataframe\">\n",
       "  <thead>\n",
       "    <tr style=\"text-align: right;\">\n",
       "      <th></th>\n",
       "      <th>code</th>\n",
       "    </tr>\n",
       "  </thead>\n",
       "  <tbody>\n",
       "    <tr>\n",
       "      <th>0</th>\n",
       "      <td>A419</td>\n",
       "    </tr>\n",
       "    <tr>\n",
       "      <th>1</th>\n",
       "      <td>A500</td>\n",
       "    </tr>\n",
       "    <tr>\n",
       "      <th>2</th>\n",
       "      <td>B3420</td>\n",
       "    </tr>\n",
       "    <tr>\n",
       "      <th>3</th>\n",
       "      <td>C383</td>\n",
       "    </tr>\n",
       "    <tr>\n",
       "      <th>4</th>\n",
       "      <td>D4890</td>\n",
       "    </tr>\n",
       "  </tbody>\n",
       "</table>\n",
       "</div>"
      ],
      "text/plain": [
       "    code\n",
       "0   A419\n",
       "1   A500\n",
       "2  B3420\n",
       "3   C383\n",
       "4  D4890"
      ]
     },
     "execution_count": 55,
     "metadata": {},
     "output_type": "execute_result"
    }
   ],
   "source": [
    "icd_all_frme.head()"
   ]
  },
  {
   "cell_type": "markdown",
   "metadata": {},
   "source": [
    "Identify new codes not in the dataset so far"
   ]
  },
  {
   "cell_type": "code",
   "execution_count": 56,
   "metadata": {},
   "outputs": [
    {
     "data": {
      "text/plain": [
       "[]"
      ]
     },
     "execution_count": 56,
     "metadata": {},
     "output_type": "execute_result"
    }
   ],
   "source": [
    "new_diagnoses = sorted(set(icd_all_frme['code']) - set(icd_codes.index))\n",
    "new_diagnoses"
   ]
  },
  {
   "cell_type": "markdown",
   "metadata": {},
   "source": [
    "At this point the `icd_codes_curated_new.xlsx` file needs to be manually curated with these entries."
   ]
  },
  {
   "cell_type": "markdown",
   "metadata": {},
   "source": [
    "### 12. Import the now curated `icd_codes.xlsx` files to contain now all relevant diagnosis including new ones"
   ]
  },
  {
   "cell_type": "code",
   "execution_count": 57,
   "metadata": {},
   "outputs": [],
   "source": [
    "icd_codes = pd.read_excel(os.path.join(PATH, 'ventilation_fabian_new', 'icd_codes_curated_new.xlsx'),\n",
    "    usecols = [0,1], index_col = 0)"
   ]
  },
  {
   "cell_type": "code",
   "execution_count": 58,
   "metadata": {},
   "outputs": [
    {
     "data": {
      "text/plain": [
       "[]"
      ]
     },
     "execution_count": 58,
     "metadata": {},
     "output_type": "execute_result"
    }
   ],
   "source": [
    "# Now there are no new codes\n",
    "sorted(set(icd_all_frme['code']) - set(icd_codes.index))"
   ]
  },
  {
   "cell_type": "markdown",
   "metadata": {},
   "source": [
    "### 13. Create Pathology column with English names"
   ]
  },
  {
   "cell_type": "code",
   "execution_count": 59,
   "metadata": {},
   "outputs": [],
   "source": [
    "icd_dictionary = dict(zip(icd_codes.index, icd_codes['name']))"
   ]
  },
  {
   "cell_type": "code",
   "execution_count": 60,
   "metadata": {},
   "outputs": [],
   "source": [
    "def icd_replace(lst):\n",
    "    icd_list = []\n",
    "    for item in lst:\n",
    "        new_item = icd_dictionary[item]\n",
    "        icd_list.append(new_item)\n",
    "    return icd_list"
   ]
  },
  {
   "cell_type": "code",
   "execution_count": 61,
   "metadata": {},
   "outputs": [],
   "source": [
    "clin_df['Pathology_English'] = clin_df['ICD'].apply(icd_replace)"
   ]
  },
  {
   "cell_type": "code",
   "execution_count": 62,
   "metadata": {},
   "outputs": [
    {
     "data": {
      "text/html": [
       "<div>\n",
       "<style scoped>\n",
       "    .dataframe tbody tr th:only-of-type {\n",
       "        vertical-align: middle;\n",
       "    }\n",
       "\n",
       "    .dataframe tbody tr th {\n",
       "        vertical-align: top;\n",
       "    }\n",
       "\n",
       "    .dataframe thead th {\n",
       "        text-align: right;\n",
       "    }\n",
       "</style>\n",
       "<table border=\"1\" class=\"dataframe\">\n",
       "  <thead>\n",
       "    <tr style=\"text-align: right;\">\n",
       "      <th></th>\n",
       "      <th>Case ID</th>\n",
       "      <th>Date of Birth</th>\n",
       "      <th>Gestational Age</th>\n",
       "      <th>Birth Weight</th>\n",
       "      <th>Actual Weight</th>\n",
       "      <th>Pathology</th>\n",
       "      <th>Start</th>\n",
       "      <th>End</th>\n",
       "      <th>Recording start</th>\n",
       "      <th>Recording end</th>\n",
       "      <th>Duration</th>\n",
       "      <th>Postnatal Age</th>\n",
       "      <th>Corrected gestational Age</th>\n",
       "      <th>Gestational Age (weeks)</th>\n",
       "      <th>Corrected gestational Age (weeks)</th>\n",
       "      <th>Weight</th>\n",
       "      <th>ICD</th>\n",
       "      <th>Pathology_English</th>\n",
       "    </tr>\n",
       "  </thead>\n",
       "  <tbody>\n",
       "    <tr>\n",
       "      <th>AT000005</th>\n",
       "      <td>55871</td>\n",
       "      <td>2020-10-21 08:31:00</td>\n",
       "      <td>203 days</td>\n",
       "      <td>1150</td>\n",
       "      <td></td>\n",
       "      <td>[Neonat praemat gr s 29 (P07.3)  ,  RDS (P22) ...</td>\n",
       "      <td>Wed, 21 Oct 2020 101127 +0200</td>\n",
       "      <td>Wed, 21 Oct 2020 122422 +0200</td>\n",
       "      <td>2020-10-21 10:11:27</td>\n",
       "      <td>2020-10-21 12:24:22</td>\n",
       "      <td>0 days 02:12:55</td>\n",
       "      <td>0 days 03:53:22</td>\n",
       "      <td>203 days 03:53:22</td>\n",
       "      <td>29.0</td>\n",
       "      <td>29.0</td>\n",
       "      <td>1150.0</td>\n",
       "      <td>[P073, P22, _0000, I959]</td>\n",
       "      <td>[Preterm newborn, unspecified weeks of gestati...</td>\n",
       "    </tr>\n",
       "    <tr>\n",
       "      <th>AT000006</th>\n",
       "      <td>55875</td>\n",
       "      <td>2020-09-27 15:45:00</td>\n",
       "      <td>189 days</td>\n",
       "      <td>820</td>\n",
       "      <td>940</td>\n",
       "      <td>[Neonat immat gr s 27 (P07.2)  ,  RDS (P22)  ,...</td>\n",
       "      <td>Wed, 21 Oct 2020 145705 +0200</td>\n",
       "      <td>Wed, 21 Oct 2020 153836 +0200</td>\n",
       "      <td>2020-10-21 14:57:05</td>\n",
       "      <td>2020-10-21 15:38:36</td>\n",
       "      <td>0 days 00:41:31</td>\n",
       "      <td>23 days 23:53:36</td>\n",
       "      <td>212 days 23:53:36</td>\n",
       "      <td>27.0</td>\n",
       "      <td>30.4</td>\n",
       "      <td>940.0</td>\n",
       "      <td>[P072, P22, _0000, A500]</td>\n",
       "      <td>[Extreme immaturity of newborn, unspecified we...</td>\n",
       "    </tr>\n",
       "    <tr>\n",
       "      <th>AT000007</th>\n",
       "      <td>55881</td>\n",
       "      <td>2020-10-21 07:44:00</td>\n",
       "      <td>252 days</td>\n",
       "      <td>3250</td>\n",
       "      <td></td>\n",
       "      <td>[Neonat praemat gr s 36 (P07.3)  ,  Gemini A (...</td>\n",
       "      <td>Wed, 21 Oct 2020 185027 +0200</td>\n",
       "      <td>Wed, 21 Oct 2020 201025 +0200</td>\n",
       "      <td>2020-10-21 18:50:27</td>\n",
       "      <td>2020-10-21 20:10:25</td>\n",
       "      <td>0 days 01:19:58</td>\n",
       "      <td>0 days 12:26:25</td>\n",
       "      <td>252 days 12:26:25</td>\n",
       "      <td>36.0</td>\n",
       "      <td>36.1</td>\n",
       "      <td>3250.0</td>\n",
       "      <td>[P073, P015, _0000]</td>\n",
       "      <td>[Preterm newborn, unspecified weeks of gestati...</td>\n",
       "    </tr>\n",
       "    <tr>\n",
       "      <th>AT000008</th>\n",
       "      <td>55883</td>\n",
       "      <td>2020-10-17 16:29:00</td>\n",
       "      <td>245 days</td>\n",
       "      <td>2280</td>\n",
       "      <td></td>\n",
       "      <td>[Resuscitatio (Z51.8) st.p. ,  Hypothermia (P8...</td>\n",
       "      <td>Thu, 22 Oct 2020 104332 +0200</td>\n",
       "      <td>Thu, 22 Oct 2020 121641 +0200</td>\n",
       "      <td>2020-10-22 10:43:32</td>\n",
       "      <td>2020-10-22 12:16:41</td>\n",
       "      <td>0 days 01:33:09</td>\n",
       "      <td>4 days 19:47:41</td>\n",
       "      <td>249 days 19:47:41</td>\n",
       "      <td>35.0</td>\n",
       "      <td>35.7</td>\n",
       "      <td>2280.0</td>\n",
       "      <td>[Z518, P809, P073, _0000, P285, R571]</td>\n",
       "      <td>[Resuscitation, Hypothermia of newborn, unspec...</td>\n",
       "    </tr>\n",
       "    <tr>\n",
       "      <th>AT000009</th>\n",
       "      <td>55891</td>\n",
       "      <td>2020-10-22 11:25:00</td>\n",
       "      <td>196 days</td>\n",
       "      <td>800</td>\n",
       "      <td></td>\n",
       "      <td>[Neonat praemat gr s 28 (P07.3)  ,  RDS (P22) ...</td>\n",
       "      <td>Thu, 22 Oct 2020 142312 +0200</td>\n",
       "      <td>Thu, 22 Oct 2020 161231 +0200</td>\n",
       "      <td>2020-10-22 14:23:12</td>\n",
       "      <td>2020-10-22 16:12:31</td>\n",
       "      <td>0 days 01:49:19</td>\n",
       "      <td>0 days 04:47:31</td>\n",
       "      <td>196 days 04:47:31</td>\n",
       "      <td>28.0</td>\n",
       "      <td>28.0</td>\n",
       "      <td>800.0</td>\n",
       "      <td>[P073, P22, P809, _0000]</td>\n",
       "      <td>[Preterm newborn, unspecified weeks of gestati...</td>\n",
       "    </tr>\n",
       "  </tbody>\n",
       "</table>\n",
       "</div>"
      ],
      "text/plain": [
       "         Case ID       Date of Birth Gestational Age Birth Weight  \\\n",
       "AT000005   55871 2020-10-21 08:31:00        203 days         1150   \n",
       "AT000006   55875 2020-09-27 15:45:00        189 days          820   \n",
       "AT000007   55881 2020-10-21 07:44:00        252 days         3250   \n",
       "AT000008   55883 2020-10-17 16:29:00        245 days         2280   \n",
       "AT000009   55891 2020-10-22 11:25:00        196 days          800   \n",
       "\n",
       "         Actual Weight                                          Pathology  \\\n",
       "AT000005                [Neonat praemat gr s 29 (P07.3)  ,  RDS (P22) ...   \n",
       "AT000006           940  [Neonat immat gr s 27 (P07.2)  ,  RDS (P22)  ,...   \n",
       "AT000007                [Neonat praemat gr s 36 (P07.3)  ,  Gemini A (...   \n",
       "AT000008                [Resuscitatio (Z51.8) st.p. ,  Hypothermia (P8...   \n",
       "AT000009                [Neonat praemat gr s 28 (P07.3)  ,  RDS (P22) ...   \n",
       "\n",
       "                                  Start                            End  \\\n",
       "AT000005  Wed, 21 Oct 2020 101127 +0200  Wed, 21 Oct 2020 122422 +0200   \n",
       "AT000006  Wed, 21 Oct 2020 145705 +0200  Wed, 21 Oct 2020 153836 +0200   \n",
       "AT000007  Wed, 21 Oct 2020 185027 +0200  Wed, 21 Oct 2020 201025 +0200   \n",
       "AT000008  Thu, 22 Oct 2020 104332 +0200  Thu, 22 Oct 2020 121641 +0200   \n",
       "AT000009  Thu, 22 Oct 2020 142312 +0200  Thu, 22 Oct 2020 161231 +0200   \n",
       "\n",
       "             Recording start       Recording end        Duration  \\\n",
       "AT000005 2020-10-21 10:11:27 2020-10-21 12:24:22 0 days 02:12:55   \n",
       "AT000006 2020-10-21 14:57:05 2020-10-21 15:38:36 0 days 00:41:31   \n",
       "AT000007 2020-10-21 18:50:27 2020-10-21 20:10:25 0 days 01:19:58   \n",
       "AT000008 2020-10-22 10:43:32 2020-10-22 12:16:41 0 days 01:33:09   \n",
       "AT000009 2020-10-22 14:23:12 2020-10-22 16:12:31 0 days 01:49:19   \n",
       "\n",
       "            Postnatal Age Corrected gestational Age  Gestational Age (weeks)  \\\n",
       "AT000005  0 days 03:53:22         203 days 03:53:22                     29.0   \n",
       "AT000006 23 days 23:53:36         212 days 23:53:36                     27.0   \n",
       "AT000007  0 days 12:26:25         252 days 12:26:25                     36.0   \n",
       "AT000008  4 days 19:47:41         249 days 19:47:41                     35.0   \n",
       "AT000009  0 days 04:47:31         196 days 04:47:31                     28.0   \n",
       "\n",
       "          Corrected gestational Age (weeks)  Weight  \\\n",
       "AT000005                               29.0  1150.0   \n",
       "AT000006                               30.4   940.0   \n",
       "AT000007                               36.1  3250.0   \n",
       "AT000008                               35.7  2280.0   \n",
       "AT000009                               28.0   800.0   \n",
       "\n",
       "                                            ICD  \\\n",
       "AT000005               [P073, P22, _0000, I959]   \n",
       "AT000006               [P072, P22, _0000, A500]   \n",
       "AT000007                    [P073, P015, _0000]   \n",
       "AT000008  [Z518, P809, P073, _0000, P285, R571]   \n",
       "AT000009               [P073, P22, P809, _0000]   \n",
       "\n",
       "                                          Pathology_English  \n",
       "AT000005  [Preterm newborn, unspecified weeks of gestati...  \n",
       "AT000006  [Extreme immaturity of newborn, unspecified we...  \n",
       "AT000007  [Preterm newborn, unspecified weeks of gestati...  \n",
       "AT000008  [Resuscitation, Hypothermia of newborn, unspec...  \n",
       "AT000009  [Preterm newborn, unspecified weeks of gestati...  "
      ]
     },
     "execution_count": 62,
     "metadata": {},
     "output_type": "execute_result"
    }
   ],
   "source": [
    "clin_df.head()"
   ]
  },
  {
   "cell_type": "markdown",
   "metadata": {},
   "source": [
    "### 14. Final cleanup of the DataFrame"
   ]
  },
  {
   "cell_type": "code",
   "execution_count": 63,
   "metadata": {},
   "outputs": [
    {
     "data": {
      "text/plain": [
       "Index(['Case ID', 'Date of Birth', 'Gestational Age', 'Birth Weight',\n",
       "       'Actual Weight', 'Pathology', 'Start', 'End', 'Recording start',\n",
       "       'Recording end', 'Duration', 'Postnatal Age',\n",
       "       'Corrected gestational Age', 'Gestational Age (weeks)',\n",
       "       'Corrected gestational Age (weeks)', 'Weight', 'ICD',\n",
       "       'Pathology_English'],\n",
       "      dtype='object')"
      ]
     },
     "execution_count": 63,
     "metadata": {},
     "output_type": "execute_result"
    }
   ],
   "source": [
    "clin_df.columns"
   ]
  },
  {
   "cell_type": "code",
   "execution_count": 64,
   "metadata": {},
   "outputs": [],
   "source": [
    "column_list = ['Case ID', 'Date of Birth', 'Gestational Age (weeks)', 'Birth Weight',\n",
    "              'Postnatal Age', 'Corrected gestational Age (weeks)',  'Weight',\n",
    "              'ICD', 'Pathology_English', 'Recording start', 'Recording end', 'Duration',] \n",
    "      \n",
    "clin_df = clin_df[column_list]"
   ]
  },
  {
   "cell_type": "code",
   "execution_count": 65,
   "metadata": {},
   "outputs": [
    {
     "data": {
      "text/html": [
       "<div>\n",
       "<style scoped>\n",
       "    .dataframe tbody tr th:only-of-type {\n",
       "        vertical-align: middle;\n",
       "    }\n",
       "\n",
       "    .dataframe tbody tr th {\n",
       "        vertical-align: top;\n",
       "    }\n",
       "\n",
       "    .dataframe thead th {\n",
       "        text-align: right;\n",
       "    }\n",
       "</style>\n",
       "<table border=\"1\" class=\"dataframe\">\n",
       "  <thead>\n",
       "    <tr style=\"text-align: right;\">\n",
       "      <th></th>\n",
       "      <th>Case ID</th>\n",
       "      <th>Date of Birth</th>\n",
       "      <th>Gestational Age (weeks)</th>\n",
       "      <th>Birth Weight</th>\n",
       "      <th>Postnatal Age</th>\n",
       "      <th>Corrected gestational Age (weeks)</th>\n",
       "      <th>Weight</th>\n",
       "      <th>ICD</th>\n",
       "      <th>Pathology_English</th>\n",
       "      <th>Recording start</th>\n",
       "      <th>Recording end</th>\n",
       "      <th>Duration</th>\n",
       "    </tr>\n",
       "  </thead>\n",
       "  <tbody>\n",
       "    <tr>\n",
       "      <th>AT001389</th>\n",
       "      <td>66300</td>\n",
       "      <td>2024-06-14 00:00:00</td>\n",
       "      <td>28.0</td>\n",
       "      <td>990</td>\n",
       "      <td>13 days 14:36:39</td>\n",
       "      <td>29.9</td>\n",
       "      <td>1000.0</td>\n",
       "      <td>[]</td>\n",
       "      <td>[]</td>\n",
       "      <td>2024-06-27 13:45:59</td>\n",
       "      <td>2024-06-27 14:36:39</td>\n",
       "      <td>0 days 00:50:40</td>\n",
       "    </tr>\n",
       "    <tr>\n",
       "      <th>AT001391</th>\n",
       "      <td>66308</td>\n",
       "      <td>2024-06-28 08:32:00</td>\n",
       "      <td>24.0</td>\n",
       "      <td>630</td>\n",
       "      <td>0 days 02:27:22</td>\n",
       "      <td>24.0</td>\n",
       "      <td>630.0</td>\n",
       "      <td>[]</td>\n",
       "      <td>[]</td>\n",
       "      <td>2024-06-28 09:20:00</td>\n",
       "      <td>2024-06-28 10:59:22</td>\n",
       "      <td>0 days 01:39:22</td>\n",
       "    </tr>\n",
       "    <tr>\n",
       "      <th>AT001395</th>\n",
       "      <td>66321</td>\n",
       "      <td>2024-06-28 21:50:00</td>\n",
       "      <td>26.0</td>\n",
       "      <td>900</td>\n",
       "      <td>0 days 02:05:01</td>\n",
       "      <td>26.0</td>\n",
       "      <td>900.0</td>\n",
       "      <td>[]</td>\n",
       "      <td>[]</td>\n",
       "      <td>2024-06-28 22:13:13</td>\n",
       "      <td>2024-06-28 23:55:01</td>\n",
       "      <td>0 days 01:41:48</td>\n",
       "    </tr>\n",
       "    <tr>\n",
       "      <th>AT001396</th>\n",
       "      <td>66322</td>\n",
       "      <td>2024-06-28 13:35:00</td>\n",
       "      <td>36.0</td>\n",
       "      <td>3310</td>\n",
       "      <td>0 days 13:29:03</td>\n",
       "      <td>36.1</td>\n",
       "      <td>3310.0</td>\n",
       "      <td>[]</td>\n",
       "      <td>[]</td>\n",
       "      <td>2024-06-29 01:52:49</td>\n",
       "      <td>2024-06-29 03:04:03</td>\n",
       "      <td>0 days 01:11:14</td>\n",
       "    </tr>\n",
       "    <tr>\n",
       "      <th>AT001397</th>\n",
       "      <td>66326</td>\n",
       "      <td>2024-06-29 16:00:00</td>\n",
       "      <td>38.0</td>\n",
       "      <td>3300</td>\n",
       "      <td>0 days 07:34:39</td>\n",
       "      <td>38.0</td>\n",
       "      <td>3300.0</td>\n",
       "      <td>[]</td>\n",
       "      <td>[]</td>\n",
       "      <td>2024-06-29 22:14:21</td>\n",
       "      <td>2024-06-29 23:34:39</td>\n",
       "      <td>0 days 01:20:18</td>\n",
       "    </tr>\n",
       "  </tbody>\n",
       "</table>\n",
       "</div>"
      ],
      "text/plain": [
       "         Case ID       Date of Birth  Gestational Age (weeks) Birth Weight  \\\n",
       "AT001389   66300 2024-06-14 00:00:00                     28.0          990   \n",
       "AT001391   66308 2024-06-28 08:32:00                     24.0          630   \n",
       "AT001395   66321 2024-06-28 21:50:00                     26.0          900   \n",
       "AT001396   66322 2024-06-28 13:35:00                     36.0         3310   \n",
       "AT001397   66326 2024-06-29 16:00:00                     38.0         3300   \n",
       "\n",
       "            Postnatal Age  Corrected gestational Age (weeks)  Weight ICD  \\\n",
       "AT001389 13 days 14:36:39                               29.9  1000.0  []   \n",
       "AT001391  0 days 02:27:22                               24.0   630.0  []   \n",
       "AT001395  0 days 02:05:01                               26.0   900.0  []   \n",
       "AT001396  0 days 13:29:03                               36.1  3310.0  []   \n",
       "AT001397  0 days 07:34:39                               38.0  3300.0  []   \n",
       "\n",
       "         Pathology_English     Recording start       Recording end  \\\n",
       "AT001389                [] 2024-06-27 13:45:59 2024-06-27 14:36:39   \n",
       "AT001391                [] 2024-06-28 09:20:00 2024-06-28 10:59:22   \n",
       "AT001395                [] 2024-06-28 22:13:13 2024-06-28 23:55:01   \n",
       "AT001396                [] 2024-06-29 01:52:49 2024-06-29 03:04:03   \n",
       "AT001397                [] 2024-06-29 22:14:21 2024-06-29 23:34:39   \n",
       "\n",
       "                Duration  \n",
       "AT001389 0 days 00:50:40  \n",
       "AT001391 0 days 01:39:22  \n",
       "AT001395 0 days 01:41:48  \n",
       "AT001396 0 days 01:11:14  \n",
       "AT001397 0 days 01:20:18  "
      ]
     },
     "execution_count": 65,
     "metadata": {},
     "output_type": "execute_result"
    }
   ],
   "source": [
    "clin_df.tail()"
   ]
  },
  {
   "cell_type": "markdown",
   "metadata": {},
   "source": [
    "### 15. Statistics on clinical data"
   ]
  },
  {
   "cell_type": "code",
   "execution_count": 66,
   "metadata": {},
   "outputs": [
    {
     "data": {
      "text/html": [
       "<div>\n",
       "<style scoped>\n",
       "    .dataframe tbody tr th:only-of-type {\n",
       "        vertical-align: middle;\n",
       "    }\n",
       "\n",
       "    .dataframe tbody tr th {\n",
       "        vertical-align: top;\n",
       "    }\n",
       "\n",
       "    .dataframe thead th {\n",
       "        text-align: right;\n",
       "    }\n",
       "</style>\n",
       "<table border=\"1\" class=\"dataframe\">\n",
       "  <thead>\n",
       "    <tr style=\"text-align: right;\">\n",
       "      <th></th>\n",
       "      <th>Date of Birth</th>\n",
       "      <th>Gestational Age (weeks)</th>\n",
       "      <th>Postnatal Age</th>\n",
       "      <th>Corrected gestational Age (weeks)</th>\n",
       "      <th>Weight</th>\n",
       "      <th>Recording start</th>\n",
       "      <th>Recording end</th>\n",
       "      <th>Duration</th>\n",
       "    </tr>\n",
       "  </thead>\n",
       "  <tbody>\n",
       "    <tr>\n",
       "      <th>count</th>\n",
       "      <td>1079</td>\n",
       "      <td>1079.0</td>\n",
       "      <td>1079</td>\n",
       "      <td>1079.0</td>\n",
       "      <td>1048.0</td>\n",
       "      <td>1079</td>\n",
       "      <td>1079</td>\n",
       "      <td>1079</td>\n",
       "    </tr>\n",
       "    <tr>\n",
       "      <th>mean</th>\n",
       "      <td>2022-05-13 06:45:52.159407104</td>\n",
       "      <td>35.5</td>\n",
       "      <td>10 days 11:19:48.531974050</td>\n",
       "      <td>37.0</td>\n",
       "      <td>2740.7</td>\n",
       "      <td>2022-05-23 16:52:03.202965760</td>\n",
       "      <td>2022-05-23 18:05:40.691380736</td>\n",
       "      <td>0 days 01:13:37.488415199</td>\n",
       "    </tr>\n",
       "    <tr>\n",
       "      <th>min</th>\n",
       "      <td>2020-09-27 15:45:00</td>\n",
       "      <td>22.0</td>\n",
       "      <td>0 days 00:04:33</td>\n",
       "      <td>22.0</td>\n",
       "      <td>280.0</td>\n",
       "      <td>2020-10-21 10:11:27</td>\n",
       "      <td>2020-10-21 12:24:22</td>\n",
       "      <td>0 days 00:15:52</td>\n",
       "    </tr>\n",
       "    <tr>\n",
       "      <th>1%</th>\n",
       "      <td>2020-11-07 10:03:40.800000</td>\n",
       "      <td>24.0</td>\n",
       "      <td>0 days 01:09:49.600000</td>\n",
       "      <td>24.8</td>\n",
       "      <td>584.1</td>\n",
       "      <td>2020-11-10 10:59:24.260000</td>\n",
       "      <td>2020-11-10 12:25:10.700000</td>\n",
       "      <td>0 days 00:18:51.560000</td>\n",
       "    </tr>\n",
       "    <tr>\n",
       "      <th>5%</th>\n",
       "      <td>2020-12-20 09:26:12</td>\n",
       "      <td>25.0</td>\n",
       "      <td>0 days 01:42:09.800000</td>\n",
       "      <td>27.7</td>\n",
       "      <td>990.0</td>\n",
       "      <td>2020-12-23 14:03:50.800000</td>\n",
       "      <td>2020-12-23 15:25:06.100000</td>\n",
       "      <td>0 days 00:27:55.600000</td>\n",
       "    </tr>\n",
       "    <tr>\n",
       "      <th>25%</th>\n",
       "      <td>2021-07-12 02:23:30</td>\n",
       "      <td>33.0</td>\n",
       "      <td>0 days 03:11:39.500000</td>\n",
       "      <td>34.0</td>\n",
       "      <td>2097.5</td>\n",
       "      <td>2021-07-29 06:11:53</td>\n",
       "      <td>2021-07-29 06:54:30</td>\n",
       "      <td>0 days 00:44:24.500000</td>\n",
       "    </tr>\n",
       "    <tr>\n",
       "      <th>50%</th>\n",
       "      <td>2022-03-11 00:00:00</td>\n",
       "      <td>37.0</td>\n",
       "      <td>0 days 06:12:49</td>\n",
       "      <td>37.6</td>\n",
       "      <td>2850.0</td>\n",
       "      <td>2022-03-31 08:06:29</td>\n",
       "      <td>2022-03-31 09:38:13</td>\n",
       "      <td>0 days 01:06:31</td>\n",
       "    </tr>\n",
       "    <tr>\n",
       "      <th>75%</th>\n",
       "      <td>2023-02-27 15:37:30</td>\n",
       "      <td>39.0</td>\n",
       "      <td>3 days 06:21:34</td>\n",
       "      <td>40.0</td>\n",
       "      <td>3450.0</td>\n",
       "      <td>2023-03-08 20:56:46.500000</td>\n",
       "      <td>2023-03-08 21:39:21</td>\n",
       "      <td>0 days 01:33:47</td>\n",
       "    </tr>\n",
       "    <tr>\n",
       "      <th>95%</th>\n",
       "      <td>2024-05-09 22:23:36</td>\n",
       "      <td>40.0</td>\n",
       "      <td>65 days 18:13:30.499999997</td>\n",
       "      <td>44.8</td>\n",
       "      <td>4216.5</td>\n",
       "      <td>2024-05-14 23:57:21.900000</td>\n",
       "      <td>2024-05-15 01:16:26.900000</td>\n",
       "      <td>0 days 02:25:17.899999999</td>\n",
       "    </tr>\n",
       "    <tr>\n",
       "      <th>99%</th>\n",
       "      <td>2024-06-21 15:55:04.800000</td>\n",
       "      <td>41.0</td>\n",
       "      <td>128 days 01:18:32.400000014</td>\n",
       "      <td>55.9</td>\n",
       "      <td>4917.1</td>\n",
       "      <td>2024-06-22 21:35:38.920000</td>\n",
       "      <td>2024-06-22 23:11:00.300000</td>\n",
       "      <td>0 days 03:24:38.920000</td>\n",
       "    </tr>\n",
       "    <tr>\n",
       "      <th>max</th>\n",
       "      <td>2024-06-29 16:00:00</td>\n",
       "      <td>56.0</td>\n",
       "      <td>365 days 03:01:02</td>\n",
       "      <td>84.2</td>\n",
       "      <td>5700.0</td>\n",
       "      <td>2024-06-29 22:14:21</td>\n",
       "      <td>2024-06-29 23:34:39</td>\n",
       "      <td>0 days 06:31:10</td>\n",
       "    </tr>\n",
       "    <tr>\n",
       "      <th>std</th>\n",
       "      <td>NaN</td>\n",
       "      <td>4.6</td>\n",
       "      <td>27 days 23:18:24.548710621</td>\n",
       "      <td>5.5</td>\n",
       "      <td>994.9</td>\n",
       "      <td>NaN</td>\n",
       "      <td>NaN</td>\n",
       "      <td>0 days 00:40:04.118948388</td>\n",
       "    </tr>\n",
       "  </tbody>\n",
       "</table>\n",
       "</div>"
      ],
      "text/plain": [
       "                       Date of Birth  Gestational Age (weeks)  \\\n",
       "count                           1079                   1079.0   \n",
       "mean   2022-05-13 06:45:52.159407104                     35.5   \n",
       "min              2020-09-27 15:45:00                     22.0   \n",
       "1%        2020-11-07 10:03:40.800000                     24.0   \n",
       "5%               2020-12-20 09:26:12                     25.0   \n",
       "25%              2021-07-12 02:23:30                     33.0   \n",
       "50%              2022-03-11 00:00:00                     37.0   \n",
       "75%              2023-02-27 15:37:30                     39.0   \n",
       "95%              2024-05-09 22:23:36                     40.0   \n",
       "99%       2024-06-21 15:55:04.800000                     41.0   \n",
       "max              2024-06-29 16:00:00                     56.0   \n",
       "std                              NaN                      4.6   \n",
       "\n",
       "                     Postnatal Age  Corrected gestational Age (weeks)  Weight  \\\n",
       "count                         1079                             1079.0  1048.0   \n",
       "mean    10 days 11:19:48.531974050                               37.0  2740.7   \n",
       "min                0 days 00:04:33                               22.0   280.0   \n",
       "1%          0 days 01:09:49.600000                               24.8   584.1   \n",
       "5%          0 days 01:42:09.800000                               27.7   990.0   \n",
       "25%         0 days 03:11:39.500000                               34.0  2097.5   \n",
       "50%                0 days 06:12:49                               37.6  2850.0   \n",
       "75%                3 days 06:21:34                               40.0  3450.0   \n",
       "95%     65 days 18:13:30.499999997                               44.8  4216.5   \n",
       "99%    128 days 01:18:32.400000014                               55.9  4917.1   \n",
       "max              365 days 03:01:02                               84.2  5700.0   \n",
       "std     27 days 23:18:24.548710621                                5.5   994.9   \n",
       "\n",
       "                     Recording start                  Recording end  \\\n",
       "count                           1079                           1079   \n",
       "mean   2022-05-23 16:52:03.202965760  2022-05-23 18:05:40.691380736   \n",
       "min              2020-10-21 10:11:27            2020-10-21 12:24:22   \n",
       "1%        2020-11-10 10:59:24.260000     2020-11-10 12:25:10.700000   \n",
       "5%        2020-12-23 14:03:50.800000     2020-12-23 15:25:06.100000   \n",
       "25%              2021-07-29 06:11:53            2021-07-29 06:54:30   \n",
       "50%              2022-03-31 08:06:29            2022-03-31 09:38:13   \n",
       "75%       2023-03-08 20:56:46.500000            2023-03-08 21:39:21   \n",
       "95%       2024-05-14 23:57:21.900000     2024-05-15 01:16:26.900000   \n",
       "99%       2024-06-22 21:35:38.920000     2024-06-22 23:11:00.300000   \n",
       "max              2024-06-29 22:14:21            2024-06-29 23:34:39   \n",
       "std                              NaN                            NaN   \n",
       "\n",
       "                        Duration  \n",
       "count                       1079  \n",
       "mean   0 days 01:13:37.488415199  \n",
       "min              0 days 00:15:52  \n",
       "1%        0 days 00:18:51.560000  \n",
       "5%        0 days 00:27:55.600000  \n",
       "25%       0 days 00:44:24.500000  \n",
       "50%              0 days 01:06:31  \n",
       "75%              0 days 01:33:47  \n",
       "95%    0 days 02:25:17.899999999  \n",
       "99%       0 days 03:24:38.920000  \n",
       "max              0 days 06:31:10  \n",
       "std    0 days 00:40:04.118948388  "
      ]
     },
     "execution_count": 66,
     "metadata": {},
     "output_type": "execute_result"
    }
   ],
   "source": [
    "clinical_stats = round(clin_df.describe(percentiles = [0.01, 0.05, 0.25, 0.5, 0.75, 0.95, 0.99]), 1)\n",
    "clinical_stats"
   ]
  },
  {
   "cell_type": "markdown",
   "metadata": {},
   "source": [
    "### 16. Export clinical information data in tables and individual text files"
   ]
  },
  {
   "cell_type": "markdown",
   "metadata": {},
   "source": [
    "##### Create sub-directories for each case if it does not yet exist"
   ]
  },
  {
   "cell_type": "code",
   "execution_count": 67,
   "metadata": {},
   "outputs": [],
   "source": [
    "# Images and raw data will be written on an external hard drive\n",
    "os.makedirs(os.path.join(DATA_DUMP, 'fabian_cases_new'), exist_ok = True)\n",
    "\n",
    "for case in sorted(clin_df.index): \n",
    "    os.makedirs(os.path.join(DATA_DUMP, 'fabian_cases_new', case), exist_ok = True)"
   ]
  },
  {
   "cell_type": "markdown",
   "metadata": {},
   "source": [
    "##### Export clinical data about individual cases as text files"
   ]
  },
  {
   "cell_type": "code",
   "execution_count": 68,
   "metadata": {},
   "outputs": [],
   "source": [
    "# Clinical info about all recordings which clinical data are available and are over 15 minutes long\n",
    "\n",
    "for case in sorted(clin_df.index):\n",
    "    \n",
    "    fileout = open(os.path.join(DATA_DUMP, 'fabian_cases_new', case, f'{case}_clin_info.txt'), 'w')\n",
    "    \n",
    "    fileout.write('Case ID:             %-50s\\n' % case)\n",
    "    fileout.write('Start:               %-50s\\n' % datetime.strftime(clin_df.loc[case]['Recording start'], \n",
    "                                                          '%d/%m/%Y %H:%M:%S', ))\n",
    "    fileout.write('End:                 %-50s\\n' % datetime.strftime(clin_df.loc[case]['Recording end'], \n",
    "                                                          '%d/%m/%Y %H:%M:%S', ))\n",
    "    fileout.write('Duration:            %-50s\\n' % clin_df.loc[case]['Duration'])\n",
    "    fileout.write('Gestational age:     %-50s\\n' % clin_df.loc[case]['Gestational Age (weeks)'])\n",
    "    fileout.write('Postmenstrual age:   %-50s\\n' % clin_df.loc[case]['Corrected gestational Age (weeks)'])\n",
    "    fileout.write('Birth Weight:        %-50s\\n' % clin_df.loc[case]['Birth Weight'])\n",
    "    fileout.write('Weight:              %-50s\\n' % clin_df.loc[case]['Weight'])\n",
    "    fileout.write('ICD:                 %-50s\\n' % ', '.join(clin_df.loc[case]['ICD']))\n",
    "    fileout.write('Diagnoses:           %-50s\\n' % ', '.join(clin_df.loc[case]['Pathology_English']))\n",
    "    \n",
    "    fileout.close()"
   ]
  },
  {
   "cell_type": "markdown",
   "metadata": {},
   "source": [
    "#### Export clinical information as an Excel sheet"
   ]
  },
  {
   "cell_type": "code",
   "execution_count": 69,
   "metadata": {},
   "outputs": [],
   "source": [
    "writer = pd.ExcelWriter(os.path.join(DIR_WRITE, 'clinical_data_all_new.xlsx'))\n",
    "clin_df.to_excel(writer, 'clin_df')\n",
    "writer.close()"
   ]
  },
  {
   "cell_type": "markdown",
   "metadata": {},
   "source": [
    "### 17. Export statistics on clinical data"
   ]
  },
  {
   "cell_type": "code",
   "execution_count": 72,
   "metadata": {},
   "outputs": [],
   "source": [
    "writer = pd.ExcelWriter(os.path.join(DIR_WRITE, 'clinical_stats_new_1_1397.xlsx'))\n",
    "clinical_stats.to_excel(writer, 'stats')\n",
    "writer.close()"
   ]
  },
  {
   "cell_type": "markdown",
   "metadata": {
    "collapsed": true,
    "jupyter": {
     "outputs_hidden": true
    }
   },
   "source": [
    "### 18. Export processed data as pickle files"
   ]
  },
  {
   "cell_type": "code",
   "execution_count": 73,
   "metadata": {},
   "outputs": [],
   "source": [
    "with open(os.path.join(DATA_DUMP, 'clin_df_new.pickle'), 'wb') as handle:\n",
    "    pickle.dump(clin_df, handle, protocol=pickle.HIGHEST_PROTOCOL)"
   ]
  },
  {
   "cell_type": "markdown",
   "metadata": {},
   "source": [
    "### 19. Create patient lists for various disease groups"
   ]
  },
  {
   "cell_type": "markdown",
   "metadata": {},
   "source": [
    "#### A. RDS"
   ]
  },
  {
   "cell_type": "code",
   "execution_count": 74,
   "metadata": {},
   "outputs": [],
   "source": [
    "RDS_dg = {'P22', 'P220'}"
   ]
  },
  {
   "cell_type": "code",
   "execution_count": 75,
   "metadata": {},
   "outputs": [],
   "source": [
    "RDS_cases = []\n",
    "for case, dgs in clin_df['ICD'].items():\n",
    "    if set(dgs).intersection(RDS_dg):\n",
    "        RDS_cases.append(case)"
   ]
  },
  {
   "cell_type": "code",
   "execution_count": 76,
   "metadata": {},
   "outputs": [],
   "source": [
    "clin_df_RDS = clin_df.loc[RDS_cases]\n",
    "clin_df_RDS;"
   ]
  },
  {
   "cell_type": "code",
   "execution_count": 77,
   "metadata": {},
   "outputs": [
    {
     "data": {
      "text/plain": [
       "309"
      ]
     },
     "execution_count": 77,
     "metadata": {},
     "output_type": "execute_result"
    }
   ],
   "source": [
    "len(clin_df_RDS)"
   ]
  },
  {
   "cell_type": "markdown",
   "metadata": {},
   "source": [
    "#### B. HIE"
   ]
  },
  {
   "cell_type": "code",
   "execution_count": 78,
   "metadata": {},
   "outputs": [],
   "source": [
    "HIE_dg = ['P219', 'Z518', 'Z548',]  "
   ]
  },
  {
   "cell_type": "code",
   "execution_count": 79,
   "metadata": {},
   "outputs": [],
   "source": [
    "HIE_cases = []\n",
    "for case, dgs in clin_df['ICD'].items():\n",
    "    if set(dgs).intersection(HIE_dg):\n",
    "        HIE_cases.append(case)"
   ]
  },
  {
   "cell_type": "code",
   "execution_count": 80,
   "metadata": {},
   "outputs": [],
   "source": [
    "clin_df_HIE = clin_df.loc[HIE_cases]\n",
    "clin_df_HIE;"
   ]
  },
  {
   "cell_type": "code",
   "execution_count": 81,
   "metadata": {},
   "outputs": [
    {
     "data": {
      "text/plain": [
       "178"
      ]
     },
     "execution_count": 81,
     "metadata": {},
     "output_type": "execute_result"
    }
   ],
   "source": [
    "len(clin_df_HIE)"
   ]
  },
  {
   "cell_type": "markdown",
   "metadata": {},
   "source": [
    "#### C. Meconium aspiration"
   ]
  },
  {
   "cell_type": "code",
   "execution_count": 82,
   "metadata": {},
   "outputs": [],
   "source": [
    "MAS_dg = ['P240',]"
   ]
  },
  {
   "cell_type": "code",
   "execution_count": 83,
   "metadata": {},
   "outputs": [],
   "source": [
    "MAS_cases = []\n",
    "for case, dgs in clin_df['ICD'].items():\n",
    "    if set(dgs).intersection(MAS_dg):\n",
    "        MAS_cases.append(case)"
   ]
  },
  {
   "cell_type": "code",
   "execution_count": 84,
   "metadata": {},
   "outputs": [],
   "source": [
    "clin_df_MAS = clin_df.loc[MAS_cases]\n",
    "clin_df_MAS;"
   ]
  },
  {
   "cell_type": "code",
   "execution_count": 85,
   "metadata": {},
   "outputs": [
    {
     "data": {
      "text/plain": [
       "90"
      ]
     },
     "execution_count": 85,
     "metadata": {},
     "output_type": "execute_result"
    }
   ],
   "source": [
    "len(clin_df_MAS)"
   ]
  },
  {
   "cell_type": "markdown",
   "metadata": {},
   "source": [
    "#### D. PPHN"
   ]
  },
  {
   "cell_type": "code",
   "execution_count": 86,
   "metadata": {},
   "outputs": [],
   "source": [
    "PPHN_dg = ['P293', ]"
   ]
  },
  {
   "cell_type": "code",
   "execution_count": 87,
   "metadata": {},
   "outputs": [],
   "source": [
    "PPHN_cases = []\n",
    "for case, dgs in clin_df['ICD'].items():\n",
    "    if set(dgs).intersection(PPHN_dg):\n",
    "        PPHN_cases.append(case)"
   ]
  },
  {
   "cell_type": "code",
   "execution_count": 88,
   "metadata": {},
   "outputs": [],
   "source": [
    "clin_df_PPHN = clin_df.loc[PPHN_cases]\n",
    "clin_df_PPHN;"
   ]
  },
  {
   "cell_type": "code",
   "execution_count": 89,
   "metadata": {},
   "outputs": [
    {
     "data": {
      "text/plain": [
       "37"
      ]
     },
     "execution_count": 89,
     "metadata": {},
     "output_type": "execute_result"
    }
   ],
   "source": [
    "len(clin_df_PPHN)"
   ]
  },
  {
   "cell_type": "markdown",
   "metadata": {},
   "source": [
    "#### E. Congenital diaphragmatic hernia"
   ]
  },
  {
   "cell_type": "code",
   "execution_count": 90,
   "metadata": {},
   "outputs": [],
   "source": [
    "CDH_dg = ['Q790', 'Q791']"
   ]
  },
  {
   "cell_type": "code",
   "execution_count": 91,
   "metadata": {},
   "outputs": [],
   "source": [
    "CDH_cases = []\n",
    "for case, dgs in clin_df['ICD'].items():\n",
    "    if set(dgs).intersection(CDH_dg):\n",
    "        CDH_cases.append(case)"
   ]
  },
  {
   "cell_type": "code",
   "execution_count": 92,
   "metadata": {},
   "outputs": [],
   "source": [
    "clin_df_CDH = clin_df.loc[CDH_cases]\n",
    "clin_df_CDH;"
   ]
  },
  {
   "cell_type": "code",
   "execution_count": 93,
   "metadata": {},
   "outputs": [
    {
     "data": {
      "text/plain": [
       "13"
      ]
     },
     "execution_count": 93,
     "metadata": {},
     "output_type": "execute_result"
    }
   ],
   "source": [
    "len(clin_df_CDH)"
   ]
  },
  {
   "cell_type": "markdown",
   "metadata": {},
   "source": [
    "#### F. Necrotizing enterocolitis (NEC)"
   ]
  },
  {
   "cell_type": "code",
   "execution_count": 94,
   "metadata": {},
   "outputs": [],
   "source": [
    "NEC_dg = ['P77',]"
   ]
  },
  {
   "cell_type": "code",
   "execution_count": 95,
   "metadata": {},
   "outputs": [],
   "source": [
    "NEC_cases = []\n",
    "for case, dgs in clin_df['ICD'].items():\n",
    "    if set(dgs).intersection(NEC_dg):\n",
    "        NEC_cases.append(case)"
   ]
  },
  {
   "cell_type": "code",
   "execution_count": 96,
   "metadata": {},
   "outputs": [],
   "source": [
    "clin_df_NEC = clin_df.loc[NEC_cases]\n",
    "clin_df_NEC;"
   ]
  },
  {
   "cell_type": "code",
   "execution_count": 97,
   "metadata": {},
   "outputs": [
    {
     "data": {
      "text/plain": [
       "32"
      ]
     },
     "execution_count": 97,
     "metadata": {},
     "output_type": "execute_result"
    }
   ],
   "source": [
    "len(clin_df_NEC)"
   ]
  },
  {
   "cell_type": "markdown",
   "metadata": {},
   "source": [
    "#### G. Surgical cases (except NEC, CDH and cardiac)"
   ]
  },
  {
   "cell_type": "code",
   "execution_count": 98,
   "metadata": {},
   "outputs": [],
   "source": [
    "surgical_dg = ['K409', 'K562', 'K566', 'K631', 'K921', 'K9210',  'Q019',\n",
    "               'Q059',  'Q300', 'Q319', 'Q321', 'Q330',  'Q391', 'Q392', 'Q410', 'Q423' , 'Q428', \n",
    "               'Q431', 'Q433', 'Q438', 'Q4380', 'Q445', 'Q512', 'Q549', 'Q556', 'Q620', 'Q621', 'Q639',\n",
    "               'Q641', 'Q642', 'Q791', 'Q792', 'Q793', 'Q848', 'R1000', 'Z432', 'Z433', 'Z921', 'Z930', \n",
    "               'Z931', 'Z9320', 'Z933' ]"
   ]
  },
  {
   "cell_type": "code",
   "execution_count": 99,
   "metadata": {},
   "outputs": [],
   "source": [
    "surgical_cases = []\n",
    "for case, dgs in clin_df['ICD'].items():\n",
    "    if set(dgs).intersection(surgical_dg):\n",
    "        surgical_cases.append(case)"
   ]
  },
  {
   "cell_type": "code",
   "execution_count": 100,
   "metadata": {},
   "outputs": [],
   "source": [
    "clin_df_surgical = clin_df.loc[surgical_cases]\n",
    "clin_df_surgical;"
   ]
  },
  {
   "cell_type": "code",
   "execution_count": 101,
   "metadata": {},
   "outputs": [
    {
     "data": {
      "text/plain": [
       "67"
      ]
     },
     "execution_count": 101,
     "metadata": {},
     "output_type": "execute_result"
    }
   ],
   "source": [
    "len(clin_df_surgical)"
   ]
  },
  {
   "cell_type": "markdown",
   "metadata": {},
   "source": [
    "### Cardiac cases (except PFO / ASD)"
   ]
  },
  {
   "cell_type": "code",
   "execution_count": 102,
   "metadata": {},
   "outputs": [],
   "source": [
    "cardiac_dg = ['Q201', 'Q203', 'Q205', 'Q210', 'Q211', 'Q212', 'Q213', 'Q220', 'Q221', 'Q223', 'Q224', 'Q225', \n",
    "              'Q228', 'Q230', 'Q232', 'Q234', 'Q240', 'Q244', 'Q245', 'Q251', 'Q252', 'Q253', 'Q254', 'Q262',]"
   ]
  },
  {
   "cell_type": "code",
   "execution_count": 103,
   "metadata": {},
   "outputs": [],
   "source": [
    "cardiac_cases = []\n",
    "for case, dgs in clin_df['ICD'].items():\n",
    "    if set(dgs).intersection(cardiac_dg):\n",
    "        cardiac_cases.append(case)"
   ]
  },
  {
   "cell_type": "code",
   "execution_count": 104,
   "metadata": {},
   "outputs": [],
   "source": [
    "clin_df_cardiac = clin_df.loc[cardiac_cases]\n",
    "clin_df_cardiac;"
   ]
  },
  {
   "cell_type": "code",
   "execution_count": 105,
   "metadata": {},
   "outputs": [
    {
     "data": {
      "text/plain": [
       "24"
      ]
     },
     "execution_count": 105,
     "metadata": {},
     "output_type": "execute_result"
    }
   ],
   "source": [
    "len(cardiac_dg)"
   ]
  },
  {
   "cell_type": "markdown",
   "metadata": {},
   "source": [
    "### Export clinical dataframes into a multisheet Excel file"
   ]
  },
  {
   "cell_type": "code",
   "execution_count": 106,
   "metadata": {},
   "outputs": [],
   "source": [
    "writer = pd.ExcelWriter(os.path.join(DIR_WRITE, 'clinical_data_diseases_new.xlsx'))\n",
    "\n",
    "clin_df.to_excel(writer, 'all')\n",
    "clin_df_cardiac.to_excel(writer, 'cardiac')\n",
    "clin_df_CDH.to_excel(writer, 'CDH')\n",
    "clin_df_HIE.to_excel(writer, 'HIE')\n",
    "clin_df_MAS.to_excel(writer, 'MAS')\n",
    "clin_df_NEC.to_excel(writer, 'NEC')\n",
    "clin_df_PPHN.to_excel(writer, 'PPHN')\n",
    "clin_df_RDS.to_excel(writer, 'RDS')\n",
    "clin_df_surgical.to_excel(writer, 'surgical')\n",
    "\n",
    "writer.close()"
   ]
  },
  {
   "cell_type": "markdown",
   "metadata": {},
   "source": [
    "### Export selected clinical data as pickle archive"
   ]
  },
  {
   "cell_type": "code",
   "execution_count": 107,
   "metadata": {},
   "outputs": [],
   "source": [
    "with open(os.path.join(DATA_DUMP, 'clin_df_new_cardiac.pickle'), 'wb') as handle:\n",
    "    pickle.dump(clin_df_cardiac, handle, protocol=pickle.HIGHEST_PROTOCOL)\n",
    "    \n",
    "with open(os.path.join(DATA_DUMP, 'clin_df_new_CDH.pickle'), 'wb') as handle:\n",
    "    pickle.dump(clin_df_CDH, handle, protocol=pickle.HIGHEST_PROTOCOL)\n",
    "\n",
    "with open(os.path.join(DATA_DUMP, 'clin_df_new_HIE.pickle'), 'wb') as handle:\n",
    "    pickle.dump(clin_df_HIE, handle, protocol=pickle.HIGHEST_PROTOCOL)\n",
    "    \n",
    "with open(os.path.join(DATA_DUMP, 'clin_df_new_MAS.pickle'), 'wb') as handle:\n",
    "    pickle.dump(clin_df_MAS, handle, protocol=pickle.HIGHEST_PROTOCOL)\n",
    "\n",
    "with open(os.path.join(DATA_DUMP, 'clin_df_new_NEC.pickle'), 'wb') as handle:\n",
    "    pickle.dump(clin_df_NEC, handle, protocol=pickle.HIGHEST_PROTOCOL)\n",
    "    \n",
    "with open(os.path.join(DATA_DUMP, 'clin_df_new_PPHN.pickle'), 'wb') as handle:\n",
    "    pickle.dump(clin_df_PPHN, handle, protocol=pickle.HIGHEST_PROTOCOL)\n",
    "\n",
    "with open(os.path.join(DATA_DUMP, 'clin_df_new_RDS.pickle'), 'wb') as handle:\n",
    "    pickle.dump(clin_df_RDS, handle, protocol=pickle.HIGHEST_PROTOCOL)\n",
    "    \n",
    "with open(os.path.join(DATA_DUMP, 'clin_df_new_surgical.pickle'), 'wb') as handle:\n",
    "    pickle.dump(clin_df_surgical, handle, protocol=pickle.HIGHEST_PROTOCOL)\n",
    "       "
   ]
  },
  {
   "cell_type": "code",
   "execution_count": null,
   "metadata": {},
   "outputs": [],
   "source": []
  }
 ],
 "metadata": {
  "anaconda-cloud": {},
  "kernelspec": {
   "display_name": "Python 3 (ipykernel)",
   "language": "python",
   "name": "python3"
  },
  "language_info": {
   "codemirror_mode": {
    "name": "ipython",
    "version": 3
   },
   "file_extension": ".py",
   "mimetype": "text/x-python",
   "name": "python",
   "nbconvert_exporter": "python",
   "pygments_lexer": "ipython3",
   "version": "3.11.7"
  }
 },
 "nbformat": 4,
 "nbformat_minor": 4
}
