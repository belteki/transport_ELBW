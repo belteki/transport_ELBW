{
 "cells": [
  {
   "cell_type": "markdown",
   "metadata": {},
   "source": [
    "![alt text](./Cerny_logo_1.jpg)"
   ]
  },
  {
   "cell_type": "markdown",
   "metadata": {},
   "source": [
    "# Analysis of Cerny ventilation recordings\n",
    "\n",
    "#### Analysis of ventilator data obtained from ELBW (birth weight <1000 g) infants transferred ex utero to receive level 3 neonatal \n",
    "\n",
    "##### intensive care during the first 24 hours of life among recordings `AL000001 - AL001100` and  `AT000001 - AT000818`\n",
    "\n",
    "#### Author: Dr Gusztav Belteki"
   ]
  },
  {
   "cell_type": "markdown",
   "metadata": {},
   "source": [
    "### 1. Import the required libraries and set options"
   ]
  },
  {
   "cell_type": "code",
   "execution_count": null,
   "metadata": {},
   "outputs": [],
   "source": [
    "import IPython\n",
    "import pandas as pd\n",
    "import numpy as np\n",
    "import scipy as sp\n",
    "import matplotlib\n",
    "import matplotlib.pyplot as plt\n",
    "\n",
    "import os\n",
    "import sys\n",
    "import pickle\n",
    "\n",
    "from scipy import stats\n",
    "from pandas import Series, DataFrame\n",
    "from datetime import datetime, timedelta\n",
    "\n",
    "%matplotlib inline\n",
    "matplotlib.style.use('classic')\n",
    "matplotlib.rcParams['figure.facecolor'] = 'w'\n",
    "\n",
    "pd.set_option('display.max_rows', 500)\n",
    "pd.set_option('display.max_columns', 100)\n",
    "pd.set_option('mode.chained_assignment', None) "
   ]
  },
  {
   "cell_type": "code",
   "execution_count": null,
   "metadata": {},
   "outputs": [],
   "source": [
    "print('Python version: {}'.format(sys.version))\n",
    "print('pandas version: {}'.format(pd.__version__))\n",
    "print('matplotlib version: {}'.format(matplotlib.__version__))\n",
    "print('NumPy version: {}'.format(np.__version__))\n",
    "print('SciPy version: {}'.format(sp.__version__))\n",
    "print('IPython version: {}'.format(IPython.__version__))"
   ]
  },
  {
   "cell_type": "markdown",
   "metadata": {},
   "source": [
    "### 2. List and set the working directory and the directory to write out data"
   ]
  },
  {
   "cell_type": "code",
   "execution_count": null,
   "metadata": {},
   "outputs": [],
   "source": [
    "# Topic of the Notebook which will also be the name of the subfolder containing results\n",
    "TOPIC = 'ELBW'\n",
    "\n",
    "# Path to project folder containing clinical data (current weights only) and for export of results\n",
    "PATH = os.path.join(os.sep, 'Users', 'guszti', 'Library', 'Mobile Documents', 'com~apple~CloudDocs', \n",
    "                            'Documents', 'Research', 'Ventilation')\n",
    "\n",
    "# Name of the external hard drive\n",
    "DRIVE = 'GUSZTI'\n",
    "\n",
    "# Folder containing the file with the manually collected clinical data\n",
    "DIR_READ_CLIN = os.path.join(os.sep, PATH, 'ventilation_fabian_combined')\n",
    "\n",
    "# Data loaded from both directories\n",
    "DIR_READ_1 = os.path.join(os.sep, 'Volumes', DRIVE, 'data_dump', 'fabian')\n",
    "DIR_READ_2 = os.path.join(os.sep, 'Volumes', DRIVE, 'data_dump', 'fabian_new')\n",
    "\n",
    "# Results will be written in this folder\n",
    "DIR_WRITE =  os.path.join(os.sep, PATH, 'ventilation_fabian_combined', 'Analyses', TOPIC)\n",
    "os.makedirs(DIR_WRITE, exist_ok=True)\n",
    "\n",
    "# Images and raw data will be written on an external hard drive\n",
    "DATA_DUMP = os.path.join(os.sep, 'Volumes', DRIVE, 'data_dump', 'fabian_combined', TOPIC)\n",
    "os.makedirs(DATA_DUMP, exist_ok=True)"
   ]
  },
  {
   "cell_type": "code",
   "execution_count": null,
   "metadata": {},
   "outputs": [],
   "source": [
    "DIR_READ_CLIN, DIR_READ_1, DIR_READ_2, DIR_WRITE, DATA_DUMP"
   ]
  },
  {
   "cell_type": "markdown",
   "metadata": {},
   "source": [
    "### 3. Import computationally retrieved data"
   ]
  },
  {
   "cell_type": "markdown",
   "metadata": {},
   "source": [
    "#### A. Clinical data\n",
    "\n",
    "These data have been computationally generated from scanned transport records"
   ]
  },
  {
   "cell_type": "code",
   "execution_count": null,
   "metadata": {},
   "outputs": [],
   "source": [
    "with open(os.path.join(DIR_READ_1, 'clin_df_1_1100.pickle'), 'rb') as handle:\n",
    "    clin_df_old = pickle.load(handle)\n",
    "with open(os.path.join(DIR_READ_2, 'clin_df_new.pickle'), 'rb') as handle:\n",
    "    clin_df_new = pickle.load(handle)\n",
    "\n",
    "clin_data_comput = pd.concat([clin_df_old, clin_df_new])\n",
    "\n",
    "clin_data_comput['Birth Weight'] = clin_data_comput['Birth Weight'].astype('float')"
   ]
  },
  {
   "cell_type": "code",
   "execution_count": null,
   "metadata": {},
   "outputs": [],
   "source": [
    "clin_data_comput.info()"
   ]
  },
  {
   "cell_type": "markdown",
   "metadata": {},
   "source": [
    "#### B. Blood gases\n",
    "\n",
    "Blood gases have been pre-processed by other Jupyter Notebooks. They have also been reviewed and outlier values manually verified."
   ]
  },
  {
   "cell_type": "code",
   "execution_count": null,
   "metadata": {},
   "outputs": [],
   "source": [
    "with open(os.path.join(DIR_READ_1, 'blood_gases_1_1100.pickle'), 'rb') as handle:\n",
    "    blood_gases_old = pickle.load(handle)\n",
    "with open(os.path.join(DIR_READ_2, 'blood_gases_new.pickle'), 'rb') as handle:\n",
    "    blood_gases_new = pickle.load(handle)\n",
    "\n",
    "blood_gases_comput = {**blood_gases_old, **blood_gases_new,}\n",
    "len(blood_gases_comput)"
   ]
  },
  {
   "cell_type": "markdown",
   "metadata": {},
   "source": [
    "#### C. Ventilation modes\n",
    "\n",
    "Table with ventilation modes has been generated by other Jupyter Notebooks. They only contain cases when respiratory support on the Fabian was longer than 10 minutes."
   ]
  },
  {
   "cell_type": "code",
   "execution_count": null,
   "metadata": {},
   "outputs": [],
   "source": [
    "with open(os.path.join(DIR_READ_1, 'vent_modes_ventilated_1_1100_plus.pickle'), 'rb') as handle:\n",
    "    vent_modes_ventilated_1_1100 = pickle.load(handle)\n",
    "with open(os.path.join(DIR_READ_1, 'vent_modes_noninvasive_1_1100_plus.pickle'), 'rb') as handle:\n",
    "    vent_modes_noninvasive_1_1100 = pickle.load(handle)\n",
    "    \n",
    "with open(os.path.join(DIR_READ_2, 'vent_modes_trimmed_new_1_1305.pickle'), 'rb') as handle:\n",
    "    vent_modes_trimmed_new_1_1305 = pickle.load(handle)\n",
    "\n",
    "# Rename a column which is named differently than in the other table\n",
    "vent_modes_trimmed_new_1_1305.rename({'VG':'VG_on'}, axis=1, inplace=True)\n",
    "\n",
    "vent_modes = pd.concat([vent_modes_ventilated_1_1100, vent_modes_noninvasive_1_1100, vent_modes_trimmed_new_1_1305])\n",
    "\n",
    "# Keep only relevant columns present in all tables\n",
    "columns_to_keep = ['IPPV', 'PSV', 'SIMV', 'SIMVPSV', 'SIPPV', 'O2therapy', 'DUOPAP', 'NCPAP',\n",
    "       'CPAP', 'HFO', 'VG_on', 'total', ]\n",
    "vent_modes = vent_modes[columns_to_keep]\n",
    "len(vent_modes)"
   ]
  },
  {
   "cell_type": "code",
   "execution_count": null,
   "metadata": {},
   "outputs": [],
   "source": [
    "vent_modes.head()"
   ]
  },
  {
   "cell_type": "markdown",
   "metadata": {},
   "source": [
    "### 4. Limit patients to those who meet the selection criteria"
   ]
  },
  {
   "cell_type": "markdown",
   "metadata": {},
   "source": [
    "#### A. Limit analysis to cases not later than `AT000818`"
   ]
  },
  {
   "cell_type": "code",
   "execution_count": null,
   "metadata": {},
   "outputs": [],
   "source": [
    "new_index = [item for item in clin_data_comput.index if item.startswith('AL') or int(item[2:].lstrip('0')) <= 818]\n",
    "clin_data_comput = clin_data_comput.loc[new_index]\n",
    "len(clin_data_comput)"
   ]
  },
  {
   "cell_type": "markdown",
   "metadata": {},
   "source": [
    "#### B. Only include patients who are born with <1000 g birth weight"
   ]
  },
  {
   "cell_type": "code",
   "execution_count": null,
   "metadata": {},
   "outputs": [],
   "source": [
    "clin_data_comput_ELBW = clin_data_comput[clin_data_comput['Birth Weight'] < 1000]\n",
    "len(clin_data_comput_ELBW)"
   ]
  },
  {
   "cell_type": "code",
   "execution_count": null,
   "metadata": {},
   "outputs": [],
   "source": [
    "# Exclude two infants whose birth weight was actually < 1000 g after detailed review of clinical notes\n",
    "clin_data_comput_ELBW = clin_data_comput_ELBW.drop(['AL000003', 'AL000400'])\n",
    "len(clin_data_comput_ELBW)"
   ]
  },
  {
   "cell_type": "markdown",
   "metadata": {},
   "source": [
    "#### C. Exclude infants who were not transferred on the first day of life\n",
    "\n",
    "`Postnatal Age` is the chronological age at the end of the recording (transfer)"
   ]
  },
  {
   "cell_type": "code",
   "execution_count": null,
   "metadata": {},
   "outputs": [],
   "source": [
    "clin_data_comput_ELBW = clin_data_comput_ELBW[clin_data_comput_ELBW['Postnatal Age'] < pd.to_timedelta('1D')]\n",
    "len(clin_data_comput_ELBW)"
   ]
  },
  {
   "attachments": {},
   "cell_type": "markdown",
   "metadata": {},
   "source": [
    "#### D. Exclude one infant who was transferred from one level 3 NICU to another\n",
    "\n",
    "- due to capacity reasons (AL000829) \n",
    "- as iNO was not available on the first NICU (AT000707)."
   ]
  },
  {
   "cell_type": "code",
   "execution_count": null,
   "metadata": {},
   "outputs": [],
   "source": [
    "clin_data_comput_ELBW = clin_data_comput_ELBW.drop(['AL000829', 'AT000707'])\n",
    "len(clin_data_comput_ELBW)"
   ]
  },
  {
   "cell_type": "markdown",
   "metadata": {},
   "source": [
    "#### E. Exclude infants with major congenital malformations \n",
    "\n",
    "- 'AL000084': oesophagus atresia\n",
    "- 'AL000204': gastroschisis"
   ]
  },
  {
   "cell_type": "code",
   "execution_count": null,
   "metadata": {},
   "outputs": [],
   "source": [
    "clin_data_comput_ELBW = clin_data_comput_ELBW.drop(['AL000084', 'AL000204'])\n",
    "len(clin_data_comput_ELBW)"
   ]
  },
  {
   "cell_type": "markdown",
   "metadata": {},
   "source": [
    "#### F. Exclude one infant where detailed (manually collected) clinical data were not available \n"
   ]
  },
  {
   "cell_type": "code",
   "execution_count": null,
   "metadata": {},
   "outputs": [],
   "source": [
    "clin_data_comput_ELBW = clin_data_comput_ELBW.drop(['AT000265'])\n",
    "len(clin_data_comput_ELBW)"
   ]
  },
  {
   "cell_type": "markdown",
   "metadata": {},
   "source": [
    "#### G. Exclude infants who had <10 minutes of ventilator data available"
   ]
  },
  {
   "cell_type": "code",
   "execution_count": null,
   "metadata": {},
   "outputs": [],
   "source": [
    "# Final set of included cases\n",
    "# The cases included in `vent_modes` table have selected as having >10 minutes of ventilator data\n",
    "cases = clin_data_comput_ELBW.index.intersection(vent_modes.index)\n",
    "len(cases)"
   ]
  },
  {
   "cell_type": "code",
   "execution_count": null,
   "metadata": {},
   "outputs": [],
   "source": [
    "# These are the babies where <10 minutes of ventilation data were not available\n",
    "set(clin_data_comput_ELBW.index) - set(cases)"
   ]
  },
  {
   "cell_type": "code",
   "execution_count": null,
   "metadata": {},
   "outputs": [],
   "source": [
    "# Limit clinical data and ventilation modes to the selected cases\n",
    "clin_data_comput_ELBW = clin_data_comput_ELBW.loc[cases]\n",
    "vent_modes_ELBW = vent_modes.loc[cases]\n",
    "(len(clin_data_comput_ELBW), len(vent_modes_ELBW))"
   ]
  },
  {
   "cell_type": "code",
   "execution_count": null,
   "metadata": {},
   "outputs": [],
   "source": [
    "# Mark computationally collected parameters with the tag `comput`\n",
    "clin_data_comput_ELBW.rename(lambda x: f'{x}_comput', axis=1, inplace=True)"
   ]
  },
  {
   "cell_type": "code",
   "execution_count": null,
   "metadata": {},
   "outputs": [],
   "source": [
    "clin_data_comput_ELBW.head(2)"
   ]
  },
  {
   "cell_type": "code",
   "execution_count": null,
   "metadata": {},
   "outputs": [],
   "source": [
    "# Missing data means the ventilator mode did not occur in the recording\n",
    "vent_modes_ELBW = vent_modes_ELBW.replace(np.nan, 0)\n",
    "vent_modes_ELBW.head()"
   ]
  },
  {
   "cell_type": "code",
   "execution_count": null,
   "metadata": {},
   "outputs": [],
   "source": [
    "# Limit blood gases to the final dataset\n",
    "blood_gases_comput =  {recording : dta for recording, dta in blood_gases_comput.items() if recording in cases}\n",
    "len(blood_gases_comput)"
   ]
  },
  {
   "cell_type": "markdown",
   "metadata": {},
   "source": [
    "### 5. Export selected and processed clinical data, blood gases and ventilator modes to Excel files and pickle archives"
   ]
  },
  {
   "cell_type": "code",
   "execution_count": null,
   "metadata": {},
   "outputs": [],
   "source": [
    "# Clinical data of final dataset\n",
    "with pd.ExcelWriter(os.path.join(DIR_WRITE, f'clin_data_comput_ELBW.xlsx')) as writer:\n",
    "    clin_data_comput_ELBW.to_excel(writer, sheet_name='clin_data_comput')\n",
    "with open(os.path.join(DATA_DUMP, 'clin_data_comput_ELBW.pickle'), 'wb') as handle:\n",
    "    pickle.dump(clin_data_comput_ELBW, handle, protocol=pickle.HIGHEST_PROTOCOL)\n",
    "\n",
    "# Ventilation modes in the final dataset\n",
    "with pd.ExcelWriter(os.path.join(DIR_WRITE, f'ventilation_modes_ELBW.xlsx')) as writer:\n",
    "    vent_modes_ELBW.to_excel(writer, sheet_name='ventilation modes')\n",
    "with open(os.path.join(DATA_DUMP, 'ventilation_modes_ELBW.pickle'), 'wb') as handle:\n",
    "    pickle.dump(vent_modes_ELBW, handle, protocol=pickle.HIGHEST_PROTOCOL)\n",
    "\n",
    "# Blood gases for the final dataset\n",
    "with open(os.path.join(DATA_DUMP, 'blood_gases_comput.pickle'), 'wb') as handle:\n",
    "    pickle.dump(blood_gases_comput, handle, protocol=pickle.HIGHEST_PROTOCOL)   "
   ]
  },
  {
   "cell_type": "markdown",
   "metadata": {},
   "source": [
    "### 6. Import and process manually collected clinical data"
   ]
  },
  {
   "cell_type": "markdown",
   "metadata": {},
   "source": [
    "#### A. Demographic and clinical data"
   ]
  },
  {
   "cell_type": "code",
   "execution_count": null,
   "metadata": {},
   "outputs": [],
   "source": [
    "clin_data_manual = pd.read_excel(os.path.join(DIR_READ_CLIN, 'ELBW_table_v2_extended_1023.xlsx'),\n",
    "                sheet_name='Demographic & clinical data' , header=0, index_col=[0,1])\n",
    "clin_data_manual.reset_index(0, drop=True, inplace=True)\n",
    "# Mark manually collected data with the tag `manual`\n",
    "clin_data_manual.rename(lambda x: f'{x}_manual', axis=1, inplace=True)\n",
    "len(clin_data_manual)"
   ]
  },
  {
   "cell_type": "code",
   "execution_count": null,
   "metadata": {},
   "outputs": [],
   "source": [
    "column_names_orig = clin_data_manual.columns\n",
    "column_names_orig;"
   ]
  },
  {
   "cell_type": "code",
   "execution_count": null,
   "metadata": {},
   "outputs": [],
   "source": [
    "column_names_new = ['Date of Birth_manual', 'Arrival of PCAM_manual',\n",
    "       'End of transport_manual', 'Km start_manual', 'Km end_manual', 'Km_manual', 'PCAM at birth_manual',\n",
    "       'Born outside of hosp_manual', 'Gest Week_manual', 'Birth weight_manual', 'Sex_manual', 'Twins_manual',\n",
    "       'First responder_manual', 'Mode of delivery_manual', 'Apgar 1_manual', 'Apgar 5_manual', 'Apgar 10_manual',\n",
    "       'Antenatal steroid_manual', 'Maternal complications_manual', 'Delayed cord clamping_manual', 'Resp supp after birth_manual',\n",
    "       'PIP_manual', 'PEEP_manual', 'Flow_manual', 'FiO2 (%)_manual', 'Who performed intub_manual',\n",
    "       'Number of intubation attempts_manual', 'Size of ETT_manual', 'Chest compression_manual', 'Reintubation by PCAM_manual',\n",
    "       'Surfactant admin_manual', 'Time of surfactant_manual', 'CV support drug_manual', 'Fluid bolus_manual', 'Adrenaline_manual',\n",
    "       'Fentanyl_manual']\n",
    "\n",
    "rename_dct = dict(zip(column_names_orig, column_names_new))\n",
    "rename_dct;"
   ]
  },
  {
   "cell_type": "code",
   "execution_count": null,
   "metadata": {},
   "outputs": [],
   "source": [
    "# Rename columns with simpler names\n",
    "clin_data_manual.rename(rename_dct, axis=1, inplace=True)\n",
    "clin_data_manual.info()"
   ]
  },
  {
   "cell_type": "code",
   "execution_count": null,
   "metadata": {},
   "outputs": [],
   "source": [
    "clin_data_manual.head(2)"
   ]
  },
  {
   "cell_type": "markdown",
   "metadata": {},
   "source": [
    "#### B. Snap II score"
   ]
  },
  {
   "cell_type": "code",
   "execution_count": null,
   "metadata": {},
   "outputs": [],
   "source": [
    "snap = pd.read_excel(os.path.join(DIR_READ_CLIN, 'ELBW_table_v2_extended_1023.xlsx'), \n",
    "                        sheet_name='SNAPII-SNAPPE-II', header=0, index_col=[0,1])\n",
    "# Mark columns with the tag `snap`\n",
    "snap.reset_index(0, drop=True, inplace=True)\n",
    "snap.rename(lambda x: f'{x}_snap', axis=1, inplace=True)\n",
    "\n",
    "snap.info()"
   ]
  },
  {
   "cell_type": "markdown",
   "metadata": {},
   "source": [
    "#### C. Outcome"
   ]
  },
  {
   "cell_type": "code",
   "execution_count": null,
   "metadata": {},
   "outputs": [],
   "source": [
    "outcome = pd.read_excel(os.path.join(DIR_READ_CLIN, 'ELBW_table_v2_extended_1023.xlsx'), \n",
    "                    sheet_name='Outcome', header=0, index_col=[0,1])\n",
    "outcome.reset_index(0, drop=True, inplace=True)\n",
    "# Mark columns with the tag `outcome`\n",
    "outcome.rename(lambda x: f'{x}_outcome', axis=1, inplace=True)\n",
    "\n",
    "outcome.info()"
   ]
  },
  {
   "cell_type": "markdown",
   "metadata": {},
   "source": [
    "#### D. Vital parameters"
   ]
  },
  {
   "cell_type": "code",
   "execution_count": null,
   "metadata": {},
   "outputs": [],
   "source": [
    "vital_parameters = pd.read_excel(os.path.join(DIR_READ_CLIN, 'ELBW_table_v2_extended_1023.xlsx'), \n",
    "                          sheet_name='Vital parameters', header=[0,1], index_col=[0,1])\n",
    "vital_parameters.reset_index(0, drop=True, inplace=True)\n",
    "vital_parameters.columns.names = ['timing', 'parameter']\n",
    "vital_parameters.info()"
   ]
  },
  {
   "cell_type": "markdown",
   "metadata": {},
   "source": [
    "#### E. Blood gases\n",
    "\n",
    "Blood gases at arrival of the transport service and at the end of transfer (during the handover to tertiary NICU). These data have been manually collected from clinical notes"
   ]
  },
  {
   "cell_type": "code",
   "execution_count": null,
   "metadata": {},
   "outputs": [],
   "source": [
    "blood_gases_manual = pd.read_excel(os.path.join(DIR_READ_CLIN, 'ELBW_table_v2_extended_1023.xlsx'), \n",
    "                          sheet_name='Blood gas', header=[0,1], index_col=[0,1])\n",
    "blood_gases_manual.reset_index(0, drop=True, inplace=True)\n",
    "blood_gases_manual.columns.names = ['timing', 'parameter']\n",
    "blood_gases_manual.info()"
   ]
  },
  {
   "cell_type": "markdown",
   "metadata": {},
   "source": [
    "Blood gases were available in 49/55 and 50/50 cases, during arrival and at handover, respectively.\n",
    "None of them was arterial"
   ]
  },
  {
   "cell_type": "code",
   "execution_count": null,
   "metadata": {},
   "outputs": [],
   "source": [
    "# 1:capillary, 2:venous\n",
    "blood_gases_manual['At arrival of PCAM']['type 1-capillary, 2-venous'].value_counts(dropna=False)"
   ]
  },
  {
   "cell_type": "code",
   "execution_count": null,
   "metadata": {},
   "outputs": [],
   "source": [
    "# 1:capillary, 2:venous\n",
    "blood_gases_manual['At arrival to NICU']['type 1-capillary, 2-venous'].value_counts(dropna=False)"
   ]
  },
  {
   "cell_type": "code",
   "execution_count": null,
   "metadata": {},
   "outputs": [],
   "source": [
    "# Exclude venous blood gases\n",
    "blood_gases_manual = blood_gases_manual.swaplevel(axis=1)\n",
    "blood_gases_manual = blood_gases_manual[blood_gases_manual['type 1-capillary, 2-venous'] == 1]\n",
    "blood_gases_manual = blood_gases_manual.swaplevel(axis=1)"
   ]
  },
  {
   "cell_type": "markdown",
   "metadata": {},
   "source": [
    "### 7. Further process, combined and export the processed demographic, clinical and outcome data"
   ]
  },
  {
   "cell_type": "code",
   "execution_count": null,
   "metadata": {},
   "outputs": [],
   "source": [
    "# Check that there is complete overlap between computationally identified and manually reviewed cases\n",
    "(set(clin_data_comput_ELBW.index) - set(clin_data_manual.index), \n",
    " set(clin_data_manual.index) - set(clin_data_comput_ELBW.index))"
   ]
  },
  {
   "cell_type": "code",
   "execution_count": null,
   "metadata": {},
   "outputs": [],
   "source": [
    "clin_data_combined = pd.merge(clin_data_manual, clin_data_comput_ELBW, how='inner', left_index=True, right_index=True)\n",
    "clin_data_combined = pd.merge(clin_data_combined, snap, how='left', left_index=True, right_index=True)\n",
    "clin_data_combined = pd.merge(clin_data_combined, outcome, how='left', left_index=True, right_index=True)\n",
    "clin_data_combined = clin_data_combined.sort_index(axis=1)"
   ]
  },
  {
   "cell_type": "code",
   "execution_count": null,
   "metadata": {},
   "outputs": [],
   "source": [
    "# Add the date to the 'Time of surfactant_manual' column\n",
    "# I have checked it manually that it never goes over to the next calendar day\n",
    "clin_data_combined['Time of surfactant_manual'] = \\\n",
    "    clin_data_combined['Date of Birth_manual'].apply(lambda x:str(x)[:10]) + ' ' +\\\n",
    "    clin_data_combined['Time of surfactant_manual'].dropna().apply(str)\n",
    "\n",
    "clin_data_combined['Time of surfactant_manual'] = pd.to_datetime(clin_data_combined['Time of surfactant_manual'])"
   ]
  },
  {
   "cell_type": "code",
   "execution_count": null,
   "metadata": {},
   "outputs": [],
   "source": [
    "clin_data_combined.columns;"
   ]
  },
  {
   "cell_type": "code",
   "execution_count": null,
   "metadata": {},
   "outputs": [],
   "source": [
    "# When there is multiple source of data, keep manually collected and verified data\n",
    "columns_to_keep = ['Adrenaline_manual', 'Antenatal steroid_manual', 'Apgar 10_manual', 'Apgar 1_manual', 'Apgar 5_manual', \n",
    "                   'Arrival of PCAM_manual', 'BPD_outcome', 'Birth weight_manual', 'Born outside of hosp_manual',\n",
    "                   'CV support drug_manual', 'Case ID_comput', 'Chest compression_manual', 'Date of Birth_manual', 'Death_outcome',\n",
    "                   'Delayed cord clamping_manual', 'Duration_comput', 'End of transport_manual', 'Fentanyl_manual', 'FiO2 (%)_manual',\n",
    "                   'FiO2_snap', 'First responder_manual', 'Flow_manual', 'Fluid bolus_manual', 'Gest Week_manual',\n",
    "                   'ICD_comput', 'IVH_outcome', 'Inv. Vent (days)_outcome', 'Km end_manual', 'Km start_manual', 'Km_manual', \n",
    "                   'Length of AB (days)_outcome', 'Lowest pH_snap', 'Lowest temperature_snap', 'Maternal complications_manual', \n",
    "                   'Mean BP_snap', 'Mode of delivery_manual', 'Multiple seizures_snap', 'NEC_outcome', 'Neurodev. Impairment_outcome', \n",
    "                   'Non-inv. Vent (days)_outcome', 'Number of intubation attempts_manual', 'PCAM at birth_manual',\n",
    "                   'PEEP_manual', 'PIP_manual', 'PO2/FiO2_snap', 'PO2_snap', 'Pathology_English_comput', 'Patient report_outcome',\n",
    "                   'Postnatal Age_comput', 'ROP_outcome', 'Recording end_comput', 'Recording start_comput',\n",
    "                   'Reintubation by PCAM_manual', 'Resp supp after birth_manual', 'SGA_snap', 'SNAP-II_snap', 'SNAPPE-II_snap', \n",
    "                   'Score.1_snap', 'Score.2_snap', 'Score.3_snap', 'Score.4_snap', 'Score.5_snap', 'Score.6_snap', 'Score_snap', \n",
    "                   'Sepsis_outcome', 'Sex_manual', 'Size of ETT_manual', 'Surfactant admin_manual',\n",
    "                   'Time of surfactant_manual', 'Twins_manual', 'Urine output_snap', 'Who performed intub_manual']\n",
    "\n",
    "clin_data_combined = clin_data_combined[columns_to_keep]"
   ]
  },
  {
   "cell_type": "code",
   "execution_count": null,
   "metadata": {},
   "outputs": [],
   "source": [
    "clin_data_combined.info()"
   ]
  },
  {
   "cell_type": "code",
   "execution_count": null,
   "metadata": {},
   "outputs": [],
   "source": [
    "clin_data_combined.head(2)"
   ]
  },
  {
   "cell_type": "code",
   "execution_count": null,
   "metadata": {},
   "outputs": [],
   "source": [
    "# Export processed combined clinical dataset \n",
    "with pd.ExcelWriter(os.path.join(DIR_WRITE, f'clin_data_combined.xlsx')) as writer:\n",
    "    clin_data_combined.to_excel(writer, sheet_name='clin_data_combined')"
   ]
  },
  {
   "cell_type": "code",
   "execution_count": null,
   "metadata": {},
   "outputs": [],
   "source": [
    "# Export processed combined clinical dataset as pickle archive\n",
    "with open(os.path.join(DATA_DUMP, 'clin_data_combined.pickle'), 'wb') as handle:\n",
    "    pickle.dump(clin_data_combined, handle, protocol=pickle.HIGHEST_PROTOCOL)   "
   ]
  },
  {
   "cell_type": "markdown",
   "metadata": {},
   "source": [
    "### 8. Export vital parameters and blood gases at the arrival to the referring unit and and at the handover to tertiary NICU"
   ]
  },
  {
   "cell_type": "code",
   "execution_count": null,
   "metadata": {},
   "outputs": [],
   "source": [
    "vital_parameters.head(2)"
   ]
  },
  {
   "cell_type": "code",
   "execution_count": null,
   "metadata": {},
   "outputs": [],
   "source": [
    "blood_gases_manual.head(2)"
   ]
  },
  {
   "cell_type": "code",
   "execution_count": null,
   "metadata": {},
   "outputs": [],
   "source": [
    "# Export processed table with vitals and gases \n",
    "with pd.ExcelWriter(os.path.join(DIR_WRITE, f'vital_gases_manual.xlsx')) as writer:\n",
    "    vital_parameters.to_excel(writer, sheet_name='vital_parameters_manual')\n",
    "    blood_gases_manual.to_excel(writer, sheet_name='blood_gases_manual')"
   ]
  },
  {
   "cell_type": "code",
   "execution_count": null,
   "metadata": {},
   "outputs": [],
   "source": [
    "# Vital parameters for the final dataset\n",
    "with open(os.path.join(DATA_DUMP, 'vital_parameters_manual.pickle'), 'wb') as handle:\n",
    "    pickle.dump(vital_parameters, handle, protocol=pickle.HIGHEST_PROTOCOL)   "
   ]
  },
  {
   "cell_type": "code",
   "execution_count": null,
   "metadata": {},
   "outputs": [],
   "source": [
    "# Blood gases for the final dataset\n",
    "with open(os.path.join(DATA_DUMP, 'blood_gases_manual.pickle'), 'wb') as handle:\n",
    "    pickle.dump(blood_gases_manual, handle, protocol=pickle.HIGHEST_PROTOCOL)   "
   ]
  },
  {
   "cell_type": "markdown",
   "metadata": {},
   "source": [
    "### 9. Analyse clinical characteristics of cohort"
   ]
  },
  {
   "cell_type": "markdown",
   "metadata": {},
   "source": [
    "#### A. Demographics"
   ]
  },
  {
   "cell_type": "code",
   "execution_count": null,
   "metadata": {},
   "outputs": [],
   "source": [
    "clin_data_combined['Gest Week_manual'].describe()"
   ]
  },
  {
   "cell_type": "code",
   "execution_count": null,
   "metadata": {},
   "outputs": [],
   "source": [
    "clin_data_combined.groupby('Gest Week_manual').size()"
   ]
  },
  {
   "cell_type": "code",
   "execution_count": null,
   "metadata": {},
   "outputs": [],
   "source": [
    "clin_data_combined['Birth weight_manual'].describe()"
   ]
  },
  {
   "cell_type": "code",
   "execution_count": null,
   "metadata": {},
   "outputs": [],
   "source": [
    "clin_data_combined.groupby('Gest Week_manual')['Birth weight_manual'].mean()"
   ]
  },
  {
   "cell_type": "code",
   "execution_count": null,
   "metadata": {},
   "outputs": [],
   "source": [
    "# 1: male; 2: female\n",
    "clin_data_combined['Sex_manual'].value_counts()"
   ]
  },
  {
   "cell_type": "code",
   "execution_count": null,
   "metadata": {},
   "outputs": [],
   "source": [
    "# O: singleton; 1: twin\n",
    "clin_data_combined['Twins_manual'].value_counts()"
   ]
  },
  {
   "cell_type": "code",
   "execution_count": null,
   "metadata": {},
   "outputs": [],
   "source": [
    "# Export processed combined clinical dataset \n",
    "with pd.ExcelWriter(os.path.join(DIR_WRITE, f'demographics_ELBW.xlsx')) as writer:\n",
    "    clin_data_combined['Gest Week_manual'].describe().to_excel(writer, sheet_name='gest_age')\n",
    "    clin_data_combined.groupby('Gest Week_manual').size().to_excel(writer, sheet_name='gest_by_week')\n",
    "    clin_data_combined['Birth weight_manual'].describe().to_excel(writer, sheet_name='birth_weight')\n",
    "    clin_data_combined['Sex_manual'].value_counts().to_excel(writer, sheet_name='male_1_female_2')\n",
    "    clin_data_combined['Twins_manual'].value_counts().to_excel(writer, sheet_name='singleton_0_twin_1')"
   ]
  },
  {
   "cell_type": "code",
   "execution_count": null,
   "metadata": {},
   "outputs": [],
   "source": [
    "dpi=300; filetype = 'jpg'\n",
    "\n",
    "medianprops = {'color': 'black', 'linewidth': 1}\n",
    "meanpointprops = {'marker':'D', 'markersize' : 4, 'markeredgecolor':'black', 'markerfacecolor':'black'}\n",
    "boxprops = {'color': 'black',  'linestyle': '-'}; whiskerprops = {'color': 'black', 'linestyle': '-'}\n",
    "capprops = {'color': 'black', 'linestyle': '-'}; flierprops = {'color': 'black', 'marker': '.'}\n",
    "\n",
    "fig,ax = plt.subplots(1,1, figsize=(3,4))\n",
    "ax.boxplot(clin_data_combined['Gest Week_manual'], \n",
    "    widths=0.3,  whis = [0, 100], patch_artist = True, showfliers = True, showmeans = True,\n",
    "    medianprops=medianprops, meanprops = meanpointprops, boxprops=boxprops, whiskerprops=whiskerprops, \n",
    "    capprops=capprops,)\n",
    "\n",
    "ax.set_ylim(20, 32)\n",
    "ax.set_xticks([1], ['Gestational age'])\n",
    "ax.set_ylabel('Completed weeks')\n",
    "fig.savefig(os.path.join (DIR_WRITE, f'gestational_age_ELBW_boxplot.{filetype}'), \n",
    "            dpi = dpi, format = filetype, bbox_inches='tight', pad_inches=0.1);"
   ]
  },
  {
   "cell_type": "code",
   "execution_count": null,
   "metadata": {},
   "outputs": [],
   "source": [
    "dpi=300; filetype = 'jpg'\n",
    "\n",
    "medianprops = {'color': 'black', 'linewidth': 1}\n",
    "meanpointprops = {'marker':'D', 'markersize' : 4, 'markeredgecolor':'black', 'markerfacecolor':'black'}\n",
    "boxprops = {'color': 'black',  'linestyle': '-'}; whiskerprops = {'color': 'black', 'linestyle': '-'}\n",
    "capprops = {'color': 'black', 'linestyle': '-'}; flierprops = {'color': 'black', 'marker': '.'}\n",
    "\n",
    "fig,ax = plt.subplots(1,1, figsize=(3,4))\n",
    "ax.boxplot(clin_data_combined['Birth weight_manual'], \n",
    "    widths=0.3,  whis = [0, 100], patch_artist = True, showfliers = True, showmeans = True,\n",
    "    medianprops=medianprops, meanprops = meanpointprops, boxprops=boxprops, whiskerprops=whiskerprops, \n",
    "    capprops=capprops,)\n",
    "\n",
    "ax.set_ylim(0, 1100)\n",
    "ax.set_xticks([1], ['Birth weight'])\n",
    "ax.set_ylabel('Grams')\n",
    "fig.savefig(os.path.join (DIR_WRITE, f'birth_weight_ELBW_boxplot.{filetype}'), \n",
    "            dpi = dpi, format = filetype, bbox_inches='tight', pad_inches=0.1);"
   ]
  },
  {
   "cell_type": "markdown",
   "metadata": {},
   "source": [
    "#### B. Antenatal care and delivery"
   ]
  },
  {
   "cell_type": "markdown",
   "metadata": {},
   "source": [
    "##### 1. Antenatal steriods\n",
    "\n",
    "0:no,\n",
    "0.5:partial course,\n",
    "1:full course"
   ]
  },
  {
   "cell_type": "code",
   "execution_count": null,
   "metadata": {},
   "outputs": [],
   "source": [
    "clin_data_combined['Antenatal steroid_manual'].value_counts(dropna=False)"
   ]
  },
  {
   "cell_type": "markdown",
   "metadata": {},
   "source": [
    "##### 2. Maternal complications\n",
    "\n",
    "1:abruption, 2:infection, 3:cardiovascular problem, 4:umbilical cord problem, 5:other"
   ]
  },
  {
   "cell_type": "code",
   "execution_count": null,
   "metadata": {},
   "outputs": [],
   "source": [
    "clin_data_combined['Maternal complications_manual'].value_counts(dropna=False)"
   ]
  },
  {
   "cell_type": "markdown",
   "metadata": {},
   "source": [
    "##### 3. Born outside hospital\n",
    "\n",
    "1:yes,\n",
    "0:no"
   ]
  },
  {
   "cell_type": "code",
   "execution_count": null,
   "metadata": {},
   "outputs": [],
   "source": [
    "clin_data_combined['Born outside of hosp_manual'].value_counts(dropna=False)"
   ]
  },
  {
   "cell_type": "markdown",
   "metadata": {},
   "source": [
    "##### 4. Mode of delivery\n",
    "1:vaginal,\n",
    "2:caesarean section"
   ]
  },
  {
   "cell_type": "code",
   "execution_count": null,
   "metadata": {},
   "outputs": [],
   "source": [
    "clin_data_combined['Mode of delivery_manual'].value_counts(dropna=False)"
   ]
  },
  {
   "cell_type": "markdown",
   "metadata": {},
   "source": [
    "#### C. Delivery unit care"
   ]
  },
  {
   "cell_type": "markdown",
   "metadata": {},
   "source": [
    "##### 1. Who was the first responder and arrival of Cerny"
   ]
  },
  {
   "cell_type": "code",
   "execution_count": null,
   "metadata": {},
   "outputs": [],
   "source": [
    "# 1:parent/paramedic/other, 2:local paediatrician, 3:PCAM staff\n",
    "clin_data_combined['First responder_manual'].value_counts(dropna=False)"
   ]
  },
  {
   "cell_type": "code",
   "execution_count": null,
   "metadata": {},
   "outputs": [],
   "source": [
    "clin_data_combined['Age_at_Cerny_arrival'] = clin_data_combined['Arrival of PCAM_manual'] - \\\n",
    "                                             clin_data_combined['Date of Birth_manual']"
   ]
  },
  {
   "cell_type": "code",
   "execution_count": null,
   "metadata": {},
   "outputs": [],
   "source": [
    "dpi=300; filetype = 'jpg'\n",
    "\n",
    "fig,ax = plt.subplots(1,1, figsize=(12,5))\n",
    "ax.plot(clin_data_combined['Age_at_Cerny_arrival'].sort_values()/ 1e9 / 60, marker = 'o', linestyle='')\n",
    "ax.set_ylim(-180, 240)\n",
    "plt.xticks(rotation = 90);\n",
    "ax.axhline(y=0, color='black', linestyle='-')\n",
    "ax.set_ylabel('Age at arrival of transport team [minutes]')\n",
    "\n",
    "fig.savefig(os.path.join (DIR_WRITE, f'age_at_arrival_of transport_team.{filetype}'), \n",
    "            dpi = dpi, format = filetype, bbox_inches='tight', pad_inches=0.1);"
   ]
  },
  {
   "cell_type": "code",
   "execution_count": null,
   "metadata": {},
   "outputs": [],
   "source": [
    "dpi=300; filetype = 'jpg'\n",
    "\n",
    "fig,ax = plt.subplots(1,1, figsize=(12,5))\n",
    "ax.plot(clin_data_combined['Age_at_Cerny_arrival'].sort_values()/ 1e9 / 60, color = 'black', \n",
    "        marker = 'o', linestyle='')\n",
    "ax.set_ylim(-180, 240)\n",
    "plt.xticks(rotation = 90);\n",
    "ax.axhline(y=0, color='black', linestyle='-')\n",
    "ax.set_ylabel('Age at arrival of transport team [minutes]')\n",
    "\n",
    "fig.savefig(os.path.join (DIR_WRITE, f'age_at_arrival_of transport_team_bw.{filetype}'), \n",
    "            dpi = dpi, format = filetype, bbox_inches='tight', pad_inches=0.1);"
   ]
  },
  {
   "cell_type": "code",
   "execution_count": null,
   "metadata": {},
   "outputs": [],
   "source": [
    "clin_data_combined['PCAM at birth'] = np.where(clin_data_combined['Age_at_Cerny_arrival']< pd.to_timedelta(0), 1, 0)"
   ]
  },
  {
   "cell_type": "code",
   "execution_count": null,
   "metadata": {},
   "outputs": [],
   "source": [
    "# Cerny present at birth: 0:no, 1:yes\n",
    "clin_data_combined['PCAM at birth'].value_counts()"
   ]
  },
  {
   "cell_type": "code",
   "execution_count": null,
   "metadata": {},
   "outputs": [],
   "source": [
    "# Cerny present by 15 minutes of age\n",
    "sum(clin_data_combined['Age_at_Cerny_arrival'] <= pd.to_timedelta('15 min'))"
   ]
  },
  {
   "cell_type": "code",
   "execution_count": null,
   "metadata": {},
   "outputs": [],
   "source": [
    "# Cerny was not present at birth for those ones born outside hospital\n",
    "clin_data_combined.groupby('Born outside of hosp_manual')['PCAM at birth'].value_counts()"
   ]
  },
  {
   "cell_type": "code",
   "execution_count": null,
   "metadata": {},
   "outputs": [],
   "source": [
    "dpi=300; filetype = 'jpg'\n",
    "\n",
    "medianprops = {'color': 'black', 'linewidth': 1}\n",
    "meanpointprops = {'marker':'D', 'markersize' : 4, 'markeredgecolor':'black', 'markerfacecolor':'black'}\n",
    "boxprops = {'color': 'black',  'linestyle': '-'}; whiskerprops = {'color': 'black', 'linestyle': '-'}\n",
    "capprops = {'color': 'black', 'linestyle': '-'}; flierprops = {'color': 'black', 'marker': '.'}\n",
    "\n",
    "fig,ax = plt.subplots(1,1, figsize=(3,4))\n",
    "\n",
    "ax.boxplot(clin_data_combined['Age_at_Cerny_arrival']/ 1e9 / 60, widths=0.3, whis = [0, 100], \n",
    "           showfliers = False, showmeans = True,\n",
    "           medianprops=medianprops, meanprops = meanpointprops, boxprops=boxprops, whiskerprops=whiskerprops, \n",
    "           capprops=capprops, )\n",
    "ax.set_ylim(-180, 240)\n",
    "ax.set_xticks([1], ['Age at arrival\\nof transport team'])\n",
    "ax.set_ylabel('Minutes')\n",
    "fig.savefig(os.path.join (DIR_WRITE, f'age_at_arrival_of transport_team_boxplot.{filetype}'), \n",
    "            dpi = dpi, format = filetype, bbox_inches='tight', pad_inches=0.1);"
   ]
  },
  {
   "cell_type": "markdown",
   "metadata": {},
   "source": [
    "##### 2. Intubation and surfactant administration"
   ]
  },
  {
   "cell_type": "code",
   "execution_count": null,
   "metadata": {},
   "outputs": [],
   "source": [
    "# 0-not intubated, 1-local pediatrician, 2-PCAM staff\n",
    "clin_data_combined['Who performed intub_manual'].value_counts(dropna=False)"
   ]
  },
  {
   "cell_type": "code",
   "execution_count": null,
   "metadata": {},
   "outputs": [],
   "source": [
    "# Cases who were not intubated\n",
    "clin_data_combined[clin_data_combined['Who performed intub_manual'] == 0].index"
   ]
  },
  {
   "cell_type": "code",
   "execution_count": null,
   "metadata": {},
   "outputs": [],
   "source": [
    "# 0: no, 1:yes\n",
    "clin_data_combined['Reintubation by PCAM_manual'].value_counts(dropna=False)"
   ]
  },
  {
   "cell_type": "code",
   "execution_count": null,
   "metadata": {},
   "outputs": [],
   "source": [
    "# Surfactant given prior to transport? 0: no, 1:yes\n",
    "clin_data_combined['Surfactant admin_manual'].value_counts(dropna=False)"
   ]
  },
  {
   "cell_type": "code",
   "execution_count": null,
   "metadata": {},
   "outputs": [],
   "source": [
    "clin_data_combined[clin_data_combined['Surfactant admin_manual'] == 0][['Gest Week_manual', 'Birth weight_manual',\n",
    "                                                                        'Km_manual']]"
   ]
  },
  {
   "cell_type": "code",
   "execution_count": null,
   "metadata": {},
   "outputs": [],
   "source": [
    "clin_data_combined['Age at surfactant'] = clin_data_combined['Time of surfactant_manual'] -\\\n",
    "clin_data_combined['Date of Birth_manual']"
   ]
  },
  {
   "cell_type": "code",
   "execution_count": null,
   "metadata": {},
   "outputs": [],
   "source": [
    "clin_data_combined['Age at surfactant'].describe()"
   ]
  },
  {
   "cell_type": "code",
   "execution_count": null,
   "metadata": {},
   "outputs": [],
   "source": [
    "dpi=300; filetype = 'jpg'\n",
    "\n",
    "medianprops = {'color': 'black', 'linewidth': 1}\n",
    "meanpointprops = {'marker':'D', 'markersize' : 4, 'markeredgecolor':'black', 'markerfacecolor':'black'}\n",
    "boxprops = {'color': 'black',  'linestyle': '-'}; whiskerprops = {'color': 'black', 'linestyle': '-'}\n",
    "capprops = {'color': 'black', 'linestyle': '-'}; flierprops = {'color': 'black', 'marker': '.'}\n",
    "\n",
    "fig,ax = plt.subplots(1,1, figsize=(3,4))\n",
    "\n",
    "ax.boxplot(clin_data_combined['Age at surfactant'].dropna() / 1e9 / 60, widths=0.3, whis = [0, 100], \n",
    "           showfliers=False, showmeans=True,\n",
    "           medianprops=medianprops, meanprops = meanpointprops, boxprops=boxprops, whiskerprops=whiskerprops, \n",
    "           capprops=capprops, )\n",
    "\n",
    "ax.set_ylim(0, 240)\n",
    "ax.set_xticks([1], ['Age at surfactant\\nadministration'])\n",
    "ax.set_ylabel('Minutes')\n",
    "fig.savefig(os.path.join (DIR_WRITE, f'age_at_surfactant administration_boxplot.{filetype}'), \n",
    "            dpi = dpi, format = filetype, bbox_inches='tight', pad_inches=0.1);"
   ]
  },
  {
   "cell_type": "markdown",
   "metadata": {},
   "source": [
    "##### 3. Chest compression and adrenaline bolus"
   ]
  },
  {
   "cell_type": "code",
   "execution_count": null,
   "metadata": {},
   "outputs": [],
   "source": [
    "# 0:no; 1:yes\n",
    "clin_data_combined['Chest compression_manual'].value_counts(dropna=False)"
   ]
  },
  {
   "cell_type": "code",
   "execution_count": null,
   "metadata": {},
   "outputs": [],
   "source": [
    "# 0:no; 1:yes\n",
    "clin_data_combined['Adrenaline_manual'].value_counts(dropna=False)"
   ]
  },
  {
   "cell_type": "markdown",
   "metadata": {},
   "source": [
    "#### D. Transport characteristics"
   ]
  },
  {
   "cell_type": "markdown",
   "metadata": {},
   "source": [
    "##### 1. Distance travelled"
   ]
  },
  {
   "cell_type": "code",
   "execution_count": null,
   "metadata": {},
   "outputs": [],
   "source": [
    "clin_data_combined['Km_manual'].describe()"
   ]
  },
  {
   "cell_type": "code",
   "execution_count": null,
   "metadata": {},
   "outputs": [],
   "source": [
    "dpi=300; filetype = 'jpg'\n",
    "\n",
    "medianprops = {'color': 'black', 'linewidth': 1}\n",
    "meanpointprops = {'marker':'D', 'markersize' : 4, 'markeredgecolor':'black', 'markerfacecolor':'black'}\n",
    "boxprops = {'color': 'black',  'linestyle': '-'}; whiskerprops = {'color': 'black', 'linestyle': '-'}\n",
    "capprops = {'color': 'black', 'linestyle': '-'}; flierprops = {'color': 'black', 'marker': '.'}\n",
    "\n",
    "fig,ax = plt.subplots(1,1, figsize=(3,4))\n",
    "\n",
    "ax.boxplot(clin_data_combined['Km_manual'], widths=0.3, whis = [0, 100], \n",
    "           showfliers = False, showmeans = True,\n",
    "           medianprops=medianprops, meanprops = meanpointprops, boxprops=boxprops, whiskerprops=whiskerprops, \n",
    "           capprops=capprops, )\n",
    "ax.set_ylim(-5, 140)\n",
    "ax.set_xticks([1], ['Transport distance'])\n",
    "ax.set_ylabel('Kilometers')\n",
    "fig.savefig(os.path.join (DIR_WRITE, f'transport distance_boxplot.{filetype}'), \n",
    "            dpi = dpi, format = filetype, bbox_inches='tight', pad_inches=0.1);"
   ]
  },
  {
   "cell_type": "markdown",
   "metadata": {},
   "source": [
    "##### 2. Age at arrival"
   ]
  },
  {
   "cell_type": "code",
   "execution_count": null,
   "metadata": {},
   "outputs": [],
   "source": [
    "clin_data_combined['Age at arrival_NICU'] = clin_data_combined['End of transport_manual'] - \\\n",
    "    clin_data_combined['Date of Birth_manual']"
   ]
  },
  {
   "cell_type": "code",
   "execution_count": null,
   "metadata": {},
   "outputs": [],
   "source": [
    "clin_data_combined['Age at arrival_NICU'].describe()"
   ]
  },
  {
   "cell_type": "code",
   "execution_count": null,
   "metadata": {},
   "outputs": [],
   "source": [
    "dpi=300; filetype = 'jpg'\n",
    "\n",
    "medianprops = {'color': 'black', 'linewidth': 1}\n",
    "meanpointprops = {'marker':'D', 'markersize' : 4, 'markeredgecolor':'black', 'markerfacecolor':'black'}\n",
    "boxprops = {'color': 'black',  'linestyle': '-'}; whiskerprops = {'color': 'black', 'linestyle': '-'}\n",
    "capprops = {'color': 'black', 'linestyle': '-'}; flierprops = {'color': 'black', 'marker': '.'}\n",
    "\n",
    "fig,ax = plt.subplots(1,1, figsize=(3,4))\n",
    "\n",
    "ax.boxplot(clin_data_combined['Age at arrival_NICU'].dropna() / 1e9 / 60, widths=0.3, whis = [0, 100], \n",
    "           showfliers=False, showmeans=True,\n",
    "           medianprops=medianprops, meanprops = meanpointprops, boxprops=boxprops, whiskerprops=whiskerprops, \n",
    "           capprops=capprops, )\n",
    "\n",
    "ax.set_ylim(0, 400)\n",
    "ax.set_xticks([1], ['Age at the end\\nof transfer'])\n",
    "ax.set_ylabel('Minutes')\n",
    "fig.savefig(os.path.join (DIR_WRITE, f'age_at_arrival_NICU_boxplot.{filetype}'), \n",
    "            dpi = dpi, format = filetype, bbox_inches='tight', pad_inches=0.1);"
   ]
  },
  {
   "cell_type": "markdown",
   "metadata": {},
   "source": [
    "#### E. Cardiovascular care and sedation during transport"
   ]
  },
  {
   "cell_type": "code",
   "execution_count": null,
   "metadata": {},
   "outputs": [],
   "source": [
    "# 0:no; 1:yes\n",
    "clin_data_combined['Fluid bolus_manual'].value_counts(dropna=False)"
   ]
  },
  {
   "cell_type": "code",
   "execution_count": null,
   "metadata": {},
   "outputs": [],
   "source": [
    "# 0:no; 1:yes\n",
    "clin_data_combined['CV support drug_manual'].value_counts(dropna=False)"
   ]
  },
  {
   "cell_type": "code",
   "execution_count": null,
   "metadata": {},
   "outputs": [],
   "source": [
    "# 0:no; 1:yes\n",
    "clin_data_combined['Fentanyl_manual'].value_counts(dropna=False)"
   ]
  },
  {
   "cell_type": "markdown",
   "metadata": {},
   "source": [
    "#### F. Survival to discharge"
   ]
  },
  {
   "cell_type": "code",
   "execution_count": null,
   "metadata": {},
   "outputs": [],
   "source": [
    "# 0: survived; 1: died\n",
    "clin_data_combined['Death_outcome'].value_counts(dropna=False)"
   ]
  },
  {
   "cell_type": "code",
   "execution_count": null,
   "metadata": {},
   "outputs": [],
   "source": [
    "((sum(clin_data_combined['Death_outcome']==0) / len(clin_data_combined)),\n",
    "(sum(clin_data_combined['Death_outcome']==1) / len(clin_data_combined)))"
   ]
  },
  {
   "cell_type": "code",
   "execution_count": null,
   "metadata": {},
   "outputs": [],
   "source": [
    "clin_data_combined.groupby('Gest Week_manual')['Death_outcome'].value_counts(dropna=False)"
   ]
  },
  {
   "cell_type": "code",
   "execution_count": null,
   "metadata": {},
   "outputs": [],
   "source": [
    "# Export processed combined clinical dataset \n",
    "with pd.ExcelWriter(os.path.join(DIR_WRITE, f'mortality_ELBW.xlsx')) as writer:\n",
    "    clin_data_combined['Death_outcome'].value_counts(dropna=False).to_excel(writer, sheet_name='survived_0_died_1')\n",
    "    clin_data_combined.groupby('Gest Week_manual')['Death_outcome'].value_counts(dropna=False).to_excel(writer, \n",
    "                                                                                        sheet_name='death_by_week')"
   ]
  },
  {
   "cell_type": "markdown",
   "metadata": {},
   "source": [
    "##### Comparison with national statistics\n",
    "\n",
    "In our cohort 30 / 55 survived\n",
    "Nationally, inborn infants (2020) 288 / 374 survived"
   ]
  },
  {
   "cell_type": "code",
   "execution_count": null,
   "metadata": {},
   "outputs": [],
   "source": [
    "stats.fisher_exact([[30, 55], [288, 374]])"
   ]
  },
  {
   "cell_type": "markdown",
   "metadata": {},
   "source": [
    "#### G. Long-term morbidities\n",
    "\n",
    "Morbidity data is only available for babies who survived to discharge"
   ]
  },
  {
   "cell_type": "code",
   "execution_count": null,
   "metadata": {},
   "outputs": [],
   "source": [
    "clin_data_combined['Death_outcome'].value_counts(dropna=False)"
   ]
  },
  {
   "cell_type": "code",
   "execution_count": null,
   "metadata": {},
   "outputs": [],
   "source": [
    "outcome[outcome['Death_outcome'] ==0].describe().loc['count']"
   ]
  },
  {
   "cell_type": "code",
   "execution_count": null,
   "metadata": {},
   "outputs": [],
   "source": [
    "clin_data_combined[['Death_outcome', 'IVH_outcome']].value_counts(dropna=False)"
   ]
  },
  {
   "cell_type": "code",
   "execution_count": null,
   "metadata": {},
   "outputs": [],
   "source": [
    "clin_data_combined[['Death_outcome', 'ROP_outcome']].value_counts(dropna=False)"
   ]
  },
  {
   "cell_type": "code",
   "execution_count": null,
   "metadata": {},
   "outputs": [],
   "source": [
    "clin_data_combined[['Death_outcome', 'BPD_outcome']].value_counts(dropna=False)"
   ]
  },
  {
   "cell_type": "code",
   "execution_count": null,
   "metadata": {},
   "outputs": [],
   "source": [
    "clin_data_combined[['Death_outcome', 'NEC_outcome']].value_counts(dropna=False)"
   ]
  },
  {
   "cell_type": "code",
   "execution_count": null,
   "metadata": {},
   "outputs": [],
   "source": [
    "clin_data_combined['Inv. Vent (days)_outcome'].describe()"
   ]
  },
  {
   "cell_type": "markdown",
   "metadata": {},
   "source": [
    "### 10. Compare selected parameters at arrival of the tranport service to referring hopital versus at handover to NICU"
   ]
  },
  {
   "cell_type": "markdown",
   "metadata": {},
   "source": [
    "#### A. Body temperature"
   ]
  },
  {
   "cell_type": "code",
   "execution_count": null,
   "metadata": {},
   "outputs": [],
   "source": [
    "temperature_arrival = vital_parameters['At arrival of PCAM']['Body temperature (°C)']\n",
    "temperature_arrival.describe()"
   ]
  },
  {
   "cell_type": "code",
   "execution_count": null,
   "metadata": {},
   "outputs": [],
   "source": [
    "temperature_handover = vital_parameters['At arrival to NICU']['Body temperature (°C)']\n",
    "temperature_handover.describe()"
   ]
  },
  {
   "cell_type": "code",
   "execution_count": null,
   "metadata": {},
   "outputs": [],
   "source": [
    "stats.mannwhitneyu(temperature_arrival.dropna(), temperature_handover.dropna())"
   ]
  },
  {
   "cell_type": "code",
   "execution_count": null,
   "metadata": {},
   "outputs": [],
   "source": [
    "dpi=300; filetype = 'jpg'\n",
    "\n",
    "medianprops = {'color': 'black', 'linewidth': 1}\n",
    "meanpointprops = {'marker':'D', 'markersize' : 4, 'markeredgecolor':'black', 'markerfacecolor':'black'}\n",
    "boxprops = {'color': 'black',  'linestyle': '-'}; whiskerprops = {'color': 'black', 'linestyle': '-'}\n",
    "capprops = {'color': 'black', 'linestyle': '-'}; flierprops = {'color': 'black', 'marker': '.'}\n",
    "\n",
    "fig,ax = plt.subplots(1,1, figsize=(4,4))\n",
    "\n",
    "ax.boxplot([vital_parameters['At arrival of PCAM']['Body temperature (°C)'].dropna().values,\n",
    "            vital_parameters['At arrival to NICU']['Body temperature (°C)'].dropna().values],\n",
    "            widths=0.4, whis = [0, 100], \n",
    "            showfliers=False, showmeans=True,\n",
    "            medianprops=medianprops, meanprops = meanpointprops, boxprops=boxprops, whiskerprops=whiskerprops, \n",
    "            capprops=capprops, )\n",
    "\n",
    "ax.set_ylim(27, 41)\n",
    "ax.set_xticks([1,2], ['At arrival of\\ntransport team', 'At the end of\\ntransfer'])\n",
    "ax.set_ylabel('Body temperature (°C)')\n",
    "\n",
    "ax.text(1.5, 39, 'p=0.0002', horizontalalignment ='center')\n",
    "\n",
    "fig.savefig(os.path.join(DIR_WRITE, f'Body_temperature_boxplot.{filetype}'), dpi = dpi, format = filetype,\n",
    "           bbox_inches='tight', pad_inches=0.1);"
   ]
  },
  {
   "cell_type": "markdown",
   "metadata": {},
   "source": [
    "#### B. Respiratory support"
   ]
  },
  {
   "cell_type": "code",
   "execution_count": null,
   "metadata": {},
   "outputs": [],
   "source": [
    "vital_parameters['At arrival of PCAM']['Resp. support (1-mask, 2-cPAP, 3-intub)'].value_counts(dropna=False)"
   ]
  },
  {
   "cell_type": "code",
   "execution_count": null,
   "metadata": {},
   "outputs": [],
   "source": [
    "vital_parameters['At arrival to NICU']['Resp. support (1-cPAP, 2-intub.)'].value_counts(dropna=False)"
   ]
  },
  {
   "cell_type": "markdown",
   "metadata": {},
   "source": [
    "#### C. Blood gases"
   ]
  },
  {
   "cell_type": "code",
   "execution_count": null,
   "metadata": {},
   "outputs": [],
   "source": [
    "blood_gases_arrival = blood_gases_manual['At arrival of PCAM'][['pH', 'pCO2', 'BE']]\n",
    "blood_gases_arrival.describe()"
   ]
  },
  {
   "cell_type": "code",
   "execution_count": null,
   "metadata": {},
   "outputs": [],
   "source": [
    "blood_gases_handover = blood_gases_manual['At arrival to NICU'][['pH', 'pCO2', 'BE']]\n",
    "blood_gases_handover.describe()"
   ]
  },
  {
   "cell_type": "code",
   "execution_count": null,
   "metadata": {},
   "outputs": [],
   "source": [
    "# Export processed combined clinical dataset \n",
    "with pd.ExcelWriter(os.path.join(DIR_WRITE, f'blood_gases_arrival_handover_ELBW.xlsx')) as writer:\n",
    "    blood_gases_arrival.describe().to_excel(writer, sheet_name='arrival_of_team')\n",
    "    blood_gases_handover.describe().to_excel(writer, sheet_name='handover_on_NICU')"
   ]
  },
  {
   "cell_type": "markdown",
   "metadata": {},
   "source": [
    "##### pH"
   ]
  },
  {
   "cell_type": "code",
   "execution_count": null,
   "metadata": {},
   "outputs": [],
   "source": [
    "stats.mannwhitneyu(blood_gases_arrival['pH'].dropna(), blood_gases_handover['pH'].dropna())"
   ]
  },
  {
   "cell_type": "code",
   "execution_count": null,
   "metadata": {},
   "outputs": [],
   "source": [
    "dpi=300; filetype = 'jpg'\n",
    "\n",
    "medianprops = {'color': 'black', 'linewidth': 1}\n",
    "meanpointprops = {'marker':'D', 'markersize' : 4, 'markeredgecolor':'black', 'markerfacecolor':'black'}\n",
    "boxprops = {'color': 'black',  'linestyle': '-'}; whiskerprops = {'color': 'black', 'linestyle': '-'}\n",
    "capprops = {'color': 'black', 'linestyle': '-'}; flierprops = {'color': 'black', 'marker': '.'}\n",
    "\n",
    "fig,ax = plt.subplots(1,1, figsize=(4,4))\n",
    "\n",
    "ax.boxplot([blood_gases_arrival['pH'].dropna().values, blood_gases_handover['pH'].dropna().values],\n",
    "            widths=0.4, whis = [5, 95], \n",
    "            showfliers=False, showmeans=True,\n",
    "            medianprops=medianprops, meanprops = meanpointprops, boxprops=boxprops, whiskerprops=whiskerprops, \n",
    "            capprops=capprops, )\n",
    "\n",
    "ax.set_ylim(6.89, 7.5)\n",
    "ax.set_xticks([1,2], ['At arrival of\\ntransport team', 'At the end of\\ntransfer'])\n",
    "ax.set_ylabel('pH')\n",
    "\n",
    "ax.text(1.5, 7.4, 'p<0.0001', horizontalalignment ='center')\n",
    "\n",
    "fig.savefig(os.path.join(DIR_WRITE, f'pH_boxplot.{filetype}'), dpi = dpi, format = filetype, bbox_inches='tight', pad_inches=0.1);"
   ]
  },
  {
   "cell_type": "markdown",
   "metadata": {},
   "source": [
    "##### pCO2"
   ]
  },
  {
   "cell_type": "code",
   "execution_count": null,
   "metadata": {},
   "outputs": [],
   "source": [
    "stats.mannwhitneyu(blood_gases_arrival['pCO2'].dropna(), blood_gases_handover['pCO2'].dropna())"
   ]
  },
  {
   "cell_type": "code",
   "execution_count": null,
   "metadata": {},
   "outputs": [],
   "source": [
    "dpi=300; filetype = 'jpg'\n",
    "\n",
    "medianprops = {'color': 'black', 'linewidth': 1}\n",
    "meanpointprops = {'marker':'D', 'markersize' : 4, 'markeredgecolor':'black', 'markerfacecolor':'black'}\n",
    "boxprops = {'color': 'black',  'linestyle': '-'}; whiskerprops = {'color': 'black', 'linestyle': '-'}\n",
    "capprops = {'color': 'black', 'linestyle': '-'}; flierprops = {'color': 'black', 'marker': '.'}\n",
    "\n",
    "fig,ax = plt.subplots(1,1, figsize=(4,4))\n",
    "\n",
    "ax.boxplot([blood_gases_arrival['pCO2'].dropna(), blood_gases_handover['pCO2'].dropna()],\n",
    "            widths=0.4, whis = [5, 95], \n",
    "            showfliers=False, showmeans=True,\n",
    "            medianprops=medianprops, meanprops = meanpointprops, boxprops=boxprops, whiskerprops=whiskerprops, \n",
    "            capprops=capprops, )\n",
    "\n",
    "ax.set_ylim(21, 100)\n",
    "ax.set_xticks([1,2], ['At arrival of\\ntransport team', 'At the end of\\ntransfer'])\n",
    "ax.set_ylabel('pCO$_2$ [mmHg]')\n",
    "\n",
    "ax.text(1.5, 90, 'p=0.01', horizontalalignment ='center')\n",
    "\n",
    "fig.savefig(os.path.join(DIR_WRITE, f'pCO2_boxplot.{filetype}'), dpi = dpi, format = filetype, bbox_inches='tight', pad_inches=0.1);"
   ]
  },
  {
   "cell_type": "markdown",
   "metadata": {},
   "source": [
    "##### Base excess (BE)"
   ]
  },
  {
   "cell_type": "code",
   "execution_count": null,
   "metadata": {},
   "outputs": [],
   "source": [
    "stats.mannwhitneyu(blood_gases_arrival['BE'].dropna(), blood_gases_handover['BE'].dropna())"
   ]
  },
  {
   "cell_type": "code",
   "execution_count": null,
   "metadata": {},
   "outputs": [],
   "source": [
    "dpi=300; filetype = 'jpg'\n",
    "\n",
    "medianprops = {'color': 'black', 'linewidth': 1}\n",
    "meanpointprops = {'marker':'D', 'markersize' : 4, 'markeredgecolor':'black', 'markerfacecolor':'black'}\n",
    "boxprops = {'color': 'black',  'linestyle': '-'}; whiskerprops = {'color': 'black', 'linestyle': '-'}\n",
    "capprops = {'color': 'black', 'linestyle': '-'}; flierprops = {'color': 'black', 'marker': '.'}\n",
    "\n",
    "fig,ax = plt.subplots(1,1, figsize=(4,4))\n",
    "\n",
    "ax.boxplot([-1*blood_gases_arrival['BE'].dropna(), -1*blood_gases_handover['BE'].dropna()],\n",
    "            widths=0.4, whis = [5, 95], \n",
    "            showfliers=False, showmeans=True,\n",
    "            medianprops=medianprops, meanprops = meanpointprops, boxprops=boxprops, whiskerprops=whiskerprops, \n",
    "            capprops=capprops, )\n",
    "\n",
    "ax.set_ylim(-4, 20)\n",
    "ax.set_xticks([1,2], ['At arrival of\\ntransport team', 'At the end of\\ntransfer'])\n",
    "ax.set_ylabel('Base deficit [mmol/L]')\n",
    "\n",
    "ax.text(1.5, 18, 'p=0.0001', horizontalalignment ='center')\n",
    "\n",
    "fig.savefig(os.path.join(DIR_WRITE, f'BE_ELBW_boxplot.{filetype}'), dpi = dpi, format = filetype, bbox_inches='tight', pad_inches=0.1);"
   ]
  },
  {
   "cell_type": "markdown",
   "metadata": {},
   "source": [
    "### 11. Produce the figures for the paper"
   ]
  },
  {
   "cell_type": "markdown",
   "metadata": {},
   "source": [
    "#### A. Figure 1"
   ]
  },
  {
   "cell_type": "code",
   "execution_count": null,
   "metadata": {},
   "outputs": [],
   "source": [
    "dpi=300; filetype = 'pdf'\n",
    "\n",
    "medianprops = {'color': 'black', 'linewidth': 1}\n",
    "meanpointprops = {'marker':'D', 'markersize' : 4, 'markeredgecolor':'black', 'markerfacecolor':'black'}\n",
    "boxprops = {'color': 'black',  'linestyle': '-'}; whiskerprops = {'color': 'black', 'linestyle': '-'}\n",
    "capprops = {'color': 'black', 'linestyle': '-'}; flierprops = {'color': 'black', 'marker': '.'}\n",
    "\n",
    "fig,axes = plt.subplots(2,2, figsize=(8,8))\n",
    "fig.subplots_adjust(left=0.2, bottom=None, right=None, top=None, wspace=0.4, hspace=0.3)\n",
    "\n",
    "# Figure 1A\n",
    "axes[0,0].boxplot([vital_parameters['At arrival of PCAM']['Body temperature (°C)'].dropna().values,\n",
    "    vital_parameters['At arrival to NICU']['Body temperature (°C)'].dropna().values],\n",
    "    widths=0.4, whis = [0, 100], showfliers=False, showmeans=True, medianprops=medianprops, \n",
    "    meanprops = meanpointprops, boxprops=boxprops, whiskerprops=whiskerprops, capprops=capprops, )\n",
    "axes[0,0].set_ylim(27, 41)\n",
    "axes[0,0].set_xticks([1,2], ['At arrival of\\ntransport team', 'At the end of\\ntransfer'])\n",
    "axes[0,0].set_ylabel('Body temperature (°C)')\n",
    "axes[0,0].text(1.5, 39, 'p=0.0002', horizontalalignment ='center')\n",
    "\n",
    "# Figure 1B\n",
    "axes[0,1].boxplot(clin_data_combined['Age at surfactant'].dropna() / 1e9 / 60, widths=0.2, whis = [0, 100], showfliers=False, \n",
    "    showmeans=True, medianprops=medianprops, meanprops = meanpointprops, boxprops=boxprops, whiskerprops=whiskerprops, \n",
    "    capprops=capprops, )\n",
    "axes[0,1].set_ylim(0, 240)\n",
    "axes[0,1].set_xticks([1], ['Age at surfactant\\nadministration'])\n",
    "axes[0,1].set_ylabel('Minutes')\n",
    "\n",
    "# Figure 1C\n",
    "axes[1,0].boxplot(clin_data_combined['Km_manual'], widths=0.2, whis = [0, 100], showfliers = False, showmeans = True,\n",
    "    medianprops=medianprops, meanprops = meanpointprops, boxprops=boxprops, whiskerprops=whiskerprops, capprops=capprops, )\n",
    "axes[1,0].set_ylim(-5, 140)\n",
    "axes[1,0].set_xticks([1], ['Transport distance'])\n",
    "axes[1,0].set_ylabel('Kilometers')\n",
    "\n",
    "# Figure 1D\n",
    "axes[1,1].boxplot(clin_data_combined['Age at arrival_NICU'].dropna() / 1e9 / 60, widths=0.2, whis = [0, 100], \n",
    "    showfliers=False, showmeans=True, medianprops=medianprops, meanprops = meanpointprops, boxprops=boxprops, \n",
    "    whiskerprops=whiskerprops, capprops=capprops, )\n",
    "axes[1,1].set_ylim(0, 400)\n",
    "axes[1,1].set_xticks([1], ['Age at the end\\nof transfer'])\n",
    "axes[1,1].set_ylabel('Minutes')\n",
    "\n",
    "fig.text(0.1, 0.93, 'A', fontsize=14); fig.text(0.54, 0.93, 'B', fontsize=14)\n",
    "fig.text(0.1, 0.50, 'C', fontsize=14); fig.text(0.54, 0.50, 'D', fontsize=14)\n",
    "\n",
    "fig.savefig(os.path.join(DIR_WRITE, f'Figure_1.{filetype}'), dpi = dpi, format = filetype,\n",
    "           bbox_inches='tight', pad_inches=0.1);"
   ]
  },
  {
   "cell_type": "markdown",
   "metadata": {},
   "source": [
    "#### B. Figure 2"
   ]
  },
  {
   "cell_type": "code",
   "execution_count": null,
   "metadata": {},
   "outputs": [],
   "source": [
    "dpi=300; filetype = 'pdf'\n",
    "\n",
    "medianprops = {'color': 'black', 'linewidth': 1}\n",
    "meanpointprops = {'marker':'D', 'markersize' : 4, 'markeredgecolor':'black', 'markerfacecolor':'black'}\n",
    "boxprops = {'color': 'black',  'linestyle': '-'}; whiskerprops = {'color': 'black', 'linestyle': '-'}\n",
    "capprops = {'color': 'black', 'linestyle': '-'}; flierprops = {'color': 'black', 'marker': '.'}\n",
    "\n",
    "fig,ax = plt.subplots(1,3, figsize=(12,3))\n",
    "fig.subplots_adjust(left=0.05, bottom=None, right=None, top=None, wspace=0.4, hspace=0.3)\n",
    "\n",
    "# Figure 2A\n",
    "ax[0].boxplot([blood_gases_arrival['pH'].dropna().values, blood_gases_handover['pH'].dropna().values], widths=0.4, whis = [5, 95], \n",
    "    showfliers=False, showmeans=True, medianprops=medianprops, meanprops = meanpointprops, boxprops=boxprops, \n",
    "    whiskerprops=whiskerprops, capprops=capprops, )\n",
    "ax[0].set_ylim(6.89, 7.5)\n",
    "ax[0].set_xticks([1,2], ['At arrival of\\ntransport team', 'At the end of\\ntransfer'])\n",
    "ax[0].set_ylabel('pH')\n",
    "ax[0].text(1.5, 7.4, 'p<0.0001', horizontalalignment ='center')\n",
    "\n",
    "# Figure 2B\n",
    "ax[1].boxplot([blood_gases_arrival['pCO2'].dropna(), blood_gases_handover['pCO2'].dropna()], widths=0.4, whis = [5, 95], \n",
    "    showfliers=False, showmeans=True, medianprops=medianprops, meanprops = meanpointprops, boxprops=boxprops, \n",
    "    whiskerprops=whiskerprops, capprops=capprops, )\n",
    "ax[1].set_ylim(21, 100)\n",
    "ax[1].set_xticks([1,2], ['At arrival of\\ntransport team', 'At the end of\\ntransfer'])\n",
    "ax[1].set_ylabel('pCO$_2$ [mmHg]')\n",
    "ax[1].text(1.5, 87, 'p=0.01', horizontalalignment ='center')\n",
    "\n",
    "# Figure 2C\n",
    "ax[2].boxplot([-1*blood_gases_arrival['BE'].dropna(), -1*blood_gases_handover['BE'].dropna()], widths=0.4, whis = [5, 95], \n",
    "    showfliers=False, showmeans=True, medianprops=medianprops, meanprops = meanpointprops, boxprops=boxprops, whiskerprops=whiskerprops, \n",
    "            capprops=capprops, )\n",
    "\n",
    "ax[2].set_ylim(-4, 20)\n",
    "ax[2].set_xticks([1,2], ['At arrival of\\ntransport team', 'At the end of\\ntransfer'])\n",
    "ax[2].set_ylabel('Base deficit [mmol/L]')\n",
    "ax[2].text(1.5, 16.5, 'p=0.0001', horizontalalignment ='center')\n",
    "\n",
    "fig.text(0, 0.95, 'A', fontsize=14); fig.text(0.31, 0.95, 'B', fontsize=14); fig.text(0.63, 0.95, 'C', fontsize=14); \n",
    "\n",
    "fig.savefig(os.path.join(DIR_WRITE, f'Figure_2.{filetype}'), dpi = dpi, format = filetype,\n",
    "    bbox_inches='tight', pad_inches=0.1);"
   ]
  },
  {
   "cell_type": "code",
   "execution_count": null,
   "metadata": {},
   "outputs": [],
   "source": []
  },
  {
   "cell_type": "code",
   "execution_count": null,
   "metadata": {},
   "outputs": [],
   "source": []
  },
  {
   "cell_type": "code",
   "execution_count": null,
   "metadata": {},
   "outputs": [],
   "source": []
  },
  {
   "cell_type": "code",
   "execution_count": null,
   "metadata": {},
   "outputs": [],
   "source": []
  },
  {
   "cell_type": "code",
   "execution_count": null,
   "metadata": {},
   "outputs": [],
   "source": []
  }
 ],
 "metadata": {
  "anaconda-cloud": {},
  "kernelspec": {
   "display_name": "Python 3 (ipykernel)",
   "language": "python",
   "name": "python3"
  },
  "language_info": {
   "codemirror_mode": {
    "name": "ipython",
    "version": 3
   },
   "file_extension": ".py",
   "mimetype": "text/x-python",
   "name": "python",
   "nbconvert_exporter": "python",
   "pygments_lexer": "ipython3",
   "version": "3.11.7"
  }
 },
 "nbformat": 4,
 "nbformat_minor": 4
}
