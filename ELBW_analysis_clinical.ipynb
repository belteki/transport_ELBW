{
 "cells": [
  {
   "cell_type": "markdown",
   "metadata": {},
   "source": [
    "![alt text](./Cerny_logo_1.jpg)"
   ]
  },
  {
   "cell_type": "markdown",
   "metadata": {},
   "source": [
    "# Analysis of Cerny ventilation recordings\n",
    "\n",
    "#### Analysis of ventilator data obtained from ELBW (birth weight <1000 g) infants transferred ex utero to receive level 3 neonatal \n",
    "\n",
    "##### intensive care during the first 24 hours of life among recordings `AL000001 - AL001100` and  `AT000001 - AT000818`\n",
    "\n",
    "#### Author: Dr Gusztav Belteki"
   ]
  },
  {
   "cell_type": "markdown",
   "metadata": {},
   "source": [
    "### 1. Import the required libraries and set options"
   ]
  },
  {
   "cell_type": "code",
   "execution_count": 1,
   "metadata": {},
   "outputs": [],
   "source": [
    "import IPython\n",
    "import pandas as pd\n",
    "import numpy as np\n",
    "import scipy as sp\n",
    "import matplotlib\n",
    "import matplotlib.pyplot as plt\n",
    "\n",
    "import os\n",
    "import sys\n",
    "import pickle\n",
    "\n",
    "from scipy import stats\n",
    "from pandas import Series, DataFrame\n",
    "from datetime import datetime, timedelta\n",
    "\n",
    "%matplotlib inline\n",
    "matplotlib.style.use('classic')\n",
    "matplotlib.rcParams['figure.facecolor'] = 'w'\n",
    "\n",
    "pd.set_option('display.max_rows', 500)\n",
    "pd.set_option('display.max_columns', 100)\n",
    "pd.set_option('mode.chained_assignment', None) "
   ]
  },
  {
   "cell_type": "code",
   "execution_count": 2,
   "metadata": {},
   "outputs": [
    {
     "name": "stdout",
     "output_type": "stream",
     "text": [
      "Python version: 3.11.7 (main, Dec 15 2023, 12:09:04) [Clang 14.0.6 ]\n",
      "pandas version: 2.1.4\n",
      "matplotlib version: 3.8.0\n",
      "NumPy version: 1.26.3\n",
      "SciPy version: 1.11.4\n",
      "IPython version: 8.20.0\n"
     ]
    }
   ],
   "source": [
    "print('Python version: {}'.format(sys.version))\n",
    "print('pandas version: {}'.format(pd.__version__))\n",
    "print('matplotlib version: {}'.format(matplotlib.__version__))\n",
    "print('NumPy version: {}'.format(np.__version__))\n",
    "print('SciPy version: {}'.format(sp.__version__))\n",
    "print('IPython version: {}'.format(IPython.__version__))"
   ]
  },
  {
   "cell_type": "markdown",
   "metadata": {},
   "source": [
    "### 2. List and set the working directory and the directory to write out data"
   ]
  },
  {
   "cell_type": "code",
   "execution_count": 3,
   "metadata": {},
   "outputs": [],
   "source": [
    "# Topic of the Notebook which will also be the name of the subfolder containing results\n",
    "TOPIC = 'ELBW'\n",
    "\n",
    "# Path to project folder containing clinical data (current weights only) and for export of results\n",
    "PATH = os.path.join(os.sep, 'Users', 'guszti', 'Library', 'Mobile Documents', 'com~apple~CloudDocs', \n",
    "                            'Documents', 'Research', 'Ventilation')\n",
    "\n",
    "# Name of the external hard drive\n",
    "DRIVE = 'GUSZTI'\n",
    "\n",
    "# Folder containing the file with the manually collected clinical data\n",
    "DIR_READ_CLIN = os.path.join(os.sep, PATH, 'ventilation_fabian_combined')\n",
    "\n",
    "# Data loaded from both directories\n",
    "DIR_READ_1 = os.path.join(os.sep, 'Volumes', DRIVE, 'data_dump', 'fabian')\n",
    "DIR_READ_2 = os.path.join(os.sep, 'Volumes', DRIVE, 'data_dump', 'fabian_new')\n",
    "\n",
    "# Results will be written in this folder\n",
    "DIR_WRITE =  os.path.join(os.sep, PATH, 'ventilation_fabian_combined', 'Analyses', TOPIC)\n",
    "os.makedirs(DIR_WRITE, exist_ok=True)\n",
    "\n",
    "# Images and raw data will be written on an external hard drive\n",
    "DATA_DUMP = os.path.join(os.sep, 'Volumes', DRIVE, 'data_dump', 'fabian_combined', TOPIC)\n",
    "os.makedirs(DATA_DUMP, exist_ok=True)"
   ]
  },
  {
   "cell_type": "code",
   "execution_count": 4,
   "metadata": {},
   "outputs": [
    {
     "data": {
      "text/plain": [
       "('/Users/guszti/Library/Mobile Documents/com~apple~CloudDocs/Documents/Research/Ventilation/ventilation_fabian_combined',\n",
       " '/Volumes/GUSZTI/data_dump/fabian',\n",
       " '/Volumes/GUSZTI/data_dump/fabian_new',\n",
       " '/Users/guszti/Library/Mobile Documents/com~apple~CloudDocs/Documents/Research/Ventilation/ventilation_fabian_combined/Analyses/ELBW',\n",
       " '/Volumes/GUSZTI/data_dump/fabian_combined/ELBW')"
      ]
     },
     "execution_count": 4,
     "metadata": {},
     "output_type": "execute_result"
    }
   ],
   "source": [
    "DIR_READ_CLIN, DIR_READ_1, DIR_READ_2, DIR_WRITE, DATA_DUMP"
   ]
  },
  {
   "cell_type": "markdown",
   "metadata": {},
   "source": [
    "### 3. Import computationally retrieved data"
   ]
  },
  {
   "cell_type": "markdown",
   "metadata": {},
   "source": [
    "#### A. Clinical data\n",
    "\n",
    "These data have been computationally generated from scanned transport records"
   ]
  },
  {
   "cell_type": "code",
   "execution_count": 5,
   "metadata": {},
   "outputs": [],
   "source": [
    "with open(os.path.join(DIR_READ_1, 'clin_df_1_1100.pickle'), 'rb') as handle:\n",
    "    clin_df_old = pickle.load(handle)\n",
    "with open(os.path.join(DIR_READ_2, 'clin_df_new.pickle'), 'rb') as handle:\n",
    "    clin_df_new = pickle.load(handle)\n",
    "\n",
    "clin_data_comput = pd.concat([clin_df_old, clin_df_new])\n",
    "\n",
    "clin_data_comput['Birth Weight'] = clin_data_comput['Birth Weight'].astype('float')"
   ]
  },
  {
   "cell_type": "code",
   "execution_count": 6,
   "metadata": {},
   "outputs": [
    {
     "name": "stdout",
     "output_type": "stream",
     "text": [
      "<class 'pandas.core.frame.DataFrame'>\n",
      "Index: 1807 entries, AL000003 to AT001305\n",
      "Data columns (total 12 columns):\n",
      " #   Column                             Non-Null Count  Dtype          \n",
      "---  ------                             --------------  -----          \n",
      " 0   Case ID                            1807 non-null   object         \n",
      " 1   Date of Birth                      1807 non-null   datetime64[ns] \n",
      " 2   Gestational Age (weeks)            1807 non-null   float64        \n",
      " 3   Birth Weight                       1807 non-null   float64        \n",
      " 4   Postnatal Age                      1807 non-null   timedelta64[ns]\n",
      " 5   Corrected gestational Age (weeks)  1807 non-null   float64        \n",
      " 6   Weight                             1776 non-null   float64        \n",
      " 7   ICD                                1807 non-null   object         \n",
      " 8   Pathology_English                  1807 non-null   object         \n",
      " 9   Recording start                    1807 non-null   datetime64[ns] \n",
      " 10  Recording end                      1807 non-null   datetime64[ns] \n",
      " 11  Duration                           1807 non-null   timedelta64[ns]\n",
      "dtypes: datetime64[ns](3), float64(4), object(3), timedelta64[ns](2)\n",
      "memory usage: 183.5+ KB\n"
     ]
    }
   ],
   "source": [
    "clin_data_comput.info()"
   ]
  },
  {
   "cell_type": "markdown",
   "metadata": {},
   "source": [
    "#### B. Blood gases\n",
    "\n",
    "Blood gases have been pre-processed by other Jupyter Notebooks. They have also been reviewed and outlier values manually verified."
   ]
  },
  {
   "cell_type": "code",
   "execution_count": 7,
   "metadata": {},
   "outputs": [
    {
     "data": {
      "text/plain": [
       "1664"
      ]
     },
     "execution_count": 7,
     "metadata": {},
     "output_type": "execute_result"
    }
   ],
   "source": [
    "with open(os.path.join(DIR_READ_1, 'blood_gases_1_1100.pickle'), 'rb') as handle:\n",
    "    blood_gases_old = pickle.load(handle)\n",
    "with open(os.path.join(DIR_READ_2, 'blood_gases_new.pickle'), 'rb') as handle:\n",
    "    blood_gases_new = pickle.load(handle)\n",
    "\n",
    "blood_gases_comput = {**blood_gases_old, **blood_gases_new,}\n",
    "len(blood_gases_comput)"
   ]
  },
  {
   "cell_type": "markdown",
   "metadata": {},
   "source": [
    "#### C. Ventilation modes\n",
    "\n",
    "Table with ventilation modes has been generated by other Jupyter Notebooks. They only contain cases when respiratory support on the Fabian was longer than 10 minutes."
   ]
  },
  {
   "cell_type": "code",
   "execution_count": 8,
   "metadata": {},
   "outputs": [
    {
     "data": {
      "text/plain": [
       "1776"
      ]
     },
     "execution_count": 8,
     "metadata": {},
     "output_type": "execute_result"
    }
   ],
   "source": [
    "with open(os.path.join(DIR_READ_1, 'vent_modes_ventilated_1_1100_plus.pickle'), 'rb') as handle:\n",
    "    vent_modes_ventilated_1_1100 = pickle.load(handle)\n",
    "with open(os.path.join(DIR_READ_1, 'vent_modes_noninvasive_1_1100_plus.pickle'), 'rb') as handle:\n",
    "    vent_modes_noninvasive_1_1100 = pickle.load(handle)\n",
    "    \n",
    "with open(os.path.join(DIR_READ_2, 'vent_modes_trimmed_new_1_1305.pickle'), 'rb') as handle:\n",
    "    vent_modes_trimmed_new_1_1305 = pickle.load(handle)\n",
    "\n",
    "# Rename a column which is named differently than in the other table\n",
    "vent_modes_trimmed_new_1_1305.rename({'VG':'VG_on'}, axis=1, inplace=True)\n",
    "\n",
    "vent_modes = pd.concat([vent_modes_ventilated_1_1100, vent_modes_noninvasive_1_1100, vent_modes_trimmed_new_1_1305])\n",
    "\n",
    "# Keep only relevant columns present in all tables\n",
    "columns_to_keep = ['IPPV', 'PSV', 'SIMV', 'SIMVPSV', 'SIPPV', 'O2therapy', 'DUOPAP', 'NCPAP',\n",
    "       'CPAP', 'HFO', 'VG_on', 'total', ]\n",
    "vent_modes = vent_modes[columns_to_keep]\n",
    "len(vent_modes)"
   ]
  },
  {
   "cell_type": "code",
   "execution_count": 9,
   "metadata": {},
   "outputs": [
    {
     "data": {
      "text/html": [
       "<div>\n",
       "<style scoped>\n",
       "    .dataframe tbody tr th:only-of-type {\n",
       "        vertical-align: middle;\n",
       "    }\n",
       "\n",
       "    .dataframe tbody tr th {\n",
       "        vertical-align: top;\n",
       "    }\n",
       "\n",
       "    .dataframe thead th {\n",
       "        text-align: right;\n",
       "    }\n",
       "</style>\n",
       "<table border=\"1\" class=\"dataframe\">\n",
       "  <thead>\n",
       "    <tr style=\"text-align: right;\">\n",
       "      <th></th>\n",
       "      <th>IPPV</th>\n",
       "      <th>PSV</th>\n",
       "      <th>SIMV</th>\n",
       "      <th>SIMVPSV</th>\n",
       "      <th>SIPPV</th>\n",
       "      <th>O2therapy</th>\n",
       "      <th>DUOPAP</th>\n",
       "      <th>NCPAP</th>\n",
       "      <th>CPAP</th>\n",
       "      <th>HFO</th>\n",
       "      <th>VG_on</th>\n",
       "      <th>total</th>\n",
       "    </tr>\n",
       "  </thead>\n",
       "  <tbody>\n",
       "    <tr>\n",
       "      <th>AL000003</th>\n",
       "      <td>0.0</td>\n",
       "      <td>0.0</td>\n",
       "      <td>5160.0</td>\n",
       "      <td>0.0</td>\n",
       "      <td>0.0</td>\n",
       "      <td>NaN</td>\n",
       "      <td>NaN</td>\n",
       "      <td>NaN</td>\n",
       "      <td>NaN</td>\n",
       "      <td>NaN</td>\n",
       "      <td>NaN</td>\n",
       "      <td>5160</td>\n",
       "    </tr>\n",
       "    <tr>\n",
       "      <th>AL000006</th>\n",
       "      <td>0.0</td>\n",
       "      <td>0.0</td>\n",
       "      <td>0.0</td>\n",
       "      <td>2280.0</td>\n",
       "      <td>0.0</td>\n",
       "      <td>NaN</td>\n",
       "      <td>NaN</td>\n",
       "      <td>NaN</td>\n",
       "      <td>NaN</td>\n",
       "      <td>NaN</td>\n",
       "      <td>0.0</td>\n",
       "      <td>2280</td>\n",
       "    </tr>\n",
       "    <tr>\n",
       "      <th>AL000007</th>\n",
       "      <td>0.0</td>\n",
       "      <td>0.0</td>\n",
       "      <td>6660.0</td>\n",
       "      <td>0.0</td>\n",
       "      <td>0.0</td>\n",
       "      <td>NaN</td>\n",
       "      <td>NaN</td>\n",
       "      <td>NaN</td>\n",
       "      <td>NaN</td>\n",
       "      <td>NaN</td>\n",
       "      <td>0.0</td>\n",
       "      <td>6660</td>\n",
       "    </tr>\n",
       "    <tr>\n",
       "      <th>AL000008</th>\n",
       "      <td>0.0</td>\n",
       "      <td>0.0</td>\n",
       "      <td>6242.0</td>\n",
       "      <td>0.0</td>\n",
       "      <td>0.0</td>\n",
       "      <td>NaN</td>\n",
       "      <td>NaN</td>\n",
       "      <td>NaN</td>\n",
       "      <td>NaN</td>\n",
       "      <td>NaN</td>\n",
       "      <td>6242.0</td>\n",
       "      <td>6242</td>\n",
       "    </tr>\n",
       "    <tr>\n",
       "      <th>AL000009</th>\n",
       "      <td>0.0</td>\n",
       "      <td>0.0</td>\n",
       "      <td>0.0</td>\n",
       "      <td>0.0</td>\n",
       "      <td>2250.0</td>\n",
       "      <td>NaN</td>\n",
       "      <td>NaN</td>\n",
       "      <td>NaN</td>\n",
       "      <td>NaN</td>\n",
       "      <td>NaN</td>\n",
       "      <td>12.0</td>\n",
       "      <td>2250</td>\n",
       "    </tr>\n",
       "  </tbody>\n",
       "</table>\n",
       "</div>"
      ],
      "text/plain": [
       "          IPPV  PSV    SIMV  SIMVPSV   SIPPV  O2therapy  DUOPAP  NCPAP  CPAP  \\\n",
       "AL000003   0.0  0.0  5160.0      0.0     0.0        NaN     NaN    NaN   NaN   \n",
       "AL000006   0.0  0.0     0.0   2280.0     0.0        NaN     NaN    NaN   NaN   \n",
       "AL000007   0.0  0.0  6660.0      0.0     0.0        NaN     NaN    NaN   NaN   \n",
       "AL000008   0.0  0.0  6242.0      0.0     0.0        NaN     NaN    NaN   NaN   \n",
       "AL000009   0.0  0.0     0.0      0.0  2250.0        NaN     NaN    NaN   NaN   \n",
       "\n",
       "          HFO   VG_on  total  \n",
       "AL000003  NaN     NaN   5160  \n",
       "AL000006  NaN     0.0   2280  \n",
       "AL000007  NaN     0.0   6660  \n",
       "AL000008  NaN  6242.0   6242  \n",
       "AL000009  NaN    12.0   2250  "
      ]
     },
     "execution_count": 9,
     "metadata": {},
     "output_type": "execute_result"
    }
   ],
   "source": [
    "vent_modes.head()"
   ]
  },
  {
   "cell_type": "markdown",
   "metadata": {},
   "source": [
    "### 4. Limit patients to those who meet the selection criteria"
   ]
  },
  {
   "cell_type": "markdown",
   "metadata": {},
   "source": [
    "#### A. Limit analysis to cases not later than `AT000818`"
   ]
  },
  {
   "cell_type": "code",
   "execution_count": 10,
   "metadata": {},
   "outputs": [
    {
     "data": {
      "text/plain": [
       "1450"
      ]
     },
     "execution_count": 10,
     "metadata": {},
     "output_type": "execute_result"
    }
   ],
   "source": [
    "new_index = [item for item in clin_data_comput.index if item.startswith('AL') or int(item[2:].lstrip('0')) <= 818]\n",
    "clin_data_comput = clin_data_comput.loc[new_index]\n",
    "len(clin_data_comput)"
   ]
  },
  {
   "cell_type": "markdown",
   "metadata": {},
   "source": [
    "#### B. Only include patients who are born with <1000 g birth weight"
   ]
  },
  {
   "cell_type": "code",
   "execution_count": 11,
   "metadata": {},
   "outputs": [
    {
     "data": {
      "text/plain": [
       "180"
      ]
     },
     "execution_count": 11,
     "metadata": {},
     "output_type": "execute_result"
    }
   ],
   "source": [
    "clin_data_comput_ELBW = clin_data_comput[clin_data_comput['Birth Weight'] < 1000]\n",
    "len(clin_data_comput_ELBW)"
   ]
  },
  {
   "cell_type": "code",
   "execution_count": 12,
   "metadata": {},
   "outputs": [
    {
     "data": {
      "text/plain": [
       "178"
      ]
     },
     "execution_count": 12,
     "metadata": {},
     "output_type": "execute_result"
    }
   ],
   "source": [
    "# Exclude two infants whose birth weight was actually < 1000 g after detailed review of clinical notes\n",
    "clin_data_comput_ELBW = clin_data_comput_ELBW.drop(['AL000003', 'AL000400'])\n",
    "len(clin_data_comput_ELBW)"
   ]
  },
  {
   "cell_type": "markdown",
   "metadata": {},
   "source": [
    "#### C. Exclude infants who were not transferred on the first day of life\n",
    "\n",
    "`Postnatal Age` is the chronological age at the end of the recording (transfer)"
   ]
  },
  {
   "cell_type": "code",
   "execution_count": 13,
   "metadata": {},
   "outputs": [
    {
     "data": {
      "text/plain": [
       "62"
      ]
     },
     "execution_count": 13,
     "metadata": {},
     "output_type": "execute_result"
    }
   ],
   "source": [
    "clin_data_comput_ELBW = clin_data_comput_ELBW[clin_data_comput_ELBW['Postnatal Age'] < pd.to_timedelta('1D')]\n",
    "len(clin_data_comput_ELBW)"
   ]
  },
  {
   "attachments": {},
   "cell_type": "markdown",
   "metadata": {},
   "source": [
    "#### D. Exclude one infant who was transferred from one level 3 NICU to another\n",
    "\n",
    "- due to capacity reasons (AL000829) \n",
    "- as iNO was not available on the first NICU (AT000707)."
   ]
  },
  {
   "cell_type": "code",
   "execution_count": 14,
   "metadata": {},
   "outputs": [
    {
     "data": {
      "text/plain": [
       "60"
      ]
     },
     "execution_count": 14,
     "metadata": {},
     "output_type": "execute_result"
    }
   ],
   "source": [
    "clin_data_comput_ELBW = clin_data_comput_ELBW.drop(['AL000829', 'AT000707'])\n",
    "len(clin_data_comput_ELBW)"
   ]
  },
  {
   "cell_type": "markdown",
   "metadata": {},
   "source": [
    "#### E. Exclude infants with major congenital malformations \n",
    "\n",
    "- 'AL000084': oesophagus atresia\n",
    "- 'AL000204': gastroschisis"
   ]
  },
  {
   "cell_type": "code",
   "execution_count": 15,
   "metadata": {},
   "outputs": [
    {
     "data": {
      "text/plain": [
       "58"
      ]
     },
     "execution_count": 15,
     "metadata": {},
     "output_type": "execute_result"
    }
   ],
   "source": [
    "clin_data_comput_ELBW = clin_data_comput_ELBW.drop(['AL000084', 'AL000204'])\n",
    "len(clin_data_comput_ELBW)"
   ]
  },
  {
   "cell_type": "markdown",
   "metadata": {},
   "source": [
    "#### F. Exclude one infant where detailed (manually collected) clinical data were not available \n"
   ]
  },
  {
   "cell_type": "code",
   "execution_count": 16,
   "metadata": {},
   "outputs": [
    {
     "data": {
      "text/plain": [
       "57"
      ]
     },
     "execution_count": 16,
     "metadata": {},
     "output_type": "execute_result"
    }
   ],
   "source": [
    "clin_data_comput_ELBW = clin_data_comput_ELBW.drop(['AT000265'])\n",
    "len(clin_data_comput_ELBW)"
   ]
  },
  {
   "cell_type": "markdown",
   "metadata": {},
   "source": [
    "#### G. Exclude infants who had <10 minutes of ventilator data available"
   ]
  },
  {
   "cell_type": "code",
   "execution_count": 17,
   "metadata": {},
   "outputs": [
    {
     "data": {
      "text/plain": [
       "55"
      ]
     },
     "execution_count": 17,
     "metadata": {},
     "output_type": "execute_result"
    }
   ],
   "source": [
    "# Final set of included cases\n",
    "# The cases included in `vent_modes` table have selected as having >10 minutes of ventilator data\n",
    "cases = clin_data_comput_ELBW.index.intersection(vent_modes.index)\n",
    "len(cases)"
   ]
  },
  {
   "cell_type": "code",
   "execution_count": 18,
   "metadata": {},
   "outputs": [
    {
     "data": {
      "text/plain": [
       "{'AL000449', 'AL000889'}"
      ]
     },
     "execution_count": 18,
     "metadata": {},
     "output_type": "execute_result"
    }
   ],
   "source": [
    "# These are the babies where <10 minutes of ventilation data were not available\n",
    "set(clin_data_comput_ELBW.index) - set(cases)"
   ]
  },
  {
   "cell_type": "code",
   "execution_count": 19,
   "metadata": {},
   "outputs": [
    {
     "data": {
      "text/plain": [
       "(55, 55)"
      ]
     },
     "execution_count": 19,
     "metadata": {},
     "output_type": "execute_result"
    }
   ],
   "source": [
    "# Limit clinical data and ventilation modes to the selected cases\n",
    "clin_data_comput_ELBW = clin_data_comput_ELBW.loc[cases]\n",
    "vent_modes_ELBW = vent_modes.loc[cases]\n",
    "(len(clin_data_comput_ELBW), len(vent_modes_ELBW))"
   ]
  },
  {
   "cell_type": "code",
   "execution_count": 20,
   "metadata": {},
   "outputs": [],
   "source": [
    "# Mark computationally collected parameters with the tag `comput`\n",
    "clin_data_comput_ELBW.rename(lambda x: f'{x}_comput', axis=1, inplace=True)"
   ]
  },
  {
   "cell_type": "code",
   "execution_count": 21,
   "metadata": {},
   "outputs": [
    {
     "data": {
      "text/html": [
       "<div>\n",
       "<style scoped>\n",
       "    .dataframe tbody tr th:only-of-type {\n",
       "        vertical-align: middle;\n",
       "    }\n",
       "\n",
       "    .dataframe tbody tr th {\n",
       "        vertical-align: top;\n",
       "    }\n",
       "\n",
       "    .dataframe thead th {\n",
       "        text-align: right;\n",
       "    }\n",
       "</style>\n",
       "<table border=\"1\" class=\"dataframe\">\n",
       "  <thead>\n",
       "    <tr style=\"text-align: right;\">\n",
       "      <th></th>\n",
       "      <th>Case ID_comput</th>\n",
       "      <th>Date of Birth_comput</th>\n",
       "      <th>Gestational Age (weeks)_comput</th>\n",
       "      <th>Birth Weight_comput</th>\n",
       "      <th>Postnatal Age_comput</th>\n",
       "      <th>Corrected gestational Age (weeks)_comput</th>\n",
       "      <th>Weight_comput</th>\n",
       "      <th>ICD_comput</th>\n",
       "      <th>Pathology_English_comput</th>\n",
       "      <th>Recording start_comput</th>\n",
       "      <th>Recording end_comput</th>\n",
       "      <th>Duration_comput</th>\n",
       "    </tr>\n",
       "  </thead>\n",
       "  <tbody>\n",
       "    <tr>\n",
       "      <th>AL000029</th>\n",
       "      <td>42833</td>\n",
       "      <td>2017-04-21 16:55:00</td>\n",
       "      <td>24.0</td>\n",
       "      <td>950.0</td>\n",
       "      <td>0 days 01:31:51</td>\n",
       "      <td>24.0</td>\n",
       "      <td>950.0</td>\n",
       "      <td>[P072, P22, P228, Z381, P809]</td>\n",
       "      <td>[Extreme immaturity of newborn, unspecified we...</td>\n",
       "      <td>2017-04-21 17:38:09</td>\n",
       "      <td>2017-04-21 18:26:51</td>\n",
       "      <td>0 days 00:48:42</td>\n",
       "    </tr>\n",
       "    <tr>\n",
       "      <th>AL000036</th>\n",
       "      <td>42878</td>\n",
       "      <td>2017-04-28 01:21:00</td>\n",
       "      <td>23.0</td>\n",
       "      <td>560.0</td>\n",
       "      <td>0 days 01:54:21</td>\n",
       "      <td>23.0</td>\n",
       "      <td>560.0</td>\n",
       "      <td>[P072, P22, P809]</td>\n",
       "      <td>[Extreme immaturity of newborn, unspecified we...</td>\n",
       "      <td>2017-04-28 01:46:42</td>\n",
       "      <td>2017-04-28 03:15:21</td>\n",
       "      <td>0 days 01:28:39</td>\n",
       "    </tr>\n",
       "  </tbody>\n",
       "</table>\n",
       "</div>"
      ],
      "text/plain": [
       "         Case ID_comput Date of Birth_comput  Gestational Age (weeks)_comput  \\\n",
       "AL000029          42833  2017-04-21 16:55:00                            24.0   \n",
       "AL000036          42878  2017-04-28 01:21:00                            23.0   \n",
       "\n",
       "          Birth Weight_comput Postnatal Age_comput  \\\n",
       "AL000029                950.0      0 days 01:31:51   \n",
       "AL000036                560.0      0 days 01:54:21   \n",
       "\n",
       "          Corrected gestational Age (weeks)_comput  Weight_comput  \\\n",
       "AL000029                                      24.0          950.0   \n",
       "AL000036                                      23.0          560.0   \n",
       "\n",
       "                             ICD_comput  \\\n",
       "AL000029  [P072, P22, P228, Z381, P809]   \n",
       "AL000036              [P072, P22, P809]   \n",
       "\n",
       "                                   Pathology_English_comput  \\\n",
       "AL000029  [Extreme immaturity of newborn, unspecified we...   \n",
       "AL000036  [Extreme immaturity of newborn, unspecified we...   \n",
       "\n",
       "         Recording start_comput Recording end_comput Duration_comput  \n",
       "AL000029    2017-04-21 17:38:09  2017-04-21 18:26:51 0 days 00:48:42  \n",
       "AL000036    2017-04-28 01:46:42  2017-04-28 03:15:21 0 days 01:28:39  "
      ]
     },
     "execution_count": 21,
     "metadata": {},
     "output_type": "execute_result"
    }
   ],
   "source": [
    "clin_data_comput_ELBW.head(2)"
   ]
  },
  {
   "cell_type": "code",
   "execution_count": 22,
   "metadata": {},
   "outputs": [
    {
     "data": {
      "text/html": [
       "<div>\n",
       "<style scoped>\n",
       "    .dataframe tbody tr th:only-of-type {\n",
       "        vertical-align: middle;\n",
       "    }\n",
       "\n",
       "    .dataframe tbody tr th {\n",
       "        vertical-align: top;\n",
       "    }\n",
       "\n",
       "    .dataframe thead th {\n",
       "        text-align: right;\n",
       "    }\n",
       "</style>\n",
       "<table border=\"1\" class=\"dataframe\">\n",
       "  <thead>\n",
       "    <tr style=\"text-align: right;\">\n",
       "      <th></th>\n",
       "      <th>IPPV</th>\n",
       "      <th>PSV</th>\n",
       "      <th>SIMV</th>\n",
       "      <th>SIMVPSV</th>\n",
       "      <th>SIPPV</th>\n",
       "      <th>O2therapy</th>\n",
       "      <th>DUOPAP</th>\n",
       "      <th>NCPAP</th>\n",
       "      <th>CPAP</th>\n",
       "      <th>HFO</th>\n",
       "      <th>VG_on</th>\n",
       "      <th>total</th>\n",
       "    </tr>\n",
       "  </thead>\n",
       "  <tbody>\n",
       "    <tr>\n",
       "      <th>AL000029</th>\n",
       "      <td>0.0</td>\n",
       "      <td>0.0</td>\n",
       "      <td>2820.0</td>\n",
       "      <td>0.0</td>\n",
       "      <td>0.0</td>\n",
       "      <td>0.0</td>\n",
       "      <td>0.0</td>\n",
       "      <td>0.0</td>\n",
       "      <td>0.0</td>\n",
       "      <td>0.0</td>\n",
       "      <td>0.0</td>\n",
       "      <td>2820</td>\n",
       "    </tr>\n",
       "    <tr>\n",
       "      <th>AL000036</th>\n",
       "      <td>0.0</td>\n",
       "      <td>0.0</td>\n",
       "      <td>0.0</td>\n",
       "      <td>0.0</td>\n",
       "      <td>3962.0</td>\n",
       "      <td>0.0</td>\n",
       "      <td>0.0</td>\n",
       "      <td>0.0</td>\n",
       "      <td>0.0</td>\n",
       "      <td>0.0</td>\n",
       "      <td>3962.0</td>\n",
       "      <td>3962</td>\n",
       "    </tr>\n",
       "    <tr>\n",
       "      <th>AL000089</th>\n",
       "      <td>0.0</td>\n",
       "      <td>0.0</td>\n",
       "      <td>2596.0</td>\n",
       "      <td>0.0</td>\n",
       "      <td>886.0</td>\n",
       "      <td>0.0</td>\n",
       "      <td>0.0</td>\n",
       "      <td>0.0</td>\n",
       "      <td>0.0</td>\n",
       "      <td>0.0</td>\n",
       "      <td>3464.0</td>\n",
       "      <td>3482</td>\n",
       "    </tr>\n",
       "    <tr>\n",
       "      <th>AL000104</th>\n",
       "      <td>0.0</td>\n",
       "      <td>0.0</td>\n",
       "      <td>3362.0</td>\n",
       "      <td>0.0</td>\n",
       "      <td>5160.0</td>\n",
       "      <td>0.0</td>\n",
       "      <td>0.0</td>\n",
       "      <td>0.0</td>\n",
       "      <td>0.0</td>\n",
       "      <td>0.0</td>\n",
       "      <td>8516.0</td>\n",
       "      <td>8522</td>\n",
       "    </tr>\n",
       "    <tr>\n",
       "      <th>AL000110</th>\n",
       "      <td>0.0</td>\n",
       "      <td>0.0</td>\n",
       "      <td>0.0</td>\n",
       "      <td>0.0</td>\n",
       "      <td>6902.0</td>\n",
       "      <td>0.0</td>\n",
       "      <td>0.0</td>\n",
       "      <td>0.0</td>\n",
       "      <td>0.0</td>\n",
       "      <td>0.0</td>\n",
       "      <td>5402.0</td>\n",
       "      <td>6902</td>\n",
       "    </tr>\n",
       "  </tbody>\n",
       "</table>\n",
       "</div>"
      ],
      "text/plain": [
       "          IPPV  PSV    SIMV  SIMVPSV   SIPPV  O2therapy  DUOPAP  NCPAP  CPAP  \\\n",
       "AL000029   0.0  0.0  2820.0      0.0     0.0        0.0     0.0    0.0   0.0   \n",
       "AL000036   0.0  0.0     0.0      0.0  3962.0        0.0     0.0    0.0   0.0   \n",
       "AL000089   0.0  0.0  2596.0      0.0   886.0        0.0     0.0    0.0   0.0   \n",
       "AL000104   0.0  0.0  3362.0      0.0  5160.0        0.0     0.0    0.0   0.0   \n",
       "AL000110   0.0  0.0     0.0      0.0  6902.0        0.0     0.0    0.0   0.0   \n",
       "\n",
       "          HFO   VG_on  total  \n",
       "AL000029  0.0     0.0   2820  \n",
       "AL000036  0.0  3962.0   3962  \n",
       "AL000089  0.0  3464.0   3482  \n",
       "AL000104  0.0  8516.0   8522  \n",
       "AL000110  0.0  5402.0   6902  "
      ]
     },
     "execution_count": 22,
     "metadata": {},
     "output_type": "execute_result"
    }
   ],
   "source": [
    "# Missing data means the ventilator mode did not occur in the recording\n",
    "vent_modes_ELBW = vent_modes_ELBW.replace(np.nan, 0)\n",
    "vent_modes_ELBW.head()"
   ]
  },
  {
   "cell_type": "code",
   "execution_count": 23,
   "metadata": {},
   "outputs": [
    {
     "data": {
      "text/plain": [
       "50"
      ]
     },
     "execution_count": 23,
     "metadata": {},
     "output_type": "execute_result"
    }
   ],
   "source": [
    "# Limit blood gases to the final dataset\n",
    "blood_gases_comput =  {recording : dta for recording, dta in blood_gases_comput.items() if recording in cases}\n",
    "len(blood_gases_comput)"
   ]
  },
  {
   "cell_type": "markdown",
   "metadata": {},
   "source": [
    "### 5. Export selected and processed clinical data, blood gases and ventilator modes to Excel files and pickle archives"
   ]
  },
  {
   "cell_type": "code",
   "execution_count": 24,
   "metadata": {},
   "outputs": [],
   "source": [
    "# Clinical data of final dataset\n",
    "with pd.ExcelWriter(os.path.join(DIR_WRITE, f'clin_data_comput_ELBW.xlsx')) as writer:\n",
    "    clin_data_comput_ELBW.to_excel(writer, sheet_name='clin_data_comput')\n",
    "with open(os.path.join(DATA_DUMP, 'clin_data_comput_ELBW.pickle'), 'wb') as handle:\n",
    "    pickle.dump(clin_data_comput_ELBW, handle, protocol=pickle.HIGHEST_PROTOCOL)\n",
    "\n",
    "# Ventilation modes in the final dataset\n",
    "with pd.ExcelWriter(os.path.join(DIR_WRITE, f'ventilation_modes_ELBW.xlsx')) as writer:\n",
    "    vent_modes_ELBW.to_excel(writer, sheet_name='ventilation modes')\n",
    "with open(os.path.join(DATA_DUMP, 'ventilation_modes_ELBW.pickle'), 'wb') as handle:\n",
    "    pickle.dump(vent_modes_ELBW, handle, protocol=pickle.HIGHEST_PROTOCOL)\n",
    "\n",
    "# Blood gases for the final dataset\n",
    "with open(os.path.join(DATA_DUMP, 'blood_gases_comput.pickle'), 'wb') as handle:\n",
    "    pickle.dump(blood_gases_comput, handle, protocol=pickle.HIGHEST_PROTOCOL)   "
   ]
  },
  {
   "cell_type": "markdown",
   "metadata": {},
   "source": [
    "### 6. Import and process manually collected clinical data"
   ]
  },
  {
   "cell_type": "markdown",
   "metadata": {},
   "source": [
    "#### A. Demographic and clinical data"
   ]
  },
  {
   "cell_type": "code",
   "execution_count": 25,
   "metadata": {},
   "outputs": [
    {
     "data": {
      "text/plain": [
       "55"
      ]
     },
     "execution_count": 25,
     "metadata": {},
     "output_type": "execute_result"
    }
   ],
   "source": [
    "clin_data_manual = pd.read_excel(os.path.join(DIR_READ_CLIN, 'ELBW_table_v2_extended_1023.xlsx'),\n",
    "                sheet_name='Demographic & clinical data' , header=0, index_col=[0,1])\n",
    "clin_data_manual.reset_index(0, drop=True, inplace=True)\n",
    "# Mark manually collected data with the tag `manual`\n",
    "clin_data_manual.rename(lambda x: f'{x}_manual', axis=1, inplace=True)\n",
    "len(clin_data_manual)"
   ]
  },
  {
   "cell_type": "code",
   "execution_count": 26,
   "metadata": {},
   "outputs": [],
   "source": [
    "column_names_orig = clin_data_manual.columns\n",
    "column_names_orig;"
   ]
  },
  {
   "cell_type": "code",
   "execution_count": 27,
   "metadata": {},
   "outputs": [],
   "source": [
    "column_names_new = ['Date of Birth_manual', 'Arrival of PCAM_manual',\n",
    "       'End of transport_manual', 'Km start_manual', 'Km end_manual', 'Km_manual', 'PCAM at birth_manual',\n",
    "       'Born outside of hosp_manual', 'Gest Week_manual', 'Birth weight_manual', 'Sex_manual', 'Twins_manual',\n",
    "       'First responder_manual', 'Mode of delivery_manual', 'Apgar 1_manual', 'Apgar 5_manual', 'Apgar 10_manual',\n",
    "       'Antenatal steroid_manual', 'Maternal complications_manual', 'Delayed cord clamping_manual', 'Resp supp after birth_manual',\n",
    "       'PIP_manual', 'PEEP_manual', 'Flow_manual', 'FiO2 (%)_manual', 'Who performed intub_manual',\n",
    "       'Number of intubation attempts_manual', 'Size of ETT_manual', 'Chest compression_manual', 'Reintubation by PCAM_manual',\n",
    "       'Surfactant admin_manual', 'Time of surfactant_manual', 'CV support drug_manual', 'Fluid bolus_manual', 'Adrenaline_manual',\n",
    "       'Fentanyl_manual']\n",
    "\n",
    "rename_dct = dict(zip(column_names_orig, column_names_new))\n",
    "rename_dct;"
   ]
  },
  {
   "cell_type": "code",
   "execution_count": 28,
   "metadata": {},
   "outputs": [
    {
     "name": "stdout",
     "output_type": "stream",
     "text": [
      "<class 'pandas.core.frame.DataFrame'>\n",
      "Index: 55 entries, AL000029 to AT000786\n",
      "Data columns (total 36 columns):\n",
      " #   Column                                Non-Null Count  Dtype         \n",
      "---  ------                                --------------  -----         \n",
      " 0   Date of Birth_manual                  55 non-null     datetime64[ns]\n",
      " 1   Arrival of PCAM_manual                55 non-null     datetime64[ns]\n",
      " 2   End of transport_manual               55 non-null     datetime64[ns]\n",
      " 3   Km start_manual                       55 non-null     int64         \n",
      " 4   Km end_manual                         55 non-null     int64         \n",
      " 5   Km_manual                             55 non-null     int64         \n",
      " 6   PCAM at birth_manual                  55 non-null     int64         \n",
      " 7   Born outside of hosp_manual           55 non-null     int64         \n",
      " 8   Gest Week_manual                      55 non-null     int64         \n",
      " 9   Birth weight_manual                   55 non-null     int64         \n",
      " 10  Sex_manual                            55 non-null     int64         \n",
      " 11  Twins_manual                          55 non-null     int64         \n",
      " 12  First responder_manual                55 non-null     int64         \n",
      " 13  Mode of delivery_manual               55 non-null     int64         \n",
      " 14  Apgar 1_manual                        49 non-null     float64       \n",
      " 15  Apgar 5_manual                        48 non-null     float64       \n",
      " 16  Apgar 10_manual                       25 non-null     float64       \n",
      " 17  Antenatal steroid_manual              48 non-null     float64       \n",
      " 18  Maternal complications_manual         55 non-null     int64         \n",
      " 19  Delayed cord clamping_manual          39 non-null     float64       \n",
      " 20  Resp supp after birth_manual          55 non-null     int64         \n",
      " 21  PIP_manual                            16 non-null     float64       \n",
      " 22  PEEP_manual                           19 non-null     float64       \n",
      " 23  Flow_manual                           3 non-null      float64       \n",
      " 24  FiO2 (%)_manual                       43 non-null     float64       \n",
      " 25  Who performed intub_manual            55 non-null     int64         \n",
      " 26  Number of intubation attempts_manual  13 non-null     float64       \n",
      " 27  Size of ETT_manual                    46 non-null     float64       \n",
      " 28  Chest compression_manual              55 non-null     int64         \n",
      " 29  Reintubation by PCAM_manual           55 non-null     int64         \n",
      " 30  Surfactant admin_manual               55 non-null     int64         \n",
      " 31  Time of surfactant_manual             49 non-null     object        \n",
      " 32  CV support drug_manual                55 non-null     int64         \n",
      " 33  Fluid bolus_manual                    55 non-null     int64         \n",
      " 34  Adrenaline_manual                     55 non-null     int64         \n",
      " 35  Fentanyl_manual                       55 non-null     int64         \n",
      "dtypes: datetime64[ns](3), float64(11), int64(21), object(1)\n",
      "memory usage: 15.9+ KB\n"
     ]
    }
   ],
   "source": [
    "# Rename columns with simpler names\n",
    "clin_data_manual.rename(rename_dct, axis=1, inplace=True)\n",
    "clin_data_manual.info()"
   ]
  },
  {
   "cell_type": "code",
   "execution_count": 29,
   "metadata": {},
   "outputs": [
    {
     "data": {
      "text/html": [
       "<div>\n",
       "<style scoped>\n",
       "    .dataframe tbody tr th:only-of-type {\n",
       "        vertical-align: middle;\n",
       "    }\n",
       "\n",
       "    .dataframe tbody tr th {\n",
       "        vertical-align: top;\n",
       "    }\n",
       "\n",
       "    .dataframe thead th {\n",
       "        text-align: right;\n",
       "    }\n",
       "</style>\n",
       "<table border=\"1\" class=\"dataframe\">\n",
       "  <thead>\n",
       "    <tr style=\"text-align: right;\">\n",
       "      <th></th>\n",
       "      <th>Date of Birth_manual</th>\n",
       "      <th>Arrival of PCAM_manual</th>\n",
       "      <th>End of transport_manual</th>\n",
       "      <th>Km start_manual</th>\n",
       "      <th>Km end_manual</th>\n",
       "      <th>Km_manual</th>\n",
       "      <th>PCAM at birth_manual</th>\n",
       "      <th>Born outside of hosp_manual</th>\n",
       "      <th>Gest Week_manual</th>\n",
       "      <th>Birth weight_manual</th>\n",
       "      <th>Sex_manual</th>\n",
       "      <th>Twins_manual</th>\n",
       "      <th>First responder_manual</th>\n",
       "      <th>Mode of delivery_manual</th>\n",
       "      <th>Apgar 1_manual</th>\n",
       "      <th>Apgar 5_manual</th>\n",
       "      <th>Apgar 10_manual</th>\n",
       "      <th>Antenatal steroid_manual</th>\n",
       "      <th>Maternal complications_manual</th>\n",
       "      <th>Delayed cord clamping_manual</th>\n",
       "      <th>Resp supp after birth_manual</th>\n",
       "      <th>PIP_manual</th>\n",
       "      <th>PEEP_manual</th>\n",
       "      <th>Flow_manual</th>\n",
       "      <th>FiO2 (%)_manual</th>\n",
       "      <th>Who performed intub_manual</th>\n",
       "      <th>Number of intubation attempts_manual</th>\n",
       "      <th>Size of ETT_manual</th>\n",
       "      <th>Chest compression_manual</th>\n",
       "      <th>Reintubation by PCAM_manual</th>\n",
       "      <th>Surfactant admin_manual</th>\n",
       "      <th>Time of surfactant_manual</th>\n",
       "      <th>CV support drug_manual</th>\n",
       "      <th>Fluid bolus_manual</th>\n",
       "      <th>Adrenaline_manual</th>\n",
       "      <th>Fentanyl_manual</th>\n",
       "    </tr>\n",
       "    <tr>\n",
       "      <th>Ventilation ID</th>\n",
       "      <th></th>\n",
       "      <th></th>\n",
       "      <th></th>\n",
       "      <th></th>\n",
       "      <th></th>\n",
       "      <th></th>\n",
       "      <th></th>\n",
       "      <th></th>\n",
       "      <th></th>\n",
       "      <th></th>\n",
       "      <th></th>\n",
       "      <th></th>\n",
       "      <th></th>\n",
       "      <th></th>\n",
       "      <th></th>\n",
       "      <th></th>\n",
       "      <th></th>\n",
       "      <th></th>\n",
       "      <th></th>\n",
       "      <th></th>\n",
       "      <th></th>\n",
       "      <th></th>\n",
       "      <th></th>\n",
       "      <th></th>\n",
       "      <th></th>\n",
       "      <th></th>\n",
       "      <th></th>\n",
       "      <th></th>\n",
       "      <th></th>\n",
       "      <th></th>\n",
       "      <th></th>\n",
       "      <th></th>\n",
       "      <th></th>\n",
       "      <th></th>\n",
       "      <th></th>\n",
       "      <th></th>\n",
       "    </tr>\n",
       "  </thead>\n",
       "  <tbody>\n",
       "    <tr>\n",
       "      <th>AL000029</th>\n",
       "      <td>2017-04-21 16:55:00</td>\n",
       "      <td>2017-04-21 17:06:00</td>\n",
       "      <td>2017-04-21 18:43:00</td>\n",
       "      <td>250802</td>\n",
       "      <td>250803</td>\n",
       "      <td>1</td>\n",
       "      <td>0</td>\n",
       "      <td>1</td>\n",
       "      <td>24</td>\n",
       "      <td>950</td>\n",
       "      <td>1</td>\n",
       "      <td>0</td>\n",
       "      <td>1</td>\n",
       "      <td>1</td>\n",
       "      <td>2.0</td>\n",
       "      <td>4.0</td>\n",
       "      <td>7.0</td>\n",
       "      <td>0.0</td>\n",
       "      <td>0</td>\n",
       "      <td>1.0</td>\n",
       "      <td>1</td>\n",
       "      <td>NaN</td>\n",
       "      <td>NaN</td>\n",
       "      <td>9.0</td>\n",
       "      <td>NaN</td>\n",
       "      <td>2</td>\n",
       "      <td>2.0</td>\n",
       "      <td>2.0</td>\n",
       "      <td>0</td>\n",
       "      <td>0</td>\n",
       "      <td>1</td>\n",
       "      <td>17:20:00</td>\n",
       "      <td>0</td>\n",
       "      <td>0</td>\n",
       "      <td>0</td>\n",
       "      <td>0</td>\n",
       "    </tr>\n",
       "    <tr>\n",
       "      <th>AL000036</th>\n",
       "      <td>2017-04-28 01:21:00</td>\n",
       "      <td>2017-04-28 00:08:00</td>\n",
       "      <td>2017-04-28 03:41:00</td>\n",
       "      <td>251244</td>\n",
       "      <td>251253</td>\n",
       "      <td>9</td>\n",
       "      <td>1</td>\n",
       "      <td>0</td>\n",
       "      <td>23</td>\n",
       "      <td>560</td>\n",
       "      <td>1</td>\n",
       "      <td>0</td>\n",
       "      <td>3</td>\n",
       "      <td>1</td>\n",
       "      <td>2.0</td>\n",
       "      <td>4.0</td>\n",
       "      <td>4.0</td>\n",
       "      <td>0.5</td>\n",
       "      <td>0</td>\n",
       "      <td>1.0</td>\n",
       "      <td>2</td>\n",
       "      <td>18.0</td>\n",
       "      <td>5.0</td>\n",
       "      <td>NaN</td>\n",
       "      <td>40.0</td>\n",
       "      <td>2</td>\n",
       "      <td>1.0</td>\n",
       "      <td>2.0</td>\n",
       "      <td>0</td>\n",
       "      <td>0</td>\n",
       "      <td>1</td>\n",
       "      <td>01:35:00</td>\n",
       "      <td>0</td>\n",
       "      <td>1</td>\n",
       "      <td>0</td>\n",
       "      <td>0</td>\n",
       "    </tr>\n",
       "  </tbody>\n",
       "</table>\n",
       "</div>"
      ],
      "text/plain": [
       "               Date of Birth_manual Arrival of PCAM_manual  \\\n",
       "Ventilation ID                                               \n",
       "AL000029        2017-04-21 16:55:00    2017-04-21 17:06:00   \n",
       "AL000036        2017-04-28 01:21:00    2017-04-28 00:08:00   \n",
       "\n",
       "               End of transport_manual  Km start_manual  Km end_manual  \\\n",
       "Ventilation ID                                                           \n",
       "AL000029           2017-04-21 18:43:00           250802         250803   \n",
       "AL000036           2017-04-28 03:41:00           251244         251253   \n",
       "\n",
       "                Km_manual  PCAM at birth_manual  Born outside of hosp_manual  \\\n",
       "Ventilation ID                                                                 \n",
       "AL000029                1                     0                            1   \n",
       "AL000036                9                     1                            0   \n",
       "\n",
       "                Gest Week_manual  Birth weight_manual  Sex_manual  \\\n",
       "Ventilation ID                                                      \n",
       "AL000029                      24                  950           1   \n",
       "AL000036                      23                  560           1   \n",
       "\n",
       "                Twins_manual  First responder_manual  Mode of delivery_manual  \\\n",
       "Ventilation ID                                                                  \n",
       "AL000029                   0                       1                        1   \n",
       "AL000036                   0                       3                        1   \n",
       "\n",
       "                Apgar 1_manual  Apgar 5_manual  Apgar 10_manual  \\\n",
       "Ventilation ID                                                    \n",
       "AL000029                   2.0             4.0              7.0   \n",
       "AL000036                   2.0             4.0              4.0   \n",
       "\n",
       "                Antenatal steroid_manual  Maternal complications_manual  \\\n",
       "Ventilation ID                                                            \n",
       "AL000029                             0.0                              0   \n",
       "AL000036                             0.5                              0   \n",
       "\n",
       "                Delayed cord clamping_manual  Resp supp after birth_manual  \\\n",
       "Ventilation ID                                                               \n",
       "AL000029                                 1.0                             1   \n",
       "AL000036                                 1.0                             2   \n",
       "\n",
       "                PIP_manual  PEEP_manual  Flow_manual  FiO2 (%)_manual  \\\n",
       "Ventilation ID                                                          \n",
       "AL000029               NaN          NaN          9.0              NaN   \n",
       "AL000036              18.0          5.0          NaN             40.0   \n",
       "\n",
       "                Who performed intub_manual  \\\n",
       "Ventilation ID                               \n",
       "AL000029                                 2   \n",
       "AL000036                                 2   \n",
       "\n",
       "                Number of intubation attempts_manual  Size of ETT_manual  \\\n",
       "Ventilation ID                                                             \n",
       "AL000029                                         2.0                 2.0   \n",
       "AL000036                                         1.0                 2.0   \n",
       "\n",
       "                Chest compression_manual  Reintubation by PCAM_manual  \\\n",
       "Ventilation ID                                                          \n",
       "AL000029                               0                            0   \n",
       "AL000036                               0                            0   \n",
       "\n",
       "                Surfactant admin_manual Time of surfactant_manual  \\\n",
       "Ventilation ID                                                      \n",
       "AL000029                              1                  17:20:00   \n",
       "AL000036                              1                  01:35:00   \n",
       "\n",
       "                CV support drug_manual  Fluid bolus_manual  Adrenaline_manual  \\\n",
       "Ventilation ID                                                                  \n",
       "AL000029                             0                   0                  0   \n",
       "AL000036                             0                   1                  0   \n",
       "\n",
       "                Fentanyl_manual  \n",
       "Ventilation ID                   \n",
       "AL000029                      0  \n",
       "AL000036                      0  "
      ]
     },
     "execution_count": 29,
     "metadata": {},
     "output_type": "execute_result"
    }
   ],
   "source": [
    "clin_data_manual.head(2)"
   ]
  },
  {
   "cell_type": "markdown",
   "metadata": {},
   "source": [
    "#### B. Snap II score"
   ]
  },
  {
   "cell_type": "code",
   "execution_count": 30,
   "metadata": {},
   "outputs": [
    {
     "name": "stdout",
     "output_type": "stream",
     "text": [
      "<class 'pandas.core.frame.DataFrame'>\n",
      "Index: 55 entries, AL000029 to AT000786\n",
      "Data columns (total 23 columns):\n",
      " #   Column                   Non-Null Count  Dtype  \n",
      "---  ------                   --------------  -----  \n",
      " 0   Mean BP_snap             45 non-null     float64\n",
      " 1   Score_snap               45 non-null     float64\n",
      " 2   Lowest temperature_snap  54 non-null     float64\n",
      " 3   Score.1_snap             54 non-null     float64\n",
      " 4   PO2_snap                 49 non-null     float64\n",
      " 5   FiO2_snap                50 non-null     float64\n",
      " 6   PO2/FiO2_snap            50 non-null     float64\n",
      " 7   Score.2_snap             48 non-null     float64\n",
      " 8   Lowest pH_snap           54 non-null     float64\n",
      " 9   Score.3_snap             54 non-null     float64\n",
      " 10  Multiple seizures_snap   55 non-null     int64  \n",
      " 11  Urine output_snap        55 non-null     int64  \n",
      " 12  Apgar score 1_snap       49 non-null     float64\n",
      " 13  Apgar score 5_snap       48 non-null     float64\n",
      " 14  Apgar score 10_snap      25 non-null     float64\n",
      " 15  Score.4_snap             52 non-null     float64\n",
      " 16  Birth weight_snap        55 non-null     int64  \n",
      " 17  Score.5_snap             55 non-null     int64  \n",
      " 18  GW_snap                  55 non-null     int64  \n",
      " 19  SGA_snap                 55 non-null     int64  \n",
      " 20  Score.6_snap             55 non-null     int64  \n",
      " 21  SNAP-II_snap             55 non-null     int64  \n",
      " 22  SNAPPE-II_snap           55 non-null     int64  \n",
      "dtypes: float64(14), int64(9)\n",
      "memory usage: 10.3+ KB\n"
     ]
    }
   ],
   "source": [
    "snap = pd.read_excel(os.path.join(DIR_READ_CLIN, 'ELBW_table_v2_extended_1023.xlsx'), \n",
    "                        sheet_name='SNAPII-SNAPPE-II', header=0, index_col=[0,1])\n",
    "# Mark columns with the tag `snap`\n",
    "snap.reset_index(0, drop=True, inplace=True)\n",
    "snap.rename(lambda x: f'{x}_snap', axis=1, inplace=True)\n",
    "\n",
    "snap.info()"
   ]
  },
  {
   "cell_type": "markdown",
   "metadata": {},
   "source": [
    "#### C. Outcome"
   ]
  },
  {
   "cell_type": "code",
   "execution_count": 31,
   "metadata": {},
   "outputs": [
    {
     "name": "stdout",
     "output_type": "stream",
     "text": [
      "<class 'pandas.core.frame.DataFrame'>\n",
      "Index: 55 entries, AL000029 to AT000786\n",
      "Data columns (total 11 columns):\n",
      " #   Column                        Non-Null Count  Dtype  \n",
      "---  ------                        --------------  -----  \n",
      " 0   Patient report_outcome        55 non-null     int64  \n",
      " 1   Death_outcome                 52 non-null     float64\n",
      " 2   Neurodev. Impairment_outcome  8 non-null      float64\n",
      " 3   Length of AB (days)_outcome   24 non-null     float64\n",
      " 4   Inv. Vent (days)_outcome      24 non-null     float64\n",
      " 5   Non-inv. Vent (days)_outcome  23 non-null     object \n",
      " 6   Sepsis_outcome                28 non-null     float64\n",
      " 7   IVH_outcome                   28 non-null     float64\n",
      " 8   ROP_outcome                   27 non-null     float64\n",
      " 9   NEC_outcome                   28 non-null     float64\n",
      " 10  BPD_outcome                   28 non-null     float64\n",
      "dtypes: float64(9), int64(1), object(1)\n",
      "memory usage: 5.2+ KB\n"
     ]
    }
   ],
   "source": [
    "outcome = pd.read_excel(os.path.join(DIR_READ_CLIN, 'ELBW_table_v2_extended_1023.xlsx'), \n",
    "                    sheet_name='Outcome', header=0, index_col=[0,1])\n",
    "outcome.reset_index(0, drop=True, inplace=True)\n",
    "# Mark columns with the tag `outcome`\n",
    "outcome.rename(lambda x: f'{x}_outcome', axis=1, inplace=True)\n",
    "\n",
    "outcome.info()"
   ]
  },
  {
   "cell_type": "markdown",
   "metadata": {},
   "source": [
    "#### D. Vital parameters"
   ]
  },
  {
   "cell_type": "code",
   "execution_count": 32,
   "metadata": {},
   "outputs": [
    {
     "name": "stdout",
     "output_type": "stream",
     "text": [
      "<class 'pandas.core.frame.DataFrame'>\n",
      "Index: 55 entries, AL000029 to AT000786\n",
      "Data columns (total 24 columns):\n",
      " #   Column                                                         Non-Null Count  Dtype  \n",
      "---  ------                                                         --------------  -----  \n",
      " 0   (At arrival of PCAM, Body temperature (°C))                    54 non-null     float64\n",
      " 1   (At arrival of PCAM, Blood sugar)                              50 non-null     float64\n",
      " 2   (At arrival of PCAM, SYS BP)                                   37 non-null     float64\n",
      " 3   (At arrival of PCAM, DIA BP)                                   36 non-null     float64\n",
      " 4   (At arrival of PCAM, MAP)                                      36 non-null     float64\n",
      " 5   (At arrival of PCAM, HR)                                       55 non-null     int64  \n",
      " 6   (At arrival of PCAM, RR)                                       53 non-null     float64\n",
      " 7   (At arrival of PCAM, Resp. support (1-mask, 2-cPAP, 3-intub))  55 non-null     int64  \n",
      " 8   (At arrival of PCAM, PIP)                                      22 non-null     float64\n",
      " 9   (At arrival of PCAM, PEEP)                                     27 non-null     float64\n",
      " 10  (At arrival of PCAM, Flow)                                     3 non-null      float64\n",
      " 11  (At arrival of PCAM, FiO2)                                     47 non-null     float64\n",
      " 12  (At arrival to NICU, Body temperature (°C))                    54 non-null     float64\n",
      " 13  (At arrival to NICU, Blood sugar)                              49 non-null     float64\n",
      " 14  (At arrival to NICU, SYS BP)                                   47 non-null     float64\n",
      " 15  (At arrival to NICU, DIA BP)                                   47 non-null     float64\n",
      " 16  (At arrival to NICU, MAP)                                      46 non-null     float64\n",
      " 17  (At arrival to NICU, HR)                                       55 non-null     int64  \n",
      " 18  (At arrival to NICU, RR)                                       55 non-null     int64  \n",
      " 19  (At arrival to NICU, Resp. support (1-cPAP, 2-intub.))         55 non-null     int64  \n",
      " 20  (At arrival to NICU, PIP)                                      52 non-null     float64\n",
      " 21  (At arrival to NICU, PEEP)                                     55 non-null     int64  \n",
      " 22  (At arrival to NICU, Flow)                                     0 non-null      float64\n",
      " 23  (At arrival to NICU, FiO2)                                     55 non-null     int64  \n",
      "dtypes: float64(17), int64(7)\n",
      "memory usage: 10.7+ KB\n"
     ]
    }
   ],
   "source": [
    "vital_parameters = pd.read_excel(os.path.join(DIR_READ_CLIN, 'ELBW_table_v2_extended_1023.xlsx'), \n",
    "                          sheet_name='Vital parameters', header=[0,1], index_col=[0,1])\n",
    "vital_parameters.reset_index(0, drop=True, inplace=True)\n",
    "vital_parameters.columns.names = ['timing', 'parameter']\n",
    "vital_parameters.info()"
   ]
  },
  {
   "cell_type": "markdown",
   "metadata": {},
   "source": [
    "#### E. Blood gases\n",
    "\n",
    "Blood gases at arrival of the transport service and at the end of transfer (during the handover to tertiary NICU). These data have been manually collected from clinical notes"
   ]
  },
  {
   "cell_type": "code",
   "execution_count": 33,
   "metadata": {},
   "outputs": [
    {
     "name": "stdout",
     "output_type": "stream",
     "text": [
      "<class 'pandas.core.frame.DataFrame'>\n",
      "Index: 55 entries, AL000029 to AT000786\n",
      "Data columns (total 20 columns):\n",
      " #   Column                                            Non-Null Count  Dtype  \n",
      "---  ------                                            --------------  -----  \n",
      " 0   (At arrival of PCAM, Time)                        50 non-null     object \n",
      " 1   (At arrival of PCAM, type 1-capillary, 2-venous)  49 non-null     float64\n",
      " 2   (At arrival of PCAM, pH)                          50 non-null     float64\n",
      " 3   (At arrival of PCAM, BE)                          49 non-null     float64\n",
      " 4   (At arrival of PCAM, Lactate)                     18 non-null     float64\n",
      " 5   (At arrival of PCAM, HCO3)                        49 non-null     float64\n",
      " 6   (At arrival of PCAM, pCO2)                        50 non-null     float64\n",
      " 7   (At arrival of PCAM, pO2)                         50 non-null     float64\n",
      " 8   (At arrival of PCAM, Saturation)                  46 non-null     float64\n",
      " 9   (At arrival of PCAM, FiO2)                        48 non-null     float64\n",
      " 10  (At arrival to NICU, Time)                        51 non-null     object \n",
      " 11  (At arrival to NICU, type 1-capillary, 2-venous)  50 non-null     float64\n",
      " 12  (At arrival to NICU, pH)                          51 non-null     float64\n",
      " 13  (At arrival to NICU, BE)                          51 non-null     float64\n",
      " 14  (At arrival to NICU, Lactate)                     38 non-null     float64\n",
      " 15  (At arrival to NICU, HCO3)                        51 non-null     float64\n",
      " 16  (At arrival to NICU, pCO2)                        51 non-null     float64\n",
      " 17  (At arrival to NICU, pO2)                         49 non-null     float64\n",
      " 18  (At arrival to NICU, Saturation)                  46 non-null     float64\n",
      " 19  (At arrival to NICU, FiO2)                        50 non-null     float64\n",
      "dtypes: float64(18), object(2)\n",
      "memory usage: 9.0+ KB\n"
     ]
    }
   ],
   "source": [
    "blood_gases_manual = pd.read_excel(os.path.join(DIR_READ_CLIN, 'ELBW_table_v2_extended_1023.xlsx'), \n",
    "                          sheet_name='Blood gas', header=[0,1], index_col=[0,1])\n",
    "blood_gases_manual.reset_index(0, drop=True, inplace=True)\n",
    "blood_gases_manual.columns.names = ['timing', 'parameter']\n",
    "blood_gases_manual.info()"
   ]
  },
  {
   "cell_type": "markdown",
   "metadata": {},
   "source": [
    "Blood gases were available in 49/55 and 50/50 cases, during arrival and at handover, respectively.\n",
    "None of them was arterial"
   ]
  },
  {
   "cell_type": "code",
   "execution_count": 34,
   "metadata": {},
   "outputs": [
    {
     "data": {
      "text/plain": [
       "type 1-capillary, 2-venous\n",
       "1.0    47\n",
       "NaN     6\n",
       "2.0     2\n",
       "Name: count, dtype: int64"
      ]
     },
     "execution_count": 34,
     "metadata": {},
     "output_type": "execute_result"
    }
   ],
   "source": [
    "# 1:capillary, 2:venous\n",
    "blood_gases_manual['At arrival of PCAM']['type 1-capillary, 2-venous'].value_counts(dropna=False)"
   ]
  },
  {
   "cell_type": "code",
   "execution_count": 35,
   "metadata": {},
   "outputs": [
    {
     "data": {
      "text/plain": [
       "type 1-capillary, 2-venous\n",
       "1.0    50\n",
       "NaN     5\n",
       "Name: count, dtype: int64"
      ]
     },
     "execution_count": 35,
     "metadata": {},
     "output_type": "execute_result"
    }
   ],
   "source": [
    "# 1:capillary, 2:venous\n",
    "blood_gases_manual['At arrival to NICU']['type 1-capillary, 2-venous'].value_counts(dropna=False)"
   ]
  },
  {
   "cell_type": "code",
   "execution_count": 36,
   "metadata": {},
   "outputs": [],
   "source": [
    "# Exclude venous blood gases\n",
    "blood_gases_manual = blood_gases_manual.swaplevel(axis=1)\n",
    "blood_gases_manual = blood_gases_manual[blood_gases_manual['type 1-capillary, 2-venous'] == 1]\n",
    "blood_gases_manual = blood_gases_manual.swaplevel(axis=1)"
   ]
  },
  {
   "cell_type": "markdown",
   "metadata": {},
   "source": [
    "### 7. Further process, combined and export the processed demographic, clinical and outcome data"
   ]
  },
  {
   "cell_type": "code",
   "execution_count": 37,
   "metadata": {},
   "outputs": [
    {
     "data": {
      "text/plain": [
       "(set(), set())"
      ]
     },
     "execution_count": 37,
     "metadata": {},
     "output_type": "execute_result"
    }
   ],
   "source": [
    "# Check that there is complete overlap between computationally identified and manually reviewed cases\n",
    "(set(clin_data_comput_ELBW.index) - set(clin_data_manual.index), \n",
    " set(clin_data_manual.index) - set(clin_data_comput_ELBW.index))"
   ]
  },
  {
   "cell_type": "code",
   "execution_count": 38,
   "metadata": {},
   "outputs": [],
   "source": [
    "clin_data_combined = pd.merge(clin_data_manual, clin_data_comput_ELBW, how='inner', left_index=True, right_index=True)\n",
    "clin_data_combined = pd.merge(clin_data_combined, snap, how='left', left_index=True, right_index=True)\n",
    "clin_data_combined = pd.merge(clin_data_combined, outcome, how='left', left_index=True, right_index=True)\n",
    "clin_data_combined = clin_data_combined.sort_index(axis=1)"
   ]
  },
  {
   "cell_type": "code",
   "execution_count": 39,
   "metadata": {},
   "outputs": [],
   "source": [
    "# Add the date to the 'Time of surfactant_manual' column\n",
    "# I have checked it manually that it never goes over to the next calendar day\n",
    "clin_data_combined['Time of surfactant_manual'] = \\\n",
    "    clin_data_combined['Date of Birth_manual'].apply(lambda x:str(x)[:10]) + ' ' +\\\n",
    "    clin_data_combined['Time of surfactant_manual'].dropna().apply(str)\n",
    "\n",
    "clin_data_combined['Time of surfactant_manual'] = pd.to_datetime(clin_data_combined['Time of surfactant_manual'])"
   ]
  },
  {
   "cell_type": "code",
   "execution_count": 40,
   "metadata": {},
   "outputs": [],
   "source": [
    "clin_data_combined.columns;"
   ]
  },
  {
   "cell_type": "code",
   "execution_count": 41,
   "metadata": {},
   "outputs": [],
   "source": [
    "# When there is multiple source of data, keep manually collected and verified data\n",
    "columns_to_keep = ['Adrenaline_manual', 'Antenatal steroid_manual', 'Apgar 10_manual', 'Apgar 1_manual', 'Apgar 5_manual', \n",
    "                   'Arrival of PCAM_manual', 'BPD_outcome', 'Birth weight_manual', 'Born outside of hosp_manual',\n",
    "                   'CV support drug_manual', 'Case ID_comput', 'Chest compression_manual', 'Date of Birth_manual', 'Death_outcome',\n",
    "                   'Delayed cord clamping_manual', 'Duration_comput', 'End of transport_manual', 'Fentanyl_manual', 'FiO2 (%)_manual',\n",
    "                   'FiO2_snap', 'First responder_manual', 'Flow_manual', 'Fluid bolus_manual', 'Gest Week_manual',\n",
    "                   'ICD_comput', 'IVH_outcome', 'Inv. Vent (days)_outcome', 'Km end_manual', 'Km start_manual', 'Km_manual', \n",
    "                   'Length of AB (days)_outcome', 'Lowest pH_snap', 'Lowest temperature_snap', 'Maternal complications_manual', \n",
    "                   'Mean BP_snap', 'Mode of delivery_manual', 'Multiple seizures_snap', 'NEC_outcome', 'Neurodev. Impairment_outcome', \n",
    "                   'Non-inv. Vent (days)_outcome', 'Number of intubation attempts_manual', 'PCAM at birth_manual',\n",
    "                   'PEEP_manual', 'PIP_manual', 'PO2/FiO2_snap', 'PO2_snap', 'Pathology_English_comput', 'Patient report_outcome',\n",
    "                   'Postnatal Age_comput', 'ROP_outcome', 'Recording end_comput', 'Recording start_comput',\n",
    "                   'Reintubation by PCAM_manual', 'Resp supp after birth_manual', 'SGA_snap', 'SNAP-II_snap', 'SNAPPE-II_snap', \n",
    "                   'Score.1_snap', 'Score.2_snap', 'Score.3_snap', 'Score.4_snap', 'Score.5_snap', 'Score.6_snap', 'Score_snap', \n",
    "                   'Sepsis_outcome', 'Sex_manual', 'Size of ETT_manual', 'Surfactant admin_manual',\n",
    "                   'Time of surfactant_manual', 'Twins_manual', 'Urine output_snap', 'Who performed intub_manual']\n",
    "\n",
    "clin_data_combined = clin_data_combined[columns_to_keep]"
   ]
  },
  {
   "cell_type": "code",
   "execution_count": 42,
   "metadata": {},
   "outputs": [
    {
     "name": "stdout",
     "output_type": "stream",
     "text": [
      "<class 'pandas.core.frame.DataFrame'>\n",
      "Index: 55 entries, AL000029 to AT000786\n",
      "Data columns (total 72 columns):\n",
      " #   Column                                Non-Null Count  Dtype          \n",
      "---  ------                                --------------  -----          \n",
      " 0   Adrenaline_manual                     55 non-null     int64          \n",
      " 1   Antenatal steroid_manual              48 non-null     float64        \n",
      " 2   Apgar 10_manual                       25 non-null     float64        \n",
      " 3   Apgar 1_manual                        49 non-null     float64        \n",
      " 4   Apgar 5_manual                        48 non-null     float64        \n",
      " 5   Arrival of PCAM_manual                55 non-null     datetime64[ns] \n",
      " 6   BPD_outcome                           28 non-null     float64        \n",
      " 7   Birth weight_manual                   55 non-null     int64          \n",
      " 8   Born outside of hosp_manual           55 non-null     int64          \n",
      " 9   CV support drug_manual                55 non-null     int64          \n",
      " 10  Case ID_comput                        55 non-null     object         \n",
      " 11  Chest compression_manual              55 non-null     int64          \n",
      " 12  Date of Birth_manual                  55 non-null     datetime64[ns] \n",
      " 13  Death_outcome                         52 non-null     float64        \n",
      " 14  Delayed cord clamping_manual          39 non-null     float64        \n",
      " 15  Duration_comput                       55 non-null     timedelta64[ns]\n",
      " 16  End of transport_manual               55 non-null     datetime64[ns] \n",
      " 17  Fentanyl_manual                       55 non-null     int64          \n",
      " 18  FiO2 (%)_manual                       43 non-null     float64        \n",
      " 19  FiO2_snap                             50 non-null     float64        \n",
      " 20  First responder_manual                55 non-null     int64          \n",
      " 21  Flow_manual                           3 non-null      float64        \n",
      " 22  Fluid bolus_manual                    55 non-null     int64          \n",
      " 23  Gest Week_manual                      55 non-null     int64          \n",
      " 24  ICD_comput                            55 non-null     object         \n",
      " 25  IVH_outcome                           28 non-null     float64        \n",
      " 26  Inv. Vent (days)_outcome              24 non-null     float64        \n",
      " 27  Km end_manual                         55 non-null     int64          \n",
      " 28  Km start_manual                       55 non-null     int64          \n",
      " 29  Km_manual                             55 non-null     int64          \n",
      " 30  Length of AB (days)_outcome           24 non-null     float64        \n",
      " 31  Lowest pH_snap                        53 non-null     float64        \n",
      " 32  Lowest temperature_snap               53 non-null     float64        \n",
      " 33  Maternal complications_manual         55 non-null     int64          \n",
      " 34  Mean BP_snap                          44 non-null     float64        \n",
      " 35  Mode of delivery_manual               55 non-null     int64          \n",
      " 36  Multiple seizures_snap                54 non-null     float64        \n",
      " 37  NEC_outcome                           28 non-null     float64        \n",
      " 38  Neurodev. Impairment_outcome          8 non-null      float64        \n",
      " 39  Non-inv. Vent (days)_outcome          23 non-null     object         \n",
      " 40  Number of intubation attempts_manual  13 non-null     float64        \n",
      " 41  PCAM at birth_manual                  55 non-null     int64          \n",
      " 42  PEEP_manual                           19 non-null     float64        \n",
      " 43  PIP_manual                            16 non-null     float64        \n",
      " 44  PO2/FiO2_snap                         50 non-null     float64        \n",
      " 45  PO2_snap                              49 non-null     float64        \n",
      " 46  Pathology_English_comput              55 non-null     object         \n",
      " 47  Patient report_outcome                54 non-null     float64        \n",
      " 48  Postnatal Age_comput                  55 non-null     timedelta64[ns]\n",
      " 49  ROP_outcome                           27 non-null     float64        \n",
      " 50  Recording end_comput                  55 non-null     datetime64[ns] \n",
      " 51  Recording start_comput                55 non-null     datetime64[ns] \n",
      " 52  Reintubation by PCAM_manual           55 non-null     int64          \n",
      " 53  Resp supp after birth_manual          55 non-null     int64          \n",
      " 54  SGA_snap                              54 non-null     float64        \n",
      " 55  SNAP-II_snap                          54 non-null     float64        \n",
      " 56  SNAPPE-II_snap                        54 non-null     float64        \n",
      " 57  Score.1_snap                          53 non-null     float64        \n",
      " 58  Score.2_snap                          48 non-null     float64        \n",
      " 59  Score.3_snap                          53 non-null     float64        \n",
      " 60  Score.4_snap                          51 non-null     float64        \n",
      " 61  Score.5_snap                          54 non-null     float64        \n",
      " 62  Score.6_snap                          54 non-null     float64        \n",
      " 63  Score_snap                            44 non-null     float64        \n",
      " 64  Sepsis_outcome                        28 non-null     float64        \n",
      " 65  Sex_manual                            55 non-null     int64          \n",
      " 66  Size of ETT_manual                    46 non-null     float64        \n",
      " 67  Surfactant admin_manual               55 non-null     int64          \n",
      " 68  Time of surfactant_manual             49 non-null     datetime64[ns] \n",
      " 69  Twins_manual                          55 non-null     int64          \n",
      " 70  Urine output_snap                     54 non-null     float64        \n",
      " 71  Who performed intub_manual            55 non-null     int64          \n",
      "dtypes: datetime64[ns](6), float64(39), int64(21), object(4), timedelta64[ns](2)\n",
      "memory usage: 33.4+ KB\n"
     ]
    }
   ],
   "source": [
    "clin_data_combined.info()"
   ]
  },
  {
   "cell_type": "code",
   "execution_count": 43,
   "metadata": {},
   "outputs": [
    {
     "data": {
      "text/html": [
       "<div>\n",
       "<style scoped>\n",
       "    .dataframe tbody tr th:only-of-type {\n",
       "        vertical-align: middle;\n",
       "    }\n",
       "\n",
       "    .dataframe tbody tr th {\n",
       "        vertical-align: top;\n",
       "    }\n",
       "\n",
       "    .dataframe thead th {\n",
       "        text-align: right;\n",
       "    }\n",
       "</style>\n",
       "<table border=\"1\" class=\"dataframe\">\n",
       "  <thead>\n",
       "    <tr style=\"text-align: right;\">\n",
       "      <th></th>\n",
       "      <th>Adrenaline_manual</th>\n",
       "      <th>Antenatal steroid_manual</th>\n",
       "      <th>Apgar 10_manual</th>\n",
       "      <th>Apgar 1_manual</th>\n",
       "      <th>Apgar 5_manual</th>\n",
       "      <th>Arrival of PCAM_manual</th>\n",
       "      <th>BPD_outcome</th>\n",
       "      <th>Birth weight_manual</th>\n",
       "      <th>Born outside of hosp_manual</th>\n",
       "      <th>CV support drug_manual</th>\n",
       "      <th>Case ID_comput</th>\n",
       "      <th>Chest compression_manual</th>\n",
       "      <th>Date of Birth_manual</th>\n",
       "      <th>Death_outcome</th>\n",
       "      <th>Delayed cord clamping_manual</th>\n",
       "      <th>Duration_comput</th>\n",
       "      <th>End of transport_manual</th>\n",
       "      <th>Fentanyl_manual</th>\n",
       "      <th>FiO2 (%)_manual</th>\n",
       "      <th>FiO2_snap</th>\n",
       "      <th>First responder_manual</th>\n",
       "      <th>Flow_manual</th>\n",
       "      <th>Fluid bolus_manual</th>\n",
       "      <th>Gest Week_manual</th>\n",
       "      <th>ICD_comput</th>\n",
       "      <th>IVH_outcome</th>\n",
       "      <th>Inv. Vent (days)_outcome</th>\n",
       "      <th>Km end_manual</th>\n",
       "      <th>Km start_manual</th>\n",
       "      <th>Km_manual</th>\n",
       "      <th>Length of AB (days)_outcome</th>\n",
       "      <th>Lowest pH_snap</th>\n",
       "      <th>Lowest temperature_snap</th>\n",
       "      <th>Maternal complications_manual</th>\n",
       "      <th>Mean BP_snap</th>\n",
       "      <th>Mode of delivery_manual</th>\n",
       "      <th>Multiple seizures_snap</th>\n",
       "      <th>NEC_outcome</th>\n",
       "      <th>Neurodev. Impairment_outcome</th>\n",
       "      <th>Non-inv. Vent (days)_outcome</th>\n",
       "      <th>Number of intubation attempts_manual</th>\n",
       "      <th>PCAM at birth_manual</th>\n",
       "      <th>PEEP_manual</th>\n",
       "      <th>PIP_manual</th>\n",
       "      <th>PO2/FiO2_snap</th>\n",
       "      <th>PO2_snap</th>\n",
       "      <th>Pathology_English_comput</th>\n",
       "      <th>Patient report_outcome</th>\n",
       "      <th>Postnatal Age_comput</th>\n",
       "      <th>ROP_outcome</th>\n",
       "      <th>Recording end_comput</th>\n",
       "      <th>Recording start_comput</th>\n",
       "      <th>Reintubation by PCAM_manual</th>\n",
       "      <th>Resp supp after birth_manual</th>\n",
       "      <th>SGA_snap</th>\n",
       "      <th>SNAP-II_snap</th>\n",
       "      <th>SNAPPE-II_snap</th>\n",
       "      <th>Score.1_snap</th>\n",
       "      <th>Score.2_snap</th>\n",
       "      <th>Score.3_snap</th>\n",
       "      <th>Score.4_snap</th>\n",
       "      <th>Score.5_snap</th>\n",
       "      <th>Score.6_snap</th>\n",
       "      <th>Score_snap</th>\n",
       "      <th>Sepsis_outcome</th>\n",
       "      <th>Sex_manual</th>\n",
       "      <th>Size of ETT_manual</th>\n",
       "      <th>Surfactant admin_manual</th>\n",
       "      <th>Time of surfactant_manual</th>\n",
       "      <th>Twins_manual</th>\n",
       "      <th>Urine output_snap</th>\n",
       "      <th>Who performed intub_manual</th>\n",
       "    </tr>\n",
       "    <tr>\n",
       "      <th>Ventilation ID</th>\n",
       "      <th></th>\n",
       "      <th></th>\n",
       "      <th></th>\n",
       "      <th></th>\n",
       "      <th></th>\n",
       "      <th></th>\n",
       "      <th></th>\n",
       "      <th></th>\n",
       "      <th></th>\n",
       "      <th></th>\n",
       "      <th></th>\n",
       "      <th></th>\n",
       "      <th></th>\n",
       "      <th></th>\n",
       "      <th></th>\n",
       "      <th></th>\n",
       "      <th></th>\n",
       "      <th></th>\n",
       "      <th></th>\n",
       "      <th></th>\n",
       "      <th></th>\n",
       "      <th></th>\n",
       "      <th></th>\n",
       "      <th></th>\n",
       "      <th></th>\n",
       "      <th></th>\n",
       "      <th></th>\n",
       "      <th></th>\n",
       "      <th></th>\n",
       "      <th></th>\n",
       "      <th></th>\n",
       "      <th></th>\n",
       "      <th></th>\n",
       "      <th></th>\n",
       "      <th></th>\n",
       "      <th></th>\n",
       "      <th></th>\n",
       "      <th></th>\n",
       "      <th></th>\n",
       "      <th></th>\n",
       "      <th></th>\n",
       "      <th></th>\n",
       "      <th></th>\n",
       "      <th></th>\n",
       "      <th></th>\n",
       "      <th></th>\n",
       "      <th></th>\n",
       "      <th></th>\n",
       "      <th></th>\n",
       "      <th></th>\n",
       "      <th></th>\n",
       "      <th></th>\n",
       "      <th></th>\n",
       "      <th></th>\n",
       "      <th></th>\n",
       "      <th></th>\n",
       "      <th></th>\n",
       "      <th></th>\n",
       "      <th></th>\n",
       "      <th></th>\n",
       "      <th></th>\n",
       "      <th></th>\n",
       "      <th></th>\n",
       "      <th></th>\n",
       "      <th></th>\n",
       "      <th></th>\n",
       "      <th></th>\n",
       "      <th></th>\n",
       "      <th></th>\n",
       "      <th></th>\n",
       "      <th></th>\n",
       "      <th></th>\n",
       "    </tr>\n",
       "  </thead>\n",
       "  <tbody>\n",
       "    <tr>\n",
       "      <th>AL000029</th>\n",
       "      <td>0</td>\n",
       "      <td>0.0</td>\n",
       "      <td>7.0</td>\n",
       "      <td>2.0</td>\n",
       "      <td>4.0</td>\n",
       "      <td>2017-04-21 17:06:00</td>\n",
       "      <td>1.0</td>\n",
       "      <td>950</td>\n",
       "      <td>1</td>\n",
       "      <td>0</td>\n",
       "      <td>42833</td>\n",
       "      <td>0</td>\n",
       "      <td>2017-04-21 16:55:00</td>\n",
       "      <td>0.0</td>\n",
       "      <td>1.0</td>\n",
       "      <td>0 days 00:48:42</td>\n",
       "      <td>2017-04-21 18:43:00</td>\n",
       "      <td>0</td>\n",
       "      <td>NaN</td>\n",
       "      <td>0.21</td>\n",
       "      <td>1</td>\n",
       "      <td>9.0</td>\n",
       "      <td>0</td>\n",
       "      <td>24</td>\n",
       "      <td>[P072, P22, P228, Z381, P809]</td>\n",
       "      <td>1.0</td>\n",
       "      <td>5.0</td>\n",
       "      <td>250803</td>\n",
       "      <td>250802</td>\n",
       "      <td>1</td>\n",
       "      <td>16.0</td>\n",
       "      <td>7.43</td>\n",
       "      <td>28.5</td>\n",
       "      <td>0</td>\n",
       "      <td>NaN</td>\n",
       "      <td>1</td>\n",
       "      <td>0.0</td>\n",
       "      <td>0.0</td>\n",
       "      <td>0.0</td>\n",
       "      <td>27</td>\n",
       "      <td>2.0</td>\n",
       "      <td>0</td>\n",
       "      <td>NaN</td>\n",
       "      <td>NaN</td>\n",
       "      <td>1.714286</td>\n",
       "      <td>36.0</td>\n",
       "      <td>[Extreme immaturity of newborn, unspecified we...</td>\n",
       "      <td>1.0</td>\n",
       "      <td>0 days 01:31:51</td>\n",
       "      <td>1.0</td>\n",
       "      <td>2017-04-21 18:26:51</td>\n",
       "      <td>2017-04-21 17:38:09</td>\n",
       "      <td>0</td>\n",
       "      <td>1</td>\n",
       "      <td>0.0</td>\n",
       "      <td>20.0</td>\n",
       "      <td>48.0</td>\n",
       "      <td>15.0</td>\n",
       "      <td>5.0</td>\n",
       "      <td>0.0</td>\n",
       "      <td>18.0</td>\n",
       "      <td>10.0</td>\n",
       "      <td>0.0</td>\n",
       "      <td>NaN</td>\n",
       "      <td>0.0</td>\n",
       "      <td>1</td>\n",
       "      <td>2.0</td>\n",
       "      <td>1</td>\n",
       "      <td>2017-04-21 17:20:00</td>\n",
       "      <td>0</td>\n",
       "      <td>0.0</td>\n",
       "      <td>2</td>\n",
       "    </tr>\n",
       "    <tr>\n",
       "      <th>AL000036</th>\n",
       "      <td>0</td>\n",
       "      <td>0.5</td>\n",
       "      <td>4.0</td>\n",
       "      <td>2.0</td>\n",
       "      <td>4.0</td>\n",
       "      <td>2017-04-28 00:08:00</td>\n",
       "      <td>NaN</td>\n",
       "      <td>560</td>\n",
       "      <td>0</td>\n",
       "      <td>0</td>\n",
       "      <td>42878</td>\n",
       "      <td>0</td>\n",
       "      <td>2017-04-28 01:21:00</td>\n",
       "      <td>1.0</td>\n",
       "      <td>1.0</td>\n",
       "      <td>0 days 01:28:39</td>\n",
       "      <td>2017-04-28 03:41:00</td>\n",
       "      <td>0</td>\n",
       "      <td>40.0</td>\n",
       "      <td>0.21</td>\n",
       "      <td>3</td>\n",
       "      <td>NaN</td>\n",
       "      <td>1</td>\n",
       "      <td>23</td>\n",
       "      <td>[P072, P22, P809]</td>\n",
       "      <td>NaN</td>\n",
       "      <td>NaN</td>\n",
       "      <td>251253</td>\n",
       "      <td>251244</td>\n",
       "      <td>9</td>\n",
       "      <td>NaN</td>\n",
       "      <td>7.14</td>\n",
       "      <td>35.4</td>\n",
       "      <td>0</td>\n",
       "      <td>NaN</td>\n",
       "      <td>1</td>\n",
       "      <td>0.0</td>\n",
       "      <td>NaN</td>\n",
       "      <td>NaN</td>\n",
       "      <td>NaN</td>\n",
       "      <td>1.0</td>\n",
       "      <td>1</td>\n",
       "      <td>5.0</td>\n",
       "      <td>18.0</td>\n",
       "      <td>1.333333</td>\n",
       "      <td>28.0</td>\n",
       "      <td>[Extreme immaturity of newborn, unspecified we...</td>\n",
       "      <td>1.0</td>\n",
       "      <td>0 days 01:54:21</td>\n",
       "      <td>NaN</td>\n",
       "      <td>2017-04-28 03:15:21</td>\n",
       "      <td>2017-04-28 01:46:42</td>\n",
       "      <td>0</td>\n",
       "      <td>2</td>\n",
       "      <td>0.0</td>\n",
       "      <td>20.0</td>\n",
       "      <td>55.0</td>\n",
       "      <td>8.0</td>\n",
       "      <td>5.0</td>\n",
       "      <td>7.0</td>\n",
       "      <td>18.0</td>\n",
       "      <td>17.0</td>\n",
       "      <td>0.0</td>\n",
       "      <td>NaN</td>\n",
       "      <td>NaN</td>\n",
       "      <td>1</td>\n",
       "      <td>2.0</td>\n",
       "      <td>1</td>\n",
       "      <td>2017-04-28 01:35:00</td>\n",
       "      <td>0</td>\n",
       "      <td>0.0</td>\n",
       "      <td>2</td>\n",
       "    </tr>\n",
       "  </tbody>\n",
       "</table>\n",
       "</div>"
      ],
      "text/plain": [
       "                Adrenaline_manual  Antenatal steroid_manual  Apgar 10_manual  \\\n",
       "Ventilation ID                                                                 \n",
       "AL000029                        0                       0.0              7.0   \n",
       "AL000036                        0                       0.5              4.0   \n",
       "\n",
       "                Apgar 1_manual  Apgar 5_manual Arrival of PCAM_manual  \\\n",
       "Ventilation ID                                                          \n",
       "AL000029                   2.0             4.0    2017-04-21 17:06:00   \n",
       "AL000036                   2.0             4.0    2017-04-28 00:08:00   \n",
       "\n",
       "                BPD_outcome  Birth weight_manual  Born outside of hosp_manual  \\\n",
       "Ventilation ID                                                                  \n",
       "AL000029                1.0                  950                            1   \n",
       "AL000036                NaN                  560                            0   \n",
       "\n",
       "                CV support drug_manual Case ID_comput  \\\n",
       "Ventilation ID                                          \n",
       "AL000029                             0          42833   \n",
       "AL000036                             0          42878   \n",
       "\n",
       "                Chest compression_manual Date of Birth_manual  Death_outcome  \\\n",
       "Ventilation ID                                                                 \n",
       "AL000029                               0  2017-04-21 16:55:00            0.0   \n",
       "AL000036                               0  2017-04-28 01:21:00            1.0   \n",
       "\n",
       "                Delayed cord clamping_manual Duration_comput  \\\n",
       "Ventilation ID                                                 \n",
       "AL000029                                 1.0 0 days 00:48:42   \n",
       "AL000036                                 1.0 0 days 01:28:39   \n",
       "\n",
       "               End of transport_manual  Fentanyl_manual  FiO2 (%)_manual  \\\n",
       "Ventilation ID                                                             \n",
       "AL000029           2017-04-21 18:43:00                0              NaN   \n",
       "AL000036           2017-04-28 03:41:00                0             40.0   \n",
       "\n",
       "                FiO2_snap  First responder_manual  Flow_manual  \\\n",
       "Ventilation ID                                                   \n",
       "AL000029             0.21                       1          9.0   \n",
       "AL000036             0.21                       3          NaN   \n",
       "\n",
       "                Fluid bolus_manual  Gest Week_manual  \\\n",
       "Ventilation ID                                         \n",
       "AL000029                         0                24   \n",
       "AL000036                         1                23   \n",
       "\n",
       "                                   ICD_comput  IVH_outcome  \\\n",
       "Ventilation ID                                               \n",
       "AL000029        [P072, P22, P228, Z381, P809]          1.0   \n",
       "AL000036                    [P072, P22, P809]          NaN   \n",
       "\n",
       "                Inv. Vent (days)_outcome  Km end_manual  Km start_manual  \\\n",
       "Ventilation ID                                                             \n",
       "AL000029                             5.0         250803           250802   \n",
       "AL000036                             NaN         251253           251244   \n",
       "\n",
       "                Km_manual  Length of AB (days)_outcome  Lowest pH_snap  \\\n",
       "Ventilation ID                                                           \n",
       "AL000029                1                         16.0            7.43   \n",
       "AL000036                9                          NaN            7.14   \n",
       "\n",
       "                Lowest temperature_snap  Maternal complications_manual  \\\n",
       "Ventilation ID                                                           \n",
       "AL000029                           28.5                              0   \n",
       "AL000036                           35.4                              0   \n",
       "\n",
       "                Mean BP_snap  Mode of delivery_manual  Multiple seizures_snap  \\\n",
       "Ventilation ID                                                                  \n",
       "AL000029                 NaN                        1                     0.0   \n",
       "AL000036                 NaN                        1                     0.0   \n",
       "\n",
       "                NEC_outcome  Neurodev. Impairment_outcome  \\\n",
       "Ventilation ID                                              \n",
       "AL000029                0.0                           0.0   \n",
       "AL000036                NaN                           NaN   \n",
       "\n",
       "               Non-inv. Vent (days)_outcome  \\\n",
       "Ventilation ID                                \n",
       "AL000029                                 27   \n",
       "AL000036                                NaN   \n",
       "\n",
       "                Number of intubation attempts_manual  PCAM at birth_manual  \\\n",
       "Ventilation ID                                                               \n",
       "AL000029                                         2.0                     0   \n",
       "AL000036                                         1.0                     1   \n",
       "\n",
       "                PEEP_manual  PIP_manual  PO2/FiO2_snap  PO2_snap  \\\n",
       "Ventilation ID                                                     \n",
       "AL000029                NaN         NaN       1.714286      36.0   \n",
       "AL000036                5.0        18.0       1.333333      28.0   \n",
       "\n",
       "                                         Pathology_English_comput  \\\n",
       "Ventilation ID                                                      \n",
       "AL000029        [Extreme immaturity of newborn, unspecified we...   \n",
       "AL000036        [Extreme immaturity of newborn, unspecified we...   \n",
       "\n",
       "                Patient report_outcome Postnatal Age_comput  ROP_outcome  \\\n",
       "Ventilation ID                                                             \n",
       "AL000029                           1.0      0 days 01:31:51          1.0   \n",
       "AL000036                           1.0      0 days 01:54:21          NaN   \n",
       "\n",
       "               Recording end_comput Recording start_comput  \\\n",
       "Ventilation ID                                               \n",
       "AL000029        2017-04-21 18:26:51    2017-04-21 17:38:09   \n",
       "AL000036        2017-04-28 03:15:21    2017-04-28 01:46:42   \n",
       "\n",
       "                Reintubation by PCAM_manual  Resp supp after birth_manual  \\\n",
       "Ventilation ID                                                              \n",
       "AL000029                                  0                             1   \n",
       "AL000036                                  0                             2   \n",
       "\n",
       "                SGA_snap  SNAP-II_snap  SNAPPE-II_snap  Score.1_snap  \\\n",
       "Ventilation ID                                                         \n",
       "AL000029             0.0          20.0            48.0          15.0   \n",
       "AL000036             0.0          20.0            55.0           8.0   \n",
       "\n",
       "                Score.2_snap  Score.3_snap  Score.4_snap  Score.5_snap  \\\n",
       "Ventilation ID                                                           \n",
       "AL000029                 5.0           0.0          18.0          10.0   \n",
       "AL000036                 5.0           7.0          18.0          17.0   \n",
       "\n",
       "                Score.6_snap  Score_snap  Sepsis_outcome  Sex_manual  \\\n",
       "Ventilation ID                                                         \n",
       "AL000029                 0.0         NaN             0.0           1   \n",
       "AL000036                 0.0         NaN             NaN           1   \n",
       "\n",
       "                Size of ETT_manual  Surfactant admin_manual  \\\n",
       "Ventilation ID                                                \n",
       "AL000029                       2.0                        1   \n",
       "AL000036                       2.0                        1   \n",
       "\n",
       "               Time of surfactant_manual  Twins_manual  Urine output_snap  \\\n",
       "Ventilation ID                                                              \n",
       "AL000029             2017-04-21 17:20:00             0                0.0   \n",
       "AL000036             2017-04-28 01:35:00             0                0.0   \n",
       "\n",
       "                Who performed intub_manual  \n",
       "Ventilation ID                              \n",
       "AL000029                                 2  \n",
       "AL000036                                 2  "
      ]
     },
     "execution_count": 43,
     "metadata": {},
     "output_type": "execute_result"
    }
   ],
   "source": [
    "clin_data_combined.head(2)"
   ]
  },
  {
   "cell_type": "code",
   "execution_count": 44,
   "metadata": {},
   "outputs": [],
   "source": [
    "# Export processed combined clinical dataset \n",
    "with pd.ExcelWriter(os.path.join(DIR_WRITE, f'clin_data_combined.xlsx')) as writer:\n",
    "    clin_data_combined.to_excel(writer, sheet_name='clin_data_combined')"
   ]
  },
  {
   "cell_type": "code",
   "execution_count": 45,
   "metadata": {},
   "outputs": [],
   "source": [
    "# Export processed combined clinical dataset as pickle archive\n",
    "with open(os.path.join(DATA_DUMP, 'clin_data_combined.pickle'), 'wb') as handle:\n",
    "    pickle.dump(clin_data_combined, handle, protocol=pickle.HIGHEST_PROTOCOL)   "
   ]
  },
  {
   "cell_type": "markdown",
   "metadata": {},
   "source": [
    "### 8. Export vital parameters and blood gases at the arrival to the referring unit and and at the handover to tertiary NICU"
   ]
  },
  {
   "cell_type": "code",
   "execution_count": 46,
   "metadata": {},
   "outputs": [
    {
     "data": {
      "text/html": [
       "<div>\n",
       "<style scoped>\n",
       "    .dataframe tbody tr th:only-of-type {\n",
       "        vertical-align: middle;\n",
       "    }\n",
       "\n",
       "    .dataframe tbody tr th {\n",
       "        vertical-align: top;\n",
       "    }\n",
       "\n",
       "    .dataframe thead tr th {\n",
       "        text-align: left;\n",
       "    }\n",
       "</style>\n",
       "<table border=\"1\" class=\"dataframe\">\n",
       "  <thead>\n",
       "    <tr>\n",
       "      <th>timing</th>\n",
       "      <th colspan=\"12\" halign=\"left\">At arrival of PCAM</th>\n",
       "      <th colspan=\"12\" halign=\"left\">At arrival to NICU</th>\n",
       "    </tr>\n",
       "    <tr>\n",
       "      <th>parameter</th>\n",
       "      <th>Body temperature (°C)</th>\n",
       "      <th>Blood sugar</th>\n",
       "      <th>SYS BP</th>\n",
       "      <th>DIA BP</th>\n",
       "      <th>MAP</th>\n",
       "      <th>HR</th>\n",
       "      <th>RR</th>\n",
       "      <th>Resp. support (1-mask, 2-cPAP, 3-intub)</th>\n",
       "      <th>PIP</th>\n",
       "      <th>PEEP</th>\n",
       "      <th>Flow</th>\n",
       "      <th>FiO2</th>\n",
       "      <th>Body temperature (°C)</th>\n",
       "      <th>Blood sugar</th>\n",
       "      <th>SYS BP</th>\n",
       "      <th>DIA BP</th>\n",
       "      <th>MAP</th>\n",
       "      <th>HR</th>\n",
       "      <th>RR</th>\n",
       "      <th>Resp. support (1-cPAP, 2-intub.)</th>\n",
       "      <th>PIP</th>\n",
       "      <th>PEEP</th>\n",
       "      <th>Flow</th>\n",
       "      <th>FiO2</th>\n",
       "    </tr>\n",
       "  </thead>\n",
       "  <tbody>\n",
       "    <tr>\n",
       "      <th>AL000029</th>\n",
       "      <td>28.5</td>\n",
       "      <td>2.3</td>\n",
       "      <td>NaN</td>\n",
       "      <td>NaN</td>\n",
       "      <td>NaN</td>\n",
       "      <td>148</td>\n",
       "      <td>38.0</td>\n",
       "      <td>1</td>\n",
       "      <td>NaN</td>\n",
       "      <td>NaN</td>\n",
       "      <td>9.0</td>\n",
       "      <td>NaN</td>\n",
       "      <td>33.1</td>\n",
       "      <td>1.7</td>\n",
       "      <td>NaN</td>\n",
       "      <td>NaN</td>\n",
       "      <td>NaN</td>\n",
       "      <td>167</td>\n",
       "      <td>42</td>\n",
       "      <td>2</td>\n",
       "      <td>18.0</td>\n",
       "      <td>5</td>\n",
       "      <td>NaN</td>\n",
       "      <td>21</td>\n",
       "    </tr>\n",
       "    <tr>\n",
       "      <th>AL000036</th>\n",
       "      <td>35.4</td>\n",
       "      <td>3.3</td>\n",
       "      <td>NaN</td>\n",
       "      <td>NaN</td>\n",
       "      <td>NaN</td>\n",
       "      <td>60</td>\n",
       "      <td>NaN</td>\n",
       "      <td>2</td>\n",
       "      <td>18.0</td>\n",
       "      <td>5.0</td>\n",
       "      <td>NaN</td>\n",
       "      <td>40.0</td>\n",
       "      <td>35.7</td>\n",
       "      <td>4.7</td>\n",
       "      <td>NaN</td>\n",
       "      <td>NaN</td>\n",
       "      <td>NaN</td>\n",
       "      <td>171</td>\n",
       "      <td>52</td>\n",
       "      <td>2</td>\n",
       "      <td>14.0</td>\n",
       "      <td>6</td>\n",
       "      <td>NaN</td>\n",
       "      <td>21</td>\n",
       "    </tr>\n",
       "  </tbody>\n",
       "</table>\n",
       "</div>"
      ],
      "text/plain": [
       "timing       At arrival of PCAM                                           \\\n",
       "parameter Body temperature (°C) Blood sugar SYS BP DIA BP MAP   HR    RR   \n",
       "AL000029                   28.5         2.3    NaN    NaN NaN  148  38.0   \n",
       "AL000036                   35.4         3.3    NaN    NaN NaN   60   NaN   \n",
       "\n",
       "timing                                                                   \\\n",
       "parameter Resp. support (1-mask, 2-cPAP, 3-intub)   PIP PEEP Flow  FiO2   \n",
       "AL000029                                        1   NaN  NaN  9.0   NaN   \n",
       "AL000036                                        2  18.0  5.0  NaN  40.0   \n",
       "\n",
       "timing       At arrival to NICU                                         \\\n",
       "parameter Body temperature (°C) Blood sugar SYS BP DIA BP MAP   HR  RR   \n",
       "AL000029                   33.1         1.7    NaN    NaN NaN  167  42   \n",
       "AL000036                   35.7         4.7    NaN    NaN NaN  171  52   \n",
       "\n",
       "timing                                                           \n",
       "parameter Resp. support (1-cPAP, 2-intub.)   PIP PEEP Flow FiO2  \n",
       "AL000029                                 2  18.0    5  NaN   21  \n",
       "AL000036                                 2  14.0    6  NaN   21  "
      ]
     },
     "execution_count": 46,
     "metadata": {},
     "output_type": "execute_result"
    }
   ],
   "source": [
    "vital_parameters.head(2)"
   ]
  },
  {
   "cell_type": "code",
   "execution_count": 47,
   "metadata": {},
   "outputs": [
    {
     "data": {
      "text/html": [
       "<div>\n",
       "<style scoped>\n",
       "    .dataframe tbody tr th:only-of-type {\n",
       "        vertical-align: middle;\n",
       "    }\n",
       "\n",
       "    .dataframe tbody tr th {\n",
       "        vertical-align: top;\n",
       "    }\n",
       "\n",
       "    .dataframe thead tr th {\n",
       "        text-align: left;\n",
       "    }\n",
       "</style>\n",
       "<table border=\"1\" class=\"dataframe\">\n",
       "  <thead>\n",
       "    <tr>\n",
       "      <th>timing</th>\n",
       "      <th colspan=\"10\" halign=\"left\">At arrival of PCAM</th>\n",
       "      <th colspan=\"10\" halign=\"left\">At arrival to NICU</th>\n",
       "    </tr>\n",
       "    <tr>\n",
       "      <th>parameter</th>\n",
       "      <th>Time</th>\n",
       "      <th>type 1-capillary, 2-venous</th>\n",
       "      <th>pH</th>\n",
       "      <th>BE</th>\n",
       "      <th>Lactate</th>\n",
       "      <th>HCO3</th>\n",
       "      <th>pCO2</th>\n",
       "      <th>pO2</th>\n",
       "      <th>Saturation</th>\n",
       "      <th>FiO2</th>\n",
       "      <th>Time</th>\n",
       "      <th>type 1-capillary, 2-venous</th>\n",
       "      <th>pH</th>\n",
       "      <th>BE</th>\n",
       "      <th>Lactate</th>\n",
       "      <th>HCO3</th>\n",
       "      <th>pCO2</th>\n",
       "      <th>pO2</th>\n",
       "      <th>Saturation</th>\n",
       "      <th>FiO2</th>\n",
       "    </tr>\n",
       "  </thead>\n",
       "  <tbody>\n",
       "    <tr>\n",
       "      <th>AL000029</th>\n",
       "      <td>NaN</td>\n",
       "      <td>NaN</td>\n",
       "      <td>NaN</td>\n",
       "      <td>NaN</td>\n",
       "      <td>NaN</td>\n",
       "      <td>NaN</td>\n",
       "      <td>NaN</td>\n",
       "      <td>NaN</td>\n",
       "      <td>NaN</td>\n",
       "      <td>NaN</td>\n",
       "      <td>18:23:00</td>\n",
       "      <td>1.0</td>\n",
       "      <td>7.436</td>\n",
       "      <td>0.6</td>\n",
       "      <td>3.2</td>\n",
       "      <td>24.6</td>\n",
       "      <td>40.8</td>\n",
       "      <td>36.0</td>\n",
       "      <td>87.8</td>\n",
       "      <td>0.21</td>\n",
       "    </tr>\n",
       "    <tr>\n",
       "      <th>AL000036</th>\n",
       "      <td>01:53:00</td>\n",
       "      <td>1.0</td>\n",
       "      <td>7.144</td>\n",
       "      <td>-12.0</td>\n",
       "      <td>NaN</td>\n",
       "      <td>17.4</td>\n",
       "      <td>50.6</td>\n",
       "      <td>32.0</td>\n",
       "      <td>44.0</td>\n",
       "      <td>0.0</td>\n",
       "      <td>03:08:00</td>\n",
       "      <td>1.0</td>\n",
       "      <td>7.170</td>\n",
       "      <td>-7.0</td>\n",
       "      <td>5.9</td>\n",
       "      <td>21.5</td>\n",
       "      <td>59.0</td>\n",
       "      <td>28.0</td>\n",
       "      <td>35.0</td>\n",
       "      <td>0.21</td>\n",
       "    </tr>\n",
       "  </tbody>\n",
       "</table>\n",
       "</div>"
      ],
      "text/plain": [
       "timing    At arrival of PCAM                                                  \\\n",
       "parameter               Time type 1-capillary, 2-venous     pH    BE Lactate   \n",
       "AL000029                 NaN                        NaN    NaN   NaN     NaN   \n",
       "AL000036            01:53:00                        1.0  7.144 -12.0     NaN   \n",
       "\n",
       "timing                                      At arrival to NICU  \\\n",
       "parameter  HCO3  pCO2   pO2 Saturation FiO2               Time   \n",
       "AL000029    NaN   NaN   NaN        NaN  NaN           18:23:00   \n",
       "AL000036   17.4  50.6  32.0       44.0  0.0           03:08:00   \n",
       "\n",
       "timing                                                                      \\\n",
       "parameter type 1-capillary, 2-venous     pH   BE Lactate  HCO3  pCO2   pO2   \n",
       "AL000029                         1.0  7.436  0.6     3.2  24.6  40.8  36.0   \n",
       "AL000036                         1.0  7.170 -7.0     5.9  21.5  59.0  28.0   \n",
       "\n",
       "timing                      \n",
       "parameter Saturation  FiO2  \n",
       "AL000029        87.8  0.21  \n",
       "AL000036        35.0  0.21  "
      ]
     },
     "execution_count": 47,
     "metadata": {},
     "output_type": "execute_result"
    }
   ],
   "source": [
    "blood_gases_manual.head(2)"
   ]
  },
  {
   "cell_type": "code",
   "execution_count": 48,
   "metadata": {},
   "outputs": [],
   "source": [
    "# Export processed table with vitals and gases \n",
    "with pd.ExcelWriter(os.path.join(DIR_WRITE, f'vital_gases_manual.xlsx')) as writer:\n",
    "    vital_parameters.to_excel(writer, sheet_name='vital_parameters_manual')\n",
    "    blood_gases_manual.to_excel(writer, sheet_name='blood_gases_manual')"
   ]
  },
  {
   "cell_type": "code",
   "execution_count": 49,
   "metadata": {},
   "outputs": [],
   "source": [
    "# Vital parameters for the final dataset\n",
    "with open(os.path.join(DATA_DUMP, 'vital_parameters_manual.pickle'), 'wb') as handle:\n",
    "    pickle.dump(vital_parameters, handle, protocol=pickle.HIGHEST_PROTOCOL)   "
   ]
  },
  {
   "cell_type": "code",
   "execution_count": 50,
   "metadata": {},
   "outputs": [],
   "source": [
    "# Blood gases for the final dataset\n",
    "with open(os.path.join(DATA_DUMP, 'blood_gases_manual.pickle'), 'wb') as handle:\n",
    "    pickle.dump(blood_gases_manual, handle, protocol=pickle.HIGHEST_PROTOCOL)   "
   ]
  },
  {
   "cell_type": "markdown",
   "metadata": {},
   "source": [
    "### 9. Analyse clinical characteristics of cohort"
   ]
  },
  {
   "cell_type": "markdown",
   "metadata": {},
   "source": [
    "#### A. Demographics"
   ]
  },
  {
   "cell_type": "code",
   "execution_count": 51,
   "metadata": {},
   "outputs": [
    {
     "data": {
      "text/plain": [
       "count    55.000000\n",
       "mean     25.290909\n",
       "std       1.996967\n",
       "min      21.000000\n",
       "25%      24.000000\n",
       "50%      25.000000\n",
       "75%      26.000000\n",
       "max      31.000000\n",
       "Name: Gest Week_manual, dtype: float64"
      ]
     },
     "execution_count": 51,
     "metadata": {},
     "output_type": "execute_result"
    }
   ],
   "source": [
    "clin_data_combined['Gest Week_manual'].describe()"
   ]
  },
  {
   "cell_type": "code",
   "execution_count": 52,
   "metadata": {},
   "outputs": [
    {
     "data": {
      "text/plain": [
       "Gest Week_manual\n",
       "21     1\n",
       "22     2\n",
       "23     7\n",
       "24    10\n",
       "25    11\n",
       "26    11\n",
       "27     6\n",
       "28     4\n",
       "29     1\n",
       "30     1\n",
       "31     1\n",
       "dtype: int64"
      ]
     },
     "execution_count": 52,
     "metadata": {},
     "output_type": "execute_result"
    }
   ],
   "source": [
    "clin_data_combined.groupby('Gest Week_manual').size()"
   ]
  },
  {
   "cell_type": "code",
   "execution_count": 53,
   "metadata": {},
   "outputs": [
    {
     "data": {
      "text/plain": [
       "count     55.000000\n",
       "mean     757.909091\n",
       "std      185.301783\n",
       "min      300.000000\n",
       "25%      600.000000\n",
       "50%      750.000000\n",
       "75%      950.000000\n",
       "max      990.000000\n",
       "Name: Birth weight_manual, dtype: float64"
      ]
     },
     "execution_count": 53,
     "metadata": {},
     "output_type": "execute_result"
    }
   ],
   "source": [
    "clin_data_combined['Birth weight_manual'].describe()"
   ]
  },
  {
   "cell_type": "code",
   "execution_count": 54,
   "metadata": {},
   "outputs": [
    {
     "data": {
      "text/plain": [
       "Gest Week_manual\n",
       "21    300.000000\n",
       "22    550.000000\n",
       "23    521.428571\n",
       "24    722.500000\n",
       "25    792.727273\n",
       "26    826.363636\n",
       "27    865.000000\n",
       "28    942.500000\n",
       "29    990.000000\n",
       "30    950.000000\n",
       "31    700.000000\n",
       "Name: Birth weight_manual, dtype: float64"
      ]
     },
     "execution_count": 54,
     "metadata": {},
     "output_type": "execute_result"
    }
   ],
   "source": [
    "clin_data_combined.groupby('Gest Week_manual')['Birth weight_manual'].mean()"
   ]
  },
  {
   "cell_type": "code",
   "execution_count": 55,
   "metadata": {},
   "outputs": [
    {
     "data": {
      "text/plain": [
       "Sex_manual\n",
       "1    32\n",
       "2    23\n",
       "Name: count, dtype: int64"
      ]
     },
     "execution_count": 55,
     "metadata": {},
     "output_type": "execute_result"
    }
   ],
   "source": [
    "# 1: male; 2: female\n",
    "clin_data_combined['Sex_manual'].value_counts()"
   ]
  },
  {
   "cell_type": "code",
   "execution_count": 56,
   "metadata": {},
   "outputs": [
    {
     "data": {
      "text/plain": [
       "Twins_manual\n",
       "0    45\n",
       "1    10\n",
       "Name: count, dtype: int64"
      ]
     },
     "execution_count": 56,
     "metadata": {},
     "output_type": "execute_result"
    }
   ],
   "source": [
    "# O: singleton; 1: twin\n",
    "clin_data_combined['Twins_manual'].value_counts()"
   ]
  },
  {
   "cell_type": "code",
   "execution_count": 57,
   "metadata": {},
   "outputs": [],
   "source": [
    "# Export processed combined clinical dataset \n",
    "with pd.ExcelWriter(os.path.join(DIR_WRITE, f'demographics_ELBW.xlsx')) as writer:\n",
    "    clin_data_combined['Gest Week_manual'].describe().to_excel(writer, sheet_name='gest_age')\n",
    "    clin_data_combined.groupby('Gest Week_manual').size().to_excel(writer, sheet_name='gest_by_week')\n",
    "    clin_data_combined['Birth weight_manual'].describe().to_excel(writer, sheet_name='birth_weight')\n",
    "    clin_data_combined['Sex_manual'].value_counts().to_excel(writer, sheet_name='male_1_female_2')\n",
    "    clin_data_combined['Twins_manual'].value_counts().to_excel(writer, sheet_name='singleton_0_twin_1')"
   ]
  },
  {
   "cell_type": "code",
   "execution_count": 58,
   "metadata": {},
   "outputs": [
    {
     "data": {
      "image/png": "[encoded data removed]",
      "text/plain": [
       "<Figure size 240x320 with 1 Axes>"
      ]
     },
     "metadata": {},
     "output_type": "display_data"
    }
   ],
   "source": [
    "dpi=300; filetype = 'jpg'\n",
    "\n",
    "medianprops = {'color': 'black', 'linewidth': 1}\n",
    "meanpointprops = {'marker':'D', 'markersize' : 4, 'markeredgecolor':'black', 'markerfacecolor':'black'}\n",
    "boxprops = {'color': 'black',  'linestyle': '-'}; whiskerprops = {'color': 'black', 'linestyle': '-'}\n",
    "capprops = {'color': 'black', 'linestyle': '-'}; flierprops = {'color': 'black', 'marker': '.'}\n",
    "\n",
    "fig,ax = plt.subplots(1,1, figsize=(3,4))\n",
    "ax.boxplot(clin_data_combined['Gest Week_manual'], \n",
    "    widths=0.3,  whis = [0, 100], patch_artist = True, showfliers = True, showmeans = True,\n",
    "    medianprops=medianprops, meanprops = meanpointprops, boxprops=boxprops, whiskerprops=whiskerprops, \n",
    "    capprops=capprops,)\n",
    "\n",
    "ax.set_ylim(20, 32)\n",
    "ax.set_xticks([1], ['Gestational age'])\n",
    "ax.set_ylabel('Completed weeks')\n",
    "fig.savefig(os.path.join (DIR_WRITE, f'gestational_age_ELBW_boxplot.{filetype}'), \n",
    "            dpi = dpi, format = filetype, bbox_inches='tight', pad_inches=0.1);"
   ]
  },
  {
   "cell_type": "code",
   "execution_count": 59,
   "metadata": {},
   "outputs": [
    {
     "data": {
      "image/png": "[encoded data removed]",
      "text/plain": [
       "<Figure size 240x320 with 1 Axes>"
      ]
     },
     "metadata": {},
     "output_type": "display_data"
    }
   ],
   "source": [
    "dpi=300; filetype = 'jpg'\n",
    "\n",
    "medianprops = {'color': 'black', 'linewidth': 1}\n",
    "meanpointprops = {'marker':'D', 'markersize' : 4, 'markeredgecolor':'black', 'markerfacecolor':'black'}\n",
    "boxprops = {'color': 'black',  'linestyle': '-'}; whiskerprops = {'color': 'black', 'linestyle': '-'}\n",
    "capprops = {'color': 'black', 'linestyle': '-'}; flierprops = {'color': 'black', 'marker': '.'}\n",
    "\n",
    "fig,ax = plt.subplots(1,1, figsize=(3,4))\n",
    "ax.boxplot(clin_data_combined['Birth weight_manual'], \n",
    "    widths=0.3,  whis = [0, 100], patch_artist = True, showfliers = True, showmeans = True,\n",
    "    medianprops=medianprops, meanprops = meanpointprops, boxprops=boxprops, whiskerprops=whiskerprops, \n",
    "    capprops=capprops,)\n",
    "\n",
    "ax.set_ylim(0, 1100)\n",
    "ax.set_xticks([1], ['Birth weight'])\n",
    "ax.set_ylabel('Grams')\n",
    "fig.savefig(os.path.join (DIR_WRITE, f'birth_weight_ELBW_boxplot.{filetype}'), \n",
    "            dpi = dpi, format = filetype, bbox_inches='tight', pad_inches=0.1);"
   ]
  },
  {
   "cell_type": "markdown",
   "metadata": {},
   "source": [
    "#### B. Antenatal care and delivery"
   ]
  },
  {
   "cell_type": "markdown",
   "metadata": {},
   "source": [
    "##### 1. Antenatal steriods\n",
    "\n",
    "0:no,\n",
    "0.5:partial course,\n",
    "1:full course"
   ]
  },
  {
   "cell_type": "code",
   "execution_count": 60,
   "metadata": {},
   "outputs": [
    {
     "data": {
      "text/plain": [
       "Antenatal steroid_manual\n",
       "0.0    33\n",
       "1.0    10\n",
       "NaN     7\n",
       "0.5     5\n",
       "Name: count, dtype: int64"
      ]
     },
     "execution_count": 60,
     "metadata": {},
     "output_type": "execute_result"
    }
   ],
   "source": [
    "clin_data_combined['Antenatal steroid_manual'].value_counts(dropna=False)"
   ]
  },
  {
   "cell_type": "markdown",
   "metadata": {},
   "source": [
    "##### 2. Maternal complications\n",
    "\n",
    "1:abruption, 2:infection, 3:cardiovascular problem, 4:umbilical cord problem, 5:other"
   ]
  },
  {
   "cell_type": "code",
   "execution_count": 61,
   "metadata": {},
   "outputs": [
    {
     "data": {
      "text/plain": [
       "Maternal complications_manual\n",
       "0    23\n",
       "1    20\n",
       "2     4\n",
       "5     4\n",
       "4     2\n",
       "3     2\n",
       "Name: count, dtype: int64"
      ]
     },
     "execution_count": 61,
     "metadata": {},
     "output_type": "execute_result"
    }
   ],
   "source": [
    "clin_data_combined['Maternal complications_manual'].value_counts(dropna=False)"
   ]
  },
  {
   "cell_type": "markdown",
   "metadata": {},
   "source": [
    "##### 3. Born outside hospital\n",
    "\n",
    "1:yes,\n",
    "0:no"
   ]
  },
  {
   "cell_type": "code",
   "execution_count": 62,
   "metadata": {},
   "outputs": [
    {
     "data": {
      "text/plain": [
       "Born outside of hosp_manual\n",
       "0    48\n",
       "1     7\n",
       "Name: count, dtype: int64"
      ]
     },
     "execution_count": 62,
     "metadata": {},
     "output_type": "execute_result"
    }
   ],
   "source": [
    "clin_data_combined['Born outside of hosp_manual'].value_counts(dropna=False)"
   ]
  },
  {
   "cell_type": "markdown",
   "metadata": {},
   "source": [
    "##### 4. Mode of delivery\n",
    "1:vaginal,\n",
    "2:caesarean section"
   ]
  },
  {
   "cell_type": "code",
   "execution_count": 63,
   "metadata": {},
   "outputs": [
    {
     "data": {
      "text/plain": [
       "Mode of delivery_manual\n",
       "2    28\n",
       "1    27\n",
       "Name: count, dtype: int64"
      ]
     },
     "execution_count": 63,
     "metadata": {},
     "output_type": "execute_result"
    }
   ],
   "source": [
    "clin_data_combined['Mode of delivery_manual'].value_counts(dropna=False)"
   ]
  },
  {
   "cell_type": "markdown",
   "metadata": {},
   "source": [
    "#### C. Delivery unit care"
   ]
  },
  {
   "cell_type": "markdown",
   "metadata": {},
   "source": [
    "##### 1. Who was the first responder and arrival of Cerny"
   ]
  },
  {
   "cell_type": "code",
   "execution_count": 64,
   "metadata": {},
   "outputs": [
    {
     "data": {
      "text/plain": [
       "First responder_manual\n",
       "2    31\n",
       "3    17\n",
       "1     7\n",
       "Name: count, dtype: int64"
      ]
     },
     "execution_count": 64,
     "metadata": {},
     "output_type": "execute_result"
    }
   ],
   "source": [
    "# 1:parent/paramedic/other, 2:local paediatrician, 3:PCAM staff\n",
    "clin_data_combined['First responder_manual'].value_counts(dropna=False)"
   ]
  },
  {
   "cell_type": "code",
   "execution_count": 65,
   "metadata": {},
   "outputs": [],
   "source": [
    "clin_data_combined['Age_at_Cerny_arrival'] = clin_data_combined['Arrival of PCAM_manual'] - \\\n",
    "                                             clin_data_combined['Date of Birth_manual']"
   ]
  },
  {
   "cell_type": "code",
   "execution_count": 66,
   "metadata": {},
   "outputs": [
    {
     "data": {
      "image/png": "[encoded data removed]",
      "text/plain": [
       "<Figure size 960x400 with 1 Axes>"
      ]
     },
     "metadata": {},
     "output_type": "display_data"
    }
   ],
   "source": [
    "dpi=300; filetype = 'jpg'\n",
    "\n",
    "fig,ax = plt.subplots(1,1, figsize=(12,5))\n",
    "ax.plot(clin_data_combined['Age_at_Cerny_arrival'].sort_values()/ 1e9 / 60, marker = 'o', linestyle='')\n",
    "ax.set_ylim(-180, 240)\n",
    "plt.xticks(rotation = 90);\n",
    "ax.axhline(y=0, color='black', linestyle='-')\n",
    "ax.set_ylabel('Age at arrival of transport team [minutes]')\n",
    "\n",
    "fig.savefig(os.path.join (DIR_WRITE, f'age_at_arrival_of transport_team.{filetype}'), \n",
    "            dpi = dpi, format = filetype, bbox_inches='tight', pad_inches=0.1);"
   ]
  },
  {
   "cell_type": "code",
   "execution_count": 67,
   "metadata": {},
   "outputs": [
    {
     "data": {
      "image/png": "[encoded data removed]",
      "text/plain": [
       "<Figure size 960x400 with 1 Axes>"
      ]
     },
     "metadata": {},
     "output_type": "display_data"
    }
   ],
   "source": [
    "dpi=300; filetype = 'jpg'\n",
    "\n",
    "fig,ax = plt.subplots(1,1, figsize=(12,5))\n",
    "ax.plot(clin_data_combined['Age_at_Cerny_arrival'].sort_values()/ 1e9 / 60, color = 'black', \n",
    "        marker = 'o', linestyle='')\n",
    "ax.set_ylim(-180, 240)\n",
    "plt.xticks(rotation = 90);\n",
    "ax.axhline(y=0, color='black', linestyle='-')\n",
    "ax.set_ylabel('Age at arrival of transport team [minutes]')\n",
    "\n",
    "fig.savefig(os.path.join (DIR_WRITE, f'age_at_arrival_of transport_team_bw.{filetype}'), \n",
    "            dpi = dpi, format = filetype, bbox_inches='tight', pad_inches=0.1);"
   ]
  },
  {
   "cell_type": "code",
   "execution_count": 68,
   "metadata": {},
   "outputs": [],
   "source": [
    "clin_data_combined['PCAM at birth'] = np.where(clin_data_combined['Age_at_Cerny_arrival']< pd.to_timedelta(0), 1, 0)"
   ]
  },
  {
   "cell_type": "code",
   "execution_count": 69,
   "metadata": {},
   "outputs": [
    {
     "data": {
      "text/plain": [
       "PCAM at birth\n",
       "0    37\n",
       "1    18\n",
       "Name: count, dtype: int64"
      ]
     },
     "execution_count": 69,
     "metadata": {},
     "output_type": "execute_result"
    }
   ],
   "source": [
    "# Cerny present at birth: 0:no, 1:yes\n",
    "clin_data_combined['PCAM at birth'].value_counts()"
   ]
  },
  {
   "cell_type": "code",
   "execution_count": 70,
   "metadata": {},
   "outputs": [
    {
     "data": {
      "text/plain": [
       "23"
      ]
     },
     "execution_count": 70,
     "metadata": {},
     "output_type": "execute_result"
    }
   ],
   "source": [
    "# Cerny present by 15 minutes of age\n",
    "sum(clin_data_combined['Age_at_Cerny_arrival'] <= pd.to_timedelta('15 min'))"
   ]
  },
  {
   "cell_type": "code",
   "execution_count": 71,
   "metadata": {},
   "outputs": [
    {
     "data": {
      "text/plain": [
       "Born outside of hosp_manual  PCAM at birth\n",
       "0                            0                30\n",
       "                             1                18\n",
       "1                            0                 7\n",
       "Name: count, dtype: int64"
      ]
     },
     "execution_count": 71,
     "metadata": {},
     "output_type": "execute_result"
    }
   ],
   "source": [
    "# Cerny was not present at birth for those ones born outside hospital\n",
    "clin_data_combined.groupby('Born outside of hosp_manual')['PCAM at birth'].value_counts()"
   ]
  },
  {
   "cell_type": "code",
   "execution_count": 72,
   "metadata": {},
   "outputs": [
    {
     "data": {
      "image/png": "[encoded data removed]",
      "text/plain": [
       "<Figure size 240x320 with 1 Axes>"
      ]
     },
     "metadata": {},
     "output_type": "display_data"
    }
   ],
   "source": [
    "dpi=300; filetype = 'jpg'\n",
    "\n",
    "medianprops = {'color': 'black', 'linewidth': 1}\n",
    "meanpointprops = {'marker':'D', 'markersize' : 4, 'markeredgecolor':'black', 'markerfacecolor':'black'}\n",
    "boxprops = {'color': 'black',  'linestyle': '-'}; whiskerprops = {'color': 'black', 'linestyle': '-'}\n",
    "capprops = {'color': 'black', 'linestyle': '-'}; flierprops = {'color': 'black', 'marker': '.'}\n",
    "\n",
    "fig,ax = plt.subplots(1,1, figsize=(3,4))\n",
    "\n",
    "ax.boxplot(clin_data_combined['Age_at_Cerny_arrival']/ 1e9 / 60, widths=0.3, whis = [0, 100], \n",
    "           showfliers = False, showmeans = True,\n",
    "           medianprops=medianprops, meanprops = meanpointprops, boxprops=boxprops, whiskerprops=whiskerprops, \n",
    "           capprops=capprops, )\n",
    "ax.set_ylim(-180, 240)\n",
    "ax.set_xticks([1], ['Age at arrival\\nof transport team'])\n",
    "ax.set_ylabel('Minutes')\n",
    "fig.savefig(os.path.join (DIR_WRITE, f'age_at_arrival_of transport_team_boxplot.{filetype}'), \n",
    "            dpi = dpi, format = filetype, bbox_inches='tight', pad_inches=0.1);"
   ]
  },
  {
   "cell_type": "markdown",
   "metadata": {},
   "source": [
    "##### 2. Intubation and surfactant administration"
   ]
  },
  {
   "cell_type": "code",
   "execution_count": 73,
   "metadata": {},
   "outputs": [
    {
     "data": {
      "text/plain": [
       "Who performed intub_manual\n",
       "2    38\n",
       "1    14\n",
       "0     3\n",
       "Name: count, dtype: int64"
      ]
     },
     "execution_count": 73,
     "metadata": {},
     "output_type": "execute_result"
    }
   ],
   "source": [
    "# 0-not intubated, 1-local pediatrician, 2-PCAM staff\n",
    "clin_data_combined['Who performed intub_manual'].value_counts(dropna=False)"
   ]
  },
  {
   "cell_type": "code",
   "execution_count": 74,
   "metadata": {},
   "outputs": [
    {
     "data": {
      "text/plain": [
       "Index(['AL000253', 'AL000762', 'AT000051'], dtype='object', name='Ventilation ID')"
      ]
     },
     "execution_count": 74,
     "metadata": {},
     "output_type": "execute_result"
    }
   ],
   "source": [
    "# Cases who were not intubated\n",
    "clin_data_combined[clin_data_combined['Who performed intub_manual'] == 0].index"
   ]
  },
  {
   "cell_type": "code",
   "execution_count": 75,
   "metadata": {},
   "outputs": [
    {
     "data": {
      "text/plain": [
       "Reintubation by PCAM_manual\n",
       "0    43\n",
       "1    12\n",
       "Name: count, dtype: int64"
      ]
     },
     "execution_count": 75,
     "metadata": {},
     "output_type": "execute_result"
    }
   ],
   "source": [
    "# 0: no, 1:yes\n",
    "clin_data_combined['Reintubation by PCAM_manual'].value_counts(dropna=False)"
   ]
  },
  {
   "cell_type": "code",
   "execution_count": 76,
   "metadata": {},
   "outputs": [
    {
     "data": {
      "text/plain": [
       "Surfactant admin_manual\n",
       "1    52\n",
       "0     3\n",
       "Name: count, dtype: int64"
      ]
     },
     "execution_count": 76,
     "metadata": {},
     "output_type": "execute_result"
    }
   ],
   "source": [
    "# Surfactant given prior to transport? 0: no, 1:yes\n",
    "clin_data_combined['Surfactant admin_manual'].value_counts(dropna=False)"
   ]
  },
  {
   "cell_type": "code",
   "execution_count": 77,
   "metadata": {},
   "outputs": [
    {
     "data": {
      "text/html": [
       "<div>\n",
       "<style scoped>\n",
       "    .dataframe tbody tr th:only-of-type {\n",
       "        vertical-align: middle;\n",
       "    }\n",
       "\n",
       "    .dataframe tbody tr th {\n",
       "        vertical-align: top;\n",
       "    }\n",
       "\n",
       "    .dataframe thead th {\n",
       "        text-align: right;\n",
       "    }\n",
       "</style>\n",
       "<table border=\"1\" class=\"dataframe\">\n",
       "  <thead>\n",
       "    <tr style=\"text-align: right;\">\n",
       "      <th></th>\n",
       "      <th>Gest Week_manual</th>\n",
       "      <th>Birth weight_manual</th>\n",
       "      <th>Km_manual</th>\n",
       "    </tr>\n",
       "    <tr>\n",
       "      <th>Ventilation ID</th>\n",
       "      <th></th>\n",
       "      <th></th>\n",
       "      <th></th>\n",
       "    </tr>\n",
       "  </thead>\n",
       "  <tbody>\n",
       "    <tr>\n",
       "      <th>AL000253</th>\n",
       "      <td>27</td>\n",
       "      <td>950</td>\n",
       "      <td>5</td>\n",
       "    </tr>\n",
       "    <tr>\n",
       "      <th>AL000762</th>\n",
       "      <td>26</td>\n",
       "      <td>600</td>\n",
       "      <td>79</td>\n",
       "    </tr>\n",
       "    <tr>\n",
       "      <th>AT000051</th>\n",
       "      <td>28</td>\n",
       "      <td>990</td>\n",
       "      <td>2</td>\n",
       "    </tr>\n",
       "  </tbody>\n",
       "</table>\n",
       "</div>"
      ],
      "text/plain": [
       "                Gest Week_manual  Birth weight_manual  Km_manual\n",
       "Ventilation ID                                                  \n",
       "AL000253                      27                  950          5\n",
       "AL000762                      26                  600         79\n",
       "AT000051                      28                  990          2"
      ]
     },
     "execution_count": 77,
     "metadata": {},
     "output_type": "execute_result"
    }
   ],
   "source": [
    "clin_data_combined[clin_data_combined['Surfactant admin_manual'] == 0][['Gest Week_manual', 'Birth weight_manual',\n",
    "                                                                        'Km_manual']]"
   ]
  },
  {
   "cell_type": "code",
   "execution_count": 78,
   "metadata": {},
   "outputs": [],
   "source": [
    "clin_data_combined['Age at surfactant'] = clin_data_combined['Time of surfactant_manual'] -\\\n",
    "clin_data_combined['Date of Birth_manual']"
   ]
  },
  {
   "cell_type": "code",
   "execution_count": 79,
   "metadata": {},
   "outputs": [
    {
     "data": {
      "text/plain": [
       "count                           49\n",
       "mean     0 days 01:03:08.571428571\n",
       "std      0 days 00:52:33.854784228\n",
       "min                0 days 00:09:00\n",
       "25%                0 days 00:19:00\n",
       "50%                0 days 00:55:00\n",
       "75%                0 days 01:21:00\n",
       "max                0 days 03:32:00\n",
       "Name: Age at surfactant, dtype: object"
      ]
     },
     "execution_count": 79,
     "metadata": {},
     "output_type": "execute_result"
    }
   ],
   "source": [
    "clin_data_combined['Age at surfactant'].describe()"
   ]
  },
  {
   "cell_type": "code",
   "execution_count": 80,
   "metadata": {},
   "outputs": [
    {
     "data": {
      "image/png": "[encoded data removed]",
      "text/plain": [
       "<Figure size 240x320 with 1 Axes>"
      ]
     },
     "metadata": {},
     "output_type": "display_data"
    }
   ],
   "source": [
    "dpi=300; filetype = 'jpg'\n",
    "\n",
    "medianprops = {'color': 'black', 'linewidth': 1}\n",
    "meanpointprops = {'marker':'D', 'markersize' : 4, 'markeredgecolor':'black', 'markerfacecolor':'black'}\n",
    "boxprops = {'color': 'black',  'linestyle': '-'}; whiskerprops = {'color': 'black', 'linestyle': '-'}\n",
    "capprops = {'color': 'black', 'linestyle': '-'}; flierprops = {'color': 'black', 'marker': '.'}\n",
    "\n",
    "fig,ax = plt.subplots(1,1, figsize=(3,4))\n",
    "\n",
    "ax.boxplot(clin_data_combined['Age at surfactant'].dropna() / 1e9 / 60, widths=0.3, whis = [0, 100], \n",
    "           showfliers=False, showmeans=True,\n",
    "           medianprops=medianprops, meanprops = meanpointprops, boxprops=boxprops, whiskerprops=whiskerprops, \n",
    "           capprops=capprops, )\n",
    "\n",
    "ax.set_ylim(0, 240)\n",
    "ax.set_xticks([1], ['Age at surfactant\\nadministration'])\n",
    "ax.set_ylabel('Minutes')\n",
    "fig.savefig(os.path.join (DIR_WRITE, f'age_at_surfactant administration_boxplot.{filetype}'), \n",
    "            dpi = dpi, format = filetype, bbox_inches='tight', pad_inches=0.1);"
   ]
  },
  {
   "cell_type": "markdown",
   "metadata": {},
   "source": [
    "##### 3. Chest compression and adrenaline bolus"
   ]
  },
  {
   "cell_type": "code",
   "execution_count": 81,
   "metadata": {},
   "outputs": [
    {
     "data": {
      "text/plain": [
       "Chest compression_manual\n",
       "0    46\n",
       "1     9\n",
       "Name: count, dtype: int64"
      ]
     },
     "execution_count": 81,
     "metadata": {},
     "output_type": "execute_result"
    }
   ],
   "source": [
    "# 0:no; 1:yes\n",
    "clin_data_combined['Chest compression_manual'].value_counts(dropna=False)"
   ]
  },
  {
   "cell_type": "code",
   "execution_count": 82,
   "metadata": {},
   "outputs": [
    {
     "data": {
      "text/plain": [
       "Adrenaline_manual\n",
       "0    48\n",
       "1     7\n",
       "Name: count, dtype: int64"
      ]
     },
     "execution_count": 82,
     "metadata": {},
     "output_type": "execute_result"
    }
   ],
   "source": [
    "# 0:no; 1:yes\n",
    "clin_data_combined['Adrenaline_manual'].value_counts(dropna=False)"
   ]
  },
  {
   "cell_type": "markdown",
   "metadata": {},
   "source": [
    "#### D. Transport characteristics"
   ]
  },
  {
   "cell_type": "markdown",
   "metadata": {},
   "source": [
    "##### 1. Distance travelled"
   ]
  },
  {
   "cell_type": "code",
   "execution_count": 83,
   "metadata": {},
   "outputs": [
    {
     "data": {
      "text/plain": [
       "count     55.000000\n",
       "mean      57.018182\n",
       "std       40.295433\n",
       "min        1.000000\n",
       "25%       11.000000\n",
       "50%       59.000000\n",
       "75%       88.500000\n",
       "max      121.000000\n",
       "Name: Km_manual, dtype: float64"
      ]
     },
     "execution_count": 83,
     "metadata": {},
     "output_type": "execute_result"
    }
   ],
   "source": [
    "clin_data_combined['Km_manual'].describe()"
   ]
  },
  {
   "cell_type": "code",
   "execution_count": 84,
   "metadata": {},
   "outputs": [
    {
     "data": {
      "image/png": "[encoded data removed]",
      "text/plain": [
       "<Figure size 240x320 with 1 Axes>"
      ]
     },
     "metadata": {},
     "output_type": "display_data"
    }
   ],
   "source": [
    "dpi=300; filetype = 'jpg'\n",
    "\n",
    "medianprops = {'color': 'black', 'linewidth': 1}\n",
    "meanpointprops = {'marker':'D', 'markersize' : 4, 'markeredgecolor':'black', 'markerfacecolor':'black'}\n",
    "boxprops = {'color': 'black',  'linestyle': '-'}; whiskerprops = {'color': 'black', 'linestyle': '-'}\n",
    "capprops = {'color': 'black', 'linestyle': '-'}; flierprops = {'color': 'black', 'marker': '.'}\n",
    "\n",
    "fig,ax = plt.subplots(1,1, figsize=(3,4))\n",
    "\n",
    "ax.boxplot(clin_data_combined['Km_manual'], widths=0.3, whis = [0, 100], \n",
    "           showfliers = False, showmeans = True,\n",
    "           medianprops=medianprops, meanprops = meanpointprops, boxprops=boxprops, whiskerprops=whiskerprops, \n",
    "           capprops=capprops, )\n",
    "ax.set_ylim(-5, 140)\n",
    "ax.set_xticks([1], ['Transport distance'])\n",
    "ax.set_ylabel('Kilometers')\n",
    "fig.savefig(os.path.join (DIR_WRITE, f'transport distance_boxplot.{filetype}'), \n",
    "            dpi = dpi, format = filetype, bbox_inches='tight', pad_inches=0.1);"
   ]
  },
  {
   "cell_type": "markdown",
   "metadata": {},
   "source": [
    "##### 2. Age at arrival"
   ]
  },
  {
   "cell_type": "code",
   "execution_count": 85,
   "metadata": {},
   "outputs": [],
   "source": [
    "clin_data_combined['Age at arrival_NICU'] = clin_data_combined['End of transport_manual'] - \\\n",
    "    clin_data_combined['Date of Birth_manual']"
   ]
  },
  {
   "cell_type": "code",
   "execution_count": 86,
   "metadata": {},
   "outputs": [
    {
     "data": {
      "text/plain": [
       "count                           55\n",
       "mean     0 days 03:17:56.727272727\n",
       "std      0 days 01:07:36.228431795\n",
       "min                0 days 01:29:00\n",
       "25%                0 days 02:15:30\n",
       "50%                0 days 03:15:00\n",
       "75%                0 days 04:19:30\n",
       "max                0 days 05:46:00\n",
       "Name: Age at arrival_NICU, dtype: object"
      ]
     },
     "execution_count": 86,
     "metadata": {},
     "output_type": "execute_result"
    }
   ],
   "source": [
    "clin_data_combined['Age at arrival_NICU'].describe()"
   ]
  },
  {
   "cell_type": "code",
   "execution_count": 87,
   "metadata": {},
   "outputs": [
    {
     "data": {
      "image/png": "[encoded data removed]",
      "text/plain": [
       "<Figure size 240x320 with 1 Axes>"
      ]
     },
     "metadata": {},
     "output_type": "display_data"
    }
   ],
   "source": [
    "dpi=300; filetype = 'jpg'\n",
    "\n",
    "medianprops = {'color': 'black', 'linewidth': 1}\n",
    "meanpointprops = {'marker':'D', 'markersize' : 4, 'markeredgecolor':'black', 'markerfacecolor':'black'}\n",
    "boxprops = {'color': 'black',  'linestyle': '-'}; whiskerprops = {'color': 'black', 'linestyle': '-'}\n",
    "capprops = {'color': 'black', 'linestyle': '-'}; flierprops = {'color': 'black', 'marker': '.'}\n",
    "\n",
    "fig,ax = plt.subplots(1,1, figsize=(3,4))\n",
    "\n",
    "ax.boxplot(clin_data_combined['Age at arrival_NICU'].dropna() / 1e9 / 60, widths=0.3, whis = [0, 100], \n",
    "           showfliers=False, showmeans=True,\n",
    "           medianprops=medianprops, meanprops = meanpointprops, boxprops=boxprops, whiskerprops=whiskerprops, \n",
    "           capprops=capprops, )\n",
    "\n",
    "ax.set_ylim(0, 400)\n",
    "ax.set_xticks([1], ['Age at the end\\nof transfer'])\n",
    "ax.set_ylabel('Minutes')\n",
    "fig.savefig(os.path.join (DIR_WRITE, f'age_at_arrival_NICU_boxplot.{filetype}'), \n",
    "            dpi = dpi, format = filetype, bbox_inches='tight', pad_inches=0.1);"
   ]
  },
  {
   "cell_type": "markdown",
   "metadata": {},
   "source": [
    "#### E. Cardiovascular care and sedation during transport"
   ]
  },
  {
   "cell_type": "code",
   "execution_count": 88,
   "metadata": {},
   "outputs": [
    {
     "data": {
      "text/plain": [
       "Fluid bolus_manual\n",
       "0    37\n",
       "1    18\n",
       "Name: count, dtype: int64"
      ]
     },
     "execution_count": 88,
     "metadata": {},
     "output_type": "execute_result"
    }
   ],
   "source": [
    "# 0:no; 1:yes\n",
    "clin_data_combined['Fluid bolus_manual'].value_counts(dropna=False)"
   ]
  },
  {
   "cell_type": "code",
   "execution_count": 89,
   "metadata": {},
   "outputs": [
    {
     "data": {
      "text/plain": [
       "CV support drug_manual\n",
       "0    49\n",
       "1     6\n",
       "Name: count, dtype: int64"
      ]
     },
     "execution_count": 89,
     "metadata": {},
     "output_type": "execute_result"
    }
   ],
   "source": [
    "# 0:no; 1:yes\n",
    "clin_data_combined['CV support drug_manual'].value_counts(dropna=False)"
   ]
  },
  {
   "cell_type": "code",
   "execution_count": 90,
   "metadata": {},
   "outputs": [
    {
     "data": {
      "text/plain": [
       "Fentanyl_manual\n",
       "0    43\n",
       "1    12\n",
       "Name: count, dtype: int64"
      ]
     },
     "execution_count": 90,
     "metadata": {},
     "output_type": "execute_result"
    }
   ],
   "source": [
    "# 0:no; 1:yes\n",
    "clin_data_combined['Fentanyl_manual'].value_counts(dropna=False)"
   ]
  },
  {
   "cell_type": "markdown",
   "metadata": {},
   "source": [
    "#### F. Survival to discharge"
   ]
  },
  {
   "cell_type": "code",
   "execution_count": 91,
   "metadata": {},
   "outputs": [
    {
     "data": {
      "text/plain": [
       "Death_outcome\n",
       "0.0    30\n",
       "1.0    22\n",
       "NaN     3\n",
       "Name: count, dtype: int64"
      ]
     },
     "execution_count": 91,
     "metadata": {},
     "output_type": "execute_result"
    }
   ],
   "source": [
    "# 0: survived; 1: died\n",
    "clin_data_combined['Death_outcome'].value_counts(dropna=False)"
   ]
  },
  {
   "cell_type": "code",
   "execution_count": 92,
   "metadata": {},
   "outputs": [
    {
     "data": {
      "text/plain": [
       "(0.5454545454545454, 0.4)"
      ]
     },
     "execution_count": 92,
     "metadata": {},
     "output_type": "execute_result"
    }
   ],
   "source": [
    "((sum(clin_data_combined['Death_outcome']==0) / len(clin_data_combined)),\n",
    "(sum(clin_data_combined['Death_outcome']==1) / len(clin_data_combined)))"
   ]
  },
  {
   "cell_type": "code",
   "execution_count": 93,
   "metadata": {},
   "outputs": [
    {
     "data": {
      "text/plain": [
       "Gest Week_manual  Death_outcome\n",
       "21                1.0              1\n",
       "22                1.0              2\n",
       "23                1.0              6\n",
       "                  NaN              1\n",
       "24                0.0              5\n",
       "                  1.0              5\n",
       "25                0.0              7\n",
       "                  1.0              3\n",
       "                  NaN              1\n",
       "26                0.0              6\n",
       "                  1.0              4\n",
       "                  NaN              1\n",
       "27                0.0              5\n",
       "                  1.0              1\n",
       "28                0.0              4\n",
       "29                0.0              1\n",
       "30                0.0              1\n",
       "31                0.0              1\n",
       "Name: count, dtype: int64"
      ]
     },
     "execution_count": 93,
     "metadata": {},
     "output_type": "execute_result"
    }
   ],
   "source": [
    "clin_data_combined.groupby('Gest Week_manual')['Death_outcome'].value_counts(dropna=False)"
   ]
  },
  {
   "cell_type": "code",
   "execution_count": 94,
   "metadata": {},
   "outputs": [],
   "source": [
    "# Export processed combined clinical dataset \n",
    "with pd.ExcelWriter(os.path.join(DIR_WRITE, f'mortality_ELBW.xlsx')) as writer:\n",
    "    clin_data_combined['Death_outcome'].value_counts(dropna=False).to_excel(writer, sheet_name='survived_0_died_1')\n",
    "    clin_data_combined.groupby('Gest Week_manual')['Death_outcome'].value_counts(dropna=False).to_excel(writer, \n",
    "                                                                                        sheet_name='death_by_week')"
   ]
  },
  {
   "cell_type": "markdown",
   "metadata": {},
   "source": [
    "##### Comparison with national statistics\n",
    "\n",
    "In our cohort 30 / 55 survived\n",
    "Nationally, inborn infants (2020) 288 / 374 survived"
   ]
  },
  {
   "cell_type": "code",
   "execution_count": 95,
   "metadata": {},
   "outputs": [
    {
     "data": {
      "text/plain": [
       "SignificanceResult(statistic=0.7083333333333334, pvalue=0.16301379295668408)"
      ]
     },
     "execution_count": 95,
     "metadata": {},
     "output_type": "execute_result"
    }
   ],
   "source": [
    "stats.fisher_exact([[30, 55], [288, 374]])"
   ]
  },
  {
   "cell_type": "markdown",
   "metadata": {},
   "source": [
    "#### G. Long-term morbidities\n",
    "\n",
    "Morbidity data is only available for babies who survived to discharge"
   ]
  },
  {
   "cell_type": "code",
   "execution_count": 96,
   "metadata": {},
   "outputs": [
    {
     "data": {
      "text/plain": [
       "Death_outcome\n",
       "0.0    30\n",
       "1.0    22\n",
       "NaN     3\n",
       "Name: count, dtype: int64"
      ]
     },
     "execution_count": 96,
     "metadata": {},
     "output_type": "execute_result"
    }
   ],
   "source": [
    "clin_data_combined['Death_outcome'].value_counts(dropna=False)"
   ]
  },
  {
   "cell_type": "code",
   "execution_count": 97,
   "metadata": {},
   "outputs": [
    {
     "data": {
      "text/plain": [
       "Patient report_outcome          30.0\n",
       "Death_outcome                   30.0\n",
       "Neurodev. Impairment_outcome     8.0\n",
       "Length of AB (days)_outcome     24.0\n",
       "Inv. Vent (days)_outcome        24.0\n",
       "Sepsis_outcome                  28.0\n",
       "IVH_outcome                     28.0\n",
       "ROP_outcome                     27.0\n",
       "NEC_outcome                     28.0\n",
       "BPD_outcome                     28.0\n",
       "Name: count, dtype: float64"
      ]
     },
     "execution_count": 97,
     "metadata": {},
     "output_type": "execute_result"
    }
   ],
   "source": [
    "outcome[outcome['Death_outcome'] ==0].describe().loc['count']"
   ]
  },
  {
   "cell_type": "code",
   "execution_count": 98,
   "metadata": {},
   "outputs": [
    {
     "data": {
      "text/plain": [
       "Death_outcome  IVH_outcome\n",
       "1.0            NaN            22\n",
       "0.0            0.0            14\n",
       "               1.0             7\n",
       "               3.0             4\n",
       "               5.0             3\n",
       "NaN            NaN             3\n",
       "0.0            NaN             2\n",
       "Name: count, dtype: int64"
      ]
     },
     "execution_count": 98,
     "metadata": {},
     "output_type": "execute_result"
    }
   ],
   "source": [
    "clin_data_combined[['Death_outcome', 'IVH_outcome']].value_counts(dropna=False)"
   ]
  },
  {
   "cell_type": "code",
   "execution_count": 99,
   "metadata": {},
   "outputs": [
    {
     "data": {
      "text/plain": [
       "Death_outcome  ROP_outcome\n",
       "1.0            NaN            22\n",
       "0.0            0.0            19\n",
       "               1.0             8\n",
       "               NaN             3\n",
       "NaN            NaN             3\n",
       "Name: count, dtype: int64"
      ]
     },
     "execution_count": 99,
     "metadata": {},
     "output_type": "execute_result"
    }
   ],
   "source": [
    "clin_data_combined[['Death_outcome', 'ROP_outcome']].value_counts(dropna=False)"
   ]
  },
  {
   "cell_type": "code",
   "execution_count": 100,
   "metadata": {},
   "outputs": [
    {
     "data": {
      "text/plain": [
       "Death_outcome  BPD_outcome\n",
       "1.0            NaN            22\n",
       "0.0            0.0            19\n",
       "               1.0             9\n",
       "NaN            NaN             3\n",
       "0.0            NaN             2\n",
       "Name: count, dtype: int64"
      ]
     },
     "execution_count": 100,
     "metadata": {},
     "output_type": "execute_result"
    }
   ],
   "source": [
    "clin_data_combined[['Death_outcome', 'BPD_outcome']].value_counts(dropna=False)"
   ]
  },
  {
   "cell_type": "code",
   "execution_count": 101,
   "metadata": {},
   "outputs": [
    {
     "data": {
      "text/plain": [
       "Death_outcome  NEC_outcome\n",
       "0.0            0.0            22\n",
       "1.0            NaN            22\n",
       "0.0            1.0             6\n",
       "NaN            NaN             3\n",
       "0.0            NaN             2\n",
       "Name: count, dtype: int64"
      ]
     },
     "execution_count": 101,
     "metadata": {},
     "output_type": "execute_result"
    }
   ],
   "source": [
    "clin_data_combined[['Death_outcome', 'NEC_outcome']].value_counts(dropna=False)"
   ]
  },
  {
   "cell_type": "code",
   "execution_count": 102,
   "metadata": {},
   "outputs": [
    {
     "data": {
      "text/plain": [
       "count    24.000000\n",
       "mean      9.208333\n",
       "std      10.942455\n",
       "min       0.000000\n",
       "25%       1.000000\n",
       "50%       4.500000\n",
       "75%      13.250000\n",
       "max      40.000000\n",
       "Name: Inv. Vent (days)_outcome, dtype: float64"
      ]
     },
     "execution_count": 102,
     "metadata": {},
     "output_type": "execute_result"
    }
   ],
   "source": [
    "clin_data_combined['Inv. Vent (days)_outcome'].describe()"
   ]
  },
  {
   "cell_type": "markdown",
   "metadata": {},
   "source": [
    "### 10. Compare selected parameters at arrival of the tranport service to referring hopital versus at handover to NICU"
   ]
  },
  {
   "cell_type": "markdown",
   "metadata": {},
   "source": [
    "#### A. Body temperature"
   ]
  },
  {
   "cell_type": "code",
   "execution_count": 103,
   "metadata": {},
   "outputs": [
    {
     "data": {
      "text/plain": [
       "count    54.000000\n",
       "mean     35.377778\n",
       "std       1.821742\n",
       "min      28.500000\n",
       "25%      34.700000\n",
       "50%      35.900000\n",
       "75%      36.475000\n",
       "max      38.100000\n",
       "Name: Body temperature (°C), dtype: float64"
      ]
     },
     "execution_count": 103,
     "metadata": {},
     "output_type": "execute_result"
    }
   ],
   "source": [
    "temperature_arrival = vital_parameters['At arrival of PCAM']['Body temperature (°C)']\n",
    "temperature_arrival.describe()"
   ]
  },
  {
   "cell_type": "code",
   "execution_count": 104,
   "metadata": {},
   "outputs": [
    {
     "data": {
      "text/plain": [
       "count    54.000000\n",
       "mean     36.461111\n",
       "std       1.143054\n",
       "min      33.100000\n",
       "25%      36.025000\n",
       "50%      36.700000\n",
       "75%      37.300000\n",
       "max      38.300000\n",
       "Name: Body temperature (°C), dtype: float64"
      ]
     },
     "execution_count": 104,
     "metadata": {},
     "output_type": "execute_result"
    }
   ],
   "source": [
    "temperature_handover = vital_parameters['At arrival to NICU']['Body temperature (°C)']\n",
    "temperature_handover.describe()"
   ]
  },
  {
   "cell_type": "code",
   "execution_count": 105,
   "metadata": {},
   "outputs": [
    {
     "data": {
      "text/plain": [
       "MannwhitneyuResult(statistic=849.0, pvalue=0.00018352573592132903)"
      ]
     },
     "execution_count": 105,
     "metadata": {},
     "output_type": "execute_result"
    }
   ],
   "source": [
    "stats.mannwhitneyu(temperature_arrival.dropna(), temperature_handover.dropna())"
   ]
  },
  {
   "cell_type": "code",
   "execution_count": 106,
   "metadata": {},
   "outputs": [
    {
     "data": {
      "image/png": "[encoded data removed]",
      "text/plain": [
       "<Figure size 320x320 with 1 Axes>"
      ]
     },
     "metadata": {},
     "output_type": "display_data"
    }
   ],
   "source": [
    "dpi=300; filetype = 'jpg'\n",
    "\n",
    "medianprops = {'color': 'black', 'linewidth': 1}\n",
    "meanpointprops = {'marker':'D', 'markersize' : 4, 'markeredgecolor':'black', 'markerfacecolor':'black'}\n",
    "boxprops = {'color': 'black',  'linestyle': '-'}; whiskerprops = {'color': 'black', 'linestyle': '-'}\n",
    "capprops = {'color': 'black', 'linestyle': '-'}; flierprops = {'color': 'black', 'marker': '.'}\n",
    "\n",
    "fig,ax = plt.subplots(1,1, figsize=(4,4))\n",
    "\n",
    "ax.boxplot([vital_parameters['At arrival of PCAM']['Body temperature (°C)'].dropna().values,\n",
    "            vital_parameters['At arrival to NICU']['Body temperature (°C)'].dropna().values],\n",
    "            widths=0.4, whis = [0, 100], \n",
    "            showfliers=False, showmeans=True,\n",
    "            medianprops=medianprops, meanprops = meanpointprops, boxprops=boxprops, whiskerprops=whiskerprops, \n",
    "            capprops=capprops, )\n",
    "\n",
    "ax.set_ylim(27, 41)\n",
    "ax.set_xticks([1,2], ['At arrival of\\ntransport team', 'At the end of\\ntransfer'])\n",
    "ax.set_ylabel('Body temperature (°C)')\n",
    "\n",
    "ax.text(1.5, 39, 'p=0.0002', horizontalalignment ='center')\n",
    "\n",
    "fig.savefig(os.path.join(DIR_WRITE, f'Body_temperature_boxplot.{filetype}'), dpi = dpi, format = filetype,\n",
    "           bbox_inches='tight', pad_inches=0.1);"
   ]
  },
  {
   "cell_type": "markdown",
   "metadata": {},
   "source": [
    "#### B. Respiratory support"
   ]
  },
  {
   "cell_type": "code",
   "execution_count": 107,
   "metadata": {},
   "outputs": [
    {
     "data": {
      "text/plain": [
       "Resp. support (1-mask, 2-cPAP, 3-intub)\n",
       "2    22\n",
       "3    17\n",
       "1    11\n",
       "0     5\n",
       "Name: count, dtype: int64"
      ]
     },
     "execution_count": 107,
     "metadata": {},
     "output_type": "execute_result"
    }
   ],
   "source": [
    "vital_parameters['At arrival of PCAM']['Resp. support (1-mask, 2-cPAP, 3-intub)'].value_counts(dropna=False)"
   ]
  },
  {
   "cell_type": "code",
   "execution_count": 108,
   "metadata": {},
   "outputs": [
    {
     "data": {
      "text/plain": [
       "Resp. support (1-cPAP, 2-intub.)\n",
       "2    45\n",
       "3     7\n",
       "1     3\n",
       "Name: count, dtype: int64"
      ]
     },
     "execution_count": 108,
     "metadata": {},
     "output_type": "execute_result"
    }
   ],
   "source": [
    "vital_parameters['At arrival to NICU']['Resp. support (1-cPAP, 2-intub.)'].value_counts(dropna=False)"
   ]
  },
  {
   "cell_type": "markdown",
   "metadata": {},
   "source": [
    "#### C. Blood gases"
   ]
  },
  {
   "cell_type": "code",
   "execution_count": 109,
   "metadata": {},
   "outputs": [
    {
     "data": {
      "text/html": [
       "<div>\n",
       "<style scoped>\n",
       "    .dataframe tbody tr th:only-of-type {\n",
       "        vertical-align: middle;\n",
       "    }\n",
       "\n",
       "    .dataframe tbody tr th {\n",
       "        vertical-align: top;\n",
       "    }\n",
       "\n",
       "    .dataframe thead th {\n",
       "        text-align: right;\n",
       "    }\n",
       "</style>\n",
       "<table border=\"1\" class=\"dataframe\">\n",
       "  <thead>\n",
       "    <tr style=\"text-align: right;\">\n",
       "      <th>parameter</th>\n",
       "      <th>pH</th>\n",
       "      <th>pCO2</th>\n",
       "      <th>BE</th>\n",
       "    </tr>\n",
       "  </thead>\n",
       "  <tbody>\n",
       "    <tr>\n",
       "      <th>count</th>\n",
       "      <td>47.000000</td>\n",
       "      <td>47.000000</td>\n",
       "      <td>46.000000</td>\n",
       "    </tr>\n",
       "    <tr>\n",
       "      <th>mean</th>\n",
       "      <td>7.157468</td>\n",
       "      <td>57.265957</td>\n",
       "      <td>-8.386957</td>\n",
       "    </tr>\n",
       "    <tr>\n",
       "      <th>std</th>\n",
       "      <td>0.138315</td>\n",
       "      <td>17.780611</td>\n",
       "      <td>4.673690</td>\n",
       "    </tr>\n",
       "    <tr>\n",
       "      <th>min</th>\n",
       "      <td>6.550000</td>\n",
       "      <td>33.900000</td>\n",
       "      <td>-21.000000</td>\n",
       "    </tr>\n",
       "    <tr>\n",
       "      <th>25%</th>\n",
       "      <td>7.101000</td>\n",
       "      <td>46.700000</td>\n",
       "      <td>-11.950000</td>\n",
       "    </tr>\n",
       "    <tr>\n",
       "      <th>50%</th>\n",
       "      <td>7.193000</td>\n",
       "      <td>51.700000</td>\n",
       "      <td>-7.750000</td>\n",
       "    </tr>\n",
       "    <tr>\n",
       "      <th>75%</th>\n",
       "      <td>7.240000</td>\n",
       "      <td>64.250000</td>\n",
       "      <td>-5.000000</td>\n",
       "    </tr>\n",
       "    <tr>\n",
       "      <th>max</th>\n",
       "      <td>7.370000</td>\n",
       "      <td>130.000000</td>\n",
       "      <td>-0.300000</td>\n",
       "    </tr>\n",
       "  </tbody>\n",
       "</table>\n",
       "</div>"
      ],
      "text/plain": [
       "parameter         pH        pCO2         BE\n",
       "count      47.000000   47.000000  46.000000\n",
       "mean        7.157468   57.265957  -8.386957\n",
       "std         0.138315   17.780611   4.673690\n",
       "min         6.550000   33.900000 -21.000000\n",
       "25%         7.101000   46.700000 -11.950000\n",
       "50%         7.193000   51.700000  -7.750000\n",
       "75%         7.240000   64.250000  -5.000000\n",
       "max         7.370000  130.000000  -0.300000"
      ]
     },
     "execution_count": 109,
     "metadata": {},
     "output_type": "execute_result"
    }
   ],
   "source": [
    "blood_gases_arrival = blood_gases_manual['At arrival of PCAM'][['pH', 'pCO2', 'BE']]\n",
    "blood_gases_arrival.describe()"
   ]
  },
  {
   "cell_type": "code",
   "execution_count": 110,
   "metadata": {},
   "outputs": [
    {
     "data": {
      "text/html": [
       "<div>\n",
       "<style scoped>\n",
       "    .dataframe tbody tr th:only-of-type {\n",
       "        vertical-align: middle;\n",
       "    }\n",
       "\n",
       "    .dataframe tbody tr th {\n",
       "        vertical-align: top;\n",
       "    }\n",
       "\n",
       "    .dataframe thead th {\n",
       "        text-align: right;\n",
       "    }\n",
       "</style>\n",
       "<table border=\"1\" class=\"dataframe\">\n",
       "  <thead>\n",
       "    <tr style=\"text-align: right;\">\n",
       "      <th>parameter</th>\n",
       "      <th>pH</th>\n",
       "      <th>pCO2</th>\n",
       "      <th>BE</th>\n",
       "    </tr>\n",
       "  </thead>\n",
       "  <tbody>\n",
       "    <tr>\n",
       "      <th>count</th>\n",
       "      <td>50.000000</td>\n",
       "      <td>50.000000</td>\n",
       "      <td>50.000000</td>\n",
       "    </tr>\n",
       "    <tr>\n",
       "      <th>mean</th>\n",
       "      <td>7.255820</td>\n",
       "      <td>49.896000</td>\n",
       "      <td>-4.906000</td>\n",
       "    </tr>\n",
       "    <tr>\n",
       "      <th>std</th>\n",
       "      <td>0.142474</td>\n",
       "      <td>12.948027</td>\n",
       "      <td>5.611265</td>\n",
       "    </tr>\n",
       "    <tr>\n",
       "      <th>min</th>\n",
       "      <td>6.681000</td>\n",
       "      <td>31.300000</td>\n",
       "      <td>-25.100000</td>\n",
       "    </tr>\n",
       "    <tr>\n",
       "      <th>25%</th>\n",
       "      <td>7.203250</td>\n",
       "      <td>40.850000</td>\n",
       "      <td>-7.300000</td>\n",
       "    </tr>\n",
       "    <tr>\n",
       "      <th>50%</th>\n",
       "      <td>7.270000</td>\n",
       "      <td>48.750000</td>\n",
       "      <td>-3.650000</td>\n",
       "    </tr>\n",
       "    <tr>\n",
       "      <th>75%</th>\n",
       "      <td>7.321500</td>\n",
       "      <td>56.250000</td>\n",
       "      <td>-1.025000</td>\n",
       "    </tr>\n",
       "    <tr>\n",
       "      <th>max</th>\n",
       "      <td>7.478000</td>\n",
       "      <td>89.500000</td>\n",
       "      <td>3.400000</td>\n",
       "    </tr>\n",
       "  </tbody>\n",
       "</table>\n",
       "</div>"
      ],
      "text/plain": [
       "parameter         pH       pCO2         BE\n",
       "count      50.000000  50.000000  50.000000\n",
       "mean        7.255820  49.896000  -4.906000\n",
       "std         0.142474  12.948027   5.611265\n",
       "min         6.681000  31.300000 -25.100000\n",
       "25%         7.203250  40.850000  -7.300000\n",
       "50%         7.270000  48.750000  -3.650000\n",
       "75%         7.321500  56.250000  -1.025000\n",
       "max         7.478000  89.500000   3.400000"
      ]
     },
     "execution_count": 110,
     "metadata": {},
     "output_type": "execute_result"
    }
   ],
   "source": [
    "blood_gases_handover = blood_gases_manual['At arrival to NICU'][['pH', 'pCO2', 'BE']]\n",
    "blood_gases_handover.describe()"
   ]
  },
  {
   "cell_type": "code",
   "execution_count": 111,
   "metadata": {},
   "outputs": [],
   "source": [
    "# Export processed combined clinical dataset \n",
    "with pd.ExcelWriter(os.path.join(DIR_WRITE, f'blood_gases_arrival_handover_ELBW.xlsx')) as writer:\n",
    "    blood_gases_arrival.describe().to_excel(writer, sheet_name='arrival_of_team')\n",
    "    blood_gases_handover.describe().to_excel(writer, sheet_name='handover_on_NICU')"
   ]
  },
  {
   "cell_type": "markdown",
   "metadata": {},
   "source": [
    "##### pH"
   ]
  },
  {
   "cell_type": "code",
   "execution_count": 112,
   "metadata": {},
   "outputs": [
    {
     "data": {
      "text/plain": [
       "MannwhitneyuResult(statistic=601.5, pvalue=3.516696109595749e-05)"
      ]
     },
     "execution_count": 112,
     "metadata": {},
     "output_type": "execute_result"
    }
   ],
   "source": [
    "stats.mannwhitneyu(blood_gases_arrival['pH'].dropna(), blood_gases_handover['pH'].dropna())"
   ]
  },
  {
   "cell_type": "code",
   "execution_count": 113,
   "metadata": {},
   "outputs": [
    {
     "data": {
      "image/png": "[encoded data removed]",
      "text/plain": [
       "<Figure size 320x320 with 1 Axes>"
      ]
     },
     "metadata": {},
     "output_type": "display_data"
    }
   ],
   "source": [
    "dpi=300; filetype = 'jpg'\n",
    "\n",
    "medianprops = {'color': 'black', 'linewidth': 1}\n",
    "meanpointprops = {'marker':'D', 'markersize' : 4, 'markeredgecolor':'black', 'markerfacecolor':'black'}\n",
    "boxprops = {'color': 'black',  'linestyle': '-'}; whiskerprops = {'color': 'black', 'linestyle': '-'}\n",
    "capprops = {'color': 'black', 'linestyle': '-'}; flierprops = {'color': 'black', 'marker': '.'}\n",
    "\n",
    "fig,ax = plt.subplots(1,1, figsize=(4,4))\n",
    "\n",
    "ax.boxplot([blood_gases_arrival['pH'].dropna().values, blood_gases_handover['pH'].dropna().values],\n",
    "            widths=0.4, whis = [5, 95], \n",
    "            showfliers=False, showmeans=True,\n",
    "            medianprops=medianprops, meanprops = meanpointprops, boxprops=boxprops, whiskerprops=whiskerprops, \n",
    "            capprops=capprops, )\n",
    "\n",
    "ax.set_ylim(6.89, 7.5)\n",
    "ax.set_xticks([1,2], ['At arrival of\\ntransport team', 'At the end of\\ntransfer'])\n",
    "ax.set_ylabel('pH')\n",
    "\n",
    "ax.text(1.5, 7.4, 'p<0.0001', horizontalalignment ='center')\n",
    "\n",
    "fig.savefig(os.path.join(DIR_WRITE, f'pH_boxplot.{filetype}'), dpi = dpi, format = filetype, bbox_inches='tight', pad_inches=0.1);"
   ]
  },
  {
   "cell_type": "markdown",
   "metadata": {},
   "source": [
    "##### pCO2"
   ]
  },
  {
   "cell_type": "code",
   "execution_count": 114,
   "metadata": {},
   "outputs": [
    {
     "data": {
      "text/plain": [
       "MannwhitneyuResult(statistic=1514.5, pvalue=0.014395256643367233)"
      ]
     },
     "execution_count": 114,
     "metadata": {},
     "output_type": "execute_result"
    }
   ],
   "source": [
    "stats.mannwhitneyu(blood_gases_arrival['pCO2'].dropna(), blood_gases_handover['pCO2'].dropna())"
   ]
  },
  {
   "cell_type": "code",
   "execution_count": 115,
   "metadata": {},
   "outputs": [
    {
     "data": {
      "image/png": "[encoded data removed]",
      "text/plain": [
       "<Figure size 320x320 with 1 Axes>"
      ]
     },
     "metadata": {},
     "output_type": "display_data"
    }
   ],
   "source": [
    "dpi=300; filetype = 'jpg'\n",
    "\n",
    "medianprops = {'color': 'black', 'linewidth': 1}\n",
    "meanpointprops = {'marker':'D', 'markersize' : 4, 'markeredgecolor':'black', 'markerfacecolor':'black'}\n",
    "boxprops = {'color': 'black',  'linestyle': '-'}; whiskerprops = {'color': 'black', 'linestyle': '-'}\n",
    "capprops = {'color': 'black', 'linestyle': '-'}; flierprops = {'color': 'black', 'marker': '.'}\n",
    "\n",
    "fig,ax = plt.subplots(1,1, figsize=(4,4))\n",
    "\n",
    "ax.boxplot([blood_gases_arrival['pCO2'].dropna(), blood_gases_handover['pCO2'].dropna()],\n",
    "            widths=0.4, whis = [5, 95], \n",
    "            showfliers=False, showmeans=True,\n",
    "            medianprops=medianprops, meanprops = meanpointprops, boxprops=boxprops, whiskerprops=whiskerprops, \n",
    "            capprops=capprops, )\n",
    "\n",
    "ax.set_ylim(21, 100)\n",
    "ax.set_xticks([1,2], ['At arrival of\\ntransport team', 'At the end of\\ntransfer'])\n",
    "ax.set_ylabel('pCO$_2$ [mmHg]')\n",
    "\n",
    "ax.text(1.5, 90, 'p=0.01', horizontalalignment ='center')\n",
    "\n",
    "fig.savefig(os.path.join(DIR_WRITE, f'pCO2_boxplot.{filetype}'), dpi = dpi, format = filetype, bbox_inches='tight', pad_inches=0.1);"
   ]
  },
  {
   "cell_type": "markdown",
   "metadata": {},
   "source": [
    "##### Base excess (BE)"
   ]
  },
  {
   "cell_type": "code",
   "execution_count": 116,
   "metadata": {},
   "outputs": [
    {
     "data": {
      "text/plain": [
       "MannwhitneyuResult(statistic=638.0, pvalue=0.0001754012612514757)"
      ]
     },
     "execution_count": 116,
     "metadata": {},
     "output_type": "execute_result"
    }
   ],
   "source": [
    "stats.mannwhitneyu(blood_gases_arrival['BE'].dropna(), blood_gases_handover['BE'].dropna())"
   ]
  },
  {
   "cell_type": "code",
   "execution_count": 117,
   "metadata": {},
   "outputs": [
    {
     "data": {
      "image/png": "[encoded data removed]",
      "text/plain": [
       "<Figure size 320x320 with 1 Axes>"
      ]
     },
     "metadata": {},
     "output_type": "display_data"
    }
   ],
   "source": [
    "dpi=300; filetype = 'jpg'\n",
    "\n",
    "medianprops = {'color': 'black', 'linewidth': 1}\n",
    "meanpointprops = {'marker':'D', 'markersize' : 4, 'markeredgecolor':'black', 'markerfacecolor':'black'}\n",
    "boxprops = {'color': 'black',  'linestyle': '-'}; whiskerprops = {'color': 'black', 'linestyle': '-'}\n",
    "capprops = {'color': 'black', 'linestyle': '-'}; flierprops = {'color': 'black', 'marker': '.'}\n",
    "\n",
    "fig,ax = plt.subplots(1,1, figsize=(4,4))\n",
    "\n",
    "ax.boxplot([-1*blood_gases_arrival['BE'].dropna(), -1*blood_gases_handover['BE'].dropna()],\n",
    "            widths=0.4, whis = [5, 95], \n",
    "            showfliers=False, showmeans=True,\n",
    "            medianprops=medianprops, meanprops = meanpointprops, boxprops=boxprops, whiskerprops=whiskerprops, \n",
    "            capprops=capprops, )\n",
    "\n",
    "ax.set_ylim(-4, 20)\n",
    "ax.set_xticks([1,2], ['At arrival of\\ntransport team', 'At the end of\\ntransfer'])\n",
    "ax.set_ylabel('Base deficit [mmol/L]')\n",
    "\n",
    "ax.text(1.5, 18, 'p=0.0001', horizontalalignment ='center')\n",
    "\n",
    "fig.savefig(os.path.join(DIR_WRITE, f'BE_ELBW_boxplot.{filetype}'), dpi = dpi, format = filetype, bbox_inches='tight', pad_inches=0.1);"
   ]
  },
  {
   "cell_type": "markdown",
   "metadata": {},
   "source": [
    "### 11. Produce the figures for the paper"
   ]
  },
  {
   "cell_type": "markdown",
   "metadata": {},
   "source": [
    "#### A. Figure 1"
   ]
  },
  {
   "cell_type": "code",
   "execution_count": 118,
   "metadata": {},
   "outputs": [
    {
     "data": {
      "image/png": "[encoded data removed]",
      "text/plain": [
       "<Figure size 640x640 with 4 Axes>"
      ]
     },
     "metadata": {},
     "output_type": "display_data"
    }
   ],
   "source": [
    "dpi=300; filetype = 'pdf'\n",
    "\n",
    "medianprops = {'color': 'black', 'linewidth': 1}\n",
    "meanpointprops = {'marker':'D', 'markersize' : 4, 'markeredgecolor':'black', 'markerfacecolor':'black'}\n",
    "boxprops = {'color': 'black',  'linestyle': '-'}; whiskerprops = {'color': 'black', 'linestyle': '-'}\n",
    "capprops = {'color': 'black', 'linestyle': '-'}; flierprops = {'color': 'black', 'marker': '.'}\n",
    "\n",
    "fig,axes = plt.subplots(2,2, figsize=(8,8))\n",
    "fig.subplots_adjust(left=0.2, bottom=None, right=None, top=None, wspace=0.4, hspace=0.3)\n",
    "\n",
    "# Figure 1A\n",
    "axes[0,0].boxplot([vital_parameters['At arrival of PCAM']['Body temperature (°C)'].dropna().values,\n",
    "    vital_parameters['At arrival to NICU']['Body temperature (°C)'].dropna().values],\n",
    "    widths=0.4, whis = [0, 100], showfliers=False, showmeans=True, medianprops=medianprops, \n",
    "    meanprops = meanpointprops, boxprops=boxprops, whiskerprops=whiskerprops, capprops=capprops, )\n",
    "axes[0,0].set_ylim(27, 41)\n",
    "axes[0,0].set_xticks([1,2], ['At arrival of\\ntransport team', 'At the end of\\ntransfer'])\n",
    "axes[0,0].set_ylabel('Body temperature (°C)')\n",
    "axes[0,0].text(1.5, 39, 'p=0.0002', horizontalalignment ='center')\n",
    "\n",
    "# Figure 1B\n",
    "axes[0,1].boxplot(clin_data_combined['Age at surfactant'].dropna() / 1e9 / 60, widths=0.2, whis = [0, 100], showfliers=False, \n",
    "    showmeans=True, medianprops=medianprops, meanprops = meanpointprops, boxprops=boxprops, whiskerprops=whiskerprops, \n",
    "    capprops=capprops, )\n",
    "axes[0,1].set_ylim(0, 240)\n",
    "axes[0,1].set_xticks([1], ['Age at surfactant\\nadministration'])\n",
    "axes[0,1].set_ylabel('Minutes')\n",
    "\n",
    "# Figure 1C\n",
    "axes[1,0].boxplot(clin_data_combined['Km_manual'], widths=0.2, whis = [0, 100], showfliers = False, showmeans = True,\n",
    "    medianprops=medianprops, meanprops = meanpointprops, boxprops=boxprops, whiskerprops=whiskerprops, capprops=capprops, )\n",
    "axes[1,0].set_ylim(-5, 140)\n",
    "axes[1,0].set_xticks([1], ['Transport distance'])\n",
    "axes[1,0].set_ylabel('Kilometers')\n",
    "\n",
    "# Figure 1D\n",
    "axes[1,1].boxplot(clin_data_combined['Age at arrival_NICU'].dropna() / 1e9 / 60, widths=0.2, whis = [0, 100], \n",
    "    showfliers=False, showmeans=True, medianprops=medianprops, meanprops = meanpointprops, boxprops=boxprops, \n",
    "    whiskerprops=whiskerprops, capprops=capprops, )\n",
    "axes[1,1].set_ylim(0, 400)\n",
    "axes[1,1].set_xticks([1], ['Age at the end\\nof transfer'])\n",
    "axes[1,1].set_ylabel('Minutes')\n",
    "\n",
    "fig.text(0.1, 0.93, 'A', fontsize=14); fig.text(0.54, 0.93, 'B', fontsize=14)\n",
    "fig.text(0.1, 0.50, 'C', fontsize=14); fig.text(0.54, 0.50, 'D', fontsize=14)\n",
    "\n",
    "fig.savefig(os.path.join(DIR_WRITE, f'Figure_1.{filetype}'), dpi = dpi, format = filetype,\n",
    "           bbox_inches='tight', pad_inches=0.1);"
   ]
  },
  {
   "cell_type": "markdown",
   "metadata": {},
   "source": [
    "#### B. Figure 2"
   ]
  },
  {
   "cell_type": "code",
   "execution_count": 119,
   "metadata": {},
   "outputs": [
    {
     "data": {
      "image/png": "[encoded data removed]",
      "text/plain": [
       "<Figure size 960x240 with 3 Axes>"
      ]
     },
     "metadata": {},
     "output_type": "display_data"
    }
   ],
   "source": [
    "dpi=300; filetype = 'pdf'\n",
    "\n",
    "medianprops = {'color': 'black', 'linewidth': 1}\n",
    "meanpointprops = {'marker':'D', 'markersize' : 4, 'markeredgecolor':'black', 'markerfacecolor':'black'}\n",
    "boxprops = {'color': 'black',  'linestyle': '-'}; whiskerprops = {'color': 'black', 'linestyle': '-'}\n",
    "capprops = {'color': 'black', 'linestyle': '-'}; flierprops = {'color': 'black', 'marker': '.'}\n",
    "\n",
    "fig,ax = plt.subplots(1,3, figsize=(12,3))\n",
    "fig.subplots_adjust(left=0.05, bottom=None, right=None, top=None, wspace=0.4, hspace=0.3)\n",
    "\n",
    "# Figure 2A\n",
    "ax[0].boxplot([blood_gases_arrival['pH'].dropna().values, blood_gases_handover['pH'].dropna().values], widths=0.4, whis = [5, 95], \n",
    "    showfliers=False, showmeans=True, medianprops=medianprops, meanprops = meanpointprops, boxprops=boxprops, \n",
    "    whiskerprops=whiskerprops, capprops=capprops, )\n",
    "ax[0].set_ylim(6.89, 7.5)\n",
    "ax[0].set_xticks([1,2], ['At arrival of\\ntransport team', 'At the end of\\ntransfer'])\n",
    "ax[0].set_ylabel('pH')\n",
    "ax[0].text(1.5, 7.4, 'p<0.0001', horizontalalignment ='center')\n",
    "\n",
    "# Figure 2B\n",
    "ax[1].boxplot([blood_gases_arrival['pCO2'].dropna(), blood_gases_handover['pCO2'].dropna()], widths=0.4, whis = [5, 95], \n",
    "    showfliers=False, showmeans=True, medianprops=medianprops, meanprops = meanpointprops, boxprops=boxprops, \n",
    "    whiskerprops=whiskerprops, capprops=capprops, )\n",
    "ax[1].set_ylim(21, 100)\n",
    "ax[1].set_xticks([1,2], ['At arrival of\\ntransport team', 'At the end of\\ntransfer'])\n",
    "ax[1].set_ylabel('pCO$_2$ [mmHg]')\n",
    "ax[1].text(1.5, 87, 'p=0.01', horizontalalignment ='center')\n",
    "\n",
    "# Figure 2C\n",
    "ax[2].boxplot([-1*blood_gases_arrival['BE'].dropna(), -1*blood_gases_handover['BE'].dropna()], widths=0.4, whis = [5, 95], \n",
    "    showfliers=False, showmeans=True, medianprops=medianprops, meanprops = meanpointprops, boxprops=boxprops, whiskerprops=whiskerprops, \n",
    "            capprops=capprops, )\n",
    "\n",
    "ax[2].set_ylim(-4, 20)\n",
    "ax[2].set_xticks([1,2], ['At arrival of\\ntransport team', 'At the end of\\ntransfer'])\n",
    "ax[2].set_ylabel('Base deficit [mmol/L]')\n",
    "ax[2].text(1.5, 16.5, 'p=0.0001', horizontalalignment ='center')\n",
    "\n",
    "fig.text(0, 0.95, 'A', fontsize=14); fig.text(0.31, 0.95, 'B', fontsize=14); fig.text(0.63, 0.95, 'C', fontsize=14); \n",
    "\n",
    "fig.savefig(os.path.join(DIR_WRITE, f'Figure_2.{filetype}'), dpi = dpi, format = filetype,\n",
    "    bbox_inches='tight', pad_inches=0.1);"
   ]
  },
  {
   "cell_type": "code",
   "execution_count": null,
   "metadata": {},
   "outputs": [],
   "source": []
  },
  {
   "cell_type": "code",
   "execution_count": null,
   "metadata": {},
   "outputs": [],
   "source": []
  },
  {
   "cell_type": "code",
   "execution_count": null,
   "metadata": {},
   "outputs": [],
   "source": []
  },
  {
   "cell_type": "code",
   "execution_count": null,
   "metadata": {},
   "outputs": [],
   "source": []
  },
  {
   "cell_type": "code",
   "execution_count": null,
   "metadata": {},
   "outputs": [],
   "source": []
  }
 ],
 "metadata": {
  "anaconda-cloud": {},
  "kernelspec": {
   "display_name": "Python 3 (ipykernel)",
   "language": "python",
   "name": "python3"
  },
  "language_info": {
   "codemirror_mode": {
    "name": "ipython",
    "version": 3
   },
   "file_extension": ".py",
   "mimetype": "text/x-python",
   "name": "python",
   "nbconvert_exporter": "python",
   "pygments_lexer": "ipython3",
   "version": "3.11.7"
  }
 },
 "nbformat": 4,
 "nbformat_minor": 4
}
