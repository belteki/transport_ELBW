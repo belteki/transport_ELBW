{
 "cells": [
  {
   "cell_type": "markdown",
   "metadata": {},
   "source": [
    "![alt text](./Cerny_logo_1.jpg)"
   ]
  },
  {
   "cell_type": "markdown",
   "metadata": {
    "collapsed": true,
    "jupyter": {
     "outputs_hidden": true
    }
   },
   "source": [
    "# Analysis of Cerny ventilation recordings\n",
    "\n",
    "#### Manual revision and trimming of ventilator recordings.\n",
    "\n",
    "This notebook imports the preprocessed **Fabian ventilator parameters** data from pickle archive and performs trimming based on manual inspection of data.\n",
    "\n",
    "The data processed and analysed in this Notebook were collected by the **Neonatal Emergency and Transport Service of the Peter Cerny Foundation**, Budapest, Hungary\n",
    "\n",
    "**Author: Dr Gusztav Belteki**"
   ]
  },
  {
   "cell_type": "markdown",
   "metadata": {},
   "source": [
    "### 1. Import the required libraries and set options"
   ]
  },
  {
   "cell_type": "code",
   "execution_count": null,
   "metadata": {},
   "outputs": [],
   "source": [
    "import IPython\n",
    "import pandas as pd\n",
    "import numpy as np\n",
    "import matplotlib\n",
    "import matplotlib.pyplot as plt\n",
    "\n",
    "import os\n",
    "import sys\n",
    "import pickle\n",
    "\n",
    "from pandas import Series, DataFrame\n",
    "from datetime import datetime, timedelta\n",
    "from matplotlib import dates\n",
    "\n",
    "%matplotlib inline\n",
    "matplotlib.style.use('classic')\n",
    "matplotlib.rcParams['figure.facecolor'] = 'w'\n",
    "\n",
    "pd.set_option('display.max_rows', 300)\n",
    "pd.set_option('display.max_columns', 300)\n",
    "# pd.set_option('mode.chained_assignment', None) \n",
    "\n",
    "import warnings\n",
    "warnings.simplefilter(\"ignore\")"
   ]
  },
  {
   "cell_type": "code",
   "execution_count": null,
   "metadata": {},
   "outputs": [],
   "source": [
    "print(\"Python version: {}\".format(sys.version))\n",
    "print(\"pandas version: {}\".format(pd.__version__))\n",
    "print(\"matplotlib version: {}\".format(matplotlib.__version__))\n",
    "print(\"NumPy version: {}\".format(np.__version__))\n",
    "print(\"IPython version: {}\".format(IPython.__version__))"
   ]
  },
  {
   "cell_type": "markdown",
   "metadata": {},
   "source": [
    "### 2. List and set the working directory and the directory to write out data"
   ]
  },
  {
   "cell_type": "code",
   "execution_count": null,
   "metadata": {},
   "outputs": [],
   "source": [
    "# Name of the external hard drive\n",
    "DRIVE = 'GUSZTI'\n",
    "\n",
    "# Directory on external drive to read the clinical from\n",
    "DIR_READ = os.path.join(os.sep, 'Volumes', DRIVE, 'Fabian_new', 'fabian_patient_data_all_new')\n",
    "\n",
    "# Path to project folder containing ventilation research results\n",
    "PATH = os.path.join(os.sep, 'Users', 'guszti', 'Library', 'Mobile Documents', 'com~apple~CloudDocs', \n",
    "                            'Documents', 'Research', 'Ventilation')\n",
    "\n",
    "# Folder to export the result of analysis\n",
    "DIR_WRITE = os.path.join(PATH, 'ventilation_fabian_new', 'Analyses')\n",
    "os.makedirs(DIR_WRITE, exist_ok = True)\n",
    "\n",
    "# Folder on a USB stick to export data to and to import processed data exported by other Notebooks\n",
    "DATA_DUMP = os.path.join(os.sep, '/Volumes', DRIVE, 'data_dump', 'fabian_new',)\n",
    "os.makedirs(DATA_DUMP, exist_ok = True)"
   ]
  },
  {
   "cell_type": "code",
   "execution_count": null,
   "metadata": {},
   "outputs": [],
   "source": [
    "DIR_READ, DIR_WRITE, DATA_DUMP"
   ]
  },
  {
   "cell_type": "markdown",
   "metadata": {},
   "source": [
    "### 3. Import pickle archives"
   ]
  },
  {
   "cell_type": "code",
   "execution_count": null,
   "metadata": {},
   "outputs": [],
   "source": [
    "with open(os.path.join(DATA_DUMP, 'clin_df_new.pickle'), 'rb') as handle:\n",
    "    clin_df = pickle.load(handle)\n",
    "\n",
    "with open(os.path.join(DATA_DUMP, 'data_pars_measurements_new_1_1305.pickle'), 'rb') as handle:\n",
    "    data_pars_measurements = pickle.load(handle)\n",
    "    \n",
    "with open(os.path.join(DATA_DUMP, 'data_pars_settings_new_1_1305.pickle'), 'rb') as handle:\n",
    "    data_pars_settings = pickle.load(handle)\n",
    "    \n",
    "with open(os.path.join(DATA_DUMP, 'data_pars_alarms_new_1_1305.pickle'), 'rb') as handle:\n",
    "    data_pars_alarms = pickle.load(handle)"
   ]
  },
  {
   "cell_type": "code",
   "execution_count": null,
   "metadata": {},
   "outputs": [],
   "source": [
    "len(data_pars_measurements)"
   ]
  },
  {
   "cell_type": "code",
   "execution_count": null,
   "metadata": {},
   "outputs": [],
   "source": [
    "cases = sorted(data_pars_measurements.keys())"
   ]
  },
  {
   "cell_type": "code",
   "execution_count": null,
   "metadata": {},
   "outputs": [],
   "source": [
    "# Import DataFrame with ventilation modes before trimming\n",
    "\n",
    "with open(os.path.join(DATA_DUMP, 'vent_modes_unedited_new_1_1305.pickle'), 'rb') as handle:\n",
    "    vent_modes_unedited = pickle.load(handle)\n",
    "\n",
    "len(vent_modes_unedited)"
   ]
  },
  {
   "cell_type": "markdown",
   "metadata": {},
   "source": [
    "### 4. Remove some abnormal recordings "
   ]
  },
  {
   "cell_type": "code",
   "execution_count": null,
   "metadata": {},
   "outputs": [],
   "source": [
    "# Remove recordings do not actually contain periods with the patient connected\n",
    "to_remove = []\n",
    "\n",
    "for case in to_remove:\n",
    "    if case in cases:\n",
    "        cases.remove(case)"
   ]
  },
  {
   "cell_type": "markdown",
   "metadata": {},
   "source": [
    "### 5. Remove the periods from the beginning and the end of the recordings when the patient was not connected to the ventilator\n",
    "\n",
    "This requires manual inspection of the tidal volume and pressure graphs"
   ]
  },
  {
   "cell_type": "markdown",
   "metadata": {},
   "source": [
    "This dictionary contains tuples of the start and end points as strings\n",
    "This was obtained by manual inspection of VTmand and PIP and the recordings\n",
    "and manually removing the start and the end when the baby was not on the ventilator (e.g. no VTmand)"
   ]
  },
  {
   "cell_type": "code",
   "execution_count": null,
   "metadata": {},
   "outputs": [],
   "source": [
    "with open(os.path.join(DATA_DUMP, 'limit_new_1_1305.pickle'), 'rb') as handle:\n",
    "    limit = pickle.load(handle)"
   ]
  },
  {
   "cell_type": "code",
   "execution_count": null,
   "metadata": {},
   "outputs": [],
   "source": [
    "len(limit)"
   ]
  },
  {
   "cell_type": "code",
   "execution_count": null,
   "metadata": {},
   "outputs": [],
   "source": [
    "print(sorted(set(cases) - set(limit)))"
   ]
  },
  {
   "cell_type": "code",
   "execution_count": null,
   "metadata": {},
   "outputs": [],
   "source": [
    "cases;"
   ]
  },
  {
   "cell_type": "code",
   "execution_count": null,
   "metadata": {},
   "outputs": [],
   "source": [
    "case = sorted(set(cases) - set(limit))[0]\n",
    "\n",
    "index = cases.index(case)\n",
    "index"
   ]
  },
  {
   "cell_type": "code",
   "execution_count": null,
   "metadata": {},
   "outputs": [],
   "source": [
    "vent_modes_unedited.loc[case]"
   ]
  },
  {
   "cell_type": "code",
   "execution_count": null,
   "metadata": {},
   "outputs": [],
   "source": [
    "mapping_vent_mode = {1: 'IPPV', 2: 'SIPPV', 3: 'SIMV', 4: 'SIMVPSV', 5: 'PSV', \n",
    "                     6: 'CPAP', 7: 'NCPAP', 8: 'DUOPAP', 9: 'HFO', 10: 'O2therapy'}\n",
    "mapping_vent_mode_rev = {value:key for key, value in mapping_vent_mode.items()}\n",
    "mapping_vent_mode_rev\n",
    "\n",
    "mapping_VG = {11: 'off', 12: 'on'}\n",
    "mapping_VG_rev = {value:key for key, value in mapping_VG.items()}\n",
    "mapping_VG_rev\n",
    "\n",
    "par1 = 'Ventilator_mode'\n",
    "par2 = 'VG_state'\n",
    "dim = 'cmH$_2$O'\n",
    "\n",
    "yticks = np.arange(1, 13)\n",
    "yticklabels = ['IPPV', 'SIPPV','SIMV','SIMVPSV', 'PSV', 'CPAP', 'NCPAP', 'DUOPAP', 'HFO', 'O2therapy',\n",
    "              'VG OFF', 'VG ON']\n",
    "\n",
    "fig = plt.figure()\n",
    "fig.set_size_inches(8, 4)\n",
    "fig.subplots_adjust(left=None, bottom=None, right=None, top=None, wspace=None, hspace=0.1)\n",
    "ax = fig.add_subplot(1, 1, 1)\n",
    "        \n",
    "data = data_pars_settings[case][par1].replace(mapping_vent_mode_rev)\n",
    "data.plot(ax = ax, label = par1, color='blue', x_compat = True)\n",
    "        \n",
    "data_2 = data_pars_settings[case][par2].replace(mapping_VG_rev)\n",
    "data_2.plot(ax = ax, label = par2, color='blue', linestyle='dashed', x_compat = True)\n",
    "        \n",
    "ax.set_xlabel('Time', size = 14, color = 'black')\n",
    "ax.set_ylabel('', size = 14, color = 'black')\n",
    "ax.set_ylim(0,17)\n",
    "ax.set_yticks(yticks)\n",
    "ax.set_yticklabels(yticklabels)\n",
    "ax.set_title(case,  size = 14, color = 'black')\n",
    "ax.legend(ncols=2)\n",
    "ax.grid('on', linestyle='-', linewidth=0.5, color = 'gray')\n",
    "majorFmt = dates.DateFormatter('%H:%M')\n",
    "ax.xaxis.set_major_formatter(majorFmt)\n",
    "plt.setp(ax.xaxis.get_majorticklabels(), rotation=0, fontsize = 12, horizontalalignment = 'center')\n",
    "ax.tick_params(which = 'both', labelsize=12)\n"
   ]
  },
  {
   "cell_type": "code",
   "execution_count": null,
   "metadata": {},
   "outputs": [],
   "source": [
    "fig = plt.figure()\n",
    "fig.set_size_inches(10, 8)\n",
    "fig.subplots_adjust(left=None, bottom=None, right=None, top=None, wspace=None, hspace=None)\n",
    "\n",
    "ax0 = fig.add_subplot(2, 1, 1)\n",
    "data_pars_measurements[case]['VTemand_kg'].plot(x_compat = True)\n",
    "ax0.get_xaxis().set_visible(True)\n",
    "ax0.set_ylabel('mL/kg', size = 12, color = 'black')\n",
    "ax0.set_title(case,  size = 12, color = 'black')\n",
    "ax0.legend(['VTemand_kg'], fontsize = 10, loc = 'best')\n",
    "ax0.grid('on', linestyle='-', linewidth=0.5, color = 'gray')\n",
    "majorFmt = dates.DateFormatter('%H:%M')\n",
    "ax0.xaxis.set_major_formatter(majorFmt)\n",
    "ax0.tick_params(which = 'both', labelsize=12)\n",
    "\n",
    "ax1 = fig.add_subplot(2, 1, 2)\n",
    "data_pars_measurements[case]['PIP'].plot(color = 'red', x_compat = True)\n",
    "data_pars_measurements[case]['MAP'].plot(color = 'blue', x_compat = True)\n",
    "data_pars_measurements[case]['PEEP'].plot(color = 'green', x_compat = True)\n",
    "ax1.set_xlabel('Time', size = 12, color = 'black')\n",
    "ax1.set_ylabel('cmH2O)', size = 12, color = 'black')\n",
    "ax1.legend(['PIP','MAP', 'PEEP'], fontsize = 10, loc = 'best', ncol=3)\n",
    "ax1.grid('on', linestyle='-', linewidth=0.5, color = 'gray')\n",
    "majorFmt = dates.DateFormatter('%H:%M')\n",
    "ax1.xaxis.set_major_formatter(majorFmt)\n",
    "ax1.tick_params(which = 'both', labelsize=12)"
   ]
  },
  {
   "cell_type": "code",
   "execution_count": null,
   "metadata": {},
   "outputs": [],
   "source": [
    "fig = plt.figure()\n",
    "fig.set_size_inches(10, 4)\n",
    "fig.subplots_adjust(left=None, bottom=None, right=None, top=None, wspace=None, hspace=None)\n",
    "\n",
    "ax1 = fig.add_subplot(1, 1, 1)\n",
    "data_pars_measurements[case]['MAP'].plot(color = 'green', x_compat = True)\n",
    "ax1.set_xlabel('Time', size = 12, color = 'black')\n",
    "ax1.set_ylabel('cmH2O)', size = 12, color = 'black')\n",
    "ax1.legend(['MAP', 'PEEP'], fontsize = 10, loc = 'best', ncol=3)\n",
    "ax1.grid('on', linestyle='-', linewidth=0.5, color = 'gray')\n",
    "majorFmt = dates.DateFormatter('%H:%M')\n",
    "ax1.xaxis.set_major_formatter(majorFmt)\n",
    "ax1.tick_params(which = 'both', labelsize=12)"
   ]
  },
  {
   "cell_type": "code",
   "execution_count": null,
   "metadata": {},
   "outputs": [],
   "source": [
    "limit[case] = eval(\"('%s', '%s')\" % (data_pars_measurements[case].index[0], data_pars_measurements[case].index[-1]))\n",
    "limit[case]"
   ]
  },
  {
   "cell_type": "code",
   "execution_count": null,
   "metadata": {},
   "outputs": [],
   "source": [
    "limit[case] =  ('2024-05-06 23:23:45', '2024-05-07 00:25:00')"
   ]
  },
  {
   "cell_type": "code",
   "execution_count": null,
   "metadata": {},
   "outputs": [],
   "source": [
    "fig = plt.figure()\n",
    "fig.set_size_inches(10, 8)\n",
    "fig.subplots_adjust(left=None, bottom=None, right=None, top=None, wspace=None, hspace=None)\n",
    "\n",
    "ax0 = fig.add_subplot(2, 1, 1)\n",
    "data_pars_measurements[case]['VTemand_kg'][limit[case][0] : limit[case][1]].plot(x_compat = True)\n",
    "ax0.get_xaxis().set_visible(False)\n",
    "ax0.set_ylabel('mL/kg', size = 12, color = 'black')\n",
    "ax0.set_title(case,  size = 12, color = 'black')\n",
    "ax0.legend(['VTemand_kg'], fontsize = 10, loc = 'best')\n",
    "ax0.grid('on', linestyle='-', linewidth=0.5, color = 'gray')\n",
    "majorFmt = dates.DateFormatter('%H:%M')\n",
    "ax0.xaxis.set_major_formatter(majorFmt)\n",
    "ax0.tick_params(which = 'both', labelsize=12)\n",
    "\n",
    "ax1 = fig.add_subplot(2, 1, 2)\n",
    "data_pars_measurements[case]['PIP'][limit[case][0] : limit[case][1]].plot(color = 'red', x_compat = True)\n",
    "data_pars_measurements[case]['MAP'][limit[case][0] : limit[case][1]].plot(color = 'blue', x_compat = True)\n",
    "data_pars_measurements[case]['PEEP'][limit[case][0] : limit[case][1]].plot(color = 'green', x_compat = True)\n",
    "ax1.set_xlabel('Time', size = 12, color = 'black')\n",
    "ax1.set_ylabel('cmH2O)', size = 12, color = 'black')\n",
    "ax1.legend(['PIP','MAP', 'PEEP'], fontsize = 10, loc = 'best', ncol=3)\n",
    "ax1.grid('on', linestyle='-', linewidth=0.5, color = 'gray')\n",
    "majorFmt = dates.DateFormatter('%H:%M')\n",
    "ax1.xaxis.set_major_formatter(majorFmt)\n",
    "ax1.tick_params(which = 'both', labelsize=12)"
   ]
  },
  {
   "cell_type": "code",
   "execution_count": null,
   "metadata": {},
   "outputs": [],
   "source": [
    "fig = plt.figure()\n",
    "fig.set_size_inches(10, 4)\n",
    "fig.subplots_adjust(left=None, bottom=None, right=None, top=None, wspace=None, hspace=None)\n",
    "\n",
    "ax1 = fig.add_subplot(1, 1, 1)\n",
    "data_pars_measurements[case]['MAP'][limit[case][0] : limit[case][1]].plot(color = 'green', x_compat = True)\n",
    "ax1.set_xlabel('Time', size = 12, color = 'black')\n",
    "ax1.set_ylabel('cmH2O)', size = 12, color = 'black')\n",
    "ax1.legend(['MAP', 'PEEP'], fontsize = 10, loc = 'best', ncol=3)\n",
    "ax1.grid('on', linestyle='-', linewidth=0.5, color = 'gray')\n",
    "majorFmt = dates.DateFormatter('%H:%M')\n",
    "ax1.xaxis.set_major_formatter(majorFmt)\n",
    "ax1.tick_params(which = 'both', labelsize=12)"
   ]
  },
  {
   "cell_type": "code",
   "execution_count": null,
   "metadata": {},
   "outputs": [],
   "source": [
    "fig = plt.figure()\n",
    "fig.set_size_inches(10, 8)\n",
    "fig.subplots_adjust(left=None, bottom=None, right=None, top=None, wspace=None, hspace=None)\n",
    "\n",
    "ax0 = fig.add_subplot(2, 1, 1)\n",
    "data_pars_measurements[case]['VThf_emand_kg'].plot()\n",
    "#ax0.get_xaxis().set_visible(False)\n",
    "ax0.set_ylabel('mL/kg', size = 12, color = 'black')\n",
    "ax0.set_title(case,  size = 12, color = 'black')\n",
    "ax0.legend(['VThf_emand_kg'], fontsize = 10, loc = 'best')\n",
    "ax0.grid('on', linestyle='-', linewidth=0.5, color = 'gray')\n",
    "majorFmt = dates.DateFormatter('%H:%M')\n",
    "ax0.xaxis.set_major_formatter(majorFmt)\n",
    "ax0.tick_params(which = 'both', labelsize=12)\n",
    "\n",
    "ax1 = fig.add_subplot(2, 1, 2)\n",
    "data_pars_measurements[case]['deltaP'].plot(color = 'red')\n",
    "ax1.set_xlabel('Time', size = 12, color = 'black')\n",
    "ax1.set_ylabel('cmH2O)', size = 12, color = 'black')\n",
    "\n",
    "ax1.grid('on', linestyle='-', linewidth=0.5, color = 'gray')\n",
    "majorFmt = dates.DateFormatter('%H:%M')\n",
    "ax1.xaxis.set_major_formatter(majorFmt)\n",
    "ax1.tick_params(which = 'both', labelsize=12)\n",
    "ax1.set_ylim(0,70)"
   ]
  },
  {
   "cell_type": "code",
   "execution_count": null,
   "metadata": {},
   "outputs": [],
   "source": [
    "fig = plt.figure()\n",
    "fig.set_size_inches(10, 8)\n",
    "fig.subplots_adjust(left=None, bottom=None, right=None, top=None, wspace=None, hspace=0.05)\n",
    "\n",
    "ax0 = fig.add_subplot(2, 1, 1)\n",
    "data_pars_measurements[case]['VThf_emand_kg'][limit[case][0] : limit[case][1]].plot()\n",
    "#ax0.get_xaxis().set_visible(False)\n",
    "ax0.set_ylabel('mL/kg', size = 12, color = 'black')\n",
    "ax0.set_title(case,  size = 12, color = 'black')\n",
    "ax0.legend(['VThf_kg'], fontsize = 10, loc = 'best')\n",
    "ax0.grid('on', linestyle='-', linewidth=0.5, color = 'gray')\n",
    "majorFmt = dates.DateFormatter('%H:%M')\n",
    "ax0.xaxis.set_major_formatter(majorFmt)\n",
    "ax0.tick_params(which = 'both', labelsize=12)\n",
    "\n",
    "ax1 = fig.add_subplot(2, 1, 2)\n",
    "data_pars_measurements[case]['deltaP'][limit[case][0] : limit[case][1]].plot(color = 'red')\n",
    "ax1.set_xlabel('Time', size = 12, color = 'black')\n",
    "ax1.set_ylabel('cmH2O)', size = 12, color = 'black')\n",
    "ax1.legend(['deltaP'], fontsize = 10, loc = 'best')\n",
    "ax1.grid('on', linestyle='-', linewidth=0.5, color = 'gray')\n",
    "majorFmt = dates.DateFormatter('%H:%M')\n",
    "ax1.xaxis.set_major_formatter(majorFmt)\n",
    "ax1.tick_params(which = 'both', labelsize=12)"
   ]
  },
  {
   "cell_type": "code",
   "execution_count": null,
   "metadata": {},
   "outputs": [],
   "source": [
    "with open(os.path.join(DATA_DUMP, 'limit_new_1_1305.pickle'), 'wb') as handle:\n",
    "    pickle.dump(limit, handle, protocol=pickle.HIGHEST_PROTOCOL)"
   ]
  },
  {
   "cell_type": "markdown",
   "metadata": {},
   "source": [
    "#### Trim ventilator data using the manual filters"
   ]
  },
  {
   "cell_type": "code",
   "execution_count": null,
   "metadata": {},
   "outputs": [],
   "source": [
    "data_pars_measurements_trimmed = {}\n",
    "data_pars_settings_trimmed = {}\n",
    "data_pars_alarms_trimmed = {}\n",
    "\n",
    "for case in cases:\n",
    "    \n",
    "    if case in limit:\n",
    "        data_pars_measurements_trimmed[case] = data_pars_measurements[case][limit[case][0] : limit[case][1]]\n",
    "        data_pars_settings_trimmed[case] = data_pars_settings[case][limit[case][0] : limit[case][1]]\n",
    "        data_pars_alarms_trimmed[case] = data_pars_alarms[case][limit[case][0] : limit[case][1]]\n",
    "        \n",
    "    else:\n",
    "        data_pars_measurements_trimmed[case] = data_pars_measurements[case]\n",
    "        data_pars_settings_trimmed[case] = data_pars_settings[case]\n",
    "        data_pars_alarms_trimmed[case] = data_pars_alarms[case]"
   ]
  },
  {
   "cell_type": "markdown",
   "metadata": {},
   "source": [
    "#### Export trimmed and cleaned DataFrames"
   ]
  },
  {
   "cell_type": "code",
   "execution_count": null,
   "metadata": {},
   "outputs": [],
   "source": [
    "%%time\n",
    "\n",
    "with open(os.path.join(DATA_DUMP, 'data_pars_measurements_trimmed_new_1_1305.pickle'), 'wb') as handle:\n",
    "    pickle.dump(data_pars_measurements_trimmed, handle, protocol=pickle.HIGHEST_PROTOCOL)\n",
    "\n",
    "with open(os.path.join(DATA_DUMP, 'data_pars_settings_trimmed_new_1_1305.pickle'), 'wb') as handle:\n",
    "    pickle.dump(data_pars_settings_trimmed, handle, protocol=pickle.HIGHEST_PROTOCOL)\n",
    "    \n",
    "with open(os.path.join(DATA_DUMP, 'data_pars_alarms_trimmed_new_1_1305.pickle'), 'wb') as handle:\n",
    "    pickle.dump(data_pars_alarms_trimmed, handle, protocol=pickle.HIGHEST_PROTOCOL)"
   ]
  },
  {
   "cell_type": "markdown",
   "metadata": {},
   "source": [
    "### 6. Exploratory analysis on ventilation modes in the trimmed recordings"
   ]
  },
  {
   "cell_type": "code",
   "execution_count": null,
   "metadata": {},
   "outputs": [],
   "source": [
    "vent_modes_trimmed = {}\n",
    "for case in data_pars_settings_trimmed:\n",
    "    # Multiply by two to get the number of seconds\n",
    "    vent_modes_trimmed[case] = data_pars_settings_trimmed[case]['Ventilator_mode'].value_counts() * 2\n",
    "    \n",
    "vent_modes_trimmed = DataFrame(vent_modes_trimmed).T\n",
    "vent_modes_trimmed.replace(np.nan, 0, inplace = True)"
   ]
  },
  {
   "cell_type": "code",
   "execution_count": null,
   "metadata": {},
   "outputs": [],
   "source": [
    "# Add the duration of the recordings\n",
    "\n",
    "recording_duration_trimmed = {}\n",
    "\n",
    "for case in data_pars_settings_trimmed:\n",
    "    recording_duration_trimmed[case] = 2 * len(data_pars_settings_trimmed[case])"
   ]
  },
  {
   "cell_type": "code",
   "execution_count": null,
   "metadata": {},
   "outputs": [],
   "source": [
    "vent_modes_trimmed['ventilation'] = vent_modes_trimmed['IPPV']  + vent_modes_trimmed['SIMV'] + \\\n",
    "                                    vent_modes_trimmed['PSV']   + vent_modes_trimmed['HFO'] + \\\n",
    "                                    vent_modes_trimmed['SIPPV'] + vent_modes_trimmed['SIMVPSV']\n",
    "\n",
    "vent_modes_trimmed['noninvasive'] = vent_modes_trimmed['CPAP']  + vent_modes_trimmed['DUOPAP'] + \\\n",
    "                                    vent_modes_trimmed['NCPAP'] + vent_modes_trimmed['O2therapy']  \n",
    "\n",
    "vent_modes_trimmed['total'] = Series(recording_duration_trimmed)"
   ]
  },
  {
   "cell_type": "code",
   "execution_count": null,
   "metadata": {},
   "outputs": [],
   "source": [
    "# How long was VG turned on\n",
    "VG = {}\n",
    "for case in data_pars_settings_trimmed:\n",
    "    VG[case] = sum(data_pars_settings_trimmed[case]['VG_state'] == 'on') * 2\n",
    "        \n",
    "VG = Series(VG)\n",
    "vent_modes_trimmed['VG'] = VG"
   ]
  },
  {
   "cell_type": "code",
   "execution_count": null,
   "metadata": {},
   "outputs": [],
   "source": [
    "vent_modes_trimmed.head()"
   ]
  },
  {
   "cell_type": "code",
   "execution_count": null,
   "metadata": {},
   "outputs": [],
   "source": [
    "print('SIMV:', sum(vent_modes_trimmed['SIMV'] > 0))\n",
    "print('SIPPV:', sum(vent_modes_trimmed['SIPPV'] > 0))\n",
    "print('SIMVPSV:', sum(vent_modes_trimmed['SIMVPSV'] > 0))\n",
    "print('PSV:', sum(vent_modes_trimmed['PSV'] > 0))\n",
    "print('HFO:', sum(vent_modes_trimmed['HFO'] > 0))\n",
    "print('IPPV:', sum(vent_modes_trimmed['IPPV'] > 0))\n",
    "print('NCPAP:', sum(vent_modes_trimmed['NCPAP'] > 0))\n",
    "print('CPAP:', sum(vent_modes_trimmed['CPAP'] > 0))\n",
    "print('DUOPAP:', sum(vent_modes_trimmed['DUOPAP'] > 0))\n",
    "print('O2therapy:', sum(vent_modes_trimmed['O2therapy'] > 0))\n",
    "print('ventilation:', sum(vent_modes_trimmed['ventilation'] > 0))\n",
    "print('VG on:', sum(vent_modes_trimmed['VG'] > 0))\n",
    "print('noninvasive:', sum(vent_modes_trimmed['noninvasive'] > 0))\n",
    "print('total:', len(vent_modes_trimmed))"
   ]
  },
  {
   "cell_type": "code",
   "execution_count": null,
   "metadata": {},
   "outputs": [],
   "source": [
    "# How many seconds of each ventilation mode in total ?\n",
    "total_duration_trimmed = DataFrame(vent_modes_trimmed.sum(axis = 0), columns = ['duration (seconds)'])\n",
    "total_duration_trimmed"
   ]
  },
  {
   "cell_type": "markdown",
   "metadata": {},
   "source": [
    "##### Export Dataframes containing ventilator modes to Excel files and pickle archives"
   ]
  },
  {
   "cell_type": "code",
   "execution_count": null,
   "metadata": {},
   "outputs": [],
   "source": [
    "writer = pd.ExcelWriter(os.path.join(DIR_WRITE, 'ventilation_modes_trimmed_new_1_1305.xlsx'))\n",
    "vent_modes_trimmed.to_excel(writer, 'vent_modes')\n",
    "total_duration_trimmed.to_excel(writer, 'total_duration')\n",
    "writer.close()"
   ]
  },
  {
   "cell_type": "markdown",
   "metadata": {},
   "source": [
    "##### Export graphs with the ventilation  modes of the trimmed recordings ventilator modes"
   ]
  },
  {
   "cell_type": "code",
   "execution_count": null,
   "metadata": {},
   "outputs": [],
   "source": [
    "%%time\n",
    "\n",
    "mapping_vent_mode = {1: 'IPPV', 2: 'SIPPV', 3: 'SIMV', 4: 'SIMVPSV', 5: 'PSV', \n",
    "                     6: 'CPAP', 7: 'NCPAP', 8: 'DUOPAP', 9: 'HFO', 10: 'O2therapy'}\n",
    "mapping_vent_mode_rev = {value:key for key, value in mapping_vent_mode.items()}\n",
    "mapping_vent_mode_rev\n",
    "\n",
    "mapping_VG = {11: 'off', 12: 'on'}\n",
    "mapping_VG_rev = {value:key for key, value in mapping_VG.items()}\n",
    "mapping_VG_rev\n",
    "\n",
    "par1 = 'Ventilator_mode'\n",
    "par2 = 'VG_state'\n",
    "dim = 'cmH$_2$O'\n",
    "\n",
    "filetype='jpg'\n",
    "dpi=200\n",
    "\n",
    "yticks = np.arange(1, 13)\n",
    "yticklabels = ['IPPV', 'SIPPV','SIMV','SIMVPSV', 'PSV', 'CPAP', 'NCPAP', 'DUOPAP', 'HFO', 'O2therapy',\n",
    "              'VG OFF', 'VG ON']\n",
    "\n",
    "for case in cases:\n",
    "    #print('Saving %s' % case)\n",
    "    fig = plt.figure()\n",
    "    fig.set_size_inches(8, 4)\n",
    "    fig.subplots_adjust(left=None, bottom=None, right=None, top=None, wspace=None, hspace=0.1)\n",
    "    ax = fig.add_subplot(1, 1, 1)\n",
    "        \n",
    "    data = data_pars_settings[case][par1].replace(mapping_vent_mode_rev).dropna().astype('int')\n",
    "    data.plot(ax = ax, label = par1, color='blue', x_compat = True)\n",
    "        \n",
    "    data_2 = data_pars_settings[case][par2].replace(mapping_VG_rev).dropna().astype('int')\n",
    "    data_2.plot(ax = ax, label = par2, color='blue', linestyle='dashed', x_compat = True)\n",
    "        \n",
    "    ax.set_xlabel('Time', size = 14, color = 'black')\n",
    "    ax.set_ylabel('', size = 14, color = 'black')\n",
    "    ax.set_ylim(0,17)\n",
    "    ax.set_yticks(yticks)\n",
    "    ax.set_yticklabels(yticklabels)\n",
    "    ax.set_title(case,  size = 14, color = 'black')\n",
    "    ax.legend(ncols=2)\n",
    "    ax.grid('on', linestyle='-', linewidth=0.5, color = 'gray')\n",
    "    majorFmt = dates.DateFormatter('%H:%M')\n",
    "    ax.xaxis.set_major_formatter(majorFmt)\n",
    "    plt.setp(ax.xaxis.get_majorticklabels(), rotation=0, fontsize = 12, horizontalalignment = 'center')\n",
    "    ax.tick_params(which = 'both', labelsize=12)\n",
    "    \n",
    "    fig.savefig(os.path.join(DATA_DUMP, 'fabian_cases_new', case, f'{case}_trimmed_ventilation_mode.{filetype}'), \n",
    "        dpi = dpi, format = filetype, bbox_inches='tight', pad_inches=0.1,);\n",
    "    \n",
    "    if case != 'AT001120':\n",
    "        plt.close()"
   ]
  },
  {
   "cell_type": "code",
   "execution_count": null,
   "metadata": {},
   "outputs": [],
   "source": []
  },
  {
   "cell_type": "code",
   "execution_count": null,
   "metadata": {},
   "outputs": [],
   "source": []
  },
  {
   "cell_type": "code",
   "execution_count": null,
   "metadata": {},
   "outputs": [],
   "source": []
  },
  {
   "cell_type": "code",
   "execution_count": null,
   "metadata": {},
   "outputs": [],
   "source": []
  }
 ],
 "metadata": {
  "anaconda-cloud": {},
  "kernelspec": {
   "display_name": "Python 3 (ipykernel)",
   "language": "python",
   "name": "python3"
  },
  "language_info": {
   "codemirror_mode": {
    "name": "ipython",
    "version": 3
   },
   "file_extension": ".py",
   "mimetype": "text/x-python",
   "name": "python",
   "nbconvert_exporter": "python",
   "pygments_lexer": "ipython3",
   "version": "3.11.7"
  }
 },
 "nbformat": 4,
 "nbformat_minor": 4
}
